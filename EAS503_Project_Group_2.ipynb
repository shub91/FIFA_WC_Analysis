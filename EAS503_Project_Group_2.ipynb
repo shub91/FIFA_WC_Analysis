{
 "cells": [
  {
   "cell_type": "markdown",
   "metadata": {},
   "source": [
    "<h1><center>Inverting the Pyramid back !!!</center></h1>\n",
    "**Project by - _Archit Singh_, _Shubham Sharma_, _Aditya Sahay_**<br>\n",
    "**Class: EAS503**<br>\n",
    "**Program: Engineering Science (Data Sciences)**<br>\n"
   ]
  },
  {
   "cell_type": "markdown",
   "metadata": {},
   "source": [
    "### Project Description and impact on community\n",
    "\n",
    "* Description - Analysis of in-match football data to:<br>\n",
    " 1. Glean out non-intuitive insights<br>\n",
    " 2. present highlights and lowlights of the tournament<br>\n",
    " 3. Come up with intereseting metrics to determine team's and player's performance<br>\n",
    " \n",
    "\n",
    "* Why? - Most of the analysis that you see on the internet gives us a superficial view of what happened in the tournament therefore leaving many unusual trends hidden and questions unanswered. This analysis goes beyond such works and unlocks the hidden trends in order to help us understand the strategies and their impact.\n",
    "\n",
    "\n",
    "* Impact on sports and entertainment community:<br>\n",
    " 1. Helps football clubs make decisions based on the world cup performance of players.<br>\n",
    " 2. If built on a more comprehensive data set it can be used by teams to devise strategies based on the opponents.<br>\n",
    " 3. Can help football clubs save big on scouts and pick out players who aren't visible to naked eyes. <br>\n",
    " \n",
    "\n",
    "* The Data - The data has been taken from 'Statsbomb.com' - a football analytics firm run by Ted Knutson. Data is a stream of events occuring at second level for any given match<br>\n",
    "Link: https://github.com/statsbomb/open-data/tree/master/data\n",
    "\n",
    "All our analysis has been compiled in a Dashboard using Plotly.\n",
    "Link: https://plot.ly/dashboard/asahay:16/view\n"
   ]
  },
  {
   "cell_type": "markdown",
   "metadata": {},
   "source": [
    "#### Data Conversion: JSON to CSV"
   ]
  },
  {
   "cell_type": "markdown",
   "metadata": {},
   "source": [
    "```\n",
    "var jc = require(\"json2csv\");\n",
    "var fs = require(\"fs\");\n",
    "\n",
    "var ls = fs.readdirSync(\"./\");\n",
    "\n",
    "var files = ls.filter(function(filename) {\n",
    "    return filename.match(/^[0-9]+.json/) !== null;\n",
    "});\n",
    "\n",
    "var full = [];\n",
    "\n",
    "var data = null;\n",
    "for (var file of files) {\n",
    "    data = fs.readFileSync(file);\n",
    "    data = JSON.parse(data);\n",
    "\n",
    "    for (var i = 0; i < data.length; i++)\n",
    "        data[i][\"match_id\"] = file.substring(0, file.indexOf(\".\"));\n",
    "\n",
    "    full = full.concat(data);\n",
    "    console.log(\"Finished reading: \" + file);\n",
    "}\n",
    "\n",
    "console.log(\"Total rows: \" + full.length);\n",
    "\n",
    "var csv;\n",
    "\n",
    "var columns = [\n",
    "    \"match_id\",\n",
    "    \"id\",\n",
    "    \"index\",\n",
    "    \"period\",\n",
    "    \"timestamp\",\n",
    "    \"type.name\",\n",
    "    \"possession\",\n",
    "    \"possession_team.name\",\n",
    "    \"play_pattern.name\",\n",
    "    \"team.name\",\n",
    "    \"duration\",\n",
    "    \"related_events.0\",\n",
    "    \"player.name\",\n",
    "    \"position.name\",\n",
    "    \"location.0\",\n",
    "    \"location.1\",\n",
    "    \"pass.recipient.id\",\n",
    "    \"pass.recipient.name\",\n",
    "    \"pass.length\",\n",
    "    \"pass.angle\",\n",
    "    \"pass.height.id\",\n",
    "    \"pass.height.name\",\n",
    "    {\n",
    "        label: \"pass.end_location.0\",\n",
    "        value: \"pass.end_location[0]\"\n",
    "    },\n",
    "    {\n",
    "        label: \"pass.end_location.1\",\n",
    "        value: \"pass.end_location[1]\"\n",
    "    },\n",
    "    \"pass.type.id\",\n",
    "    \"pass.type.name\",\n",
    "    \"under_pressure\",\n",
    "    \"pass.aerial_won\",\n",
    "    \"duel.type.id\",\n",
    "    \"duel.type.name\",\n",
    "    \"duel.outcome.id\",\n",
    "    \"duel.outcome.name\",\n",
    "    \"interception.outcome.id\",\n",
    "    \"interception.outcome.name\",\n",
    "    \"pass.switch\",\n",
    "    \"pass.cross\",\n",
    "    \"dribble.outcome.id\",\n",
    "    \"dribble.outcome.nam\",\n",
    "    \"foul_committed.type.id\",\n",
    "    \"foul_committed.type.name\",\n",
    "    \"clearance.aerial_won\",\n",
    "    \"ball_recovery.recovery_failure\",\n",
    "    \"foul_committed.advantage\",\n",
    "    \"foul_won.advantage\",\n",
    "    \"pass.assisted_shot_id\",\n",
    "    \"pass.shot_assist\",\n",
    "    \"shot.statsbomb_xg\",\n",
    "    {\n",
    "        label: \"shot.end_location.0\",\n",
    "        value: \"shot.end_location[0]\"\n",
    "    },\n",
    "    {\n",
    "        label: \"shot.end_location.1\",\n",
    "        value: \"shot.end_location.1\"\n",
    "    },\n",
    "    {\n",
    "        label: \"shot.end_location.2\",\n",
    "        value: \"shot.end_location[2]\"\n",
    "    },\n",
    "    \"shot.body_part.id\",\n",
    "    \"shot.body_part.name\",\n",
    "    \"shot.outcome.id\",\n",
    "    \"shot.outcome.name\",\n",
    "    \"shot.type.id\",\n",
    "    \"shot.type.name\",\n",
    "    {\n",
    "        label: \"shot.freeze_frame.0.location.0\",\n",
    "        value: \"shot.freeze_frame[0].location[0]\"\n",
    "    },\n",
    "    {\n",
    "        label: \"shot.freeze_frame.0.location.1\",\n",
    "        value: \"shot.freeze_frame[0].location[1]\"\n",
    "    },\n",
    "    \"foul_committed.card.id\",\n",
    "    \"foul_committed.card.name\",\n",
    "    \"pass.goal_assist\",\n",
    "    \"block.deflection\",\n",
    "    \"foul_committed.penalty\",\n",
    "    \"shot.one_on_one\",\n",
    "    \"shot.open_goal\",\n",
    "];\n",
    "\n",
    "try {\n",
    "    console.log(\"Converting combined data to CSV...\");\n",
    "    csv = jc.parse(full, {\n",
    "        fields: columns\n",
    "    });\n",
    "    console.log(\"Finished converting to CSV.\");\n",
    "} catch (err) {\n",
    "    console.log(\"Error: \" + err);\n",
    "}\n",
    "\n",
    "console.log(\"Writing to output file...\");\n",
    "fs.writeFileSync(\"out.csv\", csv);\n",
    "console.log(\"Finished writing to output file.\");\n",
    "```"
   ]
  },
  {
   "cell_type": "markdown",
   "metadata": {},
   "source": [
    "### Data Manipulation in MySQL"
   ]
  },
  {
   "cell_type": "markdown",
   "metadata": {},
   "source": [
    "```\n",
    "Use soccer;\n",
    "\n",
    "drop table team_1_value;\n",
    "Create table team_1_value as(\n",
    "select Nationality as team,sum(Overall) value from sofifa group by 1);\n",
    "\n",
    "# Chart 1: team ranking intermediate\n",
    "drop table team_1_results;\n",
    "Create table team_1_results as(\n",
    "select a.*,home_score-away_score as home_gd,away_score-home_score as away_gd,\n",
    "case when home_score>away_score then 3\n",
    "when home_score<away_score then 0\n",
    "when home_score=away_score then 1 end as home_points,\n",
    "case when away_score>home_score then 3\n",
    "when away_Score<home_score then 0\n",
    "when away_Score=home_score then 1 end as away_points from matches a);\n",
    "\n",
    "drop table team_1_home;\n",
    "Create table team_1_home as(\n",
    "(select match_id,match_date,`home_team.home_team_name` as team,home_points points,home_gd gd from team_1_results) union \n",
    "(select match_id,match_date,`away_team.away_team_name` as team,away_points points,away_gd gd from team_1_results) );\n",
    "\n",
    "# Rank table\n",
    "drop table team_1_rank_notopas ;\n",
    "create table team_1_rank_notopas as(\n",
    "select team,pnts,gds,rank() over(order by pnts DESC,gds DESC)+2 ranks from\n",
    "(select team,sum(points) as pnts,sum(gd) gds from team_1_home group by 1) a\n",
    "where team!='Croatia' and team!='France') ;\n",
    "\n",
    "insert into team_1_rank_notopas values\n",
    "('Croatia',14,5,2);\n",
    "insert into team_1_rank_notopas values\n",
    "('France',19,8,1);\n",
    "\n",
    "#chart 1 rank table final\n",
    "select * from team_1_rank_notopas;\n",
    "\n",
    "create table team_1_rank_value as(\n",
    "select a.*,b.value from team_1_rank_notopas a left join team_1_value b on a.team=b.team);\n",
    "\n",
    "# Prev rank\n",
    "# Create table sys.prev_ranks as(select * from database.prev_ranks);\n",
    "\n",
    "Create table team_1_rank_value_prev as(\n",
    "select a.*,b.rank as prev_rank from team_1_rank_value a left join prev_ranks b on a.team=b.team);\n",
    "\n",
    "# Chart 1 final table\n",
    "select * from team_1_rank_value_prev;\n",
    "\n",
    "# Team chart 2\n",
    "drop table team_2_points ;\n",
    "create table team_2_points as(\n",
    "select team,match_id,RANK( ) OVER (PARTITION BY team ORDER by match_id) as rnk,points as points,gd as gd\n",
    " from team_1_home);\n",
    " \n",
    "# Team chart 2 final table\n",
    "select* from team_2_points;\n",
    "\n",
    "## Chart 3 - Attack\n",
    "\n",
    "create table team_3_attack1 as(\n",
    "((select match_id,`home_team.home_team_name` as team_name,home_score as score from matches) union\n",
    "(select match_id,`away_team.away_team_name` as team_name,away_score as score from matches)));\n",
    "\n",
    "create table team_3_attack3 as(\n",
    "select team_name,avg(score) as avg_score from team_3_attack1 group by team_name);\n",
    "\n",
    "select * from team_3_attack3;\n",
    "\n",
    "## xg\n",
    "create table team_3_attack4 as(\n",
    "select `team.name` as team_name,avg(round(`shot.statsbomb_xg`,2)) avg_xg from events \n",
    "where `type.name`='shot' group by 1);\n",
    "\n",
    "select * from team_3_attack4;\n",
    "\n",
    "## Shots\n",
    "drop table team_3_attack5 ;\n",
    "create table team_3_attack5 as(\n",
    "select match_id,`possession_team.name` as team_name,count(*) as shots\n",
    "from events where `type.name`='shot' group by 1,2);\n",
    "\n",
    "select *from team_3_attack5;\n",
    "\n",
    "create table team_3_attack8 as(\n",
    "select team_name,avg(shots) shots from team_3_attack5 group by 1);\n",
    "\n",
    "select * from team_3_attack8;\n",
    "\n",
    "## Successful Dribbles\n",
    "create table team_3_attack6 as(\n",
    "select match_id,`possession_team.name` as team_name,count(*) as dribbles from events where `dribble.outcome.id`=8\n",
    "group by 1,2);\n",
    "\n",
    "create table team_3_attack7 as(\n",
    "select team_name,avg(dribbles) dribbles from team_3_attack6 group by 1);\n",
    "\n",
    "select * from team_3_attack7;\n",
    "\n",
    "drop table team_3_attack9 ;\n",
    "Create table team_3_attack9 as(\n",
    "select a.*,b.avg_xg,b.shots from team_3_attack3 a left join \n",
    "(select a.*,b.shots from team_3_attack4 a left join team_3_attack8 b on a.team_name=b.team_name) b on\n",
    "a.team_name=b.team_name group by 1,2,3,4);\n",
    "\n",
    "drop table team_3_attack10 ;\n",
    "create table team_3_attack10 as(\n",
    "select a.*,b.dribbles from team_3_attack9 a left join team_3_attack7 b on a.team_name=b.team_name);\n",
    "\n",
    "# Final attack#################\n",
    "select * from team_3_attack10;\n",
    "###############################\n",
    "\n",
    "## Chart 3 - defense\n",
    "\n",
    "## Goals conceded\n",
    "\n",
    "create table team_3_defense1 as(\n",
    "((select match_id,`home_team.home_team_name` as team_name,away_score as conceded from matches) union\n",
    "(select match_id,`away_team.away_team_name` as team_name,home_score as conceded from matches)));\n",
    "\n",
    "create table team_3_defense2 as(\n",
    "select team_name,avg(conceded) as conceded from team_3_defense1 group by 1);\n",
    "\n",
    "select * from team_3_defense2;\n",
    "\n",
    "## Saves\n",
    "\n",
    "drop table team_3_defense3 ;\n",
    "create table team_3_defense3 as(\n",
    "select match_id,`team.name` as team_name, count(*) as saves from events where `related_events.0` in (select id from events where\n",
    "`type.name` = 'Shot' and `shot.outcome.name`='Saved' group by 1) group by 1,2);\n",
    "\n",
    "select * from team_3_defense3;\n",
    "\n",
    "create table team_3_defense33 as(\n",
    "select team_name,avg(saves) as saves from team_3_defense3 group by 1);\n",
    "\n",
    "## Blocks\n",
    "drop table team_3_defense4 ;\n",
    "create table team_3_defense4 as(\n",
    "select match_id,`team.name` as team_name, count(*) as blocks from events where `type.name`='Block' group by 1,2);\n",
    "\n",
    "create table team_3_defense44 as(\n",
    "select team_name,avg(blocks) as blocks from team_3_defense4 group by 1);\n",
    "\n",
    "select * from team_3_defense4;\n",
    "\n",
    "drop table team_3_defense5 ;\n",
    "Create table team_3_defense5 as(\n",
    "select a.*,b.saves,b.blocks from team_3_defense2 a left join \n",
    "(select a.*,b.blocks from team_3_defense33 a left join team_3_defense44 b on a.team_name=b.team_name) b on\n",
    "a.team_name=b.team_name group by 1,2,3,4);\n",
    "\n",
    "######Final table Defense##########\n",
    "select * from team_3_defense5;\n",
    "###################################\n",
    "\n",
    "## Chart 3 - Midfield\n",
    "\n",
    "## Possession\n",
    "\n",
    "drop table team_3_mids1 ;\n",
    "create table team_3_mids1 as(\n",
    "select match_id,`possession_team.name` as team_name,sum(duration) dur from events group by 1,2);\n",
    "select *,sum(dur) from team_3_mids1 group by 1 limit 10;\n",
    "# drop table team_3_mid1 ;\n",
    "# create table team_3_mid1 as(\n",
    "# select match_id,timestamp,possession,`possession_team.name` as tn, rank() over(partition by match_id,\n",
    "# `possession_team.name`,possession order by timestamp) ranks \n",
    "# from events group by 1,2,3,4);\n",
    "\n",
    "# select * from team_3_mid1 where match_id=7525;\n",
    "\n",
    "# create table team_3_mid2 as(\n",
    "# select a.match_id,a.possession,a.tn as team_name,a.timestamp-b.timestamp as diff from team_3_mid1 a left join \n",
    "# team_3_mid1 b on a.ranks=b.ranks+1 and a.match_id=b.match_id and a.tn=b.tn);\n",
    "\n",
    "# select count(*) from team_3_mid2 limit 20;\n",
    "drop table team_3_mids2 ;\n",
    "create table team_3_mids2 as(\n",
    "select a.*, b.total,round((a.dur/b.total)*100) as possession \n",
    "from team_3_mids1 a left join (select *,sum(dur) total from team_3_mids1 group by 1)\n",
    "b on a.match_id=b.match_id);\n",
    "\n",
    "create table team_3_mids3 as(\n",
    "select team_name,avg(possession) as poss from team_3_mids2 group by team_name);\n",
    "\n",
    "## Pass\n",
    "drop table team_3_mids4 ;\n",
    "create table team_3_mids4 as(\n",
    "select match_id,`possession_team.name` as team_name,count(*) as passes\n",
    "from events where `type.name` ='Pass' group by 1,2);\n",
    "\n",
    "create table team_3_mids5 as(\n",
    "select team_name,avg(passes) as passes from team_3_mids4  group by 1);\n",
    "\n",
    "select * from team_3_mids5;\n",
    "create table sys.team_3_mids6 as (select * from root.passacc);\n",
    "\n",
    "select * from team_3_mids6 ;\n",
    "Update `team_3_mids6` set `team_name`='Colombia' where `team_name`='Columbia';\n",
    "\n",
    "## Final table\n",
    "drop table team_3_mids7 ;\n",
    "Create table team_3_mids7 as(\n",
    "select a.*,b.pass_acc,b.passes from team_3_mids3 a left join (select a.*,b.pass_acc from team_3_mids5 a\n",
    "left join team_3_mids6 b on a.team_name=b.team_name) b on a.team_name=b.team_name);\n",
    "\n",
    "## Final mid ################\n",
    "select * from team_3_mids7;\n",
    "#############################\n",
    "\n",
    "drop table player_class1;\n",
    "create table player_class1 as(\n",
    "select `player.name` as player,`position.name` as position,count(*) as times from events group by 1,2);\n",
    "\n",
    "drop table player_class2 ;\n",
    "create table player_class2 as(\n",
    "select player,position,rank() over(partition by player order by times desc) as ranks from player_class1);\n",
    "delete from player_class2 where player='';\n",
    "\n",
    "Create table player_class3 as(\n",
    "select player,position from player_class2 where ranks=1 group by 1,2);\n",
    "\n",
    "drop table player_1_value;\n",
    "Create table player_1_value as(\n",
    "select player as team,sum(Overall) value from sofifa group by 1);\n",
    "\n",
    "select * from sofifa1 limit 10;\n",
    "\n",
    "##Attackers\n",
    "\n",
    "drop table player_1_attack1 ;\n",
    "Create table player_1_attack1 as(\n",
    "select match_id,`team.name` as team_name,`player.name` as player,count(*) as goals\n",
    "from events where `shot.outcome.name`='Goal' and `shot.type.name`='Open Play' and `player.name` in \n",
    "(select player from player_class3 where position in \n",
    "('Center Forward',\n",
    "'Center Attacking Midfield',\n",
    "'Left Center Forward',\n",
    "'Right Center Forward',\n",
    "'Right Wing',\n",
    "'Left Wing',\n",
    "'Secondary Striker',\n",
    "'Left Attacking Midfield',\n",
    "'Right Attacking Midfield')) group by 1,2,3);\n",
    "\n",
    "drop table player_1_attack11 ;\n",
    "create table player_1_attack11 as(\n",
    "select a.team_name,a.player,round(sum(a.goals),2) as goals from player_1_attack1 a group by a.team_name,a.player);\n",
    "\n",
    "select * from player_1_attack12 where player like '%Cahil%';\n",
    "\n",
    "drop table player_1_attack12 ;\n",
    "Create table player_1_attack12 as(\n",
    "select `team.name` as team_name,`player.name` as player,count(distinct match_id) as matches \n",
    "from events where \n",
    "`player.name` in \n",
    "(select player from player_class3) group by 1,2);\n",
    "\n",
    "drop table player_1_attack13 ;\n",
    "create table player_1_attack13 as(\n",
    "select a.team_name,a.player,a.goals,b.matches,round((goals/matches),2) as goalspm from player_1_attack11 a left join \n",
    "player_1_attack12 b on a.team_name=b.team_name and a.player=b.player);\n",
    "\n",
    "select * from player_1_attack13;\n",
    "\n",
    "## Shots\n",
    "\n",
    "drop table player_1_attack2 ;\n",
    "create table player_1_attack2 as(\n",
    "select match_id,`team.name` as team_name,`player.name` as player,count(*) as shots,\n",
    "avg(round((`shot.statsbomb_xg`),2)) as diff from events where `type.name`='Shot'\n",
    "and `player.name` in \n",
    "(select player from player_class3 where position in \n",
    "('Center Forward',\n",
    "'Center Attacking Midfield',\n",
    "'Left Center Forward',\n",
    "'Right Center Forward',\n",
    "'Right Wing',\n",
    "'Left Wing',\n",
    "'Secondary Striker',\n",
    "'Left Attacking Midfield',\n",
    "'Right Attacking Midfield')) group by 1,2,3);\n",
    "\n",
    "drop table player_1_attack22;\n",
    "create table player_1_attack22 as(\n",
    "select a.team_name,a.player,round(sum(a.shots),2) as shots,round(sum(a.diff),2) as diff\n",
    "from player_1_attack2 a group by a.team_name,a.player);\n",
    "\n",
    "drop table player_1_attack24 ;\n",
    "create table player_1_attack24 as(\n",
    "select a.team_name,a.player,a.shots,a.diff,b.matches,round((shots/matches),2) as shotspm \n",
    ",round((diff/matches),2) as diffpm from player_1_attack22 a left join \n",
    "player_1_attack12 b on a.team_name=b.team_name and a.player=b.player);\n",
    "\n",
    "select * from player_1_attack24;\n",
    "\n",
    "select CAST(`shot.end_location.2` as unsigned) from events group by 1;\n",
    "select * from player_1_attack3;\n",
    "### Shots on target\n",
    "drop table player_1_attack3 ;\n",
    "create table player_1_attack3 as(\n",
    "select  match_id,`team.name` as team_name,`player.name` as player,count(*) as sot\n",
    "from events where \n",
    "`shot.end_location.0`!='' and `shot.end_location.1`!='' and CAST(`shot.end_location.1` as unsigned)>=36 \n",
    "and  CAST(`shot.end_location.1` as unsigned)<=43 and CAST(`shot.end_location.0` as unsigned)>=114 and\n",
    "CAST(`shot.end_location.2` as unsigned)<3\n",
    "and `type.name`='Shot'\n",
    "and `player.name` in \n",
    "(select player from player_class3 where position in \n",
    "('Center Forward',\n",
    "'Center Attacking Midfield',\n",
    "'Left Center Forward',\n",
    "'Right Center Forward',\n",
    "'Right Wing',\n",
    "'Left Wing',\n",
    "'Secondary Striker',\n",
    "'Left Attacking Midfield',\n",
    "'Right Attacking Midfield')) group by 1,2,3);\n",
    "\n",
    "select * from player_1_attack3;\n",
    "\n",
    "drop table player_1_attack33 ;\n",
    "create table player_1_attack33 as(\n",
    "select a.team_name,a.player,round(sum(a.sot),2) as sot\n",
    "from player_1_attack3 a group by a.team_name,a.player);\n",
    "\n",
    "drop table player_1_attack34 ;\n",
    "create table player_1_attack34 as(\n",
    "select a.team_name,a.player,a.sot,b.matches,round((sot/matches),2) as sotpm \n",
    "from player_1_attack33 a left join \n",
    "player_1_attack12 b on a.team_name=b.team_name and a.player=b.player);\n",
    "\n",
    "select * from player_1_attack34;\n",
    "\n",
    "drop table player_1_attack4 ;\n",
    "create table player_1_attack4 as(\n",
    "select a.*,b.goalspm as goals,b.sotpm as sot from player_1_attack24 a left join \n",
    "(select a.*,b.sotpm from player_1_attack13 a left join\n",
    "player_1_attack34 b on a.team_name=b.team_name and a.player=b.player) b on \n",
    "a.team_name=b.team_name and a.player=b.player);\n",
    "\n",
    "select * from player_1_attack4;\n",
    "\n",
    "drop table player_1_attack5 ;\n",
    "create table player_1_attack5 as(\n",
    "select team_name,player,shotspm as shots,diffpm as diff,goals,sot,round(goals/shots,2) as scoring_ratio from player_1_attack4);\n",
    "\n",
    "## Final attack table\n",
    "select * from player_1_attack5;\n",
    "\n",
    "## Midfield\n",
    "drop table player_3_mid1;\n",
    "\n",
    "create table player_3_mid1 as(\n",
    "select match_id,`team.name` as team_name,`player.name` as player,count(*) as passes from events\n",
    "where `type.name`='Pass' \n",
    "and `player.name` in \n",
    "(select player from player_class3 where position in \n",
    "('Center Defensive Midfield',\n",
    "'Left Center Midfield',\n",
    "'Left Midfield',\n",
    "'Right Midfield',\n",
    "'Right Center Midfield',\n",
    "'Left Defensive Midfield',\n",
    "'Right Defensive Midfield',\n",
    "'Center Midfield')) group by 1,2,3);\n",
    "select * from player_3_mid1;\n",
    "\n",
    "drop table player_3_mid2 ;\n",
    "create table player_3_mid2 as(\n",
    "select match_id,`team.name` as team_name,`player.name` as player,count(*) as disp from events where \n",
    "`type.name`='Dispossessed' \n",
    "and `player.name` in \n",
    "(select player from player_class3 where position in \n",
    "('Center Defensive Midfield',\n",
    "'Left Center Midfield',\n",
    "'Left Midfield',\n",
    "'Right Midfield',\n",
    "'Right Center Midfield',\n",
    "'Left Defensive Midfield',\n",
    "'Right Defensive Midfield',\n",
    "'Center Midfield')) group by 1,2,3);\n",
    "\n",
    "select count(*) from player_3_mid1;\n",
    "\n",
    "drop table player_3_mid4;\n",
    "create table player_3_mid4 as(\n",
    "select a.*,b.disp from player_3_mid1 a left join player_3_mid2 b on a.match_id=b.match_id\n",
    "and a.team_name=b.team_name and a.player=b.player);\n",
    "\n",
    "select * from player_3_mid4 where player like '%Luka %';\n",
    "drop table player_3_mid5;\n",
    "create table player_3_mid5 as(\n",
    "select team_name,player,round(avg(passes)) as passes,round(avg(disp),2) as disp from player_3_mid4 group by match_id);\n",
    "\n",
    "Update player_3_mid4 set disp=0 where disp is null;\n",
    "\n",
    "## Final mid table #############\n",
    "select * from player_3_mid5;\n",
    "################################\n",
    "\n",
    "drop table player_3_mid6 ;\n",
    "create table player_3_mid6 as(\n",
    "select match_id,`team.name` as team_name,`player.name` as player,`location.0` as location0,`location.1` as location1,\n",
    "rank() over(partition by match_id,`player.name` order by timestamp) ranks from events where\n",
    "`player.name`!='' and `location.0`!=0 and `player.name` in (select `player.name` from player_class3 where position in \n",
    "('Center Defensive Midfield',\n",
    "'Left Center Midfield',\n",
    "'Left Midfield',\n",
    "'Right Midfield',\n",
    "'Right Center Midfield',\n",
    "'Left Defensive Midfield',\n",
    "'Right Defensive Midfield',\n",
    "'Center Midfield')));\n",
    "\n",
    "select * from player_3_mid7 where player like '%Luka Mo%' ;\n",
    "\n",
    "create table player_3_mid7 as(\n",
    "select a.*,b.matches from player_3_mid6 a left join\n",
    "(select `team.name` as team_name,count(distinct match_id) as matches from events group by 1)\n",
    "b on a.team_name=b.team_name);\n",
    "\n",
    "select * from player_3_mid8 limit 11;\n",
    "\n",
    "create table player_3_mid8 as(\n",
    "select * from player_3_mid7 where matches>3);\n",
    "\n",
    "create table player_3_mid9 as(\n",
    "select a.*,b.location0 as location2,b.location1 as location3 from player_3_mid8 a left join player_3_mid8 b \n",
    "on a.match_id=b.match_id and a.player=b.player where a.ranks =b.ranks+1);\n",
    "\n",
    "drop table player_3_mid10 ;\n",
    "create table player_3_mid11 as(\n",
    "select player,location0,location1,count(*) as events from player_3_mid8 group by 1,2,3);\n",
    "\n",
    "create table player_3_mid12 as(\n",
    "select match_id,team_name,player,sum(sqrt(POWER((location0 - location2),2) + POWER((location1 - location3),2 )))*0.00091 as dist\n",
    "from player_3_mid9 group by 1,2,3);\n",
    "\n",
    "drop table player_3_mid_final ;\n",
    "create table player_3_mid_final as(\n",
    "select a.*,b.dist from player_3_mid5 a left join\n",
    "(select team_name,player,round(sum(dist)*2.8,2) as dist from player_3_mid12 group by 1,2) b \n",
    "on a.team_name=b.team_name and a.player=b.player group by 1,2);\n",
    "\n",
    "### Final final mid table###########\n",
    "select * from player_3_mid_final;\n",
    "####################################\n",
    "\n",
    "select team_name,player,round(sum(dist)*2.8,2) as dist from player_3_mid12 group by 1,2;\n",
    "\n",
    "## Defense\n",
    "\n",
    "drop table player_2_def1 ;\n",
    "create table player_2_def1 as(\n",
    "select match_id,`team.name` as team_name,`player.name` as player,count(*) as duels_won from events where `duel.type.name`='Tackle' and\n",
    "(`duel.outcome.name`='Won' or `duel.outcome.name` like '%Success%') and `position.name` like '%Back%' group by 1,2,3);\n",
    "\n",
    "select * from player_2_def1;\n",
    "\n",
    "drop table player_2_def2 ;\n",
    "create table player_2_def2 as(\n",
    "select match_id,`team.name` as team_name,`player.name` as player,count(*) as duels_lost from events where `duel.type.name`='Tackle' and\n",
    "`duel.outcome.name` like '%Lost%' and `position.name` like '%Back%' group by 1,2,3);\n",
    "select * from player_2_def2;\n",
    "\n",
    "drop table player_2_def3 ;\n",
    "create table player_2_def3 as(\n",
    "select a.*,b.duels_lost from player_2_def1 a left join player_2_def2 b on a.match_id=b.match_id\n",
    "and a.team_name=b.team_name and a.player=b.player);\n",
    "\n",
    "drop table player_2_def32;\n",
    "create table player_2_def32 as(\n",
    "select team_name,player,sum(duels_won) duels_won,sum(duels_lost) duels_lost from player_2_def3 group by team_name,player);\n",
    "\n",
    "#create table player_2_def33 as(\n",
    "#select a.*,b.matches from player_2_def3 a left join player_1_attack12 b on a.player=b.player);\n",
    "\n",
    "#use soccer;\n",
    "#Update player_2_def4 set duels_lost=0 where duels_lost is null;\n",
    "select * from player_2_def32;\n",
    "\n",
    "drop table player_2_def5 ;\n",
    "create table player_2_def5 as(\n",
    "select match_id,`team.name` as team_name,`player.name` as player,count(*) as clearances from events where `type.name`='Clearance'\n",
    "and `position.name` like '%Back%' group by 1,2,3);\n",
    " \n",
    "select * from player_2_def5;\n",
    " \n",
    "drop table player_2_def6 ;\n",
    "create table player_2_def6 as(\n",
    "select team_name,player,round(sum(clearances),2) as clearances from player_2_def5\n",
    "group by team_name,player); \n",
    " \n",
    "drop table player_2_def7 ;\n",
    "create table player_2_def7 as(\n",
    "select a.*,b.clearances from player_2_def32 a left join player_2_def6 b on a.team_name=b.team_name\n",
    "and a.player=b.player);\n",
    "\n",
    "select * from player_2_def7;\n",
    " \n",
    "drop table player_2_def8 ;\n",
    "create table player_2_def8 as(\n",
    "select match_id,`team.name` as team_name,`player.name` as player,count(*) as blocks from events where `type.name`='Block'\n",
    "and `position.name` like '%Back%' group by 1,2,3);\n",
    "select * from player_2_def8;\n",
    " \n",
    "drop table player_2_def9 ;\n",
    "create table player_2_def9 as(\n",
    "select team_name,player,round(sum(blocks),2) as blocks from player_2_def8\n",
    "group by team_name,player);\n",
    "\n",
    "drop table player_2_def10 ;\n",
    "create table player_2_def10 as(\n",
    "select a.*,b.blocks from player_2_def7 a left join player_2_def9 b on a.team_name=b.team_name\n",
    "and a.player=b.player);\n",
    "\n",
    "drop table player_2_def11;\n",
    "create table player_2_def11 as(\n",
    "select match_id,`team.name` as team_name,`player.name` as player,count(*) as cards from events where `foul_committed.card.id`!=''\n",
    "and `position.name` like '%Back%' group by 1,2,3);\n",
    "\n",
    "drop table player_2_def12 ;\n",
    "create table player_2_def12 as(\n",
    "select team_name,player,round(sum(cards),2) as cards from player_2_def11\n",
    "group by team_name,player);\n",
    "\n",
    "drop table player_2_def13 ;\n",
    "create table player_2_def13 as(\n",
    "select a.*,b.cards from player_2_def10 a left join player_2_def12 b on a.team_name=b.team_name\n",
    "and a.player=b.player);\n",
    "\n",
    "drop table player_2_def14 ;\n",
    "create table player_2_def14 as(\n",
    "select a.*,b.matches from player_2_def13 a left join player_1_attack12 b on a.team_name=b.team_name\n",
    "and a.player=b.player);\n",
    "\n",
    "select * from player_2_def14;\n",
    "\n",
    "create table player_2_def15 as(\n",
    "select team_name,player,round(duels_won/matches,2) duels_won,round(duels_lost/matches,2) duels_lost,\n",
    "round(clearances/matches,2) clearances,round(blocks/matches,2) blocks,\n",
    "round(cards/matches,2) as cards from player_2_def14);\n",
    "\n",
    "use soccer;\n",
    "select * from player_2_def15;\n",
    "\n",
    "show databases;\n",
    "\n",
    "update player_2_def15 set blocks=0 where blocks is null;\n",
    "```"
   ]
  },
  {
   "cell_type": "markdown",
   "metadata": {},
   "source": [
    "#### Importing the required libraries"
   ]
  },
  {
   "cell_type": "code",
   "execution_count": 1,
   "metadata": {},
   "outputs": [
    {
     "data": {
      "text/html": [
       "<script type=\"text/javascript\">window.PlotlyConfig = {MathJaxConfig: 'local'};</script><script type=\"text/javascript\">if (window.MathJax) {MathJax.Hub.Config({SVG: {font: \"STIX-Web\"}});}</script><script>requirejs.config({paths: { 'plotly': ['https://cdn.plot.ly/plotly-latest.min']},});if(!window._Plotly) {require(['plotly'],function(plotly) {window._Plotly=plotly;});}</script>"
      ],
      "text/vnd.plotly.v1+html": [
       "<script type=\"text/javascript\">window.PlotlyConfig = {MathJaxConfig: 'local'};</script><script type=\"text/javascript\">if (window.MathJax) {MathJax.Hub.Config({SVG: {font: \"STIX-Web\"}});}</script><script>requirejs.config({paths: { 'plotly': ['https://cdn.plot.ly/plotly-latest.min']},});if(!window._Plotly) {require(['plotly'],function(plotly) {window._Plotly=plotly;});}</script>"
      ]
     },
     "metadata": {},
     "output_type": "display_data"
    }
   ],
   "source": [
    "import numpy as np\n",
    "import pandas as pd\n",
    "import sqlite3\n",
    "from datetime import timedelta\n",
    "import warnings\n",
    "warnings.filterwarnings(\"ignore\")\n",
    "import matplotlib.pyplot as plt\n",
    "import seaborn as sns\n",
    "%matplotlib inline\n",
    "import plotly.offline as py\n",
    "py.init_notebook_mode(connected=True)\n",
    "import plotly.graph_objs as go\n",
    "import plotly.tools as tls\n",
    "\n",
    "import os,conda\n",
    "\n",
    "conda_file_dir = conda.__file__\n",
    "conda_dir = conda_file_dir.split('lib')[0]\n",
    "proj_lib = os.path.join(os.path.join(conda_dir, 'share'), 'proj')\n",
    "os.environ[\"PROJ_LIB\"] = proj_lib\n",
    "\n",
    "from mpl_toolkits.basemap import Basemap\n",
    "from mpl_toolkits.basemap import Basemap\n",
    "import folium\n",
    "import folium.plugins\n",
    "from matplotlib import animation,rc\n",
    "import io\n",
    "import base64\n",
    "import itertools\n",
    "from subprocess import check_output\n",
    "import pymysql.cursors"
   ]
  },
  {
   "cell_type": "markdown",
   "metadata": {},
   "source": [
    "#### Connection to SQL Database hosted at Amazon Web Services RDS"
   ]
  },
  {
   "cell_type": "code",
   "execution_count": 29,
   "metadata": {},
   "outputs": [],
   "source": [
    "connection = pymysql.connect(host='eas503.cepu1x4uo2cc.us-east-1.rds.amazonaws.com',\n",
    "                             user='eas503',\n",
    "                             password='fifa2018',\n",
    "                             db='soccer',\n",
    "                             charset='utf8mb4',\n",
    "                             cursorclass=pymysql.cursors.DictCursor)\n",
    "player = pd.read_sql('SELECT * FROM player', con=connection)"
   ]
  },
  {
   "cell_type": "markdown",
   "metadata": {},
   "source": [
    "#### Reading data into Python"
   ]
  },
  {
   "cell_type": "code",
   "execution_count": 3,
   "metadata": {},
   "outputs": [],
   "source": [
    "matches = pd.read_sql('SELECT * FROM matches', con=connection)\n",
    "events = pd.read_sql('SELECT * FROM events', con=connection)\n",
    "ranks = pd.read_sql('SELECT * FROM ranks', con=connection)\n",
    "team_2_points = pd.read_sql('SELECT * FROM team_2_points', con=connection)\n",
    "team_3_attack10 = pd.read_sql('SELECT * FROM team_3_attack10', con=connection)\n",
    "team_3_defense5 = pd.read_sql('SELECT * FROM team_3_defense5', con=connection)\n",
    "team_3_mids7 = pd.read_sql('SELECT * FROM team_3_mids7', con=connection)"
   ]
  },
  {
   "cell_type": "markdown",
   "metadata": {},
   "source": [
    "#### Data Description"
   ]
  },
  {
   "cell_type": "code",
   "execution_count": 4,
   "metadata": {},
   "outputs": [
    {
     "name": "stdout",
     "output_type": "stream",
     "text": [
      "\u001b[1;31mMatch Attributes\u001b[0m\n",
      "['match_id' 'match_date' 'home_team.home_team_name'\n",
      " 'away_team.away_team_name' 'home_score' 'away_score']\n",
      "\n",
      "\u001b[1;31mEvent Attributes\u001b[0m\n",
      "['match_id' 'id' 'index' 'period' 'timestamp' 'type.name' 'possession'\n",
      " 'possession_team.name' 'play_pattern.name' 'team.name' 'duration'\n",
      " 'related_events.0' 'player.name' 'position.name' 'location.0'\n",
      " 'location.1' 'pass.recipient.id' 'pass.recipient.name' 'pass.length'\n",
      " 'pass.angle' 'pass.height.id' 'pass.height.name' 'pass.end_location.0'\n",
      " 'pass.end_location.1' 'pass.type.id' 'pass.type.name' 'under_pressure'\n",
      " 'pass.aerial_won' 'duel.type.id' 'duel.type.name' 'duel.outcome.id'\n",
      " 'duel.outcome.name' 'interception.outcome.id' 'interception.outcome.name'\n",
      " 'pass.switch' 'pass.cross' 'dribble.outcome.id' 'dribble.outcome.nam'\n",
      " 'foul_committed.type.id' 'foul_committed.type.name'\n",
      " 'clearance.aerial_won' 'ball_recovery.recovery_failure'\n",
      " 'foul_committed.advantage' 'foul_won.advantage' 'pass.assisted_shot_id'\n",
      " 'pass.shot_assist' 'shot.statsbomb_xg' 'shot.end_location.0'\n",
      " 'shot.end_location.1' 'shot.end_location.2' 'shot.body_part.id'\n",
      " 'shot.body_part.name' 'shot.outcome.id' 'shot.outcome.name'\n",
      " 'shot.type.id' 'shot.type.name' 'shot.freeze_frame.0.location.0'\n",
      " 'shot.freeze_frame.0.location.1' 'foul_committed.card.id'\n",
      " 'foul_committed.card.name' 'pass.goal_assist' 'block.deflection'\n",
      " 'foul_committed.penalty' 'shot.one_on_one' 'shot.open_goal']\n"
     ]
    }
   ],
   "source": [
    "print('\\x1b[1;31m'+'Match Attributes'+'\\x1b[0m')\n",
    "print(matches.columns.values)\n",
    "print()\n",
    "print('\\x1b[1;31m'+'Event Attributes'+'\\x1b[0m')\n",
    "print(events.columns.values)"
   ]
  },
  {
   "cell_type": "markdown",
   "metadata": {},
   "source": [
    "#### Attacking performance of teams\n",
    "\n",
    "* Avg_score - Average numbder of goals scored in a match\n",
    "* Avg_xg - Average difficulty of shots - Expected number of times a shot will convert into a goal\n",
    "* shots - Average number of shots in a match\n",
    "* dribbles - Number of successful dribbles in a match"
   ]
  },
  {
   "cell_type": "code",
   "execution_count": 5,
   "metadata": {},
   "outputs": [
    {
     "data": {
      "text/html": [
       "<div>\n",
       "<style scoped>\n",
       "    .dataframe tbody tr th:only-of-type {\n",
       "        vertical-align: middle;\n",
       "    }\n",
       "\n",
       "    .dataframe tbody tr th {\n",
       "        vertical-align: top;\n",
       "    }\n",
       "\n",
       "    .dataframe thead th {\n",
       "        text-align: right;\n",
       "    }\n",
       "</style>\n",
       "<table border=\"1\" class=\"dataframe\">\n",
       "  <thead>\n",
       "    <tr style=\"text-align: right;\">\n",
       "      <th></th>\n",
       "      <th>team_name</th>\n",
       "      <th>avg_score</th>\n",
       "      <th>avg_xg</th>\n",
       "      <th>shots</th>\n",
       "      <th>dribbles</th>\n",
       "    </tr>\n",
       "  </thead>\n",
       "  <tbody>\n",
       "    <tr>\n",
       "      <th>0</th>\n",
       "      <td>Saudi Arabia</td>\n",
       "      <td>0.6667</td>\n",
       "      <td>0.105143</td>\n",
       "      <td>11.6667</td>\n",
       "      <td>11.6667</td>\n",
       "    </tr>\n",
       "    <tr>\n",
       "      <th>1</th>\n",
       "      <td>Russia</td>\n",
       "      <td>2.2000</td>\n",
       "      <td>0.200847</td>\n",
       "      <td>11.8000</td>\n",
       "      <td>7.0000</td>\n",
       "    </tr>\n",
       "    <tr>\n",
       "      <th>2</th>\n",
       "      <td>Nigeria</td>\n",
       "      <td>1.0000</td>\n",
       "      <td>0.092564</td>\n",
       "      <td>13.0000</td>\n",
       "      <td>13.6667</td>\n",
       "    </tr>\n",
       "    <tr>\n",
       "      <th>3</th>\n",
       "      <td>Croatia</td>\n",
       "      <td>2.0000</td>\n",
       "      <td>0.148065</td>\n",
       "      <td>17.7143</td>\n",
       "      <td>11.0000</td>\n",
       "    </tr>\n",
       "    <tr>\n",
       "      <th>4</th>\n",
       "      <td>Australia</td>\n",
       "      <td>0.6667</td>\n",
       "      <td>0.117353</td>\n",
       "      <td>11.3333</td>\n",
       "      <td>8.6667</td>\n",
       "    </tr>\n",
       "  </tbody>\n",
       "</table>\n",
       "</div>"
      ],
      "text/plain": [
       "      team_name  avg_score    avg_xg    shots  dribbles\n",
       "0  Saudi Arabia     0.6667  0.105143  11.6667   11.6667\n",
       "1        Russia     2.2000  0.200847  11.8000    7.0000\n",
       "2       Nigeria     1.0000  0.092564  13.0000   13.6667\n",
       "3       Croatia     2.0000  0.148065  17.7143   11.0000\n",
       "4     Australia     0.6667  0.117353  11.3333    8.6667"
      ]
     },
     "execution_count": 5,
     "metadata": {},
     "output_type": "execute_result"
    }
   ],
   "source": [
    "team_3_attack10.head()"
   ]
  },
  {
   "cell_type": "markdown",
   "metadata": {},
   "source": [
    "#### Defensive performance of teams\n",
    "\n",
    "* conceded - Average goals conceded in a match\n",
    "* saves - Average number of saves in a match\n",
    "* blocks - Average number of blocks made in an match"
   ]
  },
  {
   "cell_type": "code",
   "execution_count": 11,
   "metadata": {},
   "outputs": [
    {
     "data": {
      "text/html": [
       "<div>\n",
       "<style scoped>\n",
       "    .dataframe tbody tr th:only-of-type {\n",
       "        vertical-align: middle;\n",
       "    }\n",
       "\n",
       "    .dataframe tbody tr th {\n",
       "        vertical-align: top;\n",
       "    }\n",
       "\n",
       "    .dataframe thead th {\n",
       "        text-align: right;\n",
       "    }\n",
       "</style>\n",
       "<table border=\"1\" class=\"dataframe\">\n",
       "  <thead>\n",
       "    <tr style=\"text-align: right;\">\n",
       "      <th></th>\n",
       "      <th>team_name</th>\n",
       "      <th>conceded</th>\n",
       "      <th>saves</th>\n",
       "      <th>blocks</th>\n",
       "    </tr>\n",
       "  </thead>\n",
       "  <tbody>\n",
       "    <tr>\n",
       "      <th>0</th>\n",
       "      <td>Saudi Arabia</td>\n",
       "      <td>2.3333</td>\n",
       "      <td>2.5000</td>\n",
       "      <td>15.0000</td>\n",
       "    </tr>\n",
       "    <tr>\n",
       "      <th>1</th>\n",
       "      <td>Russia</td>\n",
       "      <td>1.4000</td>\n",
       "      <td>6.0000</td>\n",
       "      <td>22.6000</td>\n",
       "    </tr>\n",
       "    <tr>\n",
       "      <th>2</th>\n",
       "      <td>Croatia</td>\n",
       "      <td>1.2857</td>\n",
       "      <td>4.6667</td>\n",
       "      <td>16.1429</td>\n",
       "    </tr>\n",
       "    <tr>\n",
       "      <th>3</th>\n",
       "      <td>Nigeria</td>\n",
       "      <td>1.3333</td>\n",
       "      <td>2.0000</td>\n",
       "      <td>13.6667</td>\n",
       "    </tr>\n",
       "    <tr>\n",
       "      <th>4</th>\n",
       "      <td>Australia</td>\n",
       "      <td>1.6667</td>\n",
       "      <td>4.3333</td>\n",
       "      <td>19.3333</td>\n",
       "    </tr>\n",
       "  </tbody>\n",
       "</table>\n",
       "</div>"
      ],
      "text/plain": [
       "      team_name  conceded   saves   blocks\n",
       "0  Saudi Arabia    2.3333  2.5000  15.0000\n",
       "1        Russia    1.4000  6.0000  22.6000\n",
       "2       Croatia    1.2857  4.6667  16.1429\n",
       "3       Nigeria    1.3333  2.0000  13.6667\n",
       "4     Australia    1.6667  4.3333  19.3333"
      ]
     },
     "execution_count": 11,
     "metadata": {},
     "output_type": "execute_result"
    }
   ],
   "source": [
    "team_3_defense5.head()"
   ]
  },
  {
   "cell_type": "markdown",
   "metadata": {},
   "source": [
    "#### Midfield's performance of teams\n",
    "\n",
    "* poss - Average possession(in %)\n",
    "* pass_acc - Average passing accuracy\n",
    "* passes - Average number of passes"
   ]
  },
  {
   "cell_type": "code",
   "execution_count": 12,
   "metadata": {},
   "outputs": [
    {
     "data": {
      "text/html": [
       "<div>\n",
       "<style scoped>\n",
       "    .dataframe tbody tr th:only-of-type {\n",
       "        vertical-align: middle;\n",
       "    }\n",
       "\n",
       "    .dataframe tbody tr th {\n",
       "        vertical-align: top;\n",
       "    }\n",
       "\n",
       "    .dataframe thead th {\n",
       "        text-align: right;\n",
       "    }\n",
       "</style>\n",
       "<table border=\"1\" class=\"dataframe\">\n",
       "  <thead>\n",
       "    <tr style=\"text-align: right;\">\n",
       "      <th></th>\n",
       "      <th>team_name</th>\n",
       "      <th>poss</th>\n",
       "      <th>pass_acc</th>\n",
       "      <th>passes</th>\n",
       "    </tr>\n",
       "  </thead>\n",
       "  <tbody>\n",
       "    <tr>\n",
       "      <th>0</th>\n",
       "      <td>Argentina</td>\n",
       "      <td>63.0000</td>\n",
       "      <td>85</td>\n",
       "      <td>604.0000</td>\n",
       "    </tr>\n",
       "    <tr>\n",
       "      <th>1</th>\n",
       "      <td>Australia</td>\n",
       "      <td>51.3333</td>\n",
       "      <td>84</td>\n",
       "      <td>509.6667</td>\n",
       "    </tr>\n",
       "    <tr>\n",
       "      <th>2</th>\n",
       "      <td>Belgium</td>\n",
       "      <td>52.2857</td>\n",
       "      <td>86</td>\n",
       "      <td>542.8571</td>\n",
       "    </tr>\n",
       "    <tr>\n",
       "      <th>3</th>\n",
       "      <td>Brazil</td>\n",
       "      <td>59.0000</td>\n",
       "      <td>88</td>\n",
       "      <td>586.2000</td>\n",
       "    </tr>\n",
       "    <tr>\n",
       "      <th>4</th>\n",
       "      <td>Colombia</td>\n",
       "      <td>50.5000</td>\n",
       "      <td>80</td>\n",
       "      <td>504.0000</td>\n",
       "    </tr>\n",
       "  </tbody>\n",
       "</table>\n",
       "</div>"
      ],
      "text/plain": [
       "   team_name     poss  pass_acc    passes\n",
       "0  Argentina  63.0000        85  604.0000\n",
       "1  Australia  51.3333        84  509.6667\n",
       "2    Belgium  52.2857        86  542.8571\n",
       "3     Brazil  59.0000        88  586.2000\n",
       "4   Colombia  50.5000        80  504.0000"
      ]
     },
     "execution_count": 12,
     "metadata": {},
     "output_type": "execute_result"
    }
   ],
   "source": [
    "team_3_mids7.head()"
   ]
  },
  {
   "cell_type": "markdown",
   "metadata": {},
   "source": [
    "#### Data Visualization"
   ]
  },
  {
   "cell_type": "code",
   "execution_count": 35,
   "metadata": {},
   "outputs": [],
   "source": [
    "# Logging in to plotly\n",
    "import plotly\n",
    "# import plotly.plotly as py\n",
    "import plotly.graph_objs as go\n",
    "plotly.tools.set_credentials_file(username='asahay', api_key='k9VfAMUCTaqztYsWZFYn')"
   ]
  },
  {
   "cell_type": "code",
   "execution_count": 15,
   "metadata": {},
   "outputs": [
    {
     "data": {
      "application/vnd.plotly.v1+json": {
       "config": {
        "linkText": "Export to plot.ly",
        "plotlyServerURL": "https://plot.ly",
        "showLink": true
       },
       "data": [
        {
         "dimensions": [
          {
           "label": "Previous Ranks",
           "range": [
            33,
            1
           ],
           "ticktext": [
            "Brazil | 1",
            "Germany | 2",
            "Spain | 3",
            "France | 4",
            "Argentina | 5",
            "Portugal | 6",
            "England | 7",
            "Belgium | 8",
            "Colombia | 9",
            "Peru | 10",
            "Uruguay | 11",
            "Switzerland | 12",
            "Denmark | 13",
            "Croatia | 14",
            "Mexico | 15",
            "Poland | 16",
            "Sweden | 17",
            "Iran | 18",
            "Serbia | 19",
            "Iceland | 20",
            "Senegal | 21",
            "Costa Rica | 22",
            "Australia | 23",
            "Morocco | 24",
            "South Korea | 25",
            "Japan | 26",
            "Nigeria | 27",
            "Russia | 28",
            "Panama | 29",
            "Tunisia | 30",
            "Egypt | 31",
            "Saudi Arabia | 32"
           ],
           "tickvals": [
            1,
            2,
            3,
            4,
            5,
            6,
            7,
            8,
            9,
            10,
            11,
            12,
            13,
            14,
            15,
            16,
            17,
            18,
            19,
            20,
            21,
            22,
            23,
            24,
            25,
            26,
            27,
            28,
            29,
            30,
            31,
            32
           ],
           "values": [
            1,
            2,
            3,
            4,
            5,
            6,
            7,
            8,
            9,
            10,
            11,
            12,
            13,
            14,
            15,
            16,
            17,
            18,
            19,
            20,
            21,
            22,
            23,
            24,
            25,
            26,
            27,
            28,
            29,
            30,
            31,
            32
           ]
          },
          {
           "label": "Current Ranks",
           "range": [
            33,
            1
           ],
           "ticktext": [
            "France | 1",
            "Croatia | 2",
            "Belgium | 3",
            "Uruguay | 4",
            "Brazil | 5",
            "England | 6",
            "Sweden | 7",
            "Russia | 8",
            "Colombia | 9",
            "Spain | 10",
            "Denmark | 10",
            "Mexico | 12",
            "Switzerland | 13",
            "Portugal | 13",
            "Iran | 15",
            "Senegal | 15",
            "Japan | 17",
            "Argentina | 18",
            "Peru | 19",
            "South Korea | 19",
            "Nigeria | 21",
            "Serbia | 22",
            "Germany | 22",
            "Tunisia | 24",
            "Poland | 24",
            "Saudi Arabia | 26",
            "Morocco | 27",
            "Australia | 28",
            "Costa Rica | 28",
            "Iceland | 28",
            "Egypt | 31",
            "Panama | 32"
           ],
           "tickvals": [
            1,
            2,
            3,
            4,
            5,
            6,
            7,
            8,
            9,
            10,
            11,
            12,
            13,
            14,
            15,
            16,
            17,
            18,
            19,
            20,
            21,
            22,
            23,
            24,
            25,
            26,
            27,
            28,
            29,
            30,
            31,
            32
           ],
           "values": [
            5,
            22,
            10,
            1,
            18,
            13,
            6,
            3,
            9,
            19,
            4,
            13,
            10,
            2,
            12,
            24,
            7,
            15,
            22,
            28,
            15,
            28,
            28,
            27,
            19,
            17,
            21,
            8,
            32,
            24,
            31,
            26
           ]
          }
         ],
         "line": {
          "color": [
           1,
           2,
           3,
           4,
           5,
           6,
           7,
           8,
           9,
           10,
           11,
           12,
           13,
           14,
           15,
           16,
           17,
           18,
           19,
           20,
           21,
           22,
           23,
           24,
           25,
           26,
           27,
           28,
           29,
           30,
           31,
           32
          ]
         },
         "type": "parcoords",
         "uid": "4288d200-0400-48e7-9707-819d972729bd"
        }
       ],
       "layout": {
        "height": 900,
        "margin": {
         "l": 200,
         "r": 200
        },
        "title": "Team Ranks: Before and After",
        "xaxis": {
         "ticks": "outside"
        }
       }
      },
      "text/html": [
       "<div id=\"a2589ae4-f525-4568-9584-5785fb006548\" style=\"height: 900px; width: 100%;\" class=\"plotly-graph-div\"></div><script type=\"text/javascript\">require([\"plotly\"], function(Plotly) { window.PLOTLYENV=window.PLOTLYENV || {};window.PLOTLYENV.BASE_URL=\"https://plot.ly\";Plotly.newPlot(\"a2589ae4-f525-4568-9584-5785fb006548\", [{\"dimensions\": [{\"label\": \"Previous Ranks\", \"range\": [33, 1], \"ticktext\": [\"Brazil | 1\", \"Germany | 2\", \"Spain | 3\", \"France | 4\", \"Argentina | 5\", \"Portugal | 6\", \"England | 7\", \"Belgium | 8\", \"Colombia | 9\", \"Peru | 10\", \"Uruguay | 11\", \"Switzerland | 12\", \"Denmark | 13\", \"Croatia | 14\", \"Mexico | 15\", \"Poland | 16\", \"Sweden | 17\", \"Iran | 18\", \"Serbia | 19\", \"Iceland | 20\", \"Senegal | 21\", \"Costa Rica | 22\", \"Australia | 23\", \"Morocco | 24\", \"South Korea | 25\", \"Japan | 26\", \"Nigeria | 27\", \"Russia | 28\", \"Panama | 29\", \"Tunisia | 30\", \"Egypt | 31\", \"Saudi Arabia | 32\"], \"tickvals\": [1, 2, 3, 4, 5, 6, 7, 8, 9, 10, 11, 12, 13, 14, 15, 16, 17, 18, 19, 20, 21, 22, 23, 24, 25, 26, 27, 28, 29, 30, 31, 32], \"values\": [1, 2, 3, 4, 5, 6, 7, 8, 9, 10, 11, 12, 13, 14, 15, 16, 17, 18, 19, 20, 21, 22, 23, 24, 25, 26, 27, 28, 29, 30, 31, 32]}, {\"label\": \"Current Ranks\", \"range\": [33, 1], \"ticktext\": [\"France | 1\", \"Croatia | 2\", \"Belgium | 3\", \"Uruguay | 4\", \"Brazil | 5\", \"England | 6\", \"Sweden | 7\", \"Russia | 8\", \"Colombia | 9\", \"Spain | 10\", \"Denmark | 10\", \"Mexico | 12\", \"Switzerland | 13\", \"Portugal | 13\", \"Iran | 15\", \"Senegal | 15\", \"Japan | 17\", \"Argentina | 18\", \"Peru | 19\", \"South Korea | 19\", \"Nigeria | 21\", \"Serbia | 22\", \"Germany | 22\", \"Tunisia | 24\", \"Poland | 24\", \"Saudi Arabia | 26\", \"Morocco | 27\", \"Australia | 28\", \"Costa Rica | 28\", \"Iceland | 28\", \"Egypt | 31\", \"Panama | 32\"], \"tickvals\": [1, 2, 3, 4, 5, 6, 7, 8, 9, 10, 11, 12, 13, 14, 15, 16, 17, 18, 19, 20, 21, 22, 23, 24, 25, 26, 27, 28, 29, 30, 31, 32], \"values\": [5, 22, 10, 1, 18, 13, 6, 3, 9, 19, 4, 13, 10, 2, 12, 24, 7, 15, 22, 28, 15, 28, 28, 27, 19, 17, 21, 8, 32, 24, 31, 26]}], \"line\": {\"color\": [1, 2, 3, 4, 5, 6, 7, 8, 9, 10, 11, 12, 13, 14, 15, 16, 17, 18, 19, 20, 21, 22, 23, 24, 25, 26, 27, 28, 29, 30, 31, 32]}, \"type\": \"parcoords\", \"uid\": \"4288d200-0400-48e7-9707-819d972729bd\"}], {\"height\": 900, \"margin\": {\"l\": 200, \"r\": 200}, \"title\": \"Team Ranks: Before and After\", \"xaxis\": {\"ticks\": \"outside\"}}, {\"showLink\": true, \"linkText\": \"Export to plot.ly\", \"plotlyServerURL\": \"https://plot.ly\"})});</script><script type=\"text/javascript\">window.addEventListener(\"resize\", function(){window._Plotly.Plots.resize(document.getElementById(\"a2589ae4-f525-4568-9584-5785fb006548\"));});</script>"
      ],
      "text/vnd.plotly.v1+html": [
       "<div id=\"a2589ae4-f525-4568-9584-5785fb006548\" style=\"height: 900px; width: 100%;\" class=\"plotly-graph-div\"></div><script type=\"text/javascript\">require([\"plotly\"], function(Plotly) { window.PLOTLYENV=window.PLOTLYENV || {};window.PLOTLYENV.BASE_URL=\"https://plot.ly\";Plotly.newPlot(\"a2589ae4-f525-4568-9584-5785fb006548\", [{\"dimensions\": [{\"label\": \"Previous Ranks\", \"range\": [33, 1], \"ticktext\": [\"Brazil | 1\", \"Germany | 2\", \"Spain | 3\", \"France | 4\", \"Argentina | 5\", \"Portugal | 6\", \"England | 7\", \"Belgium | 8\", \"Colombia | 9\", \"Peru | 10\", \"Uruguay | 11\", \"Switzerland | 12\", \"Denmark | 13\", \"Croatia | 14\", \"Mexico | 15\", \"Poland | 16\", \"Sweden | 17\", \"Iran | 18\", \"Serbia | 19\", \"Iceland | 20\", \"Senegal | 21\", \"Costa Rica | 22\", \"Australia | 23\", \"Morocco | 24\", \"South Korea | 25\", \"Japan | 26\", \"Nigeria | 27\", \"Russia | 28\", \"Panama | 29\", \"Tunisia | 30\", \"Egypt | 31\", \"Saudi Arabia | 32\"], \"tickvals\": [1, 2, 3, 4, 5, 6, 7, 8, 9, 10, 11, 12, 13, 14, 15, 16, 17, 18, 19, 20, 21, 22, 23, 24, 25, 26, 27, 28, 29, 30, 31, 32], \"values\": [1, 2, 3, 4, 5, 6, 7, 8, 9, 10, 11, 12, 13, 14, 15, 16, 17, 18, 19, 20, 21, 22, 23, 24, 25, 26, 27, 28, 29, 30, 31, 32]}, {\"label\": \"Current Ranks\", \"range\": [33, 1], \"ticktext\": [\"France | 1\", \"Croatia | 2\", \"Belgium | 3\", \"Uruguay | 4\", \"Brazil | 5\", \"England | 6\", \"Sweden | 7\", \"Russia | 8\", \"Colombia | 9\", \"Spain | 10\", \"Denmark | 10\", \"Mexico | 12\", \"Switzerland | 13\", \"Portugal | 13\", \"Iran | 15\", \"Senegal | 15\", \"Japan | 17\", \"Argentina | 18\", \"Peru | 19\", \"South Korea | 19\", \"Nigeria | 21\", \"Serbia | 22\", \"Germany | 22\", \"Tunisia | 24\", \"Poland | 24\", \"Saudi Arabia | 26\", \"Morocco | 27\", \"Australia | 28\", \"Costa Rica | 28\", \"Iceland | 28\", \"Egypt | 31\", \"Panama | 32\"], \"tickvals\": [1, 2, 3, 4, 5, 6, 7, 8, 9, 10, 11, 12, 13, 14, 15, 16, 17, 18, 19, 20, 21, 22, 23, 24, 25, 26, 27, 28, 29, 30, 31, 32], \"values\": [5, 22, 10, 1, 18, 13, 6, 3, 9, 19, 4, 13, 10, 2, 12, 24, 7, 15, 22, 28, 15, 28, 28, 27, 19, 17, 21, 8, 32, 24, 31, 26]}], \"line\": {\"color\": [1, 2, 3, 4, 5, 6, 7, 8, 9, 10, 11, 12, 13, 14, 15, 16, 17, 18, 19, 20, 21, 22, 23, 24, 25, 26, 27, 28, 29, 30, 31, 32]}, \"type\": \"parcoords\", \"uid\": \"4288d200-0400-48e7-9707-819d972729bd\"}], {\"height\": 900, \"margin\": {\"l\": 200, \"r\": 200}, \"title\": \"Team Ranks: Before and After\", \"xaxis\": {\"ticks\": \"outside\"}}, {\"showLink\": true, \"linkText\": \"Export to plot.ly\", \"plotlyServerURL\": \"https://plot.ly\"})});</script><script type=\"text/javascript\">window.addEventListener(\"resize\", function(){window._Plotly.Plots.resize(document.getElementById(\"a2589ae4-f525-4568-9584-5785fb006548\"));});</script>"
      ]
     },
     "metadata": {},
     "output_type": "display_data"
    }
   ],
   "source": [
    "# Team 1st graph: Previous Rank vs Current Rank (Box A)\n",
    "\n",
    "query = \"select cur.team, pre.rank as prev, cur.ranks as curr from (select * from prev_ranks) pre join (select distinct * from team_1_rank_value) cur on pre.team = cur.team;\"\n",
    "rank_changes = pd.read_sql_query(query, connection)\n",
    "rank_stats = rank_changes.sort_values(\"prev\")\n",
    "\n",
    "names = rank_stats[\"team\"]\n",
    "prev_ranks = rank_stats[\"prev\"]\n",
    "\n",
    "rank_stats[\"label_prev\"] = names.str.cat(prev_ranks.astype(str), sep = \" | \")\n",
    "\n",
    "curr_ranks = rank_stats[\"curr\"]\n",
    "rank_stats[\"label_curr\"] = names.str.cat(curr_ranks.astype(str), sep = \" | \")\n",
    "\n",
    "\n",
    "n = rank_changes[\"prev\"].max() + 1\n",
    "\n",
    "names = rank_stats[\"team\"]\n",
    "\n",
    "prev_ranks = rank_stats[\"prev\"]\n",
    "rank_stats[\"label_prev\"] = names.str.cat(prev_ranks.astype(str), sep = \" | \")\n",
    "\n",
    "curr_ranks = rank_stats[\"curr\"]\n",
    "rank_stats[\"label_curr\"] = names.str.cat(curr_ranks.astype(str), sep = \" | \")\n",
    "\n",
    "data = [\n",
    "    go.Parcoords(\n",
    "        line = dict(color = rank_stats[\"prev\"]),\n",
    "        dimensions = list([\n",
    "            dict(range = [n,1],\n",
    "                 tickvals = list(range(1, n)),\n",
    "                 ticktext = list(rank_stats[\"label_prev\"]),\n",
    "                 label = 'Previous Ranks', values = rank_stats[\"prev\"]),\n",
    "            dict(range = [n,1],\n",
    "                 tickvals = list(range(1, n)),\n",
    "                 ticktext = list(rank_stats.sort_values(\"curr\")[\"label_curr\"]),\n",
    "                 label = 'Current Ranks', values = rank_stats[\"curr\"])\n",
    "        ])\n",
    "    )\n",
    "]\n",
    "\n",
    "layout = go.Layout(margin = {\"l\": 200, \"r\": 200}, height = 900, xaxis = dict(ticks = \"outside\"), title = \"Team Ranks: Before and After\")\n",
    "fig = go.Figure(data = data, layout = layout)\n",
    "# urlA = py.plot(fig, filename = 'team_ranking', sharing = 'public', auto_open = False)\n",
    "py.iplot(fig, filename = 'team_ranking') # to plot within the notebook\n",
    "# urlA"
   ]
  },
  {
   "cell_type": "code",
   "execution_count": 14,
   "metadata": {},
   "outputs": [
    {
     "data": {
      "application/vnd.plotly.v1+json": {
       "config": {
        "linkText": "Export to plot.ly",
        "plotlyServerURL": "https://plot.ly",
        "showLink": true
       },
       "data": [
        {
         "hoverinfo": "none",
         "line": {
          "shape": "hv"
         },
         "mode": "lines+markers",
         "name": "Argentina",
         "type": "scatter",
         "uid": "b34834fc-3491-4601-b7da-07beb53187ea",
         "x": [
          1,
          2,
          3,
          4
         ],
         "y": [
          1,
          1,
          4,
          4
         ]
        },
        {
         "hoverinfo": "none",
         "line": {
          "shape": "hv"
         },
         "mode": "lines+markers",
         "name": "Australia",
         "type": "scatter",
         "uid": "776735d6-4824-451d-9ecf-91bacdb8a43d",
         "x": [
          1,
          2,
          3
         ],
         "y": [
          0,
          1,
          1
         ]
        },
        {
         "hoverinfo": "none",
         "line": {
          "shape": "hv"
         },
         "mode": "lines+markers",
         "name": "Belgium",
         "type": "scatter",
         "uid": "5efa0a98-4667-487b-9356-af1511b37dc9",
         "x": [
          1,
          2,
          3,
          4,
          5,
          6,
          7
         ],
         "y": [
          3,
          6,
          9,
          12,
          15,
          15,
          18
         ]
        },
        {
         "hoverinfo": "none",
         "line": {
          "shape": "hv"
         },
         "mode": "lines+markers",
         "name": "Brazil",
         "type": "scatter",
         "uid": "a5185ece-eb6d-4742-b3a8-b2e86b17781e",
         "x": [
          1,
          2,
          3,
          4,
          5
         ],
         "y": [
          1,
          4,
          7,
          10,
          10
         ]
        },
        {
         "hoverinfo": "none",
         "line": {
          "shape": "hv"
         },
         "mode": "lines+markers",
         "name": "Colombia",
         "type": "scatter",
         "uid": "c87f8482-82e3-4348-97b9-15f63c073a59",
         "x": [
          1,
          2,
          3,
          4
         ],
         "y": [
          0,
          3,
          6,
          7
         ]
        },
        {
         "hoverinfo": "none",
         "line": {
          "shape": "hv"
         },
         "mode": "lines+markers",
         "name": "Costa Rica",
         "type": "scatter",
         "uid": "12c70fd9-aac9-47ae-aa94-fb5f21754c6b",
         "x": [
          1,
          2,
          3
         ],
         "y": [
          0,
          0,
          1
         ]
        },
        {
         "hoverinfo": "none",
         "line": {
          "shape": "hv"
         },
         "mode": "lines+markers",
         "name": "Croatia",
         "type": "scatter",
         "uid": "4386d126-6597-4927-88ff-9afc7b3d2718",
         "x": [
          1,
          2,
          3,
          4,
          5,
          6,
          7
         ],
         "y": [
          3,
          6,
          9,
          10,
          11,
          14,
          14
         ]
        },
        {
         "hoverinfo": "none",
         "line": {
          "shape": "hv"
         },
         "mode": "lines+markers",
         "name": "Denmark",
         "type": "scatter",
         "uid": "742c3ba2-d408-42b6-a0bd-43803ce230f2",
         "x": [
          1,
          2,
          3,
          4
         ],
         "y": [
          3,
          4,
          5,
          6
         ]
        },
        {
         "hoverinfo": "none",
         "line": {
          "shape": "hv"
         },
         "mode": "lines+markers",
         "name": "Egypt",
         "type": "scatter",
         "uid": "69211622-dda9-406f-987d-00b46b8b6f6c",
         "x": [
          1,
          2,
          3
         ],
         "y": [
          0,
          0,
          0
         ]
        },
        {
         "hoverinfo": "none",
         "line": {
          "shape": "hv"
         },
         "mode": "lines+markers",
         "name": "England",
         "type": "scatter",
         "uid": "8ca49f46-fea8-4e72-9578-5fd37e8163ee",
         "x": [
          1,
          2,
          3,
          4,
          5,
          6,
          7
         ],
         "y": [
          3,
          6,
          6,
          7,
          10,
          10,
          10
         ]
        },
        {
         "hoverinfo": "none",
         "line": {
          "shape": "hv"
         },
         "mode": "lines+markers",
         "name": "France",
         "type": "scatter",
         "uid": "71c73809-27db-4f65-957a-f8659a779788",
         "x": [
          1,
          2,
          3,
          4,
          5,
          6,
          7
         ],
         "y": [
          3,
          6,
          7,
          10,
          13,
          16,
          19
         ]
        },
        {
         "hoverinfo": "none",
         "line": {
          "shape": "hv"
         },
         "mode": "lines+markers",
         "name": "Germany",
         "type": "scatter",
         "uid": "21a1dca5-99bb-4091-8693-952eba9492a0",
         "x": [
          1,
          2,
          3
         ],
         "y": [
          0,
          3,
          3
         ]
        },
        {
         "hoverinfo": "none",
         "line": {
          "shape": "hv"
         },
         "mode": "lines+markers",
         "name": "Iceland",
         "type": "scatter",
         "uid": "c581ec3b-66d2-401f-9dbe-f55beb660db7",
         "x": [
          1,
          2,
          3
         ],
         "y": [
          1,
          1,
          1
         ]
        },
        {
         "hoverinfo": "none",
         "line": {
          "shape": "hv"
         },
         "mode": "lines+markers",
         "name": "Iran",
         "type": "scatter",
         "uid": "2a428651-d754-498a-8e4e-2149a15f6173",
         "x": [
          1,
          2,
          3
         ],
         "y": [
          0,
          1,
          4
         ]
        },
        {
         "hoverinfo": "none",
         "line": {
          "shape": "hv"
         },
         "mode": "lines+markers",
         "name": "Japan",
         "type": "scatter",
         "uid": "c2050f64-e807-49a0-a664-9c3e0ac64e8a",
         "x": [
          1,
          2,
          3,
          4
         ],
         "y": [
          3,
          4,
          4,
          4
         ]
        },
        {
         "hoverinfo": "none",
         "line": {
          "shape": "hv"
         },
         "mode": "lines+markers",
         "name": "Mexico",
         "type": "scatter",
         "uid": "6b648334-670a-4e89-a129-6c59fb718cfe",
         "x": [
          1,
          2,
          3,
          4
         ],
         "y": [
          3,
          6,
          6,
          6
         ]
        },
        {
         "hoverinfo": "none",
         "line": {
          "shape": "hv"
         },
         "mode": "lines+markers",
         "name": "Morocco",
         "type": "scatter",
         "uid": "c31efb62-e1b8-4d5e-98a8-ba57fc79511f",
         "x": [
          1,
          2,
          3
         ],
         "y": [
          0,
          1,
          1
         ]
        },
        {
         "hoverinfo": "none",
         "line": {
          "shape": "hv"
         },
         "mode": "lines+markers",
         "name": "Nigeria",
         "type": "scatter",
         "uid": "8f6b8afa-f745-4663-a993-b47dd53358da",
         "x": [
          1,
          2,
          3
         ],
         "y": [
          0,
          3,
          3
         ]
        },
        {
         "hoverinfo": "none",
         "line": {
          "shape": "hv"
         },
         "mode": "lines+markers",
         "name": "Panama",
         "type": "scatter",
         "uid": "09a0a352-1300-4502-8e3b-68e34605c20c",
         "x": [
          1,
          2,
          3
         ],
         "y": [
          0,
          0,
          0
         ]
        },
        {
         "hoverinfo": "none",
         "line": {
          "shape": "hv"
         },
         "mode": "lines+markers",
         "name": "Peru",
         "type": "scatter",
         "uid": "1396aba4-6c6c-455f-b0e0-2f638460283d",
         "x": [
          1,
          2,
          3
         ],
         "y": [
          0,
          0,
          3
         ]
        },
        {
         "hoverinfo": "none",
         "line": {
          "shape": "hv"
         },
         "mode": "lines+markers",
         "name": "Poland",
         "type": "scatter",
         "uid": "60287a9e-4b9b-4027-acb4-54dfa6836029",
         "x": [
          1,
          2,
          3
         ],
         "y": [
          0,
          0,
          3
         ]
        },
        {
         "hoverinfo": "none",
         "line": {
          "shape": "hv"
         },
         "mode": "lines+markers",
         "name": "Portugal",
         "type": "scatter",
         "uid": "8ae6626b-f00c-4603-8bdc-3c1e4083294a",
         "x": [
          1,
          2,
          3,
          4
         ],
         "y": [
          3,
          4,
          5,
          5
         ]
        },
        {
         "hoverinfo": "none",
         "line": {
          "shape": "hv"
         },
         "mode": "lines+markers",
         "name": "Russia",
         "type": "scatter",
         "uid": "840a6601-0632-440e-b0a2-3e81cd53677f",
         "x": [
          1,
          2,
          3,
          4,
          5
         ],
         "y": [
          3,
          6,
          6,
          7,
          8
         ]
        },
        {
         "hoverinfo": "none",
         "line": {
          "shape": "hv"
         },
         "mode": "lines+markers",
         "name": "Saudi Arabia",
         "type": "scatter",
         "uid": "0b0abbe5-7ba6-491e-b3ec-563c130791d3",
         "x": [
          1,
          2,
          3
         ],
         "y": [
          0,
          0,
          3
         ]
        },
        {
         "hoverinfo": "none",
         "line": {
          "shape": "hv"
         },
         "mode": "lines+markers",
         "name": "Senegal",
         "type": "scatter",
         "uid": "9bd7eb4c-ba9d-4205-a616-28ca6bcb73b6",
         "x": [
          1,
          2,
          3
         ],
         "y": [
          3,
          4,
          4
         ]
        },
        {
         "hoverinfo": "none",
         "line": {
          "shape": "hv"
         },
         "mode": "lines+markers",
         "name": "Serbia",
         "type": "scatter",
         "uid": "e994c6bc-3353-478a-bd03-12ecf2848031",
         "x": [
          1,
          2,
          3
         ],
         "y": [
          3,
          3,
          3
         ]
        },
        {
         "hoverinfo": "none",
         "line": {
          "shape": "hv"
         },
         "mode": "lines+markers",
         "name": "South Korea",
         "type": "scatter",
         "uid": "d6c548a3-4147-49ff-95f1-ba45f080c21b",
         "x": [
          1,
          2,
          3
         ],
         "y": [
          0,
          0,
          3
         ]
        },
        {
         "hoverinfo": "none",
         "line": {
          "shape": "hv"
         },
         "mode": "lines+markers",
         "name": "Spain",
         "type": "scatter",
         "uid": "3eaa34b9-a816-44b1-ada3-a85d16fd6b75",
         "x": [
          1,
          2,
          3,
          4
         ],
         "y": [
          3,
          4,
          5,
          6
         ]
        },
        {
         "hoverinfo": "none",
         "line": {
          "shape": "hv"
         },
         "mode": "lines+markers",
         "name": "Sweden",
         "type": "scatter",
         "uid": "51aed2ff-d507-4c73-9f88-d3074d26f9fa",
         "x": [
          1,
          2,
          3,
          4,
          5
         ],
         "y": [
          3,
          3,
          6,
          9,
          9
         ]
        },
        {
         "hoverinfo": "none",
         "line": {
          "shape": "hv"
         },
         "mode": "lines+markers",
         "name": "Switzerland",
         "type": "scatter",
         "uid": "24140d6c-3c70-4b2f-b867-1a8c907a2923",
         "x": [
          1,
          2,
          3,
          4
         ],
         "y": [
          1,
          4,
          5,
          5
         ]
        },
        {
         "hoverinfo": "none",
         "line": {
          "shape": "hv"
         },
         "mode": "lines+markers",
         "name": "Tunisia",
         "type": "scatter",
         "uid": "4511d225-ec91-40ec-9756-1edeb41abf07",
         "x": [
          1,
          2,
          3
         ],
         "y": [
          0,
          0,
          3
         ]
        },
        {
         "hoverinfo": "none",
         "line": {
          "shape": "hv"
         },
         "mode": "lines+markers",
         "name": "Uruguay",
         "type": "scatter",
         "uid": "abb2640a-0889-433e-895b-29c19b00dc52",
         "x": [
          1,
          2,
          3,
          4,
          5
         ],
         "y": [
          3,
          6,
          9,
          12,
          12
         ]
        }
       ],
       "layout": {
        "paper_bgcolor": "rgb(243, 243, 243)",
        "plot_bgcolor": "rgb(243, 243, 243)",
        "title": "Journey of teams through the WC'18",
        "xaxis": {
         "gridcolor": "rgb(255, 255, 255)",
         "gridwidth": 2,
         "ticklen": 5,
         "title": "Matches",
         "zerolinewidth": 1
        },
        "yaxis": {
         "gridcolor": "rgb(255, 255, 255)",
         "gridwidth": 2,
         "ticklen": 5,
         "title": "Points",
         "zerolinewidth": 1
        }
       }
      },
      "text/html": [
       "<div id=\"ee990506-e966-4683-9ac2-73f6586fd1e3\" style=\"height: 525px; width: 100%;\" class=\"plotly-graph-div\"></div><script type=\"text/javascript\">require([\"plotly\"], function(Plotly) { window.PLOTLYENV=window.PLOTLYENV || {};window.PLOTLYENV.BASE_URL=\"https://plot.ly\";Plotly.newPlot(\"ee990506-e966-4683-9ac2-73f6586fd1e3\", [{\"hoverinfo\": \"none\", \"line\": {\"shape\": \"hv\"}, \"mode\": \"lines+markers\", \"name\": \"Argentina\", \"x\": [1, 2, 3, 4], \"y\": [1, 1, 4, 4], \"type\": \"scatter\", \"uid\": \"b34834fc-3491-4601-b7da-07beb53187ea\"}, {\"hoverinfo\": \"none\", \"line\": {\"shape\": \"hv\"}, \"mode\": \"lines+markers\", \"name\": \"Australia\", \"x\": [1, 2, 3], \"y\": [0, 1, 1], \"type\": \"scatter\", \"uid\": \"776735d6-4824-451d-9ecf-91bacdb8a43d\"}, {\"hoverinfo\": \"none\", \"line\": {\"shape\": \"hv\"}, \"mode\": \"lines+markers\", \"name\": \"Belgium\", \"x\": [1, 2, 3, 4, 5, 6, 7], \"y\": [3, 6, 9, 12, 15, 15, 18], \"type\": \"scatter\", \"uid\": \"5efa0a98-4667-487b-9356-af1511b37dc9\"}, {\"hoverinfo\": \"none\", \"line\": {\"shape\": \"hv\"}, \"mode\": \"lines+markers\", \"name\": \"Brazil\", \"x\": [1, 2, 3, 4, 5], \"y\": [1, 4, 7, 10, 10], \"type\": \"scatter\", \"uid\": \"a5185ece-eb6d-4742-b3a8-b2e86b17781e\"}, {\"hoverinfo\": \"none\", \"line\": {\"shape\": \"hv\"}, \"mode\": \"lines+markers\", \"name\": \"Colombia\", \"x\": [1, 2, 3, 4], \"y\": [0, 3, 6, 7], \"type\": \"scatter\", \"uid\": \"c87f8482-82e3-4348-97b9-15f63c073a59\"}, {\"hoverinfo\": \"none\", \"line\": {\"shape\": \"hv\"}, \"mode\": \"lines+markers\", \"name\": \"Costa Rica\", \"x\": [1, 2, 3], \"y\": [0, 0, 1], \"type\": \"scatter\", \"uid\": \"12c70fd9-aac9-47ae-aa94-fb5f21754c6b\"}, {\"hoverinfo\": \"none\", \"line\": {\"shape\": \"hv\"}, \"mode\": \"lines+markers\", \"name\": \"Croatia\", \"x\": [1, 2, 3, 4, 5, 6, 7], \"y\": [3, 6, 9, 10, 11, 14, 14], \"type\": \"scatter\", \"uid\": \"4386d126-6597-4927-88ff-9afc7b3d2718\"}, {\"hoverinfo\": \"none\", \"line\": {\"shape\": \"hv\"}, \"mode\": \"lines+markers\", \"name\": \"Denmark\", \"x\": [1, 2, 3, 4], \"y\": [3, 4, 5, 6], \"type\": \"scatter\", \"uid\": \"742c3ba2-d408-42b6-a0bd-43803ce230f2\"}, {\"hoverinfo\": \"none\", \"line\": {\"shape\": \"hv\"}, \"mode\": \"lines+markers\", \"name\": \"Egypt\", \"x\": [1, 2, 3], \"y\": [0, 0, 0], \"type\": \"scatter\", \"uid\": \"69211622-dda9-406f-987d-00b46b8b6f6c\"}, {\"hoverinfo\": \"none\", \"line\": {\"shape\": \"hv\"}, \"mode\": \"lines+markers\", \"name\": \"England\", \"x\": [1, 2, 3, 4, 5, 6, 7], \"y\": [3, 6, 6, 7, 10, 10, 10], \"type\": \"scatter\", \"uid\": \"8ca49f46-fea8-4e72-9578-5fd37e8163ee\"}, {\"hoverinfo\": \"none\", \"line\": {\"shape\": \"hv\"}, \"mode\": \"lines+markers\", \"name\": \"France\", \"x\": [1, 2, 3, 4, 5, 6, 7], \"y\": [3, 6, 7, 10, 13, 16, 19], \"type\": \"scatter\", \"uid\": \"71c73809-27db-4f65-957a-f8659a779788\"}, {\"hoverinfo\": \"none\", \"line\": {\"shape\": \"hv\"}, \"mode\": \"lines+markers\", \"name\": \"Germany\", \"x\": [1, 2, 3], \"y\": [0, 3, 3], \"type\": \"scatter\", \"uid\": \"21a1dca5-99bb-4091-8693-952eba9492a0\"}, {\"hoverinfo\": \"none\", \"line\": {\"shape\": \"hv\"}, \"mode\": \"lines+markers\", \"name\": \"Iceland\", \"x\": [1, 2, 3], \"y\": [1, 1, 1], \"type\": \"scatter\", \"uid\": \"c581ec3b-66d2-401f-9dbe-f55beb660db7\"}, {\"hoverinfo\": \"none\", \"line\": {\"shape\": \"hv\"}, \"mode\": \"lines+markers\", \"name\": \"Iran\", \"x\": [1, 2, 3], \"y\": [0, 1, 4], \"type\": \"scatter\", \"uid\": \"2a428651-d754-498a-8e4e-2149a15f6173\"}, {\"hoverinfo\": \"none\", \"line\": {\"shape\": \"hv\"}, \"mode\": \"lines+markers\", \"name\": \"Japan\", \"x\": [1, 2, 3, 4], \"y\": [3, 4, 4, 4], \"type\": \"scatter\", \"uid\": \"c2050f64-e807-49a0-a664-9c3e0ac64e8a\"}, {\"hoverinfo\": \"none\", \"line\": {\"shape\": \"hv\"}, \"mode\": \"lines+markers\", \"name\": \"Mexico\", \"x\": [1, 2, 3, 4], \"y\": [3, 6, 6, 6], \"type\": \"scatter\", \"uid\": \"6b648334-670a-4e89-a129-6c59fb718cfe\"}, {\"hoverinfo\": \"none\", \"line\": {\"shape\": \"hv\"}, \"mode\": \"lines+markers\", \"name\": \"Morocco\", \"x\": [1, 2, 3], \"y\": [0, 1, 1], \"type\": \"scatter\", \"uid\": \"c31efb62-e1b8-4d5e-98a8-ba57fc79511f\"}, {\"hoverinfo\": \"none\", \"line\": {\"shape\": \"hv\"}, \"mode\": \"lines+markers\", \"name\": \"Nigeria\", \"x\": [1, 2, 3], \"y\": [0, 3, 3], \"type\": \"scatter\", \"uid\": \"8f6b8afa-f745-4663-a993-b47dd53358da\"}, {\"hoverinfo\": \"none\", \"line\": {\"shape\": \"hv\"}, \"mode\": \"lines+markers\", \"name\": \"Panama\", \"x\": [1, 2, 3], \"y\": [0, 0, 0], \"type\": \"scatter\", \"uid\": \"09a0a352-1300-4502-8e3b-68e34605c20c\"}, {\"hoverinfo\": \"none\", \"line\": {\"shape\": \"hv\"}, \"mode\": \"lines+markers\", \"name\": \"Peru\", \"x\": [1, 2, 3], \"y\": [0, 0, 3], \"type\": \"scatter\", \"uid\": \"1396aba4-6c6c-455f-b0e0-2f638460283d\"}, {\"hoverinfo\": \"none\", \"line\": {\"shape\": \"hv\"}, \"mode\": \"lines+markers\", \"name\": \"Poland\", \"x\": [1, 2, 3], \"y\": [0, 0, 3], \"type\": \"scatter\", \"uid\": \"60287a9e-4b9b-4027-acb4-54dfa6836029\"}, {\"hoverinfo\": \"none\", \"line\": {\"shape\": \"hv\"}, \"mode\": \"lines+markers\", \"name\": \"Portugal\", \"x\": [1, 2, 3, 4], \"y\": [3, 4, 5, 5], \"type\": \"scatter\", \"uid\": \"8ae6626b-f00c-4603-8bdc-3c1e4083294a\"}, {\"hoverinfo\": \"none\", \"line\": {\"shape\": \"hv\"}, \"mode\": \"lines+markers\", \"name\": \"Russia\", \"x\": [1, 2, 3, 4, 5], \"y\": [3, 6, 6, 7, 8], \"type\": \"scatter\", \"uid\": \"840a6601-0632-440e-b0a2-3e81cd53677f\"}, {\"hoverinfo\": \"none\", \"line\": {\"shape\": \"hv\"}, \"mode\": \"lines+markers\", \"name\": \"Saudi Arabia\", \"x\": [1, 2, 3], \"y\": [0, 0, 3], \"type\": \"scatter\", \"uid\": \"0b0abbe5-7ba6-491e-b3ec-563c130791d3\"}, {\"hoverinfo\": \"none\", \"line\": {\"shape\": \"hv\"}, \"mode\": \"lines+markers\", \"name\": \"Senegal\", \"x\": [1, 2, 3], \"y\": [3, 4, 4], \"type\": \"scatter\", \"uid\": \"9bd7eb4c-ba9d-4205-a616-28ca6bcb73b6\"}, {\"hoverinfo\": \"none\", \"line\": {\"shape\": \"hv\"}, \"mode\": \"lines+markers\", \"name\": \"Serbia\", \"x\": [1, 2, 3], \"y\": [3, 3, 3], \"type\": \"scatter\", \"uid\": \"e994c6bc-3353-478a-bd03-12ecf2848031\"}, {\"hoverinfo\": \"none\", \"line\": {\"shape\": \"hv\"}, \"mode\": \"lines+markers\", \"name\": \"South Korea\", \"x\": [1, 2, 3], \"y\": [0, 0, 3], \"type\": \"scatter\", \"uid\": \"d6c548a3-4147-49ff-95f1-ba45f080c21b\"}, {\"hoverinfo\": \"none\", \"line\": {\"shape\": \"hv\"}, \"mode\": \"lines+markers\", \"name\": \"Spain\", \"x\": [1, 2, 3, 4], \"y\": [3, 4, 5, 6], \"type\": \"scatter\", \"uid\": \"3eaa34b9-a816-44b1-ada3-a85d16fd6b75\"}, {\"hoverinfo\": \"none\", \"line\": {\"shape\": \"hv\"}, \"mode\": \"lines+markers\", \"name\": \"Sweden\", \"x\": [1, 2, 3, 4, 5], \"y\": [3, 3, 6, 9, 9], \"type\": \"scatter\", \"uid\": \"51aed2ff-d507-4c73-9f88-d3074d26f9fa\"}, {\"hoverinfo\": \"none\", \"line\": {\"shape\": \"hv\"}, \"mode\": \"lines+markers\", \"name\": \"Switzerland\", \"x\": [1, 2, 3, 4], \"y\": [1, 4, 5, 5], \"type\": \"scatter\", \"uid\": \"24140d6c-3c70-4b2f-b867-1a8c907a2923\"}, {\"hoverinfo\": \"none\", \"line\": {\"shape\": \"hv\"}, \"mode\": \"lines+markers\", \"name\": \"Tunisia\", \"x\": [1, 2, 3], \"y\": [0, 0, 3], \"type\": \"scatter\", \"uid\": \"4511d225-ec91-40ec-9756-1edeb41abf07\"}, {\"hoverinfo\": \"none\", \"line\": {\"shape\": \"hv\"}, \"mode\": \"lines+markers\", \"name\": \"Uruguay\", \"x\": [1, 2, 3, 4, 5], \"y\": [3, 6, 9, 12, 12], \"type\": \"scatter\", \"uid\": \"abb2640a-0889-433e-895b-29c19b00dc52\"}], {\"paper_bgcolor\": \"rgb(243, 243, 243)\", \"plot_bgcolor\": \"rgb(243, 243, 243)\", \"title\": \"Journey of teams through the WC'18\", \"xaxis\": {\"gridcolor\": \"rgb(255, 255, 255)\", \"gridwidth\": 2, \"ticklen\": 5, \"title\": \"Matches\", \"zerolinewidth\": 1}, \"yaxis\": {\"gridcolor\": \"rgb(255, 255, 255)\", \"gridwidth\": 2, \"ticklen\": 5, \"title\": \"Points\", \"zerolinewidth\": 1}}, {\"showLink\": true, \"linkText\": \"Export to plot.ly\", \"plotlyServerURL\": \"https://plot.ly\"})});</script><script type=\"text/javascript\">window.addEventListener(\"resize\", function(){window._Plotly.Plots.resize(document.getElementById(\"ee990506-e966-4683-9ac2-73f6586fd1e3\"));});</script>"
      ],
      "text/vnd.plotly.v1+html": [
       "<div id=\"ee990506-e966-4683-9ac2-73f6586fd1e3\" style=\"height: 525px; width: 100%;\" class=\"plotly-graph-div\"></div><script type=\"text/javascript\">require([\"plotly\"], function(Plotly) { window.PLOTLYENV=window.PLOTLYENV || {};window.PLOTLYENV.BASE_URL=\"https://plot.ly\";Plotly.newPlot(\"ee990506-e966-4683-9ac2-73f6586fd1e3\", [{\"hoverinfo\": \"none\", \"line\": {\"shape\": \"hv\"}, \"mode\": \"lines+markers\", \"name\": \"Argentina\", \"x\": [1, 2, 3, 4], \"y\": [1, 1, 4, 4], \"type\": \"scatter\", \"uid\": \"b34834fc-3491-4601-b7da-07beb53187ea\"}, {\"hoverinfo\": \"none\", \"line\": {\"shape\": \"hv\"}, \"mode\": \"lines+markers\", \"name\": \"Australia\", \"x\": [1, 2, 3], \"y\": [0, 1, 1], \"type\": \"scatter\", \"uid\": \"776735d6-4824-451d-9ecf-91bacdb8a43d\"}, {\"hoverinfo\": \"none\", \"line\": {\"shape\": \"hv\"}, \"mode\": \"lines+markers\", \"name\": \"Belgium\", \"x\": [1, 2, 3, 4, 5, 6, 7], \"y\": [3, 6, 9, 12, 15, 15, 18], \"type\": \"scatter\", \"uid\": \"5efa0a98-4667-487b-9356-af1511b37dc9\"}, {\"hoverinfo\": \"none\", \"line\": {\"shape\": \"hv\"}, \"mode\": \"lines+markers\", \"name\": \"Brazil\", \"x\": [1, 2, 3, 4, 5], \"y\": [1, 4, 7, 10, 10], \"type\": \"scatter\", \"uid\": \"a5185ece-eb6d-4742-b3a8-b2e86b17781e\"}, {\"hoverinfo\": \"none\", \"line\": {\"shape\": \"hv\"}, \"mode\": \"lines+markers\", \"name\": \"Colombia\", \"x\": [1, 2, 3, 4], \"y\": [0, 3, 6, 7], \"type\": \"scatter\", \"uid\": \"c87f8482-82e3-4348-97b9-15f63c073a59\"}, {\"hoverinfo\": \"none\", \"line\": {\"shape\": \"hv\"}, \"mode\": \"lines+markers\", \"name\": \"Costa Rica\", \"x\": [1, 2, 3], \"y\": [0, 0, 1], \"type\": \"scatter\", \"uid\": \"12c70fd9-aac9-47ae-aa94-fb5f21754c6b\"}, {\"hoverinfo\": \"none\", \"line\": {\"shape\": \"hv\"}, \"mode\": \"lines+markers\", \"name\": \"Croatia\", \"x\": [1, 2, 3, 4, 5, 6, 7], \"y\": [3, 6, 9, 10, 11, 14, 14], \"type\": \"scatter\", \"uid\": \"4386d126-6597-4927-88ff-9afc7b3d2718\"}, {\"hoverinfo\": \"none\", \"line\": {\"shape\": \"hv\"}, \"mode\": \"lines+markers\", \"name\": \"Denmark\", \"x\": [1, 2, 3, 4], \"y\": [3, 4, 5, 6], \"type\": \"scatter\", \"uid\": \"742c3ba2-d408-42b6-a0bd-43803ce230f2\"}, {\"hoverinfo\": \"none\", \"line\": {\"shape\": \"hv\"}, \"mode\": \"lines+markers\", \"name\": \"Egypt\", \"x\": [1, 2, 3], \"y\": [0, 0, 0], \"type\": \"scatter\", \"uid\": \"69211622-dda9-406f-987d-00b46b8b6f6c\"}, {\"hoverinfo\": \"none\", \"line\": {\"shape\": \"hv\"}, \"mode\": \"lines+markers\", \"name\": \"England\", \"x\": [1, 2, 3, 4, 5, 6, 7], \"y\": [3, 6, 6, 7, 10, 10, 10], \"type\": \"scatter\", \"uid\": \"8ca49f46-fea8-4e72-9578-5fd37e8163ee\"}, {\"hoverinfo\": \"none\", \"line\": {\"shape\": \"hv\"}, \"mode\": \"lines+markers\", \"name\": \"France\", \"x\": [1, 2, 3, 4, 5, 6, 7], \"y\": [3, 6, 7, 10, 13, 16, 19], \"type\": \"scatter\", \"uid\": \"71c73809-27db-4f65-957a-f8659a779788\"}, {\"hoverinfo\": \"none\", \"line\": {\"shape\": \"hv\"}, \"mode\": \"lines+markers\", \"name\": \"Germany\", \"x\": [1, 2, 3], \"y\": [0, 3, 3], \"type\": \"scatter\", \"uid\": \"21a1dca5-99bb-4091-8693-952eba9492a0\"}, {\"hoverinfo\": \"none\", \"line\": {\"shape\": \"hv\"}, \"mode\": \"lines+markers\", \"name\": \"Iceland\", \"x\": [1, 2, 3], \"y\": [1, 1, 1], \"type\": \"scatter\", \"uid\": \"c581ec3b-66d2-401f-9dbe-f55beb660db7\"}, {\"hoverinfo\": \"none\", \"line\": {\"shape\": \"hv\"}, \"mode\": \"lines+markers\", \"name\": \"Iran\", \"x\": [1, 2, 3], \"y\": [0, 1, 4], \"type\": \"scatter\", \"uid\": \"2a428651-d754-498a-8e4e-2149a15f6173\"}, {\"hoverinfo\": \"none\", \"line\": {\"shape\": \"hv\"}, \"mode\": \"lines+markers\", \"name\": \"Japan\", \"x\": [1, 2, 3, 4], \"y\": [3, 4, 4, 4], \"type\": \"scatter\", \"uid\": \"c2050f64-e807-49a0-a664-9c3e0ac64e8a\"}, {\"hoverinfo\": \"none\", \"line\": {\"shape\": \"hv\"}, \"mode\": \"lines+markers\", \"name\": \"Mexico\", \"x\": [1, 2, 3, 4], \"y\": [3, 6, 6, 6], \"type\": \"scatter\", \"uid\": \"6b648334-670a-4e89-a129-6c59fb718cfe\"}, {\"hoverinfo\": \"none\", \"line\": {\"shape\": \"hv\"}, \"mode\": \"lines+markers\", \"name\": \"Morocco\", \"x\": [1, 2, 3], \"y\": [0, 1, 1], \"type\": \"scatter\", \"uid\": \"c31efb62-e1b8-4d5e-98a8-ba57fc79511f\"}, {\"hoverinfo\": \"none\", \"line\": {\"shape\": \"hv\"}, \"mode\": \"lines+markers\", \"name\": \"Nigeria\", \"x\": [1, 2, 3], \"y\": [0, 3, 3], \"type\": \"scatter\", \"uid\": \"8f6b8afa-f745-4663-a993-b47dd53358da\"}, {\"hoverinfo\": \"none\", \"line\": {\"shape\": \"hv\"}, \"mode\": \"lines+markers\", \"name\": \"Panama\", \"x\": [1, 2, 3], \"y\": [0, 0, 0], \"type\": \"scatter\", \"uid\": \"09a0a352-1300-4502-8e3b-68e34605c20c\"}, {\"hoverinfo\": \"none\", \"line\": {\"shape\": \"hv\"}, \"mode\": \"lines+markers\", \"name\": \"Peru\", \"x\": [1, 2, 3], \"y\": [0, 0, 3], \"type\": \"scatter\", \"uid\": \"1396aba4-6c6c-455f-b0e0-2f638460283d\"}, {\"hoverinfo\": \"none\", \"line\": {\"shape\": \"hv\"}, \"mode\": \"lines+markers\", \"name\": \"Poland\", \"x\": [1, 2, 3], \"y\": [0, 0, 3], \"type\": \"scatter\", \"uid\": \"60287a9e-4b9b-4027-acb4-54dfa6836029\"}, {\"hoverinfo\": \"none\", \"line\": {\"shape\": \"hv\"}, \"mode\": \"lines+markers\", \"name\": \"Portugal\", \"x\": [1, 2, 3, 4], \"y\": [3, 4, 5, 5], \"type\": \"scatter\", \"uid\": \"8ae6626b-f00c-4603-8bdc-3c1e4083294a\"}, {\"hoverinfo\": \"none\", \"line\": {\"shape\": \"hv\"}, \"mode\": \"lines+markers\", \"name\": \"Russia\", \"x\": [1, 2, 3, 4, 5], \"y\": [3, 6, 6, 7, 8], \"type\": \"scatter\", \"uid\": \"840a6601-0632-440e-b0a2-3e81cd53677f\"}, {\"hoverinfo\": \"none\", \"line\": {\"shape\": \"hv\"}, \"mode\": \"lines+markers\", \"name\": \"Saudi Arabia\", \"x\": [1, 2, 3], \"y\": [0, 0, 3], \"type\": \"scatter\", \"uid\": \"0b0abbe5-7ba6-491e-b3ec-563c130791d3\"}, {\"hoverinfo\": \"none\", \"line\": {\"shape\": \"hv\"}, \"mode\": \"lines+markers\", \"name\": \"Senegal\", \"x\": [1, 2, 3], \"y\": [3, 4, 4], \"type\": \"scatter\", \"uid\": \"9bd7eb4c-ba9d-4205-a616-28ca6bcb73b6\"}, {\"hoverinfo\": \"none\", \"line\": {\"shape\": \"hv\"}, \"mode\": \"lines+markers\", \"name\": \"Serbia\", \"x\": [1, 2, 3], \"y\": [3, 3, 3], \"type\": \"scatter\", \"uid\": \"e994c6bc-3353-478a-bd03-12ecf2848031\"}, {\"hoverinfo\": \"none\", \"line\": {\"shape\": \"hv\"}, \"mode\": \"lines+markers\", \"name\": \"South Korea\", \"x\": [1, 2, 3], \"y\": [0, 0, 3], \"type\": \"scatter\", \"uid\": \"d6c548a3-4147-49ff-95f1-ba45f080c21b\"}, {\"hoverinfo\": \"none\", \"line\": {\"shape\": \"hv\"}, \"mode\": \"lines+markers\", \"name\": \"Spain\", \"x\": [1, 2, 3, 4], \"y\": [3, 4, 5, 6], \"type\": \"scatter\", \"uid\": \"3eaa34b9-a816-44b1-ada3-a85d16fd6b75\"}, {\"hoverinfo\": \"none\", \"line\": {\"shape\": \"hv\"}, \"mode\": \"lines+markers\", \"name\": \"Sweden\", \"x\": [1, 2, 3, 4, 5], \"y\": [3, 3, 6, 9, 9], \"type\": \"scatter\", \"uid\": \"51aed2ff-d507-4c73-9f88-d3074d26f9fa\"}, {\"hoverinfo\": \"none\", \"line\": {\"shape\": \"hv\"}, \"mode\": \"lines+markers\", \"name\": \"Switzerland\", \"x\": [1, 2, 3, 4], \"y\": [1, 4, 5, 5], \"type\": \"scatter\", \"uid\": \"24140d6c-3c70-4b2f-b867-1a8c907a2923\"}, {\"hoverinfo\": \"none\", \"line\": {\"shape\": \"hv\"}, \"mode\": \"lines+markers\", \"name\": \"Tunisia\", \"x\": [1, 2, 3], \"y\": [0, 0, 3], \"type\": \"scatter\", \"uid\": \"4511d225-ec91-40ec-9756-1edeb41abf07\"}, {\"hoverinfo\": \"none\", \"line\": {\"shape\": \"hv\"}, \"mode\": \"lines+markers\", \"name\": \"Uruguay\", \"x\": [1, 2, 3, 4, 5], \"y\": [3, 6, 9, 12, 12], \"type\": \"scatter\", \"uid\": \"abb2640a-0889-433e-895b-29c19b00dc52\"}], {\"paper_bgcolor\": \"rgb(243, 243, 243)\", \"plot_bgcolor\": \"rgb(243, 243, 243)\", \"title\": \"Journey of teams through the WC'18\", \"xaxis\": {\"gridcolor\": \"rgb(255, 255, 255)\", \"gridwidth\": 2, \"ticklen\": 5, \"title\": \"Matches\", \"zerolinewidth\": 1}, \"yaxis\": {\"gridcolor\": \"rgb(255, 255, 255)\", \"gridwidth\": 2, \"ticklen\": 5, \"title\": \"Points\", \"zerolinewidth\": 1}}, {\"showLink\": true, \"linkText\": \"Export to plot.ly\", \"plotlyServerURL\": \"https://plot.ly\"})});</script><script type=\"text/javascript\">window.addEventListener(\"resize\", function(){window._Plotly.Plots.resize(document.getElementById(\"ee990506-e966-4683-9ac2-73f6586fd1e3\"));});</script>"
      ]
     },
     "metadata": {},
     "output_type": "display_data"
    }
   ],
   "source": [
    "# Team 2nd Graph: (Step Plot: Points vs Matches) (Box B)\n",
    "\n",
    "team_2_points['Cumpoints'] = team_2_points.groupby('team')['points'].cumsum()\n",
    "teams = team_2_points['team'].unique()\n",
    "data = []\n",
    "\n",
    "for i in teams:\n",
    "    rnk = []\n",
    "    Cumpoints = []\n",
    "    for j in team_2_points['team'].index:\n",
    "        if(i == team_2_points['team'][j]):\n",
    "            rnk.extend([team_2_points['rnk'][j]])\n",
    "            Cumpoints.extend([team_2_points['Cumpoints'][j]])\n",
    "    trace1 = go.Scatter(\n",
    "        x = rnk,\n",
    "        y = Cumpoints,\n",
    "        hoverinfo = 'none',\n",
    "        mode = 'lines+markers',name = i,\n",
    "        line=dict(\n",
    "            shape = 'hv')\n",
    "    )\n",
    "    data.extend([trace1])\n",
    "layout = go.Layout(\n",
    "    title=\"Journey of teams through the WC'18\",\n",
    "    xaxis=dict(\n",
    "        title='Matches',\n",
    "        gridcolor='rgb(255, 255, 255)',\n",
    "        #range=[2.003297660701705, 5.191505530708712],\n",
    "        zerolinewidth=1,\n",
    "        ticklen=5,\n",
    "        gridwidth=2,),\n",
    "    yaxis=dict( \n",
    "        title='Points',\n",
    "        gridcolor='rgb(255, 255, 255)',\n",
    "        #hoverformat = '.2f',\n",
    "        #range=[36.12621671352166, 91.72921793264332],\n",
    "        zerolinewidth=1,\n",
    "        ticklen=5,\n",
    "        gridwidth=2,\n",
    "    ),\n",
    "    paper_bgcolor='rgb(243, 243, 243)',\n",
    "    plot_bgcolor='rgb(243, 243, 243)',\n",
    ")\n",
    "    \n",
    "\n",
    "fig = go.Figure(data=data, layout=layout)\n",
    "# urlB = py.plot(fig, filename='Point vs. Match', sharing = 'public', auto_open=False)\n",
    "py.iplot(fig, filename='Point vs. Match')\n",
    "# urlB"
   ]
  },
  {
   "cell_type": "code",
   "execution_count": 16,
   "metadata": {},
   "outputs": [
    {
     "data": {
      "application/vnd.plotly.v1+json": {
       "config": {
        "linkText": "Export to plot.ly",
        "plotlyServerURL": "https://plot.ly",
        "showLink": true
       },
       "data": [
        {
         "marker": {
          "color": "rgb(158,202,225)",
          "line": {
           "color": "rgb(8,48,107)",
           "width": 1.5
          }
         },
         "opacity": 0.6,
         "orientation": "h",
         "type": "bar",
         "uid": "4eb4ffc2-465c-4289-97b3-80a93abfae15",
         "x": [
          45,
          47,
          48,
          59,
          65,
          65,
          68,
          68,
          69,
          70,
          72,
          74,
          75,
          85,
          130,
          131
         ],
         "y": [
          "Belgium",
          "Russia",
          "France",
          "Croatia",
          "Japan",
          "England",
          "Portugal",
          "Colombia",
          "Uruguay",
          "Brazil",
          "Sweden",
          "Argentina",
          "Spain",
          "Switzerland",
          "Denmark",
          "Mexico"
         ]
        }
       ],
       "layout": {
        "title": "Distance per goal (Team Work Rate)",
        "xaxis": {
         "title": "Distance (Km)"
        }
       }
      },
      "text/html": [
       "<div id=\"35484d4c-50f8-4760-b5f4-c5d9da2c7104\" style=\"height: 525px; width: 100%;\" class=\"plotly-graph-div\"></div><script type=\"text/javascript\">require([\"plotly\"], function(Plotly) { window.PLOTLYENV=window.PLOTLYENV || {};window.PLOTLYENV.BASE_URL=\"https://plot.ly\";Plotly.newPlot(\"35484d4c-50f8-4760-b5f4-c5d9da2c7104\", [{\"marker\": {\"color\": \"rgb(158,202,225)\", \"line\": {\"color\": \"rgb(8,48,107)\", \"width\": 1.5}}, \"opacity\": 0.6, \"orientation\": \"h\", \"x\": [45.0, 47.0, 48.0, 59.0, 65.0, 65.0, 68.0, 68.0, 69.0, 70.0, 72.0, 74.0, 75.0, 85.0, 130.0, 131.0], \"y\": [\"Belgium\", \"Russia\", \"France\", \"Croatia\", \"Japan\", \"England\", \"Portugal\", \"Colombia\", \"Uruguay\", \"Brazil\", \"Sweden\", \"Argentina\", \"Spain\", \"Switzerland\", \"Denmark\", \"Mexico\"], \"type\": \"bar\", \"uid\": \"4eb4ffc2-465c-4289-97b3-80a93abfae15\"}], {\"title\": \"Distance per goal (Team Work Rate)\", \"xaxis\": {\"title\": \"Distance (Km)\"}}, {\"showLink\": true, \"linkText\": \"Export to plot.ly\", \"plotlyServerURL\": \"https://plot.ly\"})});</script><script type=\"text/javascript\">window.addEventListener(\"resize\", function(){window._Plotly.Plots.resize(document.getElementById(\"35484d4c-50f8-4760-b5f4-c5d9da2c7104\"));});</script>"
      ],
      "text/vnd.plotly.v1+html": [
       "<div id=\"35484d4c-50f8-4760-b5f4-c5d9da2c7104\" style=\"height: 525px; width: 100%;\" class=\"plotly-graph-div\"></div><script type=\"text/javascript\">require([\"plotly\"], function(Plotly) { window.PLOTLYENV=window.PLOTLYENV || {};window.PLOTLYENV.BASE_URL=\"https://plot.ly\";Plotly.newPlot(\"35484d4c-50f8-4760-b5f4-c5d9da2c7104\", [{\"marker\": {\"color\": \"rgb(158,202,225)\", \"line\": {\"color\": \"rgb(8,48,107)\", \"width\": 1.5}}, \"opacity\": 0.6, \"orientation\": \"h\", \"x\": [45.0, 47.0, 48.0, 59.0, 65.0, 65.0, 68.0, 68.0, 69.0, 70.0, 72.0, 74.0, 75.0, 85.0, 130.0, 131.0], \"y\": [\"Belgium\", \"Russia\", \"France\", \"Croatia\", \"Japan\", \"England\", \"Portugal\", \"Colombia\", \"Uruguay\", \"Brazil\", \"Sweden\", \"Argentina\", \"Spain\", \"Switzerland\", \"Denmark\", \"Mexico\"], \"type\": \"bar\", \"uid\": \"4eb4ffc2-465c-4289-97b3-80a93abfae15\"}], {\"title\": \"Distance per goal (Team Work Rate)\", \"xaxis\": {\"title\": \"Distance (Km)\"}}, {\"showLink\": true, \"linkText\": \"Export to plot.ly\", \"plotlyServerURL\": \"https://plot.ly\"})});</script><script type=\"text/javascript\">window.addEventListener(\"resize\", function(){window._Plotly.Plots.resize(document.getElementById(\"35484d4c-50f8-4760-b5f4-c5d9da2c7104\"));});</script>"
      ]
     },
     "metadata": {},
     "output_type": "display_data"
    }
   ],
   "source": [
    "# Team Graph: (Distance/Goal) (Box C)\n",
    "\n",
    "query = \"select * from team_4_run3\"\n",
    "team_goal = pd.read_sql_query(query, connection)\n",
    "team_goal = team_goal.sort_values(\"km_goal\")\n",
    "\n",
    "trace0 = go.Bar(\n",
    "    y = team_goal[\"team_name\"].tolist(),\n",
    "    x = team_goal[\"km_goal\"].tolist(),\n",
    "    marker = dict(\n",
    "        color = 'rgb(158,202,225)',\n",
    "        line = dict(\n",
    "            color = 'rgb(8,48,107)',\n",
    "            width = 1.5,\n",
    "        )\n",
    "    ),\n",
    "    opacity = 0.6,\n",
    "    orientation = 'h'\n",
    ")\n",
    "\n",
    "data = [trace0]\n",
    "layout = go.Layout(\n",
    "    title = 'Distance per goal (Team Work Rate)',\n",
    "    xaxis = {'title': 'Distance (Km)'},\n",
    ")\n",
    "\n",
    "fig = go.Figure(data = data, layout = layout)\n",
    "# urlC = py.plot(fig, filename = 'team_goal_distance', sharing = 'public', auto_open = False)\n",
    "py.iplot(fig, filename = 'team_goal_distance')\n",
    "# urlC"
   ]
  },
  {
   "cell_type": "code",
   "execution_count": 17,
   "metadata": {},
   "outputs": [
    {
     "data": {
      "application/vnd.plotly.v1+json": {
       "config": {
        "linkText": "Export to plot.ly",
        "plotlyServerURL": "https://plot.ly",
        "showLink": true
       },
       "data": [
        {
         "marker": {
          "color": "rgb(158,202,225)",
          "line": {
           "color": "rgb(8,48,107)",
           "width": 1.5
          }
         },
         "opacity": 0.6,
         "orientation": "h",
         "type": "bar",
         "uid": "7115ca52-7f24-4d55-b59a-5d3ea050323d",
         "x": [
          176,
          238,
          238,
          271,
          282,
          318,
          335,
          336,
          336,
          345,
          366,
          403,
          455,
          507,
          593,
          621
         ],
         "y": [
          "Russia",
          "Belgium",
          "France",
          "Sweden",
          "Croatia",
          "Uruguay",
          "Portugal",
          "Colombia",
          "England",
          "Japan",
          "Brazil",
          "Argentina",
          "Switzerland",
          "Spain",
          "Mexico",
          "Denmark"
         ]
        }
       ],
       "layout": {
        "title": "Passes per goal (Playing Style)",
        "xaxis": {
         "title": "No. of passes per goal"
        }
       }
      },
      "text/html": [
       "<div id=\"1f8c5c64-dd25-4520-812e-35353bc4b95d\" style=\"height: 525px; width: 100%;\" class=\"plotly-graph-div\"></div><script type=\"text/javascript\">require([\"plotly\"], function(Plotly) { window.PLOTLYENV=window.PLOTLYENV || {};window.PLOTLYENV.BASE_URL=\"https://plot.ly\";Plotly.newPlot(\"1f8c5c64-dd25-4520-812e-35353bc4b95d\", [{\"marker\": {\"color\": \"rgb(158,202,225)\", \"line\": {\"color\": \"rgb(8,48,107)\", \"width\": 1.5}}, \"opacity\": 0.6, \"orientation\": \"h\", \"x\": [176.0, 238.0, 238.0, 271.0, 282.0, 318.0, 335.0, 336.0, 336.0, 345.0, 366.0, 403.0, 455.0, 507.0, 593.0, 621.0], \"y\": [\"Russia\", \"Belgium\", \"France\", \"Sweden\", \"Croatia\", \"Uruguay\", \"Portugal\", \"Colombia\", \"England\", \"Japan\", \"Brazil\", \"Argentina\", \"Switzerland\", \"Spain\", \"Mexico\", \"Denmark\"], \"type\": \"bar\", \"uid\": \"7115ca52-7f24-4d55-b59a-5d3ea050323d\"}], {\"title\": \"Passes per goal (Playing Style)\", \"xaxis\": {\"title\": \"No. of passes per goal\"}}, {\"showLink\": true, \"linkText\": \"Export to plot.ly\", \"plotlyServerURL\": \"https://plot.ly\"})});</script><script type=\"text/javascript\">window.addEventListener(\"resize\", function(){window._Plotly.Plots.resize(document.getElementById(\"1f8c5c64-dd25-4520-812e-35353bc4b95d\"));});</script>"
      ],
      "text/vnd.plotly.v1+html": [
       "<div id=\"1f8c5c64-dd25-4520-812e-35353bc4b95d\" style=\"height: 525px; width: 100%;\" class=\"plotly-graph-div\"></div><script type=\"text/javascript\">require([\"plotly\"], function(Plotly) { window.PLOTLYENV=window.PLOTLYENV || {};window.PLOTLYENV.BASE_URL=\"https://plot.ly\";Plotly.newPlot(\"1f8c5c64-dd25-4520-812e-35353bc4b95d\", [{\"marker\": {\"color\": \"rgb(158,202,225)\", \"line\": {\"color\": \"rgb(8,48,107)\", \"width\": 1.5}}, \"opacity\": 0.6, \"orientation\": \"h\", \"x\": [176.0, 238.0, 238.0, 271.0, 282.0, 318.0, 335.0, 336.0, 336.0, 345.0, 366.0, 403.0, 455.0, 507.0, 593.0, 621.0], \"y\": [\"Russia\", \"Belgium\", \"France\", \"Sweden\", \"Croatia\", \"Uruguay\", \"Portugal\", \"Colombia\", \"England\", \"Japan\", \"Brazil\", \"Argentina\", \"Switzerland\", \"Spain\", \"Mexico\", \"Denmark\"], \"type\": \"bar\", \"uid\": \"7115ca52-7f24-4d55-b59a-5d3ea050323d\"}], {\"title\": \"Passes per goal (Playing Style)\", \"xaxis\": {\"title\": \"No. of passes per goal\"}}, {\"showLink\": true, \"linkText\": \"Export to plot.ly\", \"plotlyServerURL\": \"https://plot.ly\"})});</script><script type=\"text/javascript\">window.addEventListener(\"resize\", function(){window._Plotly.Plots.resize(document.getElementById(\"1f8c5c64-dd25-4520-812e-35353bc4b95d\"));});</script>"
      ]
     },
     "metadata": {},
     "output_type": "display_data"
    }
   ],
   "source": [
    "# Team Graph: (Passes/Goal) (Box D2)\n",
    "\n",
    "query = \"select * from team_4_run3\"\n",
    "team_goal = pd.read_sql_query(query, connection)\n",
    "team_goal = team_goal.sort_values(\"passes_goal\")\n",
    "\n",
    "trace0 = go.Bar(\n",
    "    y = team_goal[\"team_name\"].tolist(),\n",
    "    x = team_goal[\"passes_goal\"].tolist(),\n",
    "    marker = dict(\n",
    "        color = 'rgb(158,202,225)',\n",
    "        line = dict(\n",
    "            color = 'rgb(8,48,107)',\n",
    "            width = 1.5,\n",
    "        )\n",
    "    ),\n",
    "    opacity = 0.6,\n",
    "    orientation = 'h'\n",
    ")\n",
    "\n",
    "data = [trace0]\n",
    "layout = go.Layout(\n",
    "    title = 'Passes per goal (Playing Style)',\n",
    "    xaxis = {'title': 'No. of passes per goal'},\n",
    ")\n",
    "\n",
    "fig = go.Figure(data = data, layout = layout)\n",
    "# urlD = py.plot(fig, filename = 'team_goal_passes', sharing = 'public', auto_open = False)\n",
    "py.iplot(fig, filename = 'team_goal_passes')\n",
    "# urlD"
   ]
  },
  {
   "cell_type": "code",
   "execution_count": 18,
   "metadata": {},
   "outputs": [
    {
     "data": {
      "application/vnd.plotly.v1+json": {
       "config": {
        "linkText": "Export to plot.ly",
        "plotlyServerURL": "https://plot.ly",
        "showLink": true
       },
       "data": [
        {
         "hoverinfo": "text",
         "marker": {
          "color": [
           4,
           1,
           18,
           10,
           7,
           1,
           14,
           6,
           0,
           10,
           19,
           3,
           1,
           4,
           4,
           6,
           1,
           3,
           0,
           3,
           3,
           5,
           8,
           3,
           4,
           3,
           3,
           6,
           9,
           5,
           3,
           12
          ],
          "colorbar": {
           "ticks": "outside",
           "title": "Team Points"
          },
          "colorscale": "Viridis",
          "showscale": true,
          "size": [
           35.659340659340664,
           27.02770799286184,
           29.54456532356532,
           35.072179956795345,
           24.100920447074294,
           11.84450953320184,
           27.532591622053154,
           20.47595566826336,
           18.206833380294917,
           30.36893153000846,
           23.825726307880153,
           37.79412106696722,
           6.622664318587397,
           0,
           26.36728655959425,
           26.23978585517047,
           19.34341551610782,
           18.141353714661403,
           16.108042735042734,
           23.556072790457407,
           26.808976143514606,
           26.310228233305153,
           10.576876115337653,
           33.285683197144735,
           15.655818540433925,
           17.157164553395322,
           16.396949751103595,
           50,
           9.91730064806988,
           32.33821733821734,
           25.38138959331267,
           21.835023950408562
          ]
         },
         "mode": "markers",
         "text": [
          "Team: Argentina<br>Attack Score: 0.42<br>Defense Score: 0.33<br>Midfield Score: 0.71<br>Performance Score: 4",
          "Team: Australia<br>Attack Score: 0.21<br>Defense Score: 0.56<br>Midfield Score: 0.54<br>Performance Score: 1",
          "Team: Belgium<br>Attack Score: 0.59<br>Defense Score: 0.26<br>Midfield Score: 0.59<br>Performance Score: 18",
          "Team: Brazil<br>Attack Score: 0.7<br>Defense Score: 0.3<br>Midfield Score: 0.7<br>Performance Score: 10",
          "Team: Colombia<br>Attack Score: 0.48<br>Defense Score: 0.28<br>Midfield Score: 0.48<br>Performance Score: 7",
          "Team: Costa Rica<br>Attack Score: 0.15<br>Defense Score: 0.5<br>Midfield Score: 0.24<br>Performance Score: 1",
          "Team: Croatia<br>Attack Score: 0.65<br>Defense Score: 0.43<br>Midfield Score: 0.55<br>Performance Score: 14",
          "Team: Denmark<br>Attack Score: 0.33<br>Defense Score: 0.6<br>Midfield Score: 0.41<br>Performance Score: 6",
          "Team: Egypt<br>Attack Score: 0.11<br>Defense Score: 0.5<br>Midfield Score: 0.36<br>Performance Score: 0",
          "Team: England<br>Attack Score: 0.53<br>Defense Score: 0.36<br>Midfield Score: 0.61<br>Performance Score: 10",
          "Team: France<br>Attack Score: 0.51<br>Defense Score: 0.16<br>Midfield Score: 0.48<br>Performance Score: 19",
          "Team: Germany<br>Attack Score: 0.41<br>Defense Score: 0.46<br>Midfield Score: 0.76<br>Performance Score: 3",
          "Team: Iceland<br>Attack Score: 0.23<br>Defense Score: 0.48<br>Midfield Score: 0.13<br>Performance Score: 1",
          "Team: Iran<br>Attack Score: 0.1<br>Defense Score: 0.3<br>Midfield Score: 0.0<br>Performance Score: 4",
          "Team: Japan<br>Attack Score: 0.35<br>Defense Score: 0.4<br>Midfield Score: 0.53<br>Performance Score: 4",
          "Team: Mexico<br>Attack Score: 0.39<br>Defense Score: 0.81<br>Midfield Score: 0.52<br>Performance Score: 6",
          "Team: Morocco<br>Attack Score: 0.27<br>Defense Score: 0.32<br>Midfield Score: 0.39<br>Performance Score: 1",
          "Team: Nigeria<br>Attack Score: 0.34<br>Defense Score: 0.2<br>Midfield Score: 0.36<br>Performance Score: 3",
          "Team: Panama<br>Attack Score: 0.05<br>Defense Score: 0.49<br>Midfield Score: 0.32<br>Performance Score: 0",
          "Team: Peru<br>Attack Score: 0.18<br>Defense Score: 0.23<br>Midfield Score: 0.47<br>Performance Score: 3",
          "Team: Poland<br>Attack Score: 0.13<br>Defense Score: 0.47<br>Midfield Score: 0.54<br>Performance Score: 3",
          "Team: Portugal<br>Attack Score: 0.43<br>Defense Score: 0.39<br>Midfield Score: 0.53<br>Performance Score: 5",
          "Team: Russia<br>Attack Score: 0.62<br>Defense Score: 0.73<br>Midfield Score: 0.21<br>Performance Score: 8",
          "Team: Saudi Arabia<br>Attack Score: 0.25<br>Defense Score: 0.4<br>Midfield Score: 0.67<br>Performance Score: 3",
          "Team: Senegal<br>Attack Score: 0.34<br>Defense Score: 0.18<br>Midfield Score: 0.31<br>Performance Score: 4",
          "Team: Serbia<br>Attack Score: 0.17<br>Defense Score: 0.42<br>Midfield Score: 0.34<br>Performance Score: 3",
          "Team: South Korea<br>Attack Score: 0.28<br>Defense Score: 0.57<br>Midfield Score: 0.33<br>Performance Score: 3",
          "Team: Spain<br>Attack Score: 0.81<br>Defense Score: 0.1<br>Midfield Score: 1.0<br>Performance Score: 6",
          "Team: Sweden<br>Attack Score: 0.27<br>Defense Score: 0.51<br>Midfield Score: 0.2<br>Performance Score: 9",
          "Team: Switzerland<br>Attack Score: 0.24<br>Defense Score: 0.32<br>Midfield Score: 0.65<br>Performance Score: 5",
          "Team: Tunisia<br>Attack Score: 0.46<br>Defense Score: 0.69<br>Midfield Score: 0.51<br>Performance Score: 3",
          "Team: Uruguay<br>Attack Score: 0.28<br>Defense Score: 0.25<br>Midfield Score: 0.44<br>Performance Score: 12"
         ],
         "type": "scatter",
         "uid": "e1517d9d-1399-4716-911b-c8e8ae39d59d",
         "x": [
          0.3287728780498597,
          0.5607402515278137,
          0.2647763398641939,
          0.29671604018863784,
          0.27921818542018173,
          0.49527649017300035,
          0.43016013283237386,
          0.5963438091855346,
          0.5010518274609976,
          0.3636470037610453,
          0.16178500876405322,
          0.458679856458086,
          0.47698359174525595,
          0.30040225165684037,
          0.3973633013417136,
          0.8059017802966094,
          0.3219666898206695,
          0.20335961273897737,
          0.48607019821548997,
          0.22742145242359257,
          0.47275223728793125,
          0.38623763146788814,
          0.7292158772773473,
          0.39698225360315703,
          0.18429889856362652,
          0.4172816982696861,
          0.5715115962517807,
          0.09640398840333589,
          0.5097007565147615,
          0.3159067848520009,
          0.6916953137677848,
          0.24903261232268611
         ],
         "y": [
          0.4152354884710542,
          0.20526690931422098,
          0.5926796533750012,
          0.7015782784288818,
          0.48253555474133253,
          0.1505374496554291,
          0.650857837589955,
          0.32726498768940643,
          0.1103213055774704,
          0.5332800053118738,
          0.510535382116991,
          0.41219515808282237,
          0.22766766670315497,
          0.0968136600143962,
          0.34660511357891716,
          0.38899254844453446,
          0.27008582781300594,
          0.34402574155178123,
          0.05023676768641473,
          0.17503020181258142,
          0.12621122956147793,
          0.4272122539673983,
          0.6150036647467931,
          0.24986391237089672,
          0.3419474715407815,
          0.17008260705902317,
          0.2781781849636646,
          0.8075784374181076,
          0.2718150037568123,
          0.2374496316084979,
          0.4562794357884859,
          0.28103231729190703
         ]
        }
       ],
       "layout": {
        "title": "Team Diagnostics",
        "xaxis": {
         "title": "Attack Score"
        },
        "yaxis": {
         "title": "Defense Score"
        }
       }
      },
      "text/html": [
       "<div id=\"ddaddc52-e027-4418-8da1-02a716f27dd5\" style=\"height: 525px; width: 100%;\" class=\"plotly-graph-div\"></div><script type=\"text/javascript\">require([\"plotly\"], function(Plotly) { window.PLOTLYENV=window.PLOTLYENV || {};window.PLOTLYENV.BASE_URL=\"https://plot.ly\";Plotly.newPlot(\"ddaddc52-e027-4418-8da1-02a716f27dd5\", [{\"hoverinfo\": \"text\", \"marker\": {\"color\": [4, 1, 18, 10, 7, 1, 14, 6, 0, 10, 19, 3, 1, 4, 4, 6, 1, 3, 0, 3, 3, 5, 8, 3, 4, 3, 3, 6, 9, 5, 3, 12], \"colorbar\": {\"ticks\": \"outside\", \"title\": \"Team Points\"}, \"colorscale\": \"Viridis\", \"showscale\": true, \"size\": [35.659340659340664, 27.02770799286184, 29.54456532356532, 35.072179956795345, 24.100920447074294, 11.84450953320184, 27.532591622053154, 20.47595566826336, 18.206833380294917, 30.36893153000846, 23.825726307880153, 37.79412106696722, 6.622664318587397, 0.0, 26.36728655959425, 26.23978585517047, 19.34341551610782, 18.141353714661403, 16.108042735042734, 23.556072790457407, 26.808976143514606, 26.310228233305153, 10.576876115337653, 33.285683197144735, 15.655818540433925, 17.157164553395322, 16.396949751103595, 50.0, 9.91730064806988, 32.33821733821734, 25.38138959331267, 21.835023950408562]}, \"mode\": \"markers\", \"text\": [\"Team: Argentina<br>Attack Score: 0.42<br>Defense Score: 0.33<br>Midfield Score: 0.71<br>Performance Score: 4\", \"Team: Australia<br>Attack Score: 0.21<br>Defense Score: 0.56<br>Midfield Score: 0.54<br>Performance Score: 1\", \"Team: Belgium<br>Attack Score: 0.59<br>Defense Score: 0.26<br>Midfield Score: 0.59<br>Performance Score: 18\", \"Team: Brazil<br>Attack Score: 0.7<br>Defense Score: 0.3<br>Midfield Score: 0.7<br>Performance Score: 10\", \"Team: Colombia<br>Attack Score: 0.48<br>Defense Score: 0.28<br>Midfield Score: 0.48<br>Performance Score: 7\", \"Team: Costa Rica<br>Attack Score: 0.15<br>Defense Score: 0.5<br>Midfield Score: 0.24<br>Performance Score: 1\", \"Team: Croatia<br>Attack Score: 0.65<br>Defense Score: 0.43<br>Midfield Score: 0.55<br>Performance Score: 14\", \"Team: Denmark<br>Attack Score: 0.33<br>Defense Score: 0.6<br>Midfield Score: 0.41<br>Performance Score: 6\", \"Team: Egypt<br>Attack Score: 0.11<br>Defense Score: 0.5<br>Midfield Score: 0.36<br>Performance Score: 0\", \"Team: England<br>Attack Score: 0.53<br>Defense Score: 0.36<br>Midfield Score: 0.61<br>Performance Score: 10\", \"Team: France<br>Attack Score: 0.51<br>Defense Score: 0.16<br>Midfield Score: 0.48<br>Performance Score: 19\", \"Team: Germany<br>Attack Score: 0.41<br>Defense Score: 0.46<br>Midfield Score: 0.76<br>Performance Score: 3\", \"Team: Iceland<br>Attack Score: 0.23<br>Defense Score: 0.48<br>Midfield Score: 0.13<br>Performance Score: 1\", \"Team: Iran<br>Attack Score: 0.1<br>Defense Score: 0.3<br>Midfield Score: 0.0<br>Performance Score: 4\", \"Team: Japan<br>Attack Score: 0.35<br>Defense Score: 0.4<br>Midfield Score: 0.53<br>Performance Score: 4\", \"Team: Mexico<br>Attack Score: 0.39<br>Defense Score: 0.81<br>Midfield Score: 0.52<br>Performance Score: 6\", \"Team: Morocco<br>Attack Score: 0.27<br>Defense Score: 0.32<br>Midfield Score: 0.39<br>Performance Score: 1\", \"Team: Nigeria<br>Attack Score: 0.34<br>Defense Score: 0.2<br>Midfield Score: 0.36<br>Performance Score: 3\", \"Team: Panama<br>Attack Score: 0.05<br>Defense Score: 0.49<br>Midfield Score: 0.32<br>Performance Score: 0\", \"Team: Peru<br>Attack Score: 0.18<br>Defense Score: 0.23<br>Midfield Score: 0.47<br>Performance Score: 3\", \"Team: Poland<br>Attack Score: 0.13<br>Defense Score: 0.47<br>Midfield Score: 0.54<br>Performance Score: 3\", \"Team: Portugal<br>Attack Score: 0.43<br>Defense Score: 0.39<br>Midfield Score: 0.53<br>Performance Score: 5\", \"Team: Russia<br>Attack Score: 0.62<br>Defense Score: 0.73<br>Midfield Score: 0.21<br>Performance Score: 8\", \"Team: Saudi Arabia<br>Attack Score: 0.25<br>Defense Score: 0.4<br>Midfield Score: 0.67<br>Performance Score: 3\", \"Team: Senegal<br>Attack Score: 0.34<br>Defense Score: 0.18<br>Midfield Score: 0.31<br>Performance Score: 4\", \"Team: Serbia<br>Attack Score: 0.17<br>Defense Score: 0.42<br>Midfield Score: 0.34<br>Performance Score: 3\", \"Team: South Korea<br>Attack Score: 0.28<br>Defense Score: 0.57<br>Midfield Score: 0.33<br>Performance Score: 3\", \"Team: Spain<br>Attack Score: 0.81<br>Defense Score: 0.1<br>Midfield Score: 1.0<br>Performance Score: 6\", \"Team: Sweden<br>Attack Score: 0.27<br>Defense Score: 0.51<br>Midfield Score: 0.2<br>Performance Score: 9\", \"Team: Switzerland<br>Attack Score: 0.24<br>Defense Score: 0.32<br>Midfield Score: 0.65<br>Performance Score: 5\", \"Team: Tunisia<br>Attack Score: 0.46<br>Defense Score: 0.69<br>Midfield Score: 0.51<br>Performance Score: 3\", \"Team: Uruguay<br>Attack Score: 0.28<br>Defense Score: 0.25<br>Midfield Score: 0.44<br>Performance Score: 12\"], \"x\": [0.3287728780498597, 0.5607402515278137, 0.2647763398641939, 0.29671604018863784, 0.27921818542018173, 0.49527649017300035, 0.43016013283237386, 0.5963438091855346, 0.5010518274609976, 0.3636470037610453, 0.16178500876405322, 0.458679856458086, 0.47698359174525595, 0.30040225165684037, 0.3973633013417136, 0.8059017802966094, 0.3219666898206695, 0.20335961273897737, 0.48607019821548997, 0.22742145242359257, 0.47275223728793125, 0.38623763146788814, 0.7292158772773473, 0.39698225360315703, 0.18429889856362652, 0.4172816982696861, 0.5715115962517807, 0.09640398840333589, 0.5097007565147615, 0.3159067848520009, 0.6916953137677848, 0.24903261232268611], \"y\": [0.4152354884710542, 0.20526690931422098, 0.5926796533750012, 0.7015782784288818, 0.48253555474133253, 0.1505374496554291, 0.650857837589955, 0.32726498768940643, 0.1103213055774704, 0.5332800053118738, 0.510535382116991, 0.41219515808282237, 0.22766766670315497, 0.0968136600143962, 0.34660511357891716, 0.38899254844453446, 0.27008582781300594, 0.34402574155178123, 0.05023676768641473, 0.17503020181258142, 0.12621122956147793, 0.4272122539673983, 0.6150036647467931, 0.24986391237089672, 0.3419474715407815, 0.17008260705902317, 0.2781781849636646, 0.8075784374181076, 0.2718150037568123, 0.2374496316084979, 0.4562794357884859, 0.28103231729190703], \"type\": \"scatter\", \"uid\": \"e1517d9d-1399-4716-911b-c8e8ae39d59d\"}], {\"title\": \"Team Diagnostics\", \"xaxis\": {\"title\": \"Attack Score\"}, \"yaxis\": {\"title\": \"Defense Score\"}}, {\"showLink\": true, \"linkText\": \"Export to plot.ly\", \"plotlyServerURL\": \"https://plot.ly\"})});</script><script type=\"text/javascript\">window.addEventListener(\"resize\", function(){window._Plotly.Plots.resize(document.getElementById(\"ddaddc52-e027-4418-8da1-02a716f27dd5\"));});</script>"
      ],
      "text/vnd.plotly.v1+html": [
       "<div id=\"ddaddc52-e027-4418-8da1-02a716f27dd5\" style=\"height: 525px; width: 100%;\" class=\"plotly-graph-div\"></div><script type=\"text/javascript\">require([\"plotly\"], function(Plotly) { window.PLOTLYENV=window.PLOTLYENV || {};window.PLOTLYENV.BASE_URL=\"https://plot.ly\";Plotly.newPlot(\"ddaddc52-e027-4418-8da1-02a716f27dd5\", [{\"hoverinfo\": \"text\", \"marker\": {\"color\": [4, 1, 18, 10, 7, 1, 14, 6, 0, 10, 19, 3, 1, 4, 4, 6, 1, 3, 0, 3, 3, 5, 8, 3, 4, 3, 3, 6, 9, 5, 3, 12], \"colorbar\": {\"ticks\": \"outside\", \"title\": \"Team Points\"}, \"colorscale\": \"Viridis\", \"showscale\": true, \"size\": [35.659340659340664, 27.02770799286184, 29.54456532356532, 35.072179956795345, 24.100920447074294, 11.84450953320184, 27.532591622053154, 20.47595566826336, 18.206833380294917, 30.36893153000846, 23.825726307880153, 37.79412106696722, 6.622664318587397, 0.0, 26.36728655959425, 26.23978585517047, 19.34341551610782, 18.141353714661403, 16.108042735042734, 23.556072790457407, 26.808976143514606, 26.310228233305153, 10.576876115337653, 33.285683197144735, 15.655818540433925, 17.157164553395322, 16.396949751103595, 50.0, 9.91730064806988, 32.33821733821734, 25.38138959331267, 21.835023950408562]}, \"mode\": \"markers\", \"text\": [\"Team: Argentina<br>Attack Score: 0.42<br>Defense Score: 0.33<br>Midfield Score: 0.71<br>Performance Score: 4\", \"Team: Australia<br>Attack Score: 0.21<br>Defense Score: 0.56<br>Midfield Score: 0.54<br>Performance Score: 1\", \"Team: Belgium<br>Attack Score: 0.59<br>Defense Score: 0.26<br>Midfield Score: 0.59<br>Performance Score: 18\", \"Team: Brazil<br>Attack Score: 0.7<br>Defense Score: 0.3<br>Midfield Score: 0.7<br>Performance Score: 10\", \"Team: Colombia<br>Attack Score: 0.48<br>Defense Score: 0.28<br>Midfield Score: 0.48<br>Performance Score: 7\", \"Team: Costa Rica<br>Attack Score: 0.15<br>Defense Score: 0.5<br>Midfield Score: 0.24<br>Performance Score: 1\", \"Team: Croatia<br>Attack Score: 0.65<br>Defense Score: 0.43<br>Midfield Score: 0.55<br>Performance Score: 14\", \"Team: Denmark<br>Attack Score: 0.33<br>Defense Score: 0.6<br>Midfield Score: 0.41<br>Performance Score: 6\", \"Team: Egypt<br>Attack Score: 0.11<br>Defense Score: 0.5<br>Midfield Score: 0.36<br>Performance Score: 0\", \"Team: England<br>Attack Score: 0.53<br>Defense Score: 0.36<br>Midfield Score: 0.61<br>Performance Score: 10\", \"Team: France<br>Attack Score: 0.51<br>Defense Score: 0.16<br>Midfield Score: 0.48<br>Performance Score: 19\", \"Team: Germany<br>Attack Score: 0.41<br>Defense Score: 0.46<br>Midfield Score: 0.76<br>Performance Score: 3\", \"Team: Iceland<br>Attack Score: 0.23<br>Defense Score: 0.48<br>Midfield Score: 0.13<br>Performance Score: 1\", \"Team: Iran<br>Attack Score: 0.1<br>Defense Score: 0.3<br>Midfield Score: 0.0<br>Performance Score: 4\", \"Team: Japan<br>Attack Score: 0.35<br>Defense Score: 0.4<br>Midfield Score: 0.53<br>Performance Score: 4\", \"Team: Mexico<br>Attack Score: 0.39<br>Defense Score: 0.81<br>Midfield Score: 0.52<br>Performance Score: 6\", \"Team: Morocco<br>Attack Score: 0.27<br>Defense Score: 0.32<br>Midfield Score: 0.39<br>Performance Score: 1\", \"Team: Nigeria<br>Attack Score: 0.34<br>Defense Score: 0.2<br>Midfield Score: 0.36<br>Performance Score: 3\", \"Team: Panama<br>Attack Score: 0.05<br>Defense Score: 0.49<br>Midfield Score: 0.32<br>Performance Score: 0\", \"Team: Peru<br>Attack Score: 0.18<br>Defense Score: 0.23<br>Midfield Score: 0.47<br>Performance Score: 3\", \"Team: Poland<br>Attack Score: 0.13<br>Defense Score: 0.47<br>Midfield Score: 0.54<br>Performance Score: 3\", \"Team: Portugal<br>Attack Score: 0.43<br>Defense Score: 0.39<br>Midfield Score: 0.53<br>Performance Score: 5\", \"Team: Russia<br>Attack Score: 0.62<br>Defense Score: 0.73<br>Midfield Score: 0.21<br>Performance Score: 8\", \"Team: Saudi Arabia<br>Attack Score: 0.25<br>Defense Score: 0.4<br>Midfield Score: 0.67<br>Performance Score: 3\", \"Team: Senegal<br>Attack Score: 0.34<br>Defense Score: 0.18<br>Midfield Score: 0.31<br>Performance Score: 4\", \"Team: Serbia<br>Attack Score: 0.17<br>Defense Score: 0.42<br>Midfield Score: 0.34<br>Performance Score: 3\", \"Team: South Korea<br>Attack Score: 0.28<br>Defense Score: 0.57<br>Midfield Score: 0.33<br>Performance Score: 3\", \"Team: Spain<br>Attack Score: 0.81<br>Defense Score: 0.1<br>Midfield Score: 1.0<br>Performance Score: 6\", \"Team: Sweden<br>Attack Score: 0.27<br>Defense Score: 0.51<br>Midfield Score: 0.2<br>Performance Score: 9\", \"Team: Switzerland<br>Attack Score: 0.24<br>Defense Score: 0.32<br>Midfield Score: 0.65<br>Performance Score: 5\", \"Team: Tunisia<br>Attack Score: 0.46<br>Defense Score: 0.69<br>Midfield Score: 0.51<br>Performance Score: 3\", \"Team: Uruguay<br>Attack Score: 0.28<br>Defense Score: 0.25<br>Midfield Score: 0.44<br>Performance Score: 12\"], \"x\": [0.3287728780498597, 0.5607402515278137, 0.2647763398641939, 0.29671604018863784, 0.27921818542018173, 0.49527649017300035, 0.43016013283237386, 0.5963438091855346, 0.5010518274609976, 0.3636470037610453, 0.16178500876405322, 0.458679856458086, 0.47698359174525595, 0.30040225165684037, 0.3973633013417136, 0.8059017802966094, 0.3219666898206695, 0.20335961273897737, 0.48607019821548997, 0.22742145242359257, 0.47275223728793125, 0.38623763146788814, 0.7292158772773473, 0.39698225360315703, 0.18429889856362652, 0.4172816982696861, 0.5715115962517807, 0.09640398840333589, 0.5097007565147615, 0.3159067848520009, 0.6916953137677848, 0.24903261232268611], \"y\": [0.4152354884710542, 0.20526690931422098, 0.5926796533750012, 0.7015782784288818, 0.48253555474133253, 0.1505374496554291, 0.650857837589955, 0.32726498768940643, 0.1103213055774704, 0.5332800053118738, 0.510535382116991, 0.41219515808282237, 0.22766766670315497, 0.0968136600143962, 0.34660511357891716, 0.38899254844453446, 0.27008582781300594, 0.34402574155178123, 0.05023676768641473, 0.17503020181258142, 0.12621122956147793, 0.4272122539673983, 0.6150036647467931, 0.24986391237089672, 0.3419474715407815, 0.17008260705902317, 0.2781781849636646, 0.8075784374181076, 0.2718150037568123, 0.2374496316084979, 0.4562794357884859, 0.28103231729190703], \"type\": \"scatter\", \"uid\": \"e1517d9d-1399-4716-911b-c8e8ae39d59d\"}], {\"title\": \"Team Diagnostics\", \"xaxis\": {\"title\": \"Attack Score\"}, \"yaxis\": {\"title\": \"Defense Score\"}}, {\"showLink\": true, \"linkText\": \"Export to plot.ly\", \"plotlyServerURL\": \"https://plot.ly\"})});</script><script type=\"text/javascript\">window.addEventListener(\"resize\", function(){window._Plotly.Plots.resize(document.getElementById(\"ddaddc52-e027-4418-8da1-02a716f27dd5\"));});</script>"
      ]
     },
     "metadata": {},
     "output_type": "display_data"
    }
   ],
   "source": [
    "# Team 3rd plot: (Attack, Defense, Midfield and Performance) (Box D)\n",
    "\n",
    "# Normalisation: Bubble Chart\n",
    "\n",
    "tot_pts = pd.DataFrame(team_2_points.groupby('team')[\"points\"].sum())\n",
    "\n",
    "for i in np.array(team_3_mids7.columns)[1:]:\n",
    "    team_3_mids7[i] = (team_3_mids7[i]-team_3_mids7[i].mean())/(team_3_mids7[i].std())\n",
    "    team_3_mids7[i] = (team_3_mids7[i]-team_3_mids7[i].min())/(team_3_mids7[i].max()-team_3_mids7[i].min())\n",
    "    \n",
    "for i in np.array(team_3_attack10.columns)[1:]:\n",
    "    team_3_attack10[i] = (team_3_attack10[i]-team_3_attack10[i].mean())/(team_3_attack10[i].std())\n",
    "    team_3_attack10[i] = (team_3_attack10[i]-team_3_attack10[i].min())/(team_3_attack10[i].max()-team_3_attack10[i].min())\n",
    "\n",
    "for i in np.array(team_3_defense5.columns)[1:]:\n",
    "    team_3_defense5[i] = (team_3_defense5[i]-team_3_defense5[i].mean())/(team_3_defense5[i].std())\n",
    "    team_3_defense5[i] = (team_3_defense5[i]-team_3_defense5[i].min())/(team_3_defense5[i].max()-team_3_defense5[i].min())\n",
    "\n",
    "# Scores\n",
    "team_3_mids7[\"score_m\"] = np.array(team_3_mids7.set_index(team_3_mids7[\"team_name\"]).drop(\"team_name\", axis = 1).mean(axis = 1))\n",
    "team_3_attack10[\"score_a\"] = np.array(team_3_attack10.set_index(team_3_attack10[\"team_name\"]).drop(\"team_name\", axis = 1).mean(axis = 1))\n",
    "team_3_defense5[\"score_d\"] = np.array(team_3_defense5.set_index(team_3_defense5[\"team_name\"]).drop(\"team_name\", axis = 1).mean(axis = 1))\n",
    "\n",
    "final = pd.merge(pd.merge(team_3_mids7, team_3_attack10),team_3_defense5)\n",
    "final = final.set_index(final[\"team_name\"])\n",
    "final[\"tot_pts\"] = tot_pts[\"points\"]\n",
    "\n",
    "# Team 3rd plot\n",
    "\n",
    "hover_text = []\n",
    "for index, row in final.iterrows():\n",
    "    hover_text.append(('Team: {team_name}<br>'+\n",
    "                      'Attack Score: {score_a}<br>'+\n",
    "                      'Defense Score: {score_d}<br>'+\n",
    "                      'Midfield Score: {score_m}<br>'+\n",
    "                      'Performance Score: {tot_pts}').format(team_name=row['team_name'],\n",
    "                                                            score_a=round(row['score_a'],2),\n",
    "                                                            score_d=round(row['score_d'],2),\n",
    "                                                            score_m=round(row['score_m'],2),\n",
    "                                                            tot_pts=row['tot_pts']))\n",
    "data = [\n",
    "    {\n",
    "        'x': final['score_d'].tolist(),\n",
    "        'y': final['score_a'].tolist(),\n",
    "        'text': hover_text,\n",
    "        'hoverinfo': 'text',\n",
    "        'mode': 'markers',\n",
    "        'marker': {\n",
    "            'color': final['tot_pts'].tolist(),\n",
    "            'size': (final['score_m']*50).tolist(),\n",
    "            'showscale': True,\n",
    "            'colorscale' :'Viridis',\n",
    "            'colorbar' : dict(\n",
    "                title = 'Team Points',\n",
    "                ticks = 'outside')\n",
    "        }\n",
    "    }\n",
    "]\n",
    "\n",
    "layout = go.Layout(\n",
    "    title='Team Diagnostics',\n",
    "    xaxis=dict(\n",
    "        title='Attack Score',\n",
    "        ),\n",
    "    yaxis=dict(\n",
    "        title='Defense Score',\n",
    "        ))\n",
    "fig = go.Figure(data=data, layout=layout) \n",
    "# urlD = py.plot(fig, filename='Team-3rd plot', sharing='public', auto_open='False')\n",
    "py.iplot(fig, filename='Team-3rd plot')\n",
    "# urlD"
   ]
  },
  {
   "cell_type": "code",
   "execution_count": 11,
   "metadata": {},
   "outputs": [
    {
     "data": {
      "application/vnd.plotly.v1+json": {
       "config": {
        "linkText": "Export to plot.ly",
        "plotlyServerURL": "https://plot.ly",
        "showLink": true
       },
       "data": [
        {
         "hoverinfo": "text",
         "marker": {
          "color": [
           0.08,
           0.01,
           0.08,
           0.33,
           0.03,
           0.02,
           0.04,
           0.05,
           0.01,
           0.04,
           0.03,
           0.04,
           0.01,
           0.01,
           0.02,
           0.04,
           0.02,
           0.17,
           0.08,
           0.03,
           0.01,
           0.07,
           0.06,
           0.06,
           0.11,
           0.08,
           0.06,
           0.04,
           0.04,
           0.02,
           0.13,
           0.17,
           0.11,
           0.04,
           0.02,
           0.05,
           0.06,
           0.04,
           0.11,
           0.02,
           0.05,
           0.07,
           0.07,
           0.04,
           0.03,
           0.13,
           0.08,
           0.02,
           0.06,
           0.05,
           0.01,
           0,
           0,
           0,
           0,
           0,
           0,
           0,
           0,
           0,
           0,
           0,
           0,
           0,
           0,
           0,
           0,
           0,
           0,
           0,
           0,
           0,
           0,
           0,
           0,
           0,
           0,
           0,
           0,
           0,
           0,
           0,
           0,
           0,
           0,
           0,
           0,
           0,
           0,
           0,
           0,
           0,
           0,
           0,
           0,
           0,
           0,
           0,
           0,
           0,
           0,
           0,
           0,
           0,
           0,
           0,
           0,
           0,
           0,
           0,
           0,
           0,
           0,
           0,
           0,
           0,
           0,
           0,
           0,
           0,
           0,
           0,
           0,
           0,
           0,
           0,
           0,
           0,
           0,
           0,
           0,
           0,
           0,
           0,
           0,
           0,
           0,
           0,
           0,
           0,
           0,
           0,
           0,
           0,
           0,
           0,
           0,
           0,
           0,
           0,
           0
          ],
          "colorbar": {
           "tickmode": "array",
           "ticks": "outside",
           "ticktext": [
            "Low",
            "Medium",
            "High"
           ],
           "tickvals": [
            0.01,
            0.17,
            0.32
           ],
           "title": "Scoring Ratio"
          },
          "colorscale": "Jet",
          "showscale": true,
          "size": [
           13.3,
           45,
           15,
           30,
           10,
           30,
           26.7,
           23.3,
           54,
           15,
           22.5,
           17.5,
           17.1,
           25,
           34.300000000000004,
           20,
           30,
           6.7,
           30,
           25,
           30,
           11.399999999999999,
           20,
           20,
           10,
           13.3,
           22.5,
           17.5,
           15,
           30,
           20,
           13.3,
           10,
           30,
           55,
           16,
           28,
           26.7,
           10,
           53.3,
           46.7,
           27.5,
           16.7,
           10,
           22.5,
           20,
           13.3,
           30,
           40,
           40,
           28,
           2.5,
           10,
           7.5,
           20,
           16.7,
           20,
           20,
           10,
           10,
           10,
           20,
           10,
           6.7,
           15,
           15,
           10,
           3.3000000000000003,
           3.3000000000000003,
           10,
           16.7,
           12.5,
           6.7,
           26.7,
           20,
           20,
           7.5,
           10,
           18.3,
           10,
           4,
           6.7,
           21.400000000000002,
           7.5,
           10,
           30,
           20,
           20,
           10,
           13.3,
           23.3,
           15,
           10,
           10,
           16.7,
           10,
           3.3000000000000003,
           20,
           25,
           22.5,
           5,
           30,
           5,
           30,
           3.3000000000000003,
           20,
           10,
           16.7,
           5,
           20,
           5,
           10,
           6.7,
           20,
           10,
           10,
           16.7,
           13.3,
           20,
           30,
           6.7,
           15,
           10,
           15,
           10,
           4,
           8,
           6.7,
           5,
           10,
           5,
           5,
           10,
           10,
           10,
           3.3000000000000003,
           10,
           10,
           13.3,
           16.7,
           6.7,
           25,
           5,
           30,
           10,
           3.3000000000000003,
           15,
           6.7,
           5,
           8,
           5
          ]
         },
         "mode": "markers",
         "text": [
          "Name: Ángel Di María<br>Team: Argentina<br>Difficulty: 0.05<br>Shots Accuracy: 0.33<br>Scoring Ratio: 0.08<br>Shots per match: 1.33",
          "Name: Lionel Andrés Messi Cuccittini<br>Team: Argentina<br>Difficulty: 0.16<br>Shots Accuracy: 1.5<br>Scoring Ratio: 0.01<br>Shots per match: 4.5",
          "Name: Sergio Agüero<br>Team: Argentina<br>Difficulty: 0.05<br>Shots Accuracy: 0.75<br>Scoring Ratio: 0.08<br>Shots per match: 1.5",
          "Name: Adnan Januzaj<br>Team: Belgium<br>Difficulty: 0.05<br>Shots Accuracy: 1.0<br>Scoring Ratio: 0.33<br>Shots per match: 3.0",
          "Name: Dries Mertens<br>Team: Belgium<br>Difficulty: 0.03<br>Shots Accuracy: 0.5<br>Scoring Ratio: 0.03<br>Shots per match: 1.0",
          "Name: Eden Hazard<br>Team: Belgium<br>Difficulty: 0.17<br>Shots Accuracy: 1.17<br>Scoring Ratio: 0.02<br>Shots per match: 3.0",
          "Name: Michy Batshuayi<br>Team: Belgium<br>Difficulty: 0.18<br>Shots Accuracy: 1.67<br>Scoring Ratio: 0.04<br>Shots per match: 2.67",
          "Name: Romelu Lukaku<br>Team: Belgium<br>Difficulty: 0.17<br>Shots Accuracy: 1.0<br>Scoring Ratio: 0.05<br>Shots per match: 2.33",
          "Name: Neymar<br>Team: Brazil<br>Difficulty: 0.16<br>Shots Accuracy: 3.0<br>Scoring Ratio: 0.01<br>Shots per match: 5.4",
          "Name: Roberto Firmino<br>Team: Brazil<br>Difficulty: 0.3<br>Shots Accuracy: 0.5<br>Scoring Ratio: 0.04<br>Shots per match: 1.5",
          "Name: Falcao<br>Team: Colombia<br>Difficulty: 0.22<br>Shots Accuracy: 1.25<br>Scoring Ratio: 0.03<br>Shots per match: 2.25",
          "Name: Juan Guillermo Cuadrado Bello<br>Team: Colombia<br>Difficulty: 0.1<br>Shots Accuracy: 0.5<br>Scoring Ratio: 0.04<br>Shots per match: 1.75",
          "Name: Andrej Kramarić<br>Team: Croatia<br>Difficulty: 0.09<br>Shots Accuracy: 0.43<br>Scoring Ratio: 0.01<br>Shots per match: 1.71",
          "Name: Ante Rebić<br>Team: Croatia<br>Difficulty: 0.08<br>Shots Accuracy: 1.0<br>Scoring Ratio: 0.01<br>Shots per match: 2.5",
          "Name: Ivan Perišić<br>Team: Croatia<br>Difficulty: 0.08<br>Shots Accuracy: 0.86<br>Scoring Ratio: 0.02<br>Shots per match: 3.43",
          "Name: Mario Mandžukić<br>Team: Croatia<br>Difficulty: 0.22<br>Shots Accuracy: 1.0<br>Scoring Ratio: 0.04<br>Shots per match: 2.0",
          "Name: Christian Eriksen<br>Team: Denmark<br>Difficulty: 0.12<br>Shots Accuracy: 0.75<br>Scoring Ratio: 0.02<br>Shots per match: 3.0",
          "Name: Yussuf Yurary Poulsen<br>Team: Denmark<br>Difficulty: 0.06<br>Shots Accuracy: 0.33<br>Scoring Ratio: 0.17<br>Shots per match: 0.67",
          "Name: Mohamed Salah<br>Team: Egypt<br>Difficulty: 0.28<br>Shots Accuracy: 1.0<br>Scoring Ratio: 0.08<br>Shots per match: 3.0",
          "Name: Harry Kane<br>Team: England<br>Difficulty: 0.27<br>Shots Accuracy: 1.33<br>Scoring Ratio: 0.03<br>Shots per match: 2.5",
          "Name: Antoine Griezmann<br>Team: France<br>Difficulty: 0.18<br>Shots Accuracy: 1.57<br>Scoring Ratio: 0.01<br>Shots per match: 3.0",
          "Name: Kylian Mbappé<br>Team: France<br>Difficulty: 0.2<br>Shots Accuracy: 1.0<br>Scoring Ratio: 0.07<br>Shots per match: 1.14",
          "Name: Marco Reus<br>Team: Germany<br>Difficulty: 0.05<br>Shots Accuracy: 0.33<br>Scoring Ratio: 0.06<br>Shots per match: 2.0",
          "Name: Alfreð Finnbogason<br>Team: Iceland<br>Difficulty: 0.19<br>Shots Accuracy: 0.67<br>Scoring Ratio: 0.06<br>Shots per match: 2.0",
          "Name: Genki Haraguchi<br>Team: Japan<br>Difficulty: 0.06<br>Shots Accuracy: 0.33<br>Scoring Ratio: 0.11<br>Shots per match: 1.0",
          "Name: Keisuke Honda<br>Team: Japan<br>Difficulty: 0.23<br>Shots Accuracy: 1.0<br>Scoring Ratio: 0.08<br>Shots per match: 1.33",
          "Name: Takashi Inui<br>Team: Japan<br>Difficulty: 0.09<br>Shots Accuracy: 1.25<br>Scoring Ratio: 0.06<br>Shots per match: 2.25",
          "Name: Yūya Ōsako<br>Team: Japan<br>Difficulty: 0.07<br>Shots Accuracy: 1.0<br>Scoring Ratio: 0.04<br>Shots per match: 1.75",
          "Name: Chicharito<br>Team: Mexico<br>Difficulty: 0.07<br>Shots Accuracy: 0.25<br>Scoring Ratio: 0.04<br>Shots per match: 1.5",
          "Name: Hirving Rodrigo Lozano Bahena<br>Team: Mexico<br>Difficulty: 0.09<br>Shots Accuracy: 0.5<br>Scoring Ratio: 0.02<br>Shots per match: 3.0",
          "Name: Khalid Boutaïb<br>Team: Morocco<br>Difficulty: 0.26<br>Shots Accuracy: 1.0<br>Scoring Ratio: 0.13<br>Shots per match: 2.0",
          "Name: Ahmed Musa<br>Team: Nigeria<br>Difficulty: 0.12<br>Shots Accuracy: 1.0<br>Scoring Ratio: 0.17<br>Shots per match: 1.33",
          "Name: André Carrillo<br>Team: Peru<br>Difficulty: 0.04<br>Shots Accuracy: 0.67<br>Scoring Ratio: 0.11<br>Shots per match: 1.0",
          "Name: José Paolo Guerrero González<br>Team: Peru<br>Difficulty: 0.1<br>Shots Accuracy: 1.67<br>Scoring Ratio: 0.04<br>Shots per match: 3.0",
          "Name: Cristiano Ronaldo dos Santos Aveiro<br>Team: Portugal<br>Difficulty: 0.14<br>Shots Accuracy: 2.0<br>Scoring Ratio: 0.02<br>Shots per match: 5.5",
          "Name: Artem Dzyuba<br>Team: Russia<br>Difficulty: 0.22<br>Shots Accuracy: 0.8<br>Scoring Ratio: 0.05<br>Shots per match: 1.6",
          "Name: Denis Cheryshev<br>Team: Russia<br>Difficulty: 0.15<br>Shots Accuracy: 1.4<br>Scoring Ratio: 0.06<br>Shots per match: 2.8",
          "Name: M'Baye Babacar Niang<br>Team: Senegal<br>Difficulty: 0.33<br>Shots Accuracy: 1.33<br>Scoring Ratio: 0.04<br>Shots per match: 2.67",
          "Name: Sadio Mané<br>Team: Senegal<br>Difficulty: 0.21<br>Shots Accuracy: 0.33<br>Scoring Ratio: 0.11<br>Shots per match: 1.0",
          "Name: Aleksandar Mitrovic<br>Team: Serbia<br>Difficulty: 0.11<br>Shots Accuracy: 1.67<br>Scoring Ratio: 0.02<br>Shots per match: 5.33",
          "Name: Heung-Min Son<br>Team: South Korea<br>Difficulty: 0.1<br>Shots Accuracy: 1.0<br>Scoring Ratio: 0.05<br>Shots per match: 4.67",
          "Name: Diego da Silva Costa<br>Team: Spain<br>Difficulty: 0.17<br>Shots Accuracy: 1.25<br>Scoring Ratio: 0.07<br>Shots per match: 2.75",
          "Name: Iago Aspas Juncal<br>Team: Spain<br>Difficulty: 0.37<br>Shots Accuracy: 1.33<br>Scoring Ratio: 0.07<br>Shots per match: 1.67",
          "Name: Ola Toivonen<br>Team: Sweden<br>Difficulty: 0.07<br>Shots Accuracy: 0.6<br>Scoring Ratio: 0.04<br>Shots per match: 1.0",
          "Name: Blerim Džemaili<br>Team: Switzerland<br>Difficulty: 0.15<br>Shots Accuracy: 1.0<br>Scoring Ratio: 0.03<br>Shots per match: 2.25",
          "Name: Josip Drmic<br>Team: Switzerland<br>Difficulty: 0.06<br>Shots Accuracy: 1.0<br>Scoring Ratio: 0.13<br>Shots per match: 2.0",
          "Name: Steven Zuber<br>Team: Switzerland<br>Difficulty: 0.03<br>Shots Accuracy: 0.67<br>Scoring Ratio: 0.08<br>Shots per match: 1.33",
          "Name: Xherdan Shaqiri<br>Team: Switzerland<br>Difficulty: 0.04<br>Shots Accuracy: 0.5<br>Scoring Ratio: 0.02<br>Shots per match: 3.0",
          "Name: Wahbi Khazri<br>Team: Tunisia<br>Difficulty: 0.12<br>Shots Accuracy: 1.67<br>Scoring Ratio: 0.06<br>Shots per match: 4.0",
          "Name: Edinson Cavani<br>Team: Uruguay<br>Difficulty: 0.12<br>Shots Accuracy: 1.25<br>Scoring Ratio: 0.05<br>Shots per match: 4.0",
          "Name: Luis Alberto Suárez Díaz<br>Team: Uruguay<br>Difficulty: 0.11<br>Shots Accuracy: 1.0<br>Scoring Ratio: 0.01<br>Shots per match: 2.8",
          "Name: Cristian David Pavón<br>Team: Argentina<br>Difficulty: 0.01<br>Shots Accuracy: 0.0<br>Scoring Ratio: 0.0<br>Shots per match: 0.25",
          "Name: Gonzalo Gerardo Higuaín<br>Team: Argentina<br>Difficulty: 0.1<br>Shots Accuracy: 0.0<br>Scoring Ratio: 0.0<br>Shots per match: 1.0",
          "Name: Maximiliano Eduardo Meza<br>Team: Argentina<br>Difficulty: 0.04<br>Shots Accuracy: 0.0<br>Scoring Ratio: 0.0<br>Shots per match: 0.75",
          "Name: Tim Cahill<br>Team: Australia<br>Difficulty: 0.07<br>Shots Accuracy: 0.0<br>Scoring Ratio: 0.0<br>Shots per match: 2.0",
          "Name: Tom Rogić<br>Team: Australia<br>Difficulty: 0.07<br>Shots Accuracy: 0.0<br>Scoring Ratio: 0.0<br>Shots per match: 1.67",
          "Name: Douglas Costa de Souza<br>Team: Brazil<br>Difficulty: 0.01<br>Shots Accuracy: 0.0<br>Scoring Ratio: 0.0<br>Shots per match: 2.0",
          "Name: Gabriel Jesus<br>Team: Brazil<br>Difficulty: 0.17<br>Shots Accuracy: 0.0<br>Scoring Ratio: 0.0<br>Shots per match: 2.0",
          "Name: Willian<br>Team: Brazil<br>Difficulty: 0.03<br>Shots Accuracy: 0.0<br>Scoring Ratio: 0.0<br>Shots per match: 1.0",
          "Name: Carlos Arturo Bacca Ahumada<br>Team: Colombia<br>Difficulty: 0.16<br>Shots Accuracy: 0.0<br>Scoring Ratio: 0.0<br>Shots per match: 1.0",
          "Name: James David Rodríguez Rubio<br>Team: Colombia<br>Difficulty: 0.03<br>Shots Accuracy: 0.0<br>Scoring Ratio: 0.0<br>Shots per match: 1.0",
          "Name: Juan Fernando Quintero Paniagua<br>Team: Colombia<br>Difficulty: 0.04<br>Shots Accuracy: 0.0<br>Scoring Ratio: 0.0<br>Shots per match: 2.0",
          "Name: Luis Fernando Muriel Fruto<br>Team: Colombia<br>Difficulty: 0.42<br>Shots Accuracy: 0.0<br>Scoring Ratio: 0.0<br>Shots per match: 1.0",
          "Name: Bryan Ruiz González<br>Team: Costa Rica<br>Difficulty: 0.27<br>Shots Accuracy: 0.0<br>Scoring Ratio: 0.0<br>Shots per match: 0.67",
          "Name: Daniel Colindres Solera<br>Team: Costa Rica<br>Difficulty: 0.04<br>Shots Accuracy: 0.0<br>Scoring Ratio: 0.0<br>Shots per match: 1.5",
          "Name: Joel Nathaniel Campbell Samuels<br>Team: Costa Rica<br>Difficulty: 0.05<br>Shots Accuracy: 0.0<br>Scoring Ratio: 0.0<br>Shots per match: 1.5",
          "Name: Marcos Danilo Ureña Porras<br>Team: Costa Rica<br>Difficulty: 0.01<br>Shots Accuracy: 0.0<br>Scoring Ratio: 0.0<br>Shots per match: 1.0",
          "Name: Marko Pjaca<br>Team: Croatia<br>Difficulty: 0.01<br>Shots Accuracy: 0.0<br>Scoring Ratio: 0.0<br>Shots per match: 0.33",
          "Name: Andreas Evald Cornelius<br>Team: Denmark<br>Difficulty: 0.04<br>Shots Accuracy: 0.0<br>Scoring Ratio: 0.0<br>Shots per match: 0.33",
          "Name: Martin Braithwaite<br>Team: Denmark<br>Difficulty: 0.06<br>Shots Accuracy: 0.0<br>Scoring Ratio: 0.0<br>Shots per match: 1.0",
          "Name: Nicolai Jørgensen<br>Team: Denmark<br>Difficulty: 0.16<br>Shots Accuracy: 0.0<br>Scoring Ratio: 0.0<br>Shots per match: 1.67",
          "Name: Pione Sisto Ifolo Emirmija<br>Team: Denmark<br>Difficulty: 0.02<br>Shots Accuracy: 0.0<br>Scoring Ratio: 0.0<br>Shots per match: 1.25",
          "Name: Abdalla Mahmoud El Said Bekhit<br>Team: Egypt<br>Difficulty: 0.02<br>Shots Accuracy: 0.0<br>Scoring Ratio: 0.0<br>Shots per match: 0.67",
          "Name: Mahmoud Ibrahim Hassan<br>Team: Egypt<br>Difficulty: 0.06<br>Shots Accuracy: 0.0<br>Scoring Ratio: 0.0<br>Shots per match: 2.67",
          "Name: Marwan Mohsen<br>Team: Egypt<br>Difficulty: 0.07<br>Shots Accuracy: 0.0<br>Scoring Ratio: 0.0<br>Shots per match: 2.0",
          "Name: Danny Welbeck<br>Team: England<br>Difficulty: 0.09<br>Shots Accuracy: 0.0<br>Scoring Ratio: 0.0<br>Shots per match: 2.0",
          "Name: Jamie Richard Vardy<br>Team: England<br>Difficulty: 0.02<br>Shots Accuracy: 0.0<br>Scoring Ratio: 0.0<br>Shots per match: 0.75",
          "Name: Marcus Rashford<br>Team: England<br>Difficulty: 0.16<br>Shots Accuracy: 0.0<br>Scoring Ratio: 0.0<br>Shots per match: 1.0",
          "Name: Raheem Sterling<br>Team: England<br>Difficulty: 0.15<br>Shots Accuracy: 0.0<br>Scoring Ratio: 0.0<br>Shots per match: 1.83",
          "Name: Blaise Matuidi<br>Team: France<br>Difficulty: 0.04<br>Shots Accuracy: 0.0<br>Scoring Ratio: 0.0<br>Shots per match: 1.0",
          "Name: Corentin Tolisso<br>Team: France<br>Difficulty: 0.06<br>Shots Accuracy: 0.0<br>Scoring Ratio: 0.0<br>Shots per match: 0.4",
          "Name: Nabil Fekir<br>Team: France<br>Difficulty: 0.01<br>Shots Accuracy: 0.0<br>Scoring Ratio: 0.0<br>Shots per match: 0.67",
          "Name: Olivier Giroud<br>Team: France<br>Difficulty: 0.07<br>Shots Accuracy: 0.0<br>Scoring Ratio: 0.0<br>Shots per match: 2.14",
          "Name: Ousmane Dembélé<br>Team: France<br>Difficulty: 0.03<br>Shots Accuracy: 0.0<br>Scoring Ratio: 0.0<br>Shots per match: 0.75",
          "Name: Thomas Lemar<br>Team: France<br>Difficulty: 0.01<br>Shots Accuracy: 0.0<br>Scoring Ratio: 0.0<br>Shots per match: 1.0",
          "Name: Julian Draxler<br>Team: Germany<br>Difficulty: 0.18<br>Shots Accuracy: 0.0<br>Scoring Ratio: 0.0<br>Shots per match: 3.0",
          "Name: Leon Goretzka<br>Team: Germany<br>Difficulty: 0.08<br>Shots Accuracy: 0.0<br>Scoring Ratio: 0.0<br>Shots per match: 2.0",
          "Name: Mario Gómez García<br>Team: Germany<br>Difficulty: 0.25<br>Shots Accuracy: 0.0<br>Scoring Ratio: 0.0<br>Shots per match: 2.0",
          "Name: Mesut Özil<br>Team: Germany<br>Difficulty: 0.04<br>Shots Accuracy: 0.0<br>Scoring Ratio: 0.0<br>Shots per match: 1.0",
          "Name: Thomas Müller<br>Team: Germany<br>Difficulty: 0.02<br>Shots Accuracy: 0.0<br>Scoring Ratio: 0.0<br>Shots per match: 1.33",
          "Name: Timo Werner<br>Team: Germany<br>Difficulty: 0.17<br>Shots Accuracy: 0.0<br>Scoring Ratio: 0.0<br>Shots per match: 2.33",
          "Name: Johann Berg Gudmundsson<br>Team: Iceland<br>Difficulty: 0.02<br>Shots Accuracy: 0.0<br>Scoring Ratio: 0.0<br>Shots per match: 1.5",
          "Name: Jón Daði Böðvarsson<br>Team: Iceland<br>Difficulty: 0.01<br>Shots Accuracy: 0.0<br>Scoring Ratio: 0.0<br>Shots per match: 1.0",
          "Name: Mehdi Taremi<br>Team: Iran<br>Difficulty: 0.18<br>Shots Accuracy: 0.0<br>Scoring Ratio: 0.0<br>Shots per match: 1.0",
          "Name: Sardar Azmoun<br>Team: Iran<br>Difficulty: 0.1<br>Shots Accuracy: 0.0<br>Scoring Ratio: 0.0<br>Shots per match: 1.67",
          "Name: Shinji Kagawa<br>Team: Japan<br>Difficulty: 0.19<br>Shots Accuracy: 0.0<br>Scoring Ratio: 0.0<br>Shots per match: 1.0",
          "Name: Shinji Okazaki<br>Team: Japan<br>Difficulty: 0.07<br>Shots Accuracy: 0.0<br>Scoring Ratio: 0.0<br>Shots per match: 0.33",
          "Name: Yoshinori Muto<br>Team: Japan<br>Difficulty: 0.07<br>Shots Accuracy: 0.0<br>Scoring Ratio: 0.0<br>Shots per match: 2.0",
          "Name: Carlos Alberto Vela Garrido<br>Team: Mexico<br>Difficulty: 0.17<br>Shots Accuracy: 0.0<br>Scoring Ratio: 0.0<br>Shots per match: 2.5",
          "Name: Miguel Arturo Layún Prado<br>Team: Mexico<br>Difficulty: 0.04<br>Shots Accuracy: 0.0<br>Scoring Ratio: 0.0<br>Shots per match: 2.25",
          "Name: Raúl Alonso Jiménez Rodríguez<br>Team: Mexico<br>Difficulty: 0.04<br>Shots Accuracy: 0.0<br>Scoring Ratio: 0.0<br>Shots per match: 0.5",
          "Name: Amine Harit<br>Team: Morocco<br>Difficulty: 0.08<br>Shots Accuracy: 0.0<br>Scoring Ratio: 0.0<br>Shots per match: 3.0",
          "Name: Ayoub El Kaabi<br>Team: Morocco<br>Difficulty: 0.04<br>Shots Accuracy: 0.0<br>Scoring Ratio: 0.0<br>Shots per match: 0.5",
          "Name: Hakim Ziyech<br>Team: Morocco<br>Difficulty: 0.09<br>Shots Accuracy: 0.0<br>Scoring Ratio: 0.0<br>Shots per match: 3.0",
          "Name: Nordin Amrabat<br>Team: Morocco<br>Difficulty: 0.0<br>Shots Accuracy: 0.0<br>Scoring Ratio: 0.0<br>Shots per match: 0.33",
          "Name: Younès Belhanda<br>Team: Morocco<br>Difficulty: 0.06<br>Shots Accuracy: 0.0<br>Scoring Ratio: 0.0<br>Shots per match: 2.0",
          "Name: Kelechi Iheanacho<br>Team: Nigeria<br>Difficulty: 0.03<br>Shots Accuracy: 0.0<br>Scoring Ratio: 0.0<br>Shots per match: 1.0",
          "Name: Odion Jude Ighalo<br>Team: Nigeria<br>Difficulty: 0.11<br>Shots Accuracy: 0.0<br>Scoring Ratio: 0.0<br>Shots per match: 1.67",
          "Name: Blas Antonio Miguel Pérez Ortega<br>Team: Panama<br>Difficulty: 0.03<br>Shots Accuracy: 0.0<br>Scoring Ratio: 0.0<br>Shots per match: 0.5",
          "Name: Edgar Yoel Bárcenas Herrera<br>Team: Panama<br>Difficulty: 0.07<br>Shots Accuracy: 0.0<br>Scoring Ratio: 0.0<br>Shots per match: 2.0",
          "Name: Gabriel Arturo Torres Tejada<br>Team: Panama<br>Difficulty: 0.07<br>Shots Accuracy: 0.0<br>Scoring Ratio: 0.0<br>Shots per match: 0.5",
          "Name: José Luis Rodriguez<br>Team: Panama<br>Difficulty: 0.02<br>Shots Accuracy: 0.0<br>Scoring Ratio: 0.0<br>Shots per match: 1.0",
          "Name: Christian Alberto Cueva Bravo<br>Team: Peru<br>Difficulty: 0.27<br>Shots Accuracy: 0.0<br>Scoring Ratio: 0.0<br>Shots per match: 0.67",
          "Name: Jefferson Agustín Farfán Guadalupe<br>Team: Peru<br>Difficulty: 0.1<br>Shots Accuracy: 0.0<br>Scoring Ratio: 0.0<br>Shots per match: 2.0",
          "Name: Arkadiusz Milik<br>Team: Poland<br>Difficulty: 0.18<br>Shots Accuracy: 0.0<br>Scoring Ratio: 0.0<br>Shots per match: 1.0",
          "Name: Dawid Kownacki<br>Team: Poland<br>Difficulty: 0.04<br>Shots Accuracy: 0.0<br>Scoring Ratio: 0.0<br>Shots per match: 1.0",
          "Name: Kamil Grosicki<br>Team: Poland<br>Difficulty: 0.03<br>Shots Accuracy: 0.0<br>Scoring Ratio: 0.0<br>Shots per match: 1.67",
          "Name: Piotr Zieliński<br>Team: Poland<br>Difficulty: 0.04<br>Shots Accuracy: 0.0<br>Scoring Ratio: 0.0<br>Shots per match: 1.33",
          "Name: Rafał Kurzawa<br>Team: Poland<br>Difficulty: 0.04<br>Shots Accuracy: 0.0<br>Scoring Ratio: 0.0<br>Shots per match: 2.0",
          "Name: Robert Lewandowski<br>Team: Poland<br>Difficulty: 0.13<br>Shots Accuracy: 0.0<br>Scoring Ratio: 0.0<br>Shots per match: 3.0",
          "Name: André Miguel Valente Silva<br>Team: Portugal<br>Difficulty: 0.01<br>Shots Accuracy: 0.0<br>Scoring Ratio: 0.0<br>Shots per match: 0.67",
          "Name: Gonçalo Guedes<br>Team: Portugal<br>Difficulty: 0.06<br>Shots Accuracy: 0.0<br>Scoring Ratio: 0.0<br>Shots per match: 1.5",
          "Name: Alan Dzagoev<br>Team: Russia<br>Difficulty: 0.4<br>Shots Accuracy: 0.0<br>Scoring Ratio: 0.0<br>Shots per match: 1.0",
          "Name: Aleksandr Erokhin<br>Team: Russia<br>Difficulty: 0.15<br>Shots Accuracy: 0.0<br>Scoring Ratio: 0.0<br>Shots per match: 1.5",
          "Name: Aleksandr Golovin<br>Team: Russia<br>Difficulty: 0.15<br>Shots Accuracy: 0.0<br>Scoring Ratio: 0.0<br>Shots per match: 1.0",
          "Name: Aleksandr Samedov<br>Team: Russia<br>Difficulty: 0.02<br>Shots Accuracy: 0.0<br>Scoring Ratio: 0.0<br>Shots per match: 0.4",
          "Name: Fyodor Smolov<br>Team: Russia<br>Difficulty: 0.15<br>Shots Accuracy: 0.0<br>Scoring Ratio: 0.0<br>Shots per match: 0.8",
          "Name: Fahad Mosaed Al Muwallad Al Harbi<br>Team: Saudi Arabia<br>Difficulty: 0.27<br>Shots Accuracy: 0.0<br>Scoring Ratio: 0.0<br>Shots per match: 0.67",
          "Name: Mohammad Ibrahim Al Sahlawi<br>Team: Saudi Arabia<br>Difficulty: 0.02<br>Shots Accuracy: 0.0<br>Scoring Ratio: 0.0<br>Shots per match: 0.5",
          "Name: Mohammed Kanoo<br>Team: Saudi Arabia<br>Difficulty: 0.07<br>Shots Accuracy: 0.0<br>Scoring Ratio: 0.0<br>Shots per match: 1.0",
          "Name: Mohanad Aseri Abu Radiah<br>Team: Saudi Arabia<br>Difficulty: 0.12<br>Shots Accuracy: 0.0<br>Scoring Ratio: 0.0<br>Shots per match: 0.5",
          "Name: Cheikh N'Doye<br>Team: Senegal<br>Difficulty: 0.06<br>Shots Accuracy: 0.0<br>Scoring Ratio: 0.0<br>Shots per match: 0.5",
          "Name: Ismaïla Sarr<br>Team: Senegal<br>Difficulty: 0.07<br>Shots Accuracy: 0.0<br>Scoring Ratio: 0.0<br>Shots per match: 1.0",
          "Name: Keita Baldé<br>Team: Senegal<br>Difficulty: 0.02<br>Shots Accuracy: 0.0<br>Scoring Ratio: 0.0<br>Shots per match: 1.0",
          "Name: Mame Diouf<br>Team: Senegal<br>Difficulty: 0.18<br>Shots Accuracy: 0.0<br>Scoring Ratio: 0.0<br>Shots per match: 1.0",
          "Name: Adem Ljajić<br>Team: Serbia<br>Difficulty: 0.0<br>Shots Accuracy: 0.0<br>Scoring Ratio: 0.0<br>Shots per match: 0.33",
          "Name: Andrija Živković<br>Team: Serbia<br>Difficulty: 0.0<br>Shots Accuracy: 0.0<br>Scoring Ratio: 0.0<br>Shots per match: 1.0",
          "Name: Dusan Tadic<br>Team: Serbia<br>Difficulty: 0.03<br>Shots Accuracy: 0.0<br>Scoring Ratio: 0.0<br>Shots per match: 1.0",
          "Name: Filip Kostić<br>Team: Serbia<br>Difficulty: 0.18<br>Shots Accuracy: 0.0<br>Scoring Ratio: 0.0<br>Shots per match: 1.33",
          "Name: Sergej Milinković-Savić<br>Team: Serbia<br>Difficulty: 0.04<br>Shots Accuracy: 0.0<br>Scoring Ratio: 0.0<br>Shots per match: 1.67",
          "Name: Hee-Chan Hwang<br>Team: South Korea<br>Difficulty: 0.07<br>Shots Accuracy: 0.0<br>Scoring Ratio: 0.0<br>Shots per match: 0.67",
          "Name: David Silva<br>Team: Spain<br>Difficulty: 0.14<br>Shots Accuracy: 0.0<br>Scoring Ratio: 0.0<br>Shots per match: 2.5",
          "Name: John Guidetti<br>Team: Sweden<br>Difficulty: 0.02<br>Shots Accuracy: 0.0<br>Scoring Ratio: 0.0<br>Shots per match: 0.5",
          "Name: Marcus Berg<br>Team: Sweden<br>Difficulty: 0.18<br>Shots Accuracy: 0.0<br>Scoring Ratio: 0.0<br>Shots per match: 3.0",
          "Name: Breel-Donald Embolo<br>Team: Switzerland<br>Difficulty: 0.04<br>Shots Accuracy: 0.0<br>Scoring Ratio: 0.0<br>Shots per match: 1.0",
          "Name: Haris Seferović<br>Team: Switzerland<br>Difficulty: 0.02<br>Shots Accuracy: 0.0<br>Scoring Ratio: 0.0<br>Shots per match: 0.33",
          "Name: Mario Gavranović<br>Team: Switzerland<br>Difficulty: 0.17<br>Shots Accuracy: 0.0<br>Scoring Ratio: 0.0<br>Shots per match: 1.5",
          "Name: Carlos Andrés Sánchez Arcosa<br>Team: Uruguay<br>Difficulty: 0.12<br>Shots Accuracy: 0.0<br>Scoring Ratio: 0.0<br>Shots per match: 0.67",
          "Name: Cristhian Ricardo Stuani Curbelo<br>Team: Uruguay<br>Difficulty: 0.01<br>Shots Accuracy: 0.0<br>Scoring Ratio: 0.0<br>Shots per match: 0.5",
          "Name: Cristian Gabriel Rodríguez Barrotti<br>Team: Uruguay<br>Difficulty: 0.02<br>Shots Accuracy: 0.0<br>Scoring Ratio: 0.0<br>Shots per match: 0.8",
          "Name: Giorgian Daniel De Arrascaeta Benedetti<br>Team: Uruguay<br>Difficulty: 0.2<br>Shots Accuracy: 0.0<br>Scoring Ratio: 0.0<br>Shots per match: 0.5"
         ],
         "type": "scatter",
         "uid": "ae2fab25-206d-425c-ba93-39f3281bfb5c",
         "x": [
          5,
          16,
          5,
          5,
          3,
          17,
          18,
          17,
          16,
          30,
          22,
          10,
          9,
          8,
          8,
          22,
          12,
          6,
          28.000000000000004,
          27,
          18,
          20,
          5,
          19,
          6,
          23,
          9,
          7.000000000000001,
          7.000000000000001,
          9,
          26,
          12,
          4,
          10,
          14.000000000000002,
          22,
          15,
          33,
          21,
          11,
          10,
          17,
          37,
          7.000000000000001,
          15,
          6,
          3,
          4,
          12,
          12,
          11,
          1,
          10,
          4,
          7.000000000000001,
          7.000000000000001,
          1,
          17,
          3,
          16,
          3,
          4,
          42,
          27,
          4,
          5,
          1,
          1,
          4,
          6,
          16,
          2,
          2,
          6,
          7.000000000000001,
          9,
          2,
          16,
          15,
          4,
          6,
          1,
          7.000000000000001,
          3,
          1,
          18,
          8,
          25,
          4,
          2,
          17,
          2,
          1,
          18,
          10,
          19,
          7.000000000000001,
          7.000000000000001,
          17,
          4,
          4,
          8,
          4,
          9,
          0,
          6,
          3,
          11,
          3,
          7.000000000000001,
          7.000000000000001,
          2,
          27,
          10,
          18,
          4,
          3,
          4,
          4,
          13,
          1,
          6,
          40,
          15,
          15,
          2,
          15,
          27,
          2,
          7.000000000000001,
          12,
          6,
          7.000000000000001,
          2,
          18,
          0,
          0,
          3,
          18,
          4,
          7.000000000000001,
          14.000000000000002,
          2,
          18,
          4,
          2,
          17,
          12,
          1,
          2,
          20
         ],
         "y": [
          0.33,
          1.5,
          0.75,
          1,
          0.5,
          1.17,
          1.67,
          1,
          3,
          0.5,
          1.25,
          0.5,
          0.43,
          1,
          0.86,
          1,
          0.75,
          0.33,
          1,
          1.33,
          1.57,
          1,
          0.33,
          0.67,
          0.33,
          1,
          1.25,
          1,
          0.25,
          0.5,
          1,
          1,
          0.67,
          1.67,
          2,
          0.8,
          1.4,
          1.33,
          0.33,
          1.67,
          1,
          1.25,
          1.33,
          0.6,
          1,
          1,
          0.67,
          0.5,
          1.67,
          1.25,
          1,
          0,
          0,
          0,
          0,
          0,
          0,
          0,
          0,
          0,
          0,
          0,
          0,
          0,
          0,
          0,
          0,
          0,
          0,
          0,
          0,
          0,
          0,
          0,
          0,
          0,
          0,
          0,
          0,
          0,
          0,
          0,
          0,
          0,
          0,
          0,
          0,
          0,
          0,
          0,
          0,
          0,
          0,
          0,
          0,
          0,
          0,
          0,
          0,
          0,
          0,
          0,
          0,
          0,
          0,
          0,
          0,
          0,
          0,
          0,
          0,
          0,
          0,
          0,
          0,
          0,
          0,
          0,
          0,
          0,
          0,
          0,
          0,
          0,
          0,
          0,
          0,
          0,
          0,
          0,
          0,
          0,
          0,
          0,
          0,
          0,
          0,
          0,
          0,
          0,
          0,
          0,
          0,
          0,
          0,
          0,
          0,
          0,
          0,
          0,
          0
         ]
        }
       ],
       "layout": {
        "xaxis": {
         "title": "Shot Difficulty"
        },
        "yaxis": {
         "title": "Shots On Target"
        }
       }
      },
      "text/html": [
       "<div id=\"7d11e836-9478-4e80-8298-18734363caf2\" style=\"height: 525px; width: 100%;\" class=\"plotly-graph-div\"></div><script type=\"text/javascript\">require([\"plotly\"], function(Plotly) { window.PLOTLYENV=window.PLOTLYENV || {};window.PLOTLYENV.BASE_URL=\"https://plot.ly\";Plotly.newPlot(\"7d11e836-9478-4e80-8298-18734363caf2\", [{\"hoverinfo\": \"text\", \"marker\": {\"color\": [0.08, 0.01, 0.08, 0.33, 0.03, 0.02, 0.04, 0.05, 0.01, 0.04, 0.03, 0.04, 0.01, 0.01, 0.02, 0.04, 0.02, 0.17, 0.08, 0.03, 0.01, 0.07, 0.06, 0.06, 0.11, 0.08, 0.06, 0.04, 0.04, 0.02, 0.13, 0.17, 0.11, 0.04, 0.02, 0.05, 0.06, 0.04, 0.11, 0.02, 0.05, 0.07, 0.07, 0.04, 0.03, 0.13, 0.08, 0.02, 0.06, 0.05, 0.01, 0.0, 0.0, 0.0, 0.0, 0.0, 0.0, 0.0, 0.0, 0.0, 0.0, 0.0, 0.0, 0.0, 0.0, 0.0, 0.0, 0.0, 0.0, 0.0, 0.0, 0.0, 0.0, 0.0, 0.0, 0.0, 0.0, 0.0, 0.0, 0.0, 0.0, 0.0, 0.0, 0.0, 0.0, 0.0, 0.0, 0.0, 0.0, 0.0, 0.0, 0.0, 0.0, 0.0, 0.0, 0.0, 0.0, 0.0, 0.0, 0.0, 0.0, 0.0, 0.0, 0.0, 0.0, 0.0, 0.0, 0.0, 0.0, 0.0, 0.0, 0.0, 0.0, 0.0, 0.0, 0.0, 0.0, 0.0, 0.0, 0.0, 0.0, 0.0, 0.0, 0.0, 0.0, 0.0, 0.0, 0.0, 0.0, 0.0, 0.0, 0.0, 0.0, 0.0, 0.0, 0.0, 0.0, 0.0, 0.0, 0.0, 0.0, 0.0, 0.0, 0.0, 0.0, 0.0, 0.0, 0.0, 0.0, 0.0, 0.0], \"colorbar\": {\"tickmode\": \"array\", \"ticks\": \"outside\", \"ticktext\": [\"Low\", \"Medium\", \"High\"], \"tickvals\": [0.01, 0.17, 0.32], \"title\": \"Scoring Ratio\"}, \"colorscale\": \"Jet\", \"showscale\": true, \"size\": [13.3, 45.0, 15.0, 30.0, 10.0, 30.0, 26.7, 23.3, 54.0, 15.0, 22.5, 17.5, 17.1, 25.0, 34.300000000000004, 20.0, 30.0, 6.7, 30.0, 25.0, 30.0, 11.399999999999999, 20.0, 20.0, 10.0, 13.3, 22.5, 17.5, 15.0, 30.0, 20.0, 13.3, 10.0, 30.0, 55.0, 16.0, 28.0, 26.7, 10.0, 53.3, 46.7, 27.5, 16.7, 10.0, 22.5, 20.0, 13.3, 30.0, 40.0, 40.0, 28.0, 2.5, 10.0, 7.5, 20.0, 16.7, 20.0, 20.0, 10.0, 10.0, 10.0, 20.0, 10.0, 6.7, 15.0, 15.0, 10.0, 3.3000000000000003, 3.3000000000000003, 10.0, 16.7, 12.5, 6.7, 26.7, 20.0, 20.0, 7.5, 10.0, 18.3, 10.0, 4.0, 6.7, 21.400000000000002, 7.5, 10.0, 30.0, 20.0, 20.0, 10.0, 13.3, 23.3, 15.0, 10.0, 10.0, 16.7, 10.0, 3.3000000000000003, 20.0, 25.0, 22.5, 5.0, 30.0, 5.0, 30.0, 3.3000000000000003, 20.0, 10.0, 16.7, 5.0, 20.0, 5.0, 10.0, 6.7, 20.0, 10.0, 10.0, 16.7, 13.3, 20.0, 30.0, 6.7, 15.0, 10.0, 15.0, 10.0, 4.0, 8.0, 6.7, 5.0, 10.0, 5.0, 5.0, 10.0, 10.0, 10.0, 3.3000000000000003, 10.0, 10.0, 13.3, 16.7, 6.7, 25.0, 5.0, 30.0, 10.0, 3.3000000000000003, 15.0, 6.7, 5.0, 8.0, 5.0]}, \"mode\": \"markers\", \"text\": [\"Name: \\u00c1ngel Di Mar\\u00eda<br>Team: Argentina<br>Difficulty: 0.05<br>Shots Accuracy: 0.33<br>Scoring Ratio: 0.08<br>Shots per match: 1.33\", \"Name: Lionel Andr\\u00e9s Messi Cuccittini<br>Team: Argentina<br>Difficulty: 0.16<br>Shots Accuracy: 1.5<br>Scoring Ratio: 0.01<br>Shots per match: 4.5\", \"Name: Sergio Ag\\u00fcero<br>Team: Argentina<br>Difficulty: 0.05<br>Shots Accuracy: 0.75<br>Scoring Ratio: 0.08<br>Shots per match: 1.5\", \"Name: Adnan Januzaj<br>Team: Belgium<br>Difficulty: 0.05<br>Shots Accuracy: 1.0<br>Scoring Ratio: 0.33<br>Shots per match: 3.0\", \"Name: Dries Mertens<br>Team: Belgium<br>Difficulty: 0.03<br>Shots Accuracy: 0.5<br>Scoring Ratio: 0.03<br>Shots per match: 1.0\", \"Name: Eden Hazard<br>Team: Belgium<br>Difficulty: 0.17<br>Shots Accuracy: 1.17<br>Scoring Ratio: 0.02<br>Shots per match: 3.0\", \"Name: Michy Batshuayi<br>Team: Belgium<br>Difficulty: 0.18<br>Shots Accuracy: 1.67<br>Scoring Ratio: 0.04<br>Shots per match: 2.67\", \"Name: Romelu Lukaku<br>Team: Belgium<br>Difficulty: 0.17<br>Shots Accuracy: 1.0<br>Scoring Ratio: 0.05<br>Shots per match: 2.33\", \"Name: Neymar<br>Team: Brazil<br>Difficulty: 0.16<br>Shots Accuracy: 3.0<br>Scoring Ratio: 0.01<br>Shots per match: 5.4\", \"Name: Roberto Firmino<br>Team: Brazil<br>Difficulty: 0.3<br>Shots Accuracy: 0.5<br>Scoring Ratio: 0.04<br>Shots per match: 1.5\", \"Name: Falcao<br>Team: Colombia<br>Difficulty: 0.22<br>Shots Accuracy: 1.25<br>Scoring Ratio: 0.03<br>Shots per match: 2.25\", \"Name: Juan Guillermo Cuadrado Bello<br>Team: Colombia<br>Difficulty: 0.1<br>Shots Accuracy: 0.5<br>Scoring Ratio: 0.04<br>Shots per match: 1.75\", \"Name: Andrej Kramari\\u0107<br>Team: Croatia<br>Difficulty: 0.09<br>Shots Accuracy: 0.43<br>Scoring Ratio: 0.01<br>Shots per match: 1.71\", \"Name: Ante Rebi\\u0107<br>Team: Croatia<br>Difficulty: 0.08<br>Shots Accuracy: 1.0<br>Scoring Ratio: 0.01<br>Shots per match: 2.5\", \"Name: Ivan Peri\\u0161i\\u0107<br>Team: Croatia<br>Difficulty: 0.08<br>Shots Accuracy: 0.86<br>Scoring Ratio: 0.02<br>Shots per match: 3.43\", \"Name: Mario Mand\\u017euki\\u0107<br>Team: Croatia<br>Difficulty: 0.22<br>Shots Accuracy: 1.0<br>Scoring Ratio: 0.04<br>Shots per match: 2.0\", \"Name: Christian Eriksen<br>Team: Denmark<br>Difficulty: 0.12<br>Shots Accuracy: 0.75<br>Scoring Ratio: 0.02<br>Shots per match: 3.0\", \"Name: Yussuf Yurary Poulsen<br>Team: Denmark<br>Difficulty: 0.06<br>Shots Accuracy: 0.33<br>Scoring Ratio: 0.17<br>Shots per match: 0.67\", \"Name: Mohamed Salah<br>Team: Egypt<br>Difficulty: 0.28<br>Shots Accuracy: 1.0<br>Scoring Ratio: 0.08<br>Shots per match: 3.0\", \"Name: Harry Kane<br>Team: England<br>Difficulty: 0.27<br>Shots Accuracy: 1.33<br>Scoring Ratio: 0.03<br>Shots per match: 2.5\", \"Name: Antoine Griezmann<br>Team: France<br>Difficulty: 0.18<br>Shots Accuracy: 1.57<br>Scoring Ratio: 0.01<br>Shots per match: 3.0\", \"Name: Kylian Mbapp\\u00e9<br>Team: France<br>Difficulty: 0.2<br>Shots Accuracy: 1.0<br>Scoring Ratio: 0.07<br>Shots per match: 1.14\", \"Name: Marco Reus<br>Team: Germany<br>Difficulty: 0.05<br>Shots Accuracy: 0.33<br>Scoring Ratio: 0.06<br>Shots per match: 2.0\", \"Name: Alfre\\u00f0 Finnbogason<br>Team: Iceland<br>Difficulty: 0.19<br>Shots Accuracy: 0.67<br>Scoring Ratio: 0.06<br>Shots per match: 2.0\", \"Name: Genki Haraguchi<br>Team: Japan<br>Difficulty: 0.06<br>Shots Accuracy: 0.33<br>Scoring Ratio: 0.11<br>Shots per match: 1.0\", \"Name: Keisuke Honda<br>Team: Japan<br>Difficulty: 0.23<br>Shots Accuracy: 1.0<br>Scoring Ratio: 0.08<br>Shots per match: 1.33\", \"Name: Takashi Inui<br>Team: Japan<br>Difficulty: 0.09<br>Shots Accuracy: 1.25<br>Scoring Ratio: 0.06<br>Shots per match: 2.25\", \"Name: Y\\u016bya \\u014csako<br>Team: Japan<br>Difficulty: 0.07<br>Shots Accuracy: 1.0<br>Scoring Ratio: 0.04<br>Shots per match: 1.75\", \"Name: Chicharito<br>Team: Mexico<br>Difficulty: 0.07<br>Shots Accuracy: 0.25<br>Scoring Ratio: 0.04<br>Shots per match: 1.5\", \"Name: Hirving Rodrigo Lozano Bahena<br>Team: Mexico<br>Difficulty: 0.09<br>Shots Accuracy: 0.5<br>Scoring Ratio: 0.02<br>Shots per match: 3.0\", \"Name: Khalid Bouta\\u00efb<br>Team: Morocco<br>Difficulty: 0.26<br>Shots Accuracy: 1.0<br>Scoring Ratio: 0.13<br>Shots per match: 2.0\", \"Name: Ahmed Musa<br>Team: Nigeria<br>Difficulty: 0.12<br>Shots Accuracy: 1.0<br>Scoring Ratio: 0.17<br>Shots per match: 1.33\", \"Name: Andr\\u00e9 Carrillo<br>Team: Peru<br>Difficulty: 0.04<br>Shots Accuracy: 0.67<br>Scoring Ratio: 0.11<br>Shots per match: 1.0\", \"Name: Jos\\u00e9 Paolo Guerrero Gonz\\u00e1lez<br>Team: Peru<br>Difficulty: 0.1<br>Shots Accuracy: 1.67<br>Scoring Ratio: 0.04<br>Shots per match: 3.0\", \"Name: Cristiano Ronaldo dos Santos Aveiro<br>Team: Portugal<br>Difficulty: 0.14<br>Shots Accuracy: 2.0<br>Scoring Ratio: 0.02<br>Shots per match: 5.5\", \"Name: Artem Dzyuba<br>Team: Russia<br>Difficulty: 0.22<br>Shots Accuracy: 0.8<br>Scoring Ratio: 0.05<br>Shots per match: 1.6\", \"Name: Denis Cheryshev<br>Team: Russia<br>Difficulty: 0.15<br>Shots Accuracy: 1.4<br>Scoring Ratio: 0.06<br>Shots per match: 2.8\", \"Name: M'Baye Babacar Niang<br>Team: Senegal<br>Difficulty: 0.33<br>Shots Accuracy: 1.33<br>Scoring Ratio: 0.04<br>Shots per match: 2.67\", \"Name: Sadio Man\\u00e9<br>Team: Senegal<br>Difficulty: 0.21<br>Shots Accuracy: 0.33<br>Scoring Ratio: 0.11<br>Shots per match: 1.0\", \"Name: Aleksandar Mitrovic<br>Team: Serbia<br>Difficulty: 0.11<br>Shots Accuracy: 1.67<br>Scoring Ratio: 0.02<br>Shots per match: 5.33\", \"Name: Heung-Min Son<br>Team: South Korea<br>Difficulty: 0.1<br>Shots Accuracy: 1.0<br>Scoring Ratio: 0.05<br>Shots per match: 4.67\", \"Name: Diego da Silva Costa<br>Team: Spain<br>Difficulty: 0.17<br>Shots Accuracy: 1.25<br>Scoring Ratio: 0.07<br>Shots per match: 2.75\", \"Name: Iago Aspas Juncal<br>Team: Spain<br>Difficulty: 0.37<br>Shots Accuracy: 1.33<br>Scoring Ratio: 0.07<br>Shots per match: 1.67\", \"Name: Ola Toivonen<br>Team: Sweden<br>Difficulty: 0.07<br>Shots Accuracy: 0.6<br>Scoring Ratio: 0.04<br>Shots per match: 1.0\", \"Name: Blerim D\\u017eemaili<br>Team: Switzerland<br>Difficulty: 0.15<br>Shots Accuracy: 1.0<br>Scoring Ratio: 0.03<br>Shots per match: 2.25\", \"Name: Josip Drmic<br>Team: Switzerland<br>Difficulty: 0.06<br>Shots Accuracy: 1.0<br>Scoring Ratio: 0.13<br>Shots per match: 2.0\", \"Name: Steven Zuber<br>Team: Switzerland<br>Difficulty: 0.03<br>Shots Accuracy: 0.67<br>Scoring Ratio: 0.08<br>Shots per match: 1.33\", \"Name: Xherdan Shaqiri<br>Team: Switzerland<br>Difficulty: 0.04<br>Shots Accuracy: 0.5<br>Scoring Ratio: 0.02<br>Shots per match: 3.0\", \"Name: Wahbi Khazri<br>Team: Tunisia<br>Difficulty: 0.12<br>Shots Accuracy: 1.67<br>Scoring Ratio: 0.06<br>Shots per match: 4.0\", \"Name: Edinson Cavani<br>Team: Uruguay<br>Difficulty: 0.12<br>Shots Accuracy: 1.25<br>Scoring Ratio: 0.05<br>Shots per match: 4.0\", \"Name: Luis Alberto Su\\u00e1rez D\\u00edaz<br>Team: Uruguay<br>Difficulty: 0.11<br>Shots Accuracy: 1.0<br>Scoring Ratio: 0.01<br>Shots per match: 2.8\", \"Name: Cristian David Pav\\u00f3n<br>Team: Argentina<br>Difficulty: 0.01<br>Shots Accuracy: 0.0<br>Scoring Ratio: 0.0<br>Shots per match: 0.25\", \"Name: Gonzalo Gerardo Higua\\u00edn<br>Team: Argentina<br>Difficulty: 0.1<br>Shots Accuracy: 0.0<br>Scoring Ratio: 0.0<br>Shots per match: 1.0\", \"Name: Maximiliano Eduardo Meza<br>Team: Argentina<br>Difficulty: 0.04<br>Shots Accuracy: 0.0<br>Scoring Ratio: 0.0<br>Shots per match: 0.75\", \"Name: Tim Cahill<br>Team: Australia<br>Difficulty: 0.07<br>Shots Accuracy: 0.0<br>Scoring Ratio: 0.0<br>Shots per match: 2.0\", \"Name: Tom Rogi\\u0107<br>Team: Australia<br>Difficulty: 0.07<br>Shots Accuracy: 0.0<br>Scoring Ratio: 0.0<br>Shots per match: 1.67\", \"Name: Douglas Costa de Souza<br>Team: Brazil<br>Difficulty: 0.01<br>Shots Accuracy: 0.0<br>Scoring Ratio: 0.0<br>Shots per match: 2.0\", \"Name: Gabriel Jesus<br>Team: Brazil<br>Difficulty: 0.17<br>Shots Accuracy: 0.0<br>Scoring Ratio: 0.0<br>Shots per match: 2.0\", \"Name: Willian<br>Team: Brazil<br>Difficulty: 0.03<br>Shots Accuracy: 0.0<br>Scoring Ratio: 0.0<br>Shots per match: 1.0\", \"Name: Carlos Arturo Bacca Ahumada<br>Team: Colombia<br>Difficulty: 0.16<br>Shots Accuracy: 0.0<br>Scoring Ratio: 0.0<br>Shots per match: 1.0\", \"Name: James David Rodr\\u00edguez Rubio<br>Team: Colombia<br>Difficulty: 0.03<br>Shots Accuracy: 0.0<br>Scoring Ratio: 0.0<br>Shots per match: 1.0\", \"Name: Juan Fernando Quintero Paniagua<br>Team: Colombia<br>Difficulty: 0.04<br>Shots Accuracy: 0.0<br>Scoring Ratio: 0.0<br>Shots per match: 2.0\", \"Name: Luis Fernando Muriel Fruto<br>Team: Colombia<br>Difficulty: 0.42<br>Shots Accuracy: 0.0<br>Scoring Ratio: 0.0<br>Shots per match: 1.0\", \"Name: Bryan Ruiz Gonz\\u00e1lez<br>Team: Costa Rica<br>Difficulty: 0.27<br>Shots Accuracy: 0.0<br>Scoring Ratio: 0.0<br>Shots per match: 0.67\", \"Name: Daniel Colindres Solera<br>Team: Costa Rica<br>Difficulty: 0.04<br>Shots Accuracy: 0.0<br>Scoring Ratio: 0.0<br>Shots per match: 1.5\", \"Name: Joel Nathaniel Campbell Samuels<br>Team: Costa Rica<br>Difficulty: 0.05<br>Shots Accuracy: 0.0<br>Scoring Ratio: 0.0<br>Shots per match: 1.5\", \"Name: Marcos Danilo Ure\\u00f1a Porras<br>Team: Costa Rica<br>Difficulty: 0.01<br>Shots Accuracy: 0.0<br>Scoring Ratio: 0.0<br>Shots per match: 1.0\", \"Name: Marko Pjaca<br>Team: Croatia<br>Difficulty: 0.01<br>Shots Accuracy: 0.0<br>Scoring Ratio: 0.0<br>Shots per match: 0.33\", \"Name: Andreas Evald Cornelius<br>Team: Denmark<br>Difficulty: 0.04<br>Shots Accuracy: 0.0<br>Scoring Ratio: 0.0<br>Shots per match: 0.33\", \"Name: Martin Braithwaite<br>Team: Denmark<br>Difficulty: 0.06<br>Shots Accuracy: 0.0<br>Scoring Ratio: 0.0<br>Shots per match: 1.0\", \"Name: Nicolai J\\u00f8rgensen<br>Team: Denmark<br>Difficulty: 0.16<br>Shots Accuracy: 0.0<br>Scoring Ratio: 0.0<br>Shots per match: 1.67\", \"Name: Pione Sisto Ifolo Emirmija<br>Team: Denmark<br>Difficulty: 0.02<br>Shots Accuracy: 0.0<br>Scoring Ratio: 0.0<br>Shots per match: 1.25\", \"Name: Abdalla Mahmoud El Said Bekhit<br>Team: Egypt<br>Difficulty: 0.02<br>Shots Accuracy: 0.0<br>Scoring Ratio: 0.0<br>Shots per match: 0.67\", \"Name: Mahmoud Ibrahim Hassan<br>Team: Egypt<br>Difficulty: 0.06<br>Shots Accuracy: 0.0<br>Scoring Ratio: 0.0<br>Shots per match: 2.67\", \"Name: Marwan Mohsen<br>Team: Egypt<br>Difficulty: 0.07<br>Shots Accuracy: 0.0<br>Scoring Ratio: 0.0<br>Shots per match: 2.0\", \"Name: Danny Welbeck<br>Team: England<br>Difficulty: 0.09<br>Shots Accuracy: 0.0<br>Scoring Ratio: 0.0<br>Shots per match: 2.0\", \"Name: Jamie Richard Vardy<br>Team: England<br>Difficulty: 0.02<br>Shots Accuracy: 0.0<br>Scoring Ratio: 0.0<br>Shots per match: 0.75\", \"Name: Marcus Rashford<br>Team: England<br>Difficulty: 0.16<br>Shots Accuracy: 0.0<br>Scoring Ratio: 0.0<br>Shots per match: 1.0\", \"Name: Raheem Sterling<br>Team: England<br>Difficulty: 0.15<br>Shots Accuracy: 0.0<br>Scoring Ratio: 0.0<br>Shots per match: 1.83\", \"Name: Blaise Matuidi<br>Team: France<br>Difficulty: 0.04<br>Shots Accuracy: 0.0<br>Scoring Ratio: 0.0<br>Shots per match: 1.0\", \"Name: Corentin Tolisso<br>Team: France<br>Difficulty: 0.06<br>Shots Accuracy: 0.0<br>Scoring Ratio: 0.0<br>Shots per match: 0.4\", \"Name: Nabil Fekir<br>Team: France<br>Difficulty: 0.01<br>Shots Accuracy: 0.0<br>Scoring Ratio: 0.0<br>Shots per match: 0.67\", \"Name: Olivier Giroud<br>Team: France<br>Difficulty: 0.07<br>Shots Accuracy: 0.0<br>Scoring Ratio: 0.0<br>Shots per match: 2.14\", \"Name: Ousmane Demb\\u00e9l\\u00e9<br>Team: France<br>Difficulty: 0.03<br>Shots Accuracy: 0.0<br>Scoring Ratio: 0.0<br>Shots per match: 0.75\", \"Name: Thomas Lemar<br>Team: France<br>Difficulty: 0.01<br>Shots Accuracy: 0.0<br>Scoring Ratio: 0.0<br>Shots per match: 1.0\", \"Name: Julian Draxler<br>Team: Germany<br>Difficulty: 0.18<br>Shots Accuracy: 0.0<br>Scoring Ratio: 0.0<br>Shots per match: 3.0\", \"Name: Leon Goretzka<br>Team: Germany<br>Difficulty: 0.08<br>Shots Accuracy: 0.0<br>Scoring Ratio: 0.0<br>Shots per match: 2.0\", \"Name: Mario G\\u00f3mez Garc\\u00eda<br>Team: Germany<br>Difficulty: 0.25<br>Shots Accuracy: 0.0<br>Scoring Ratio: 0.0<br>Shots per match: 2.0\", \"Name: Mesut \\u00d6zil<br>Team: Germany<br>Difficulty: 0.04<br>Shots Accuracy: 0.0<br>Scoring Ratio: 0.0<br>Shots per match: 1.0\", \"Name: Thomas M\\u00fcller<br>Team: Germany<br>Difficulty: 0.02<br>Shots Accuracy: 0.0<br>Scoring Ratio: 0.0<br>Shots per match: 1.33\", \"Name: Timo Werner<br>Team: Germany<br>Difficulty: 0.17<br>Shots Accuracy: 0.0<br>Scoring Ratio: 0.0<br>Shots per match: 2.33\", \"Name: Johann Berg Gudmundsson<br>Team: Iceland<br>Difficulty: 0.02<br>Shots Accuracy: 0.0<br>Scoring Ratio: 0.0<br>Shots per match: 1.5\", \"Name: J\\u00f3n Da\\u00f0i B\\u00f6\\u00f0varsson<br>Team: Iceland<br>Difficulty: 0.01<br>Shots Accuracy: 0.0<br>Scoring Ratio: 0.0<br>Shots per match: 1.0\", \"Name: Mehdi Taremi<br>Team: Iran<br>Difficulty: 0.18<br>Shots Accuracy: 0.0<br>Scoring Ratio: 0.0<br>Shots per match: 1.0\", \"Name: Sardar Azmoun<br>Team: Iran<br>Difficulty: 0.1<br>Shots Accuracy: 0.0<br>Scoring Ratio: 0.0<br>Shots per match: 1.67\", \"Name: Shinji Kagawa<br>Team: Japan<br>Difficulty: 0.19<br>Shots Accuracy: 0.0<br>Scoring Ratio: 0.0<br>Shots per match: 1.0\", \"Name: Shinji Okazaki<br>Team: Japan<br>Difficulty: 0.07<br>Shots Accuracy: 0.0<br>Scoring Ratio: 0.0<br>Shots per match: 0.33\", \"Name: Yoshinori Muto<br>Team: Japan<br>Difficulty: 0.07<br>Shots Accuracy: 0.0<br>Scoring Ratio: 0.0<br>Shots per match: 2.0\", \"Name: Carlos Alberto Vela Garrido<br>Team: Mexico<br>Difficulty: 0.17<br>Shots Accuracy: 0.0<br>Scoring Ratio: 0.0<br>Shots per match: 2.5\", \"Name: Miguel Arturo Lay\\u00fan Prado<br>Team: Mexico<br>Difficulty: 0.04<br>Shots Accuracy: 0.0<br>Scoring Ratio: 0.0<br>Shots per match: 2.25\", \"Name: Ra\\u00fal Alonso Jim\\u00e9nez Rodr\\u00edguez<br>Team: Mexico<br>Difficulty: 0.04<br>Shots Accuracy: 0.0<br>Scoring Ratio: 0.0<br>Shots per match: 0.5\", \"Name: Amine Harit<br>Team: Morocco<br>Difficulty: 0.08<br>Shots Accuracy: 0.0<br>Scoring Ratio: 0.0<br>Shots per match: 3.0\", \"Name: Ayoub El Kaabi<br>Team: Morocco<br>Difficulty: 0.04<br>Shots Accuracy: 0.0<br>Scoring Ratio: 0.0<br>Shots per match: 0.5\", \"Name: Hakim Ziyech<br>Team: Morocco<br>Difficulty: 0.09<br>Shots Accuracy: 0.0<br>Scoring Ratio: 0.0<br>Shots per match: 3.0\", \"Name: Nordin Amrabat<br>Team: Morocco<br>Difficulty: 0.0<br>Shots Accuracy: 0.0<br>Scoring Ratio: 0.0<br>Shots per match: 0.33\", \"Name: Youn\\u00e8s Belhanda<br>Team: Morocco<br>Difficulty: 0.06<br>Shots Accuracy: 0.0<br>Scoring Ratio: 0.0<br>Shots per match: 2.0\", \"Name: Kelechi Iheanacho<br>Team: Nigeria<br>Difficulty: 0.03<br>Shots Accuracy: 0.0<br>Scoring Ratio: 0.0<br>Shots per match: 1.0\", \"Name: Odion Jude Ighalo<br>Team: Nigeria<br>Difficulty: 0.11<br>Shots Accuracy: 0.0<br>Scoring Ratio: 0.0<br>Shots per match: 1.67\", \"Name: Blas Antonio Miguel P\\u00e9rez Ortega<br>Team: Panama<br>Difficulty: 0.03<br>Shots Accuracy: 0.0<br>Scoring Ratio: 0.0<br>Shots per match: 0.5\", \"Name: Edgar Yoel B\\u00e1rcenas Herrera<br>Team: Panama<br>Difficulty: 0.07<br>Shots Accuracy: 0.0<br>Scoring Ratio: 0.0<br>Shots per match: 2.0\", \"Name: Gabriel Arturo Torres Tejada<br>Team: Panama<br>Difficulty: 0.07<br>Shots Accuracy: 0.0<br>Scoring Ratio: 0.0<br>Shots per match: 0.5\", \"Name: Jos\\u00e9 Luis Rodriguez<br>Team: Panama<br>Difficulty: 0.02<br>Shots Accuracy: 0.0<br>Scoring Ratio: 0.0<br>Shots per match: 1.0\", \"Name: Christian Alberto Cueva Bravo<br>Team: Peru<br>Difficulty: 0.27<br>Shots Accuracy: 0.0<br>Scoring Ratio: 0.0<br>Shots per match: 0.67\", \"Name: Jefferson Agust\\u00edn Farf\\u00e1n Guadalupe<br>Team: Peru<br>Difficulty: 0.1<br>Shots Accuracy: 0.0<br>Scoring Ratio: 0.0<br>Shots per match: 2.0\", \"Name: Arkadiusz Milik<br>Team: Poland<br>Difficulty: 0.18<br>Shots Accuracy: 0.0<br>Scoring Ratio: 0.0<br>Shots per match: 1.0\", \"Name: Dawid Kownacki<br>Team: Poland<br>Difficulty: 0.04<br>Shots Accuracy: 0.0<br>Scoring Ratio: 0.0<br>Shots per match: 1.0\", \"Name: Kamil Grosicki<br>Team: Poland<br>Difficulty: 0.03<br>Shots Accuracy: 0.0<br>Scoring Ratio: 0.0<br>Shots per match: 1.67\", \"Name: Piotr Zieli\\u0144ski<br>Team: Poland<br>Difficulty: 0.04<br>Shots Accuracy: 0.0<br>Scoring Ratio: 0.0<br>Shots per match: 1.33\", \"Name: Rafa\\u0142 Kurzawa<br>Team: Poland<br>Difficulty: 0.04<br>Shots Accuracy: 0.0<br>Scoring Ratio: 0.0<br>Shots per match: 2.0\", \"Name: Robert Lewandowski<br>Team: Poland<br>Difficulty: 0.13<br>Shots Accuracy: 0.0<br>Scoring Ratio: 0.0<br>Shots per match: 3.0\", \"Name: Andr\\u00e9 Miguel Valente Silva<br>Team: Portugal<br>Difficulty: 0.01<br>Shots Accuracy: 0.0<br>Scoring Ratio: 0.0<br>Shots per match: 0.67\", \"Name: Gon\\u00e7alo Guedes<br>Team: Portugal<br>Difficulty: 0.06<br>Shots Accuracy: 0.0<br>Scoring Ratio: 0.0<br>Shots per match: 1.5\", \"Name: Alan Dzagoev<br>Team: Russia<br>Difficulty: 0.4<br>Shots Accuracy: 0.0<br>Scoring Ratio: 0.0<br>Shots per match: 1.0\", \"Name: Aleksandr Erokhin<br>Team: Russia<br>Difficulty: 0.15<br>Shots Accuracy: 0.0<br>Scoring Ratio: 0.0<br>Shots per match: 1.5\", \"Name: Aleksandr Golovin<br>Team: Russia<br>Difficulty: 0.15<br>Shots Accuracy: 0.0<br>Scoring Ratio: 0.0<br>Shots per match: 1.0\", \"Name: Aleksandr Samedov<br>Team: Russia<br>Difficulty: 0.02<br>Shots Accuracy: 0.0<br>Scoring Ratio: 0.0<br>Shots per match: 0.4\", \"Name: Fyodor Smolov<br>Team: Russia<br>Difficulty: 0.15<br>Shots Accuracy: 0.0<br>Scoring Ratio: 0.0<br>Shots per match: 0.8\", \"Name: Fahad Mosaed Al Muwallad Al Harbi<br>Team: Saudi Arabia<br>Difficulty: 0.27<br>Shots Accuracy: 0.0<br>Scoring Ratio: 0.0<br>Shots per match: 0.67\", \"Name: Mohammad Ibrahim Al Sahlawi<br>Team: Saudi Arabia<br>Difficulty: 0.02<br>Shots Accuracy: 0.0<br>Scoring Ratio: 0.0<br>Shots per match: 0.5\", \"Name: Mohammed Kanoo<br>Team: Saudi Arabia<br>Difficulty: 0.07<br>Shots Accuracy: 0.0<br>Scoring Ratio: 0.0<br>Shots per match: 1.0\", \"Name: Mohanad Aseri Abu Radiah<br>Team: Saudi Arabia<br>Difficulty: 0.12<br>Shots Accuracy: 0.0<br>Scoring Ratio: 0.0<br>Shots per match: 0.5\", \"Name: Cheikh N'Doye<br>Team: Senegal<br>Difficulty: 0.06<br>Shots Accuracy: 0.0<br>Scoring Ratio: 0.0<br>Shots per match: 0.5\", \"Name: Isma\\u00efla Sarr<br>Team: Senegal<br>Difficulty: 0.07<br>Shots Accuracy: 0.0<br>Scoring Ratio: 0.0<br>Shots per match: 1.0\", \"Name: Keita Bald\\u00e9<br>Team: Senegal<br>Difficulty: 0.02<br>Shots Accuracy: 0.0<br>Scoring Ratio: 0.0<br>Shots per match: 1.0\", \"Name: Mame Diouf<br>Team: Senegal<br>Difficulty: 0.18<br>Shots Accuracy: 0.0<br>Scoring Ratio: 0.0<br>Shots per match: 1.0\", \"Name: Adem Ljaji\\u0107<br>Team: Serbia<br>Difficulty: 0.0<br>Shots Accuracy: 0.0<br>Scoring Ratio: 0.0<br>Shots per match: 0.33\", \"Name: Andrija \\u017divkovi\\u0107<br>Team: Serbia<br>Difficulty: 0.0<br>Shots Accuracy: 0.0<br>Scoring Ratio: 0.0<br>Shots per match: 1.0\", \"Name: Dusan Tadic<br>Team: Serbia<br>Difficulty: 0.03<br>Shots Accuracy: 0.0<br>Scoring Ratio: 0.0<br>Shots per match: 1.0\", \"Name: Filip Kosti\\u0107<br>Team: Serbia<br>Difficulty: 0.18<br>Shots Accuracy: 0.0<br>Scoring Ratio: 0.0<br>Shots per match: 1.33\", \"Name: Sergej Milinkovi\\u0107-Savi\\u0107<br>Team: Serbia<br>Difficulty: 0.04<br>Shots Accuracy: 0.0<br>Scoring Ratio: 0.0<br>Shots per match: 1.67\", \"Name: Hee-Chan Hwang<br>Team: South Korea<br>Difficulty: 0.07<br>Shots Accuracy: 0.0<br>Scoring Ratio: 0.0<br>Shots per match: 0.67\", \"Name: David Silva<br>Team: Spain<br>Difficulty: 0.14<br>Shots Accuracy: 0.0<br>Scoring Ratio: 0.0<br>Shots per match: 2.5\", \"Name: John Guidetti<br>Team: Sweden<br>Difficulty: 0.02<br>Shots Accuracy: 0.0<br>Scoring Ratio: 0.0<br>Shots per match: 0.5\", \"Name: Marcus Berg<br>Team: Sweden<br>Difficulty: 0.18<br>Shots Accuracy: 0.0<br>Scoring Ratio: 0.0<br>Shots per match: 3.0\", \"Name: Breel-Donald Embolo<br>Team: Switzerland<br>Difficulty: 0.04<br>Shots Accuracy: 0.0<br>Scoring Ratio: 0.0<br>Shots per match: 1.0\", \"Name: Haris Seferovi\\u0107<br>Team: Switzerland<br>Difficulty: 0.02<br>Shots Accuracy: 0.0<br>Scoring Ratio: 0.0<br>Shots per match: 0.33\", \"Name: Mario Gavranovi\\u0107<br>Team: Switzerland<br>Difficulty: 0.17<br>Shots Accuracy: 0.0<br>Scoring Ratio: 0.0<br>Shots per match: 1.5\", \"Name: Carlos Andr\\u00e9s S\\u00e1nchez Arcosa<br>Team: Uruguay<br>Difficulty: 0.12<br>Shots Accuracy: 0.0<br>Scoring Ratio: 0.0<br>Shots per match: 0.67\", \"Name: Cristhian Ricardo Stuani Curbelo<br>Team: Uruguay<br>Difficulty: 0.01<br>Shots Accuracy: 0.0<br>Scoring Ratio: 0.0<br>Shots per match: 0.5\", \"Name: Cristian Gabriel Rodr\\u00edguez Barrotti<br>Team: Uruguay<br>Difficulty: 0.02<br>Shots Accuracy: 0.0<br>Scoring Ratio: 0.0<br>Shots per match: 0.8\", \"Name: Giorgian Daniel De Arrascaeta Benedetti<br>Team: Uruguay<br>Difficulty: 0.2<br>Shots Accuracy: 0.0<br>Scoring Ratio: 0.0<br>Shots per match: 0.5\"], \"x\": [5.0, 16.0, 5.0, 5.0, 3.0, 17.0, 18.0, 17.0, 16.0, 30.0, 22.0, 10.0, 9.0, 8.0, 8.0, 22.0, 12.0, 6.0, 28.000000000000004, 27.0, 18.0, 20.0, 5.0, 19.0, 6.0, 23.0, 9.0, 7.000000000000001, 7.000000000000001, 9.0, 26.0, 12.0, 4.0, 10.0, 14.000000000000002, 22.0, 15.0, 33.0, 21.0, 11.0, 10.0, 17.0, 37.0, 7.000000000000001, 15.0, 6.0, 3.0, 4.0, 12.0, 12.0, 11.0, 1.0, 10.0, 4.0, 7.000000000000001, 7.000000000000001, 1.0, 17.0, 3.0, 16.0, 3.0, 4.0, 42.0, 27.0, 4.0, 5.0, 1.0, 1.0, 4.0, 6.0, 16.0, 2.0, 2.0, 6.0, 7.000000000000001, 9.0, 2.0, 16.0, 15.0, 4.0, 6.0, 1.0, 7.000000000000001, 3.0, 1.0, 18.0, 8.0, 25.0, 4.0, 2.0, 17.0, 2.0, 1.0, 18.0, 10.0, 19.0, 7.000000000000001, 7.000000000000001, 17.0, 4.0, 4.0, 8.0, 4.0, 9.0, 0.0, 6.0, 3.0, 11.0, 3.0, 7.000000000000001, 7.000000000000001, 2.0, 27.0, 10.0, 18.0, 4.0, 3.0, 4.0, 4.0, 13.0, 1.0, 6.0, 40.0, 15.0, 15.0, 2.0, 15.0, 27.0, 2.0, 7.000000000000001, 12.0, 6.0, 7.000000000000001, 2.0, 18.0, 0.0, 0.0, 3.0, 18.0, 4.0, 7.000000000000001, 14.000000000000002, 2.0, 18.0, 4.0, 2.0, 17.0, 12.0, 1.0, 2.0, 20.0], \"y\": [0.33, 1.5, 0.75, 1.0, 0.5, 1.17, 1.67, 1.0, 3.0, 0.5, 1.25, 0.5, 0.43, 1.0, 0.86, 1.0, 0.75, 0.33, 1.0, 1.33, 1.57, 1.0, 0.33, 0.67, 0.33, 1.0, 1.25, 1.0, 0.25, 0.5, 1.0, 1.0, 0.67, 1.67, 2.0, 0.8, 1.4, 1.33, 0.33, 1.67, 1.0, 1.25, 1.33, 0.6, 1.0, 1.0, 0.67, 0.5, 1.67, 1.25, 1.0, 0.0, 0.0, 0.0, 0.0, 0.0, 0.0, 0.0, 0.0, 0.0, 0.0, 0.0, 0.0, 0.0, 0.0, 0.0, 0.0, 0.0, 0.0, 0.0, 0.0, 0.0, 0.0, 0.0, 0.0, 0.0, 0.0, 0.0, 0.0, 0.0, 0.0, 0.0, 0.0, 0.0, 0.0, 0.0, 0.0, 0.0, 0.0, 0.0, 0.0, 0.0, 0.0, 0.0, 0.0, 0.0, 0.0, 0.0, 0.0, 0.0, 0.0, 0.0, 0.0, 0.0, 0.0, 0.0, 0.0, 0.0, 0.0, 0.0, 0.0, 0.0, 0.0, 0.0, 0.0, 0.0, 0.0, 0.0, 0.0, 0.0, 0.0, 0.0, 0.0, 0.0, 0.0, 0.0, 0.0, 0.0, 0.0, 0.0, 0.0, 0.0, 0.0, 0.0, 0.0, 0.0, 0.0, 0.0, 0.0, 0.0, 0.0, 0.0, 0.0, 0.0, 0.0, 0.0, 0.0, 0.0, 0.0, 0.0, 0.0], \"type\": \"scatter\", \"uid\": \"ae2fab25-206d-425c-ba93-39f3281bfb5c\"}], {\"xaxis\": {\"title\": \"Shot Difficulty\"}, \"yaxis\": {\"title\": \"Shots On Target\"}}, {\"showLink\": true, \"linkText\": \"Export to plot.ly\", \"plotlyServerURL\": \"https://plot.ly\"})});</script><script type=\"text/javascript\">window.addEventListener(\"resize\", function(){window._Plotly.Plots.resize(document.getElementById(\"7d11e836-9478-4e80-8298-18734363caf2\"));});</script>"
      ],
      "text/vnd.plotly.v1+html": [
       "<div id=\"7d11e836-9478-4e80-8298-18734363caf2\" style=\"height: 525px; width: 100%;\" class=\"plotly-graph-div\"></div><script type=\"text/javascript\">require([\"plotly\"], function(Plotly) { window.PLOTLYENV=window.PLOTLYENV || {};window.PLOTLYENV.BASE_URL=\"https://plot.ly\";Plotly.newPlot(\"7d11e836-9478-4e80-8298-18734363caf2\", [{\"hoverinfo\": \"text\", \"marker\": {\"color\": [0.08, 0.01, 0.08, 0.33, 0.03, 0.02, 0.04, 0.05, 0.01, 0.04, 0.03, 0.04, 0.01, 0.01, 0.02, 0.04, 0.02, 0.17, 0.08, 0.03, 0.01, 0.07, 0.06, 0.06, 0.11, 0.08, 0.06, 0.04, 0.04, 0.02, 0.13, 0.17, 0.11, 0.04, 0.02, 0.05, 0.06, 0.04, 0.11, 0.02, 0.05, 0.07, 0.07, 0.04, 0.03, 0.13, 0.08, 0.02, 0.06, 0.05, 0.01, 0.0, 0.0, 0.0, 0.0, 0.0, 0.0, 0.0, 0.0, 0.0, 0.0, 0.0, 0.0, 0.0, 0.0, 0.0, 0.0, 0.0, 0.0, 0.0, 0.0, 0.0, 0.0, 0.0, 0.0, 0.0, 0.0, 0.0, 0.0, 0.0, 0.0, 0.0, 0.0, 0.0, 0.0, 0.0, 0.0, 0.0, 0.0, 0.0, 0.0, 0.0, 0.0, 0.0, 0.0, 0.0, 0.0, 0.0, 0.0, 0.0, 0.0, 0.0, 0.0, 0.0, 0.0, 0.0, 0.0, 0.0, 0.0, 0.0, 0.0, 0.0, 0.0, 0.0, 0.0, 0.0, 0.0, 0.0, 0.0, 0.0, 0.0, 0.0, 0.0, 0.0, 0.0, 0.0, 0.0, 0.0, 0.0, 0.0, 0.0, 0.0, 0.0, 0.0, 0.0, 0.0, 0.0, 0.0, 0.0, 0.0, 0.0, 0.0, 0.0, 0.0, 0.0, 0.0, 0.0, 0.0, 0.0, 0.0, 0.0], \"colorbar\": {\"tickmode\": \"array\", \"ticks\": \"outside\", \"ticktext\": [\"Low\", \"Medium\", \"High\"], \"tickvals\": [0.01, 0.17, 0.32], \"title\": \"Scoring Ratio\"}, \"colorscale\": \"Jet\", \"showscale\": true, \"size\": [13.3, 45.0, 15.0, 30.0, 10.0, 30.0, 26.7, 23.3, 54.0, 15.0, 22.5, 17.5, 17.1, 25.0, 34.300000000000004, 20.0, 30.0, 6.7, 30.0, 25.0, 30.0, 11.399999999999999, 20.0, 20.0, 10.0, 13.3, 22.5, 17.5, 15.0, 30.0, 20.0, 13.3, 10.0, 30.0, 55.0, 16.0, 28.0, 26.7, 10.0, 53.3, 46.7, 27.5, 16.7, 10.0, 22.5, 20.0, 13.3, 30.0, 40.0, 40.0, 28.0, 2.5, 10.0, 7.5, 20.0, 16.7, 20.0, 20.0, 10.0, 10.0, 10.0, 20.0, 10.0, 6.7, 15.0, 15.0, 10.0, 3.3000000000000003, 3.3000000000000003, 10.0, 16.7, 12.5, 6.7, 26.7, 20.0, 20.0, 7.5, 10.0, 18.3, 10.0, 4.0, 6.7, 21.400000000000002, 7.5, 10.0, 30.0, 20.0, 20.0, 10.0, 13.3, 23.3, 15.0, 10.0, 10.0, 16.7, 10.0, 3.3000000000000003, 20.0, 25.0, 22.5, 5.0, 30.0, 5.0, 30.0, 3.3000000000000003, 20.0, 10.0, 16.7, 5.0, 20.0, 5.0, 10.0, 6.7, 20.0, 10.0, 10.0, 16.7, 13.3, 20.0, 30.0, 6.7, 15.0, 10.0, 15.0, 10.0, 4.0, 8.0, 6.7, 5.0, 10.0, 5.0, 5.0, 10.0, 10.0, 10.0, 3.3000000000000003, 10.0, 10.0, 13.3, 16.7, 6.7, 25.0, 5.0, 30.0, 10.0, 3.3000000000000003, 15.0, 6.7, 5.0, 8.0, 5.0]}, \"mode\": \"markers\", \"text\": [\"Name: \\u00c1ngel Di Mar\\u00eda<br>Team: Argentina<br>Difficulty: 0.05<br>Shots Accuracy: 0.33<br>Scoring Ratio: 0.08<br>Shots per match: 1.33\", \"Name: Lionel Andr\\u00e9s Messi Cuccittini<br>Team: Argentina<br>Difficulty: 0.16<br>Shots Accuracy: 1.5<br>Scoring Ratio: 0.01<br>Shots per match: 4.5\", \"Name: Sergio Ag\\u00fcero<br>Team: Argentina<br>Difficulty: 0.05<br>Shots Accuracy: 0.75<br>Scoring Ratio: 0.08<br>Shots per match: 1.5\", \"Name: Adnan Januzaj<br>Team: Belgium<br>Difficulty: 0.05<br>Shots Accuracy: 1.0<br>Scoring Ratio: 0.33<br>Shots per match: 3.0\", \"Name: Dries Mertens<br>Team: Belgium<br>Difficulty: 0.03<br>Shots Accuracy: 0.5<br>Scoring Ratio: 0.03<br>Shots per match: 1.0\", \"Name: Eden Hazard<br>Team: Belgium<br>Difficulty: 0.17<br>Shots Accuracy: 1.17<br>Scoring Ratio: 0.02<br>Shots per match: 3.0\", \"Name: Michy Batshuayi<br>Team: Belgium<br>Difficulty: 0.18<br>Shots Accuracy: 1.67<br>Scoring Ratio: 0.04<br>Shots per match: 2.67\", \"Name: Romelu Lukaku<br>Team: Belgium<br>Difficulty: 0.17<br>Shots Accuracy: 1.0<br>Scoring Ratio: 0.05<br>Shots per match: 2.33\", \"Name: Neymar<br>Team: Brazil<br>Difficulty: 0.16<br>Shots Accuracy: 3.0<br>Scoring Ratio: 0.01<br>Shots per match: 5.4\", \"Name: Roberto Firmino<br>Team: Brazil<br>Difficulty: 0.3<br>Shots Accuracy: 0.5<br>Scoring Ratio: 0.04<br>Shots per match: 1.5\", \"Name: Falcao<br>Team: Colombia<br>Difficulty: 0.22<br>Shots Accuracy: 1.25<br>Scoring Ratio: 0.03<br>Shots per match: 2.25\", \"Name: Juan Guillermo Cuadrado Bello<br>Team: Colombia<br>Difficulty: 0.1<br>Shots Accuracy: 0.5<br>Scoring Ratio: 0.04<br>Shots per match: 1.75\", \"Name: Andrej Kramari\\u0107<br>Team: Croatia<br>Difficulty: 0.09<br>Shots Accuracy: 0.43<br>Scoring Ratio: 0.01<br>Shots per match: 1.71\", \"Name: Ante Rebi\\u0107<br>Team: Croatia<br>Difficulty: 0.08<br>Shots Accuracy: 1.0<br>Scoring Ratio: 0.01<br>Shots per match: 2.5\", \"Name: Ivan Peri\\u0161i\\u0107<br>Team: Croatia<br>Difficulty: 0.08<br>Shots Accuracy: 0.86<br>Scoring Ratio: 0.02<br>Shots per match: 3.43\", \"Name: Mario Mand\\u017euki\\u0107<br>Team: Croatia<br>Difficulty: 0.22<br>Shots Accuracy: 1.0<br>Scoring Ratio: 0.04<br>Shots per match: 2.0\", \"Name: Christian Eriksen<br>Team: Denmark<br>Difficulty: 0.12<br>Shots Accuracy: 0.75<br>Scoring Ratio: 0.02<br>Shots per match: 3.0\", \"Name: Yussuf Yurary Poulsen<br>Team: Denmark<br>Difficulty: 0.06<br>Shots Accuracy: 0.33<br>Scoring Ratio: 0.17<br>Shots per match: 0.67\", \"Name: Mohamed Salah<br>Team: Egypt<br>Difficulty: 0.28<br>Shots Accuracy: 1.0<br>Scoring Ratio: 0.08<br>Shots per match: 3.0\", \"Name: Harry Kane<br>Team: England<br>Difficulty: 0.27<br>Shots Accuracy: 1.33<br>Scoring Ratio: 0.03<br>Shots per match: 2.5\", \"Name: Antoine Griezmann<br>Team: France<br>Difficulty: 0.18<br>Shots Accuracy: 1.57<br>Scoring Ratio: 0.01<br>Shots per match: 3.0\", \"Name: Kylian Mbapp\\u00e9<br>Team: France<br>Difficulty: 0.2<br>Shots Accuracy: 1.0<br>Scoring Ratio: 0.07<br>Shots per match: 1.14\", \"Name: Marco Reus<br>Team: Germany<br>Difficulty: 0.05<br>Shots Accuracy: 0.33<br>Scoring Ratio: 0.06<br>Shots per match: 2.0\", \"Name: Alfre\\u00f0 Finnbogason<br>Team: Iceland<br>Difficulty: 0.19<br>Shots Accuracy: 0.67<br>Scoring Ratio: 0.06<br>Shots per match: 2.0\", \"Name: Genki Haraguchi<br>Team: Japan<br>Difficulty: 0.06<br>Shots Accuracy: 0.33<br>Scoring Ratio: 0.11<br>Shots per match: 1.0\", \"Name: Keisuke Honda<br>Team: Japan<br>Difficulty: 0.23<br>Shots Accuracy: 1.0<br>Scoring Ratio: 0.08<br>Shots per match: 1.33\", \"Name: Takashi Inui<br>Team: Japan<br>Difficulty: 0.09<br>Shots Accuracy: 1.25<br>Scoring Ratio: 0.06<br>Shots per match: 2.25\", \"Name: Y\\u016bya \\u014csako<br>Team: Japan<br>Difficulty: 0.07<br>Shots Accuracy: 1.0<br>Scoring Ratio: 0.04<br>Shots per match: 1.75\", \"Name: Chicharito<br>Team: Mexico<br>Difficulty: 0.07<br>Shots Accuracy: 0.25<br>Scoring Ratio: 0.04<br>Shots per match: 1.5\", \"Name: Hirving Rodrigo Lozano Bahena<br>Team: Mexico<br>Difficulty: 0.09<br>Shots Accuracy: 0.5<br>Scoring Ratio: 0.02<br>Shots per match: 3.0\", \"Name: Khalid Bouta\\u00efb<br>Team: Morocco<br>Difficulty: 0.26<br>Shots Accuracy: 1.0<br>Scoring Ratio: 0.13<br>Shots per match: 2.0\", \"Name: Ahmed Musa<br>Team: Nigeria<br>Difficulty: 0.12<br>Shots Accuracy: 1.0<br>Scoring Ratio: 0.17<br>Shots per match: 1.33\", \"Name: Andr\\u00e9 Carrillo<br>Team: Peru<br>Difficulty: 0.04<br>Shots Accuracy: 0.67<br>Scoring Ratio: 0.11<br>Shots per match: 1.0\", \"Name: Jos\\u00e9 Paolo Guerrero Gonz\\u00e1lez<br>Team: Peru<br>Difficulty: 0.1<br>Shots Accuracy: 1.67<br>Scoring Ratio: 0.04<br>Shots per match: 3.0\", \"Name: Cristiano Ronaldo dos Santos Aveiro<br>Team: Portugal<br>Difficulty: 0.14<br>Shots Accuracy: 2.0<br>Scoring Ratio: 0.02<br>Shots per match: 5.5\", \"Name: Artem Dzyuba<br>Team: Russia<br>Difficulty: 0.22<br>Shots Accuracy: 0.8<br>Scoring Ratio: 0.05<br>Shots per match: 1.6\", \"Name: Denis Cheryshev<br>Team: Russia<br>Difficulty: 0.15<br>Shots Accuracy: 1.4<br>Scoring Ratio: 0.06<br>Shots per match: 2.8\", \"Name: M'Baye Babacar Niang<br>Team: Senegal<br>Difficulty: 0.33<br>Shots Accuracy: 1.33<br>Scoring Ratio: 0.04<br>Shots per match: 2.67\", \"Name: Sadio Man\\u00e9<br>Team: Senegal<br>Difficulty: 0.21<br>Shots Accuracy: 0.33<br>Scoring Ratio: 0.11<br>Shots per match: 1.0\", \"Name: Aleksandar Mitrovic<br>Team: Serbia<br>Difficulty: 0.11<br>Shots Accuracy: 1.67<br>Scoring Ratio: 0.02<br>Shots per match: 5.33\", \"Name: Heung-Min Son<br>Team: South Korea<br>Difficulty: 0.1<br>Shots Accuracy: 1.0<br>Scoring Ratio: 0.05<br>Shots per match: 4.67\", \"Name: Diego da Silva Costa<br>Team: Spain<br>Difficulty: 0.17<br>Shots Accuracy: 1.25<br>Scoring Ratio: 0.07<br>Shots per match: 2.75\", \"Name: Iago Aspas Juncal<br>Team: Spain<br>Difficulty: 0.37<br>Shots Accuracy: 1.33<br>Scoring Ratio: 0.07<br>Shots per match: 1.67\", \"Name: Ola Toivonen<br>Team: Sweden<br>Difficulty: 0.07<br>Shots Accuracy: 0.6<br>Scoring Ratio: 0.04<br>Shots per match: 1.0\", \"Name: Blerim D\\u017eemaili<br>Team: Switzerland<br>Difficulty: 0.15<br>Shots Accuracy: 1.0<br>Scoring Ratio: 0.03<br>Shots per match: 2.25\", \"Name: Josip Drmic<br>Team: Switzerland<br>Difficulty: 0.06<br>Shots Accuracy: 1.0<br>Scoring Ratio: 0.13<br>Shots per match: 2.0\", \"Name: Steven Zuber<br>Team: Switzerland<br>Difficulty: 0.03<br>Shots Accuracy: 0.67<br>Scoring Ratio: 0.08<br>Shots per match: 1.33\", \"Name: Xherdan Shaqiri<br>Team: Switzerland<br>Difficulty: 0.04<br>Shots Accuracy: 0.5<br>Scoring Ratio: 0.02<br>Shots per match: 3.0\", \"Name: Wahbi Khazri<br>Team: Tunisia<br>Difficulty: 0.12<br>Shots Accuracy: 1.67<br>Scoring Ratio: 0.06<br>Shots per match: 4.0\", \"Name: Edinson Cavani<br>Team: Uruguay<br>Difficulty: 0.12<br>Shots Accuracy: 1.25<br>Scoring Ratio: 0.05<br>Shots per match: 4.0\", \"Name: Luis Alberto Su\\u00e1rez D\\u00edaz<br>Team: Uruguay<br>Difficulty: 0.11<br>Shots Accuracy: 1.0<br>Scoring Ratio: 0.01<br>Shots per match: 2.8\", \"Name: Cristian David Pav\\u00f3n<br>Team: Argentina<br>Difficulty: 0.01<br>Shots Accuracy: 0.0<br>Scoring Ratio: 0.0<br>Shots per match: 0.25\", \"Name: Gonzalo Gerardo Higua\\u00edn<br>Team: Argentina<br>Difficulty: 0.1<br>Shots Accuracy: 0.0<br>Scoring Ratio: 0.0<br>Shots per match: 1.0\", \"Name: Maximiliano Eduardo Meza<br>Team: Argentina<br>Difficulty: 0.04<br>Shots Accuracy: 0.0<br>Scoring Ratio: 0.0<br>Shots per match: 0.75\", \"Name: Tim Cahill<br>Team: Australia<br>Difficulty: 0.07<br>Shots Accuracy: 0.0<br>Scoring Ratio: 0.0<br>Shots per match: 2.0\", \"Name: Tom Rogi\\u0107<br>Team: Australia<br>Difficulty: 0.07<br>Shots Accuracy: 0.0<br>Scoring Ratio: 0.0<br>Shots per match: 1.67\", \"Name: Douglas Costa de Souza<br>Team: Brazil<br>Difficulty: 0.01<br>Shots Accuracy: 0.0<br>Scoring Ratio: 0.0<br>Shots per match: 2.0\", \"Name: Gabriel Jesus<br>Team: Brazil<br>Difficulty: 0.17<br>Shots Accuracy: 0.0<br>Scoring Ratio: 0.0<br>Shots per match: 2.0\", \"Name: Willian<br>Team: Brazil<br>Difficulty: 0.03<br>Shots Accuracy: 0.0<br>Scoring Ratio: 0.0<br>Shots per match: 1.0\", \"Name: Carlos Arturo Bacca Ahumada<br>Team: Colombia<br>Difficulty: 0.16<br>Shots Accuracy: 0.0<br>Scoring Ratio: 0.0<br>Shots per match: 1.0\", \"Name: James David Rodr\\u00edguez Rubio<br>Team: Colombia<br>Difficulty: 0.03<br>Shots Accuracy: 0.0<br>Scoring Ratio: 0.0<br>Shots per match: 1.0\", \"Name: Juan Fernando Quintero Paniagua<br>Team: Colombia<br>Difficulty: 0.04<br>Shots Accuracy: 0.0<br>Scoring Ratio: 0.0<br>Shots per match: 2.0\", \"Name: Luis Fernando Muriel Fruto<br>Team: Colombia<br>Difficulty: 0.42<br>Shots Accuracy: 0.0<br>Scoring Ratio: 0.0<br>Shots per match: 1.0\", \"Name: Bryan Ruiz Gonz\\u00e1lez<br>Team: Costa Rica<br>Difficulty: 0.27<br>Shots Accuracy: 0.0<br>Scoring Ratio: 0.0<br>Shots per match: 0.67\", \"Name: Daniel Colindres Solera<br>Team: Costa Rica<br>Difficulty: 0.04<br>Shots Accuracy: 0.0<br>Scoring Ratio: 0.0<br>Shots per match: 1.5\", \"Name: Joel Nathaniel Campbell Samuels<br>Team: Costa Rica<br>Difficulty: 0.05<br>Shots Accuracy: 0.0<br>Scoring Ratio: 0.0<br>Shots per match: 1.5\", \"Name: Marcos Danilo Ure\\u00f1a Porras<br>Team: Costa Rica<br>Difficulty: 0.01<br>Shots Accuracy: 0.0<br>Scoring Ratio: 0.0<br>Shots per match: 1.0\", \"Name: Marko Pjaca<br>Team: Croatia<br>Difficulty: 0.01<br>Shots Accuracy: 0.0<br>Scoring Ratio: 0.0<br>Shots per match: 0.33\", \"Name: Andreas Evald Cornelius<br>Team: Denmark<br>Difficulty: 0.04<br>Shots Accuracy: 0.0<br>Scoring Ratio: 0.0<br>Shots per match: 0.33\", \"Name: Martin Braithwaite<br>Team: Denmark<br>Difficulty: 0.06<br>Shots Accuracy: 0.0<br>Scoring Ratio: 0.0<br>Shots per match: 1.0\", \"Name: Nicolai J\\u00f8rgensen<br>Team: Denmark<br>Difficulty: 0.16<br>Shots Accuracy: 0.0<br>Scoring Ratio: 0.0<br>Shots per match: 1.67\", \"Name: Pione Sisto Ifolo Emirmija<br>Team: Denmark<br>Difficulty: 0.02<br>Shots Accuracy: 0.0<br>Scoring Ratio: 0.0<br>Shots per match: 1.25\", \"Name: Abdalla Mahmoud El Said Bekhit<br>Team: Egypt<br>Difficulty: 0.02<br>Shots Accuracy: 0.0<br>Scoring Ratio: 0.0<br>Shots per match: 0.67\", \"Name: Mahmoud Ibrahim Hassan<br>Team: Egypt<br>Difficulty: 0.06<br>Shots Accuracy: 0.0<br>Scoring Ratio: 0.0<br>Shots per match: 2.67\", \"Name: Marwan Mohsen<br>Team: Egypt<br>Difficulty: 0.07<br>Shots Accuracy: 0.0<br>Scoring Ratio: 0.0<br>Shots per match: 2.0\", \"Name: Danny Welbeck<br>Team: England<br>Difficulty: 0.09<br>Shots Accuracy: 0.0<br>Scoring Ratio: 0.0<br>Shots per match: 2.0\", \"Name: Jamie Richard Vardy<br>Team: England<br>Difficulty: 0.02<br>Shots Accuracy: 0.0<br>Scoring Ratio: 0.0<br>Shots per match: 0.75\", \"Name: Marcus Rashford<br>Team: England<br>Difficulty: 0.16<br>Shots Accuracy: 0.0<br>Scoring Ratio: 0.0<br>Shots per match: 1.0\", \"Name: Raheem Sterling<br>Team: England<br>Difficulty: 0.15<br>Shots Accuracy: 0.0<br>Scoring Ratio: 0.0<br>Shots per match: 1.83\", \"Name: Blaise Matuidi<br>Team: France<br>Difficulty: 0.04<br>Shots Accuracy: 0.0<br>Scoring Ratio: 0.0<br>Shots per match: 1.0\", \"Name: Corentin Tolisso<br>Team: France<br>Difficulty: 0.06<br>Shots Accuracy: 0.0<br>Scoring Ratio: 0.0<br>Shots per match: 0.4\", \"Name: Nabil Fekir<br>Team: France<br>Difficulty: 0.01<br>Shots Accuracy: 0.0<br>Scoring Ratio: 0.0<br>Shots per match: 0.67\", \"Name: Olivier Giroud<br>Team: France<br>Difficulty: 0.07<br>Shots Accuracy: 0.0<br>Scoring Ratio: 0.0<br>Shots per match: 2.14\", \"Name: Ousmane Demb\\u00e9l\\u00e9<br>Team: France<br>Difficulty: 0.03<br>Shots Accuracy: 0.0<br>Scoring Ratio: 0.0<br>Shots per match: 0.75\", \"Name: Thomas Lemar<br>Team: France<br>Difficulty: 0.01<br>Shots Accuracy: 0.0<br>Scoring Ratio: 0.0<br>Shots per match: 1.0\", \"Name: Julian Draxler<br>Team: Germany<br>Difficulty: 0.18<br>Shots Accuracy: 0.0<br>Scoring Ratio: 0.0<br>Shots per match: 3.0\", \"Name: Leon Goretzka<br>Team: Germany<br>Difficulty: 0.08<br>Shots Accuracy: 0.0<br>Scoring Ratio: 0.0<br>Shots per match: 2.0\", \"Name: Mario G\\u00f3mez Garc\\u00eda<br>Team: Germany<br>Difficulty: 0.25<br>Shots Accuracy: 0.0<br>Scoring Ratio: 0.0<br>Shots per match: 2.0\", \"Name: Mesut \\u00d6zil<br>Team: Germany<br>Difficulty: 0.04<br>Shots Accuracy: 0.0<br>Scoring Ratio: 0.0<br>Shots per match: 1.0\", \"Name: Thomas M\\u00fcller<br>Team: Germany<br>Difficulty: 0.02<br>Shots Accuracy: 0.0<br>Scoring Ratio: 0.0<br>Shots per match: 1.33\", \"Name: Timo Werner<br>Team: Germany<br>Difficulty: 0.17<br>Shots Accuracy: 0.0<br>Scoring Ratio: 0.0<br>Shots per match: 2.33\", \"Name: Johann Berg Gudmundsson<br>Team: Iceland<br>Difficulty: 0.02<br>Shots Accuracy: 0.0<br>Scoring Ratio: 0.0<br>Shots per match: 1.5\", \"Name: J\\u00f3n Da\\u00f0i B\\u00f6\\u00f0varsson<br>Team: Iceland<br>Difficulty: 0.01<br>Shots Accuracy: 0.0<br>Scoring Ratio: 0.0<br>Shots per match: 1.0\", \"Name: Mehdi Taremi<br>Team: Iran<br>Difficulty: 0.18<br>Shots Accuracy: 0.0<br>Scoring Ratio: 0.0<br>Shots per match: 1.0\", \"Name: Sardar Azmoun<br>Team: Iran<br>Difficulty: 0.1<br>Shots Accuracy: 0.0<br>Scoring Ratio: 0.0<br>Shots per match: 1.67\", \"Name: Shinji Kagawa<br>Team: Japan<br>Difficulty: 0.19<br>Shots Accuracy: 0.0<br>Scoring Ratio: 0.0<br>Shots per match: 1.0\", \"Name: Shinji Okazaki<br>Team: Japan<br>Difficulty: 0.07<br>Shots Accuracy: 0.0<br>Scoring Ratio: 0.0<br>Shots per match: 0.33\", \"Name: Yoshinori Muto<br>Team: Japan<br>Difficulty: 0.07<br>Shots Accuracy: 0.0<br>Scoring Ratio: 0.0<br>Shots per match: 2.0\", \"Name: Carlos Alberto Vela Garrido<br>Team: Mexico<br>Difficulty: 0.17<br>Shots Accuracy: 0.0<br>Scoring Ratio: 0.0<br>Shots per match: 2.5\", \"Name: Miguel Arturo Lay\\u00fan Prado<br>Team: Mexico<br>Difficulty: 0.04<br>Shots Accuracy: 0.0<br>Scoring Ratio: 0.0<br>Shots per match: 2.25\", \"Name: Ra\\u00fal Alonso Jim\\u00e9nez Rodr\\u00edguez<br>Team: Mexico<br>Difficulty: 0.04<br>Shots Accuracy: 0.0<br>Scoring Ratio: 0.0<br>Shots per match: 0.5\", \"Name: Amine Harit<br>Team: Morocco<br>Difficulty: 0.08<br>Shots Accuracy: 0.0<br>Scoring Ratio: 0.0<br>Shots per match: 3.0\", \"Name: Ayoub El Kaabi<br>Team: Morocco<br>Difficulty: 0.04<br>Shots Accuracy: 0.0<br>Scoring Ratio: 0.0<br>Shots per match: 0.5\", \"Name: Hakim Ziyech<br>Team: Morocco<br>Difficulty: 0.09<br>Shots Accuracy: 0.0<br>Scoring Ratio: 0.0<br>Shots per match: 3.0\", \"Name: Nordin Amrabat<br>Team: Morocco<br>Difficulty: 0.0<br>Shots Accuracy: 0.0<br>Scoring Ratio: 0.0<br>Shots per match: 0.33\", \"Name: Youn\\u00e8s Belhanda<br>Team: Morocco<br>Difficulty: 0.06<br>Shots Accuracy: 0.0<br>Scoring Ratio: 0.0<br>Shots per match: 2.0\", \"Name: Kelechi Iheanacho<br>Team: Nigeria<br>Difficulty: 0.03<br>Shots Accuracy: 0.0<br>Scoring Ratio: 0.0<br>Shots per match: 1.0\", \"Name: Odion Jude Ighalo<br>Team: Nigeria<br>Difficulty: 0.11<br>Shots Accuracy: 0.0<br>Scoring Ratio: 0.0<br>Shots per match: 1.67\", \"Name: Blas Antonio Miguel P\\u00e9rez Ortega<br>Team: Panama<br>Difficulty: 0.03<br>Shots Accuracy: 0.0<br>Scoring Ratio: 0.0<br>Shots per match: 0.5\", \"Name: Edgar Yoel B\\u00e1rcenas Herrera<br>Team: Panama<br>Difficulty: 0.07<br>Shots Accuracy: 0.0<br>Scoring Ratio: 0.0<br>Shots per match: 2.0\", \"Name: Gabriel Arturo Torres Tejada<br>Team: Panama<br>Difficulty: 0.07<br>Shots Accuracy: 0.0<br>Scoring Ratio: 0.0<br>Shots per match: 0.5\", \"Name: Jos\\u00e9 Luis Rodriguez<br>Team: Panama<br>Difficulty: 0.02<br>Shots Accuracy: 0.0<br>Scoring Ratio: 0.0<br>Shots per match: 1.0\", \"Name: Christian Alberto Cueva Bravo<br>Team: Peru<br>Difficulty: 0.27<br>Shots Accuracy: 0.0<br>Scoring Ratio: 0.0<br>Shots per match: 0.67\", \"Name: Jefferson Agust\\u00edn Farf\\u00e1n Guadalupe<br>Team: Peru<br>Difficulty: 0.1<br>Shots Accuracy: 0.0<br>Scoring Ratio: 0.0<br>Shots per match: 2.0\", \"Name: Arkadiusz Milik<br>Team: Poland<br>Difficulty: 0.18<br>Shots Accuracy: 0.0<br>Scoring Ratio: 0.0<br>Shots per match: 1.0\", \"Name: Dawid Kownacki<br>Team: Poland<br>Difficulty: 0.04<br>Shots Accuracy: 0.0<br>Scoring Ratio: 0.0<br>Shots per match: 1.0\", \"Name: Kamil Grosicki<br>Team: Poland<br>Difficulty: 0.03<br>Shots Accuracy: 0.0<br>Scoring Ratio: 0.0<br>Shots per match: 1.67\", \"Name: Piotr Zieli\\u0144ski<br>Team: Poland<br>Difficulty: 0.04<br>Shots Accuracy: 0.0<br>Scoring Ratio: 0.0<br>Shots per match: 1.33\", \"Name: Rafa\\u0142 Kurzawa<br>Team: Poland<br>Difficulty: 0.04<br>Shots Accuracy: 0.0<br>Scoring Ratio: 0.0<br>Shots per match: 2.0\", \"Name: Robert Lewandowski<br>Team: Poland<br>Difficulty: 0.13<br>Shots Accuracy: 0.0<br>Scoring Ratio: 0.0<br>Shots per match: 3.0\", \"Name: Andr\\u00e9 Miguel Valente Silva<br>Team: Portugal<br>Difficulty: 0.01<br>Shots Accuracy: 0.0<br>Scoring Ratio: 0.0<br>Shots per match: 0.67\", \"Name: Gon\\u00e7alo Guedes<br>Team: Portugal<br>Difficulty: 0.06<br>Shots Accuracy: 0.0<br>Scoring Ratio: 0.0<br>Shots per match: 1.5\", \"Name: Alan Dzagoev<br>Team: Russia<br>Difficulty: 0.4<br>Shots Accuracy: 0.0<br>Scoring Ratio: 0.0<br>Shots per match: 1.0\", \"Name: Aleksandr Erokhin<br>Team: Russia<br>Difficulty: 0.15<br>Shots Accuracy: 0.0<br>Scoring Ratio: 0.0<br>Shots per match: 1.5\", \"Name: Aleksandr Golovin<br>Team: Russia<br>Difficulty: 0.15<br>Shots Accuracy: 0.0<br>Scoring Ratio: 0.0<br>Shots per match: 1.0\", \"Name: Aleksandr Samedov<br>Team: Russia<br>Difficulty: 0.02<br>Shots Accuracy: 0.0<br>Scoring Ratio: 0.0<br>Shots per match: 0.4\", \"Name: Fyodor Smolov<br>Team: Russia<br>Difficulty: 0.15<br>Shots Accuracy: 0.0<br>Scoring Ratio: 0.0<br>Shots per match: 0.8\", \"Name: Fahad Mosaed Al Muwallad Al Harbi<br>Team: Saudi Arabia<br>Difficulty: 0.27<br>Shots Accuracy: 0.0<br>Scoring Ratio: 0.0<br>Shots per match: 0.67\", \"Name: Mohammad Ibrahim Al Sahlawi<br>Team: Saudi Arabia<br>Difficulty: 0.02<br>Shots Accuracy: 0.0<br>Scoring Ratio: 0.0<br>Shots per match: 0.5\", \"Name: Mohammed Kanoo<br>Team: Saudi Arabia<br>Difficulty: 0.07<br>Shots Accuracy: 0.0<br>Scoring Ratio: 0.0<br>Shots per match: 1.0\", \"Name: Mohanad Aseri Abu Radiah<br>Team: Saudi Arabia<br>Difficulty: 0.12<br>Shots Accuracy: 0.0<br>Scoring Ratio: 0.0<br>Shots per match: 0.5\", \"Name: Cheikh N'Doye<br>Team: Senegal<br>Difficulty: 0.06<br>Shots Accuracy: 0.0<br>Scoring Ratio: 0.0<br>Shots per match: 0.5\", \"Name: Isma\\u00efla Sarr<br>Team: Senegal<br>Difficulty: 0.07<br>Shots Accuracy: 0.0<br>Scoring Ratio: 0.0<br>Shots per match: 1.0\", \"Name: Keita Bald\\u00e9<br>Team: Senegal<br>Difficulty: 0.02<br>Shots Accuracy: 0.0<br>Scoring Ratio: 0.0<br>Shots per match: 1.0\", \"Name: Mame Diouf<br>Team: Senegal<br>Difficulty: 0.18<br>Shots Accuracy: 0.0<br>Scoring Ratio: 0.0<br>Shots per match: 1.0\", \"Name: Adem Ljaji\\u0107<br>Team: Serbia<br>Difficulty: 0.0<br>Shots Accuracy: 0.0<br>Scoring Ratio: 0.0<br>Shots per match: 0.33\", \"Name: Andrija \\u017divkovi\\u0107<br>Team: Serbia<br>Difficulty: 0.0<br>Shots Accuracy: 0.0<br>Scoring Ratio: 0.0<br>Shots per match: 1.0\", \"Name: Dusan Tadic<br>Team: Serbia<br>Difficulty: 0.03<br>Shots Accuracy: 0.0<br>Scoring Ratio: 0.0<br>Shots per match: 1.0\", \"Name: Filip Kosti\\u0107<br>Team: Serbia<br>Difficulty: 0.18<br>Shots Accuracy: 0.0<br>Scoring Ratio: 0.0<br>Shots per match: 1.33\", \"Name: Sergej Milinkovi\\u0107-Savi\\u0107<br>Team: Serbia<br>Difficulty: 0.04<br>Shots Accuracy: 0.0<br>Scoring Ratio: 0.0<br>Shots per match: 1.67\", \"Name: Hee-Chan Hwang<br>Team: South Korea<br>Difficulty: 0.07<br>Shots Accuracy: 0.0<br>Scoring Ratio: 0.0<br>Shots per match: 0.67\", \"Name: David Silva<br>Team: Spain<br>Difficulty: 0.14<br>Shots Accuracy: 0.0<br>Scoring Ratio: 0.0<br>Shots per match: 2.5\", \"Name: John Guidetti<br>Team: Sweden<br>Difficulty: 0.02<br>Shots Accuracy: 0.0<br>Scoring Ratio: 0.0<br>Shots per match: 0.5\", \"Name: Marcus Berg<br>Team: Sweden<br>Difficulty: 0.18<br>Shots Accuracy: 0.0<br>Scoring Ratio: 0.0<br>Shots per match: 3.0\", \"Name: Breel-Donald Embolo<br>Team: Switzerland<br>Difficulty: 0.04<br>Shots Accuracy: 0.0<br>Scoring Ratio: 0.0<br>Shots per match: 1.0\", \"Name: Haris Seferovi\\u0107<br>Team: Switzerland<br>Difficulty: 0.02<br>Shots Accuracy: 0.0<br>Scoring Ratio: 0.0<br>Shots per match: 0.33\", \"Name: Mario Gavranovi\\u0107<br>Team: Switzerland<br>Difficulty: 0.17<br>Shots Accuracy: 0.0<br>Scoring Ratio: 0.0<br>Shots per match: 1.5\", \"Name: Carlos Andr\\u00e9s S\\u00e1nchez Arcosa<br>Team: Uruguay<br>Difficulty: 0.12<br>Shots Accuracy: 0.0<br>Scoring Ratio: 0.0<br>Shots per match: 0.67\", \"Name: Cristhian Ricardo Stuani Curbelo<br>Team: Uruguay<br>Difficulty: 0.01<br>Shots Accuracy: 0.0<br>Scoring Ratio: 0.0<br>Shots per match: 0.5\", \"Name: Cristian Gabriel Rodr\\u00edguez Barrotti<br>Team: Uruguay<br>Difficulty: 0.02<br>Shots Accuracy: 0.0<br>Scoring Ratio: 0.0<br>Shots per match: 0.8\", \"Name: Giorgian Daniel De Arrascaeta Benedetti<br>Team: Uruguay<br>Difficulty: 0.2<br>Shots Accuracy: 0.0<br>Scoring Ratio: 0.0<br>Shots per match: 0.5\"], \"x\": [5.0, 16.0, 5.0, 5.0, 3.0, 17.0, 18.0, 17.0, 16.0, 30.0, 22.0, 10.0, 9.0, 8.0, 8.0, 22.0, 12.0, 6.0, 28.000000000000004, 27.0, 18.0, 20.0, 5.0, 19.0, 6.0, 23.0, 9.0, 7.000000000000001, 7.000000000000001, 9.0, 26.0, 12.0, 4.0, 10.0, 14.000000000000002, 22.0, 15.0, 33.0, 21.0, 11.0, 10.0, 17.0, 37.0, 7.000000000000001, 15.0, 6.0, 3.0, 4.0, 12.0, 12.0, 11.0, 1.0, 10.0, 4.0, 7.000000000000001, 7.000000000000001, 1.0, 17.0, 3.0, 16.0, 3.0, 4.0, 42.0, 27.0, 4.0, 5.0, 1.0, 1.0, 4.0, 6.0, 16.0, 2.0, 2.0, 6.0, 7.000000000000001, 9.0, 2.0, 16.0, 15.0, 4.0, 6.0, 1.0, 7.000000000000001, 3.0, 1.0, 18.0, 8.0, 25.0, 4.0, 2.0, 17.0, 2.0, 1.0, 18.0, 10.0, 19.0, 7.000000000000001, 7.000000000000001, 17.0, 4.0, 4.0, 8.0, 4.0, 9.0, 0.0, 6.0, 3.0, 11.0, 3.0, 7.000000000000001, 7.000000000000001, 2.0, 27.0, 10.0, 18.0, 4.0, 3.0, 4.0, 4.0, 13.0, 1.0, 6.0, 40.0, 15.0, 15.0, 2.0, 15.0, 27.0, 2.0, 7.000000000000001, 12.0, 6.0, 7.000000000000001, 2.0, 18.0, 0.0, 0.0, 3.0, 18.0, 4.0, 7.000000000000001, 14.000000000000002, 2.0, 18.0, 4.0, 2.0, 17.0, 12.0, 1.0, 2.0, 20.0], \"y\": [0.33, 1.5, 0.75, 1.0, 0.5, 1.17, 1.67, 1.0, 3.0, 0.5, 1.25, 0.5, 0.43, 1.0, 0.86, 1.0, 0.75, 0.33, 1.0, 1.33, 1.57, 1.0, 0.33, 0.67, 0.33, 1.0, 1.25, 1.0, 0.25, 0.5, 1.0, 1.0, 0.67, 1.67, 2.0, 0.8, 1.4, 1.33, 0.33, 1.67, 1.0, 1.25, 1.33, 0.6, 1.0, 1.0, 0.67, 0.5, 1.67, 1.25, 1.0, 0.0, 0.0, 0.0, 0.0, 0.0, 0.0, 0.0, 0.0, 0.0, 0.0, 0.0, 0.0, 0.0, 0.0, 0.0, 0.0, 0.0, 0.0, 0.0, 0.0, 0.0, 0.0, 0.0, 0.0, 0.0, 0.0, 0.0, 0.0, 0.0, 0.0, 0.0, 0.0, 0.0, 0.0, 0.0, 0.0, 0.0, 0.0, 0.0, 0.0, 0.0, 0.0, 0.0, 0.0, 0.0, 0.0, 0.0, 0.0, 0.0, 0.0, 0.0, 0.0, 0.0, 0.0, 0.0, 0.0, 0.0, 0.0, 0.0, 0.0, 0.0, 0.0, 0.0, 0.0, 0.0, 0.0, 0.0, 0.0, 0.0, 0.0, 0.0, 0.0, 0.0, 0.0, 0.0, 0.0, 0.0, 0.0, 0.0, 0.0, 0.0, 0.0, 0.0, 0.0, 0.0, 0.0, 0.0, 0.0, 0.0, 0.0, 0.0, 0.0, 0.0, 0.0, 0.0, 0.0, 0.0, 0.0, 0.0, 0.0], \"type\": \"scatter\", \"uid\": \"ae2fab25-206d-425c-ba93-39f3281bfb5c\"}], {\"xaxis\": {\"title\": \"Shot Difficulty\"}, \"yaxis\": {\"title\": \"Shots On Target\"}}, {\"showLink\": true, \"linkText\": \"Export to plot.ly\", \"plotlyServerURL\": \"https://plot.ly\"})});</script><script type=\"text/javascript\">window.addEventListener(\"resize\", function(){window._Plotly.Plots.resize(document.getElementById(\"7d11e836-9478-4e80-8298-18734363caf2\"));});</script>"
      ]
     },
     "metadata": {},
     "output_type": "display_data"
    }
   ],
   "source": [
    "# Player 1st plot: (Attackers) (Box F)\n",
    "\n",
    "query = \"select * from player_1_attack5\"\n",
    "pl_attack = pd.read_sql_query(query, connection)\n",
    "\n",
    "pl_attack = pl_attack.fillna(0)\n",
    "pl_attack = pl_attack.drop(index=31)\n",
    "\n",
    "hover_text = []\n",
    "for index, row in pl_attack.iterrows():\n",
    "    hover_text.append(('Name: {player_name}<br>'+\n",
    "                       'Team: {team_name}<br>'+\n",
    "                      'Difficulty: {diff}<br>'+\n",
    "                      'Shots Accuracy: {sot}<br>'+\n",
    "                      'Scoring Ratio: {scoring_ratio}<br>'+\n",
    "                      'Shots per match: {shots}').format(player_name = row['player'],\n",
    "                                                team_name = row['team_name'],\n",
    "                                                diff = row['diff'],\n",
    "                                                sot = row['sot'],\n",
    "                                                scoring_ratio = row['scoring_ratio'],\n",
    "                                                shots = row['shots']))\n",
    "\n",
    "data = [\n",
    "    {\n",
    "        'x': (pl_attack['diff'] * 100).tolist(),\n",
    "        'y': pl_attack['sot'].tolist(),\n",
    "        'text': hover_text,\n",
    "        'hoverinfo': 'text',\n",
    "        'mode': 'markers',\n",
    "        'marker': {\n",
    "            'color': (pl_attack['scoring_ratio']).tolist(),\n",
    "            'size': (pl_attack['shots'] * 10).tolist(),\n",
    "            'showscale': True,\n",
    "            'colorscale' :'Jet',\n",
    "            'colorbar': {\n",
    "                'title': 'Scoring Ratio',\n",
    "                'tickmode' : 'array',\n",
    "                'tickvals' : [0.01, 0.17, 0.32],\n",
    "                'ticktext' : ['Low','Medium','High'],\n",
    "                'ticks' : 'outside'\n",
    "            }\n",
    "        }\n",
    "        \n",
    "    }\n",
    "]\n",
    "\n",
    "layout = go.Layout(\n",
    "    title = 'Strikers',\n",
    "    xaxis = dict(title='Shot Difficulty'),\n",
    "    yaxis = dict(title='Shots On Target')\n",
    ")\n",
    "fig = go.Figure(data=data, layout=layout) \n",
    "# urlF = py.plot(fig, filename='attaking_players', sharing='public', auto_open='False')\n",
    "py.iplot(fig, filename='attaking_players')\n",
    "# urlF"
   ]
  },
  {
   "cell_type": "code",
   "execution_count": 54,
   "metadata": {},
   "outputs": [
    {
     "data": {
      "text/html": [
       "<iframe id=\"igraph\" scrolling=\"no\" style=\"border:none;\" seamless=\"seamless\" src=\"https://plot.ly/~asahay/12.embed\" height=\"525px\" width=\"100%\"></iframe>"
      ],
      "text/plain": [
       "<plotly.tools.PlotlyDisplay object>"
      ]
     },
     "execution_count": 54,
     "metadata": {},
     "output_type": "execute_result"
    }
   ],
   "source": [
    "# Player 2nd plot: (Midfield) (Box G)\n",
    "query = \"select * from player_3_mid5\"\n",
    "pl_mid = pd.read_sql_query(query, connection)\n",
    "pl_mid['color']=\"\"\n",
    "disp_mid = (pl_mid[\"disp\"].max() + pl_mid[\"disp\"].min())/2\n",
    "pass_mid = (pl_mid[\"passes\"].max() + pl_mid[\"passes\"].min())/2\n",
    "for ind, x in pl_mid.iterrows():\n",
    "    if x[\"disp\"] < disp_mid:\n",
    "        if x[\"passes\"] < pass_mid:\n",
    "            pl_mid[\"color\"][ind] = \"red\"\n",
    "        else:\n",
    "            pl_mid[\"color\"][ind] = \"green\"\n",
    "    else:\n",
    "        if x[\"passes\"] < pass_mid:\n",
    "            pl_mid[\"color\"][ind] = \"blue\"\n",
    "        else:\n",
    "            pl_mid[\"color\"][ind] = \"black\"\n",
    "            \n",
    "hover_text = []\n",
    "for index, row in pl_mid.iterrows():\n",
    "    hover_text.append(('Name: {player_name}<br>'+\n",
    "                       'Team: {team_name}<br>'+\n",
    "                      'Disposition: {disp}<br>'+\n",
    "                      'Passes: {passes}').format(player_name = row['player'],\n",
    "                                                team_name = row['team_name'],\n",
    "                                                disp = row['disp'],\n",
    "                                                passes = row['passes']))\n",
    "data = [\n",
    "    {\n",
    "        'x': pl_mid['disp'].tolist(),\n",
    "        'y': pl_mid['passes'].tolist(),\n",
    "        'text': hover_text,\n",
    "        'hoverinfo': 'text',\n",
    "        'mode': 'markers',\n",
    "        'marker': {\n",
    "            'color': pl_mid[\"color\"],\n",
    "            'size': [15 for i in range(len(pl_mid))],\n",
    "            'line': {\n",
    "                'width':2\n",
    "            }\n",
    "        }\n",
    "        \n",
    "    }\n",
    "]\n",
    "\n",
    "layout = go.Layout(\n",
    "    title='Mid-fielders',\n",
    "    xaxis=dict(\n",
    "        title='Disposessions',\n",
    "        gridcolor = \"white\",\n",
    "        gridwidth = 2\n",
    "        ),\n",
    "    yaxis=dict(\n",
    "        title='Passes',\n",
    "        gridcolor = \"white\",\n",
    "        gridwidth = 2\n",
    "        ),\n",
    "    shapes = [\n",
    "    {\n",
    "      \"line\": {\n",
    "        \"color\": \"rgb(68, 68, 68)\", \n",
    "        \"dash\": \"solid\", \n",
    "        \"width\": 1\n",
    "      }, \n",
    "      \"type\": \"line\", \n",
    "      \"x0\": 0.5, \n",
    "      \"x1\": 0.5, \n",
    "      \"xref\": \"paper\", \n",
    "      \"y0\": 0, \n",
    "      \"y1\": 1, \n",
    "      \"yref\": \"paper\"\n",
    "    }, \n",
    "    {\n",
    "      \"line\": {\n",
    "        \"color\": \"rgb(68, 68, 68)\", \n",
    "        \"dash\": \"solid\", \n",
    "        \"width\": 1\n",
    "      }, \n",
    "      \"type\": \"line\", \n",
    "      \"x0\": 0, \n",
    "      \"x1\": 1, \n",
    "      \"xref\": \"paper\", \n",
    "      \"y0\": 0.5, \n",
    "      \"y1\": 0.5, \n",
    "      \"yref\": \"paper\"\n",
    "    },\n",
    "  ],\n",
    "    paper_bgcolor = 'rgb(243,243,243)',\n",
    "    plot_bgcolor = 'rgb(243,243,243)',\n",
    ")\n",
    "fig = go.Figure(data=data, layout=layout) \n",
    "# urlG = py.plot(fig, filename='mid_field_players', sharing = 'public', auto_open = False)\n",
    "py.iplot(fig, filename='mid_field_players')\n",
    "# urlG\n"
   ]
  },
  {
   "cell_type": "code",
   "execution_count": 22,
   "metadata": {},
   "outputs": [
    {
     "data": {
      "application/vnd.plotly.v1+json": {
       "config": {
        "linkText": "Export to plot.ly",
        "plotlyServerURL": "https://plot.ly",
        "showLink": true
       },
       "data": [
        {
         "fill": "toself",
         "name": "Gabriel Iván Mercado",
         "r": [
          "Gabriel Iván Mercado",
          2,
          0,
          2,
          1,
          0
         ],
         "theta": [
          "blocks",
          "clearances",
          "cards",
          "duels_won",
          "duels_lost"
         ],
         "type": "scatterpolar",
         "uid": "f3d03d3c-1933-4026-84fc-a8797640386d"
        },
        {
         "fill": "toself",
         "name": "Nicolás Alejandro Tagliafico",
         "r": [
          "Nicolás Alejandro Tagliafico",
          1,
          0,
          2,
          1,
          0
         ],
         "theta": [
          "blocks",
          "clearances",
          "cards",
          "duels_won",
          "duels_lost"
         ],
         "type": "scatterpolar",
         "uid": "c92cf97a-d36a-4f25-827a-bb4ec3506624"
        },
        {
         "fill": "toself",
         "name": "Nicolás Otamendi",
         "r": [
          "Nicolás Otamendi",
          2,
          2,
          0,
          2,
          1
         ],
         "theta": [
          "blocks",
          "clearances",
          "cards",
          "duels_won",
          "duels_lost"
         ],
         "type": "scatterpolar",
         "uid": "4cfbaf55-4da6-445e-a181-80fe196f0db3"
        },
        {
         "fill": "toself",
         "name": "Aziz Eraltay Behich",
         "r": [
          "Aziz Eraltay Behich",
          2,
          1,
          2,
          0,
          1
         ],
         "theta": [
          "blocks",
          "clearances",
          "cards",
          "duels_won",
          "duels_lost"
         ],
         "type": "scatterpolar",
         "uid": "9797adf2-645f-41b0-b349-1bc1e75bb475"
        },
        {
         "fill": "toself",
         "name": "Josh Risdon",
         "r": [
          "Josh Risdon",
          2,
          1,
          2,
          4,
          1
         ],
         "theta": [
          "blocks",
          "clearances",
          "cards",
          "duels_won",
          "duels_lost"
         ],
         "type": "scatterpolar",
         "uid": "07dd8642-59ae-47e0-ab77-fbceb4aa2255"
        },
        {
         "fill": "toself",
         "name": "Mark Milligan",
         "r": [
          "Mark Milligan",
          1,
          1,
          2,
          1,
          1
         ],
         "theta": [
          "blocks",
          "clearances",
          "cards",
          "duels_won",
          "duels_lost"
         ],
         "type": "scatterpolar",
         "uid": "fbd25241-5b47-4ca0-9d07-6be03df700eb"
        },
        {
         "fill": "toself",
         "name": "Trent Sainsbury",
         "r": [
          "Trent Sainsbury",
          2,
          2,
          0,
          1,
          0
         ],
         "theta": [
          "blocks",
          "clearances",
          "cards",
          "duels_won",
          "duels_lost"
         ],
         "type": "scatterpolar",
         "uid": "f49900b6-16e5-41ca-b24f-8143f8703ec0"
        },
        {
         "fill": "toself",
         "name": "Anga Dedryck Boyata",
         "r": [
          "Anga Dedryck Boyata",
          1,
          2,
          0,
          0,
          0
         ],
         "theta": [
          "blocks",
          "clearances",
          "cards",
          "duels_won",
          "duels_lost"
         ],
         "type": "scatterpolar",
         "uid": "8e993e03-296a-4f94-a3c4-2972f31a44cf"
        },
        {
         "fill": "toself",
         "name": "Jan Vertonghen",
         "r": [
          "Jan Vertonghen",
          1,
          2,
          1,
          1,
          1
         ],
         "theta": [
          "blocks",
          "clearances",
          "cards",
          "duels_won",
          "duels_lost"
         ],
         "type": "scatterpolar",
         "uid": "029ae6d1-dc7e-4708-9cfc-62e2bd2ea30d"
        },
        {
         "fill": "toself",
         "name": "Nacer Chadli",
         "r": [
          "Nacer Chadli",
          1,
          0,
          0,
          0,
          0
         ],
         "theta": [
          "blocks",
          "clearances",
          "cards",
          "duels_won",
          "duels_lost"
         ],
         "type": "scatterpolar",
         "uid": "7996300d-186b-4bf0-975e-461ea6c70dca"
        },
        {
         "fill": "toself",
         "name": "Thomas Meunier",
         "r": [
          "Thomas Meunier",
          1,
          1,
          2,
          1,
          0
         ],
         "theta": [
          "blocks",
          "clearances",
          "cards",
          "duels_won",
          "duels_lost"
         ],
         "type": "scatterpolar",
         "uid": "5f0767d4-7225-4bcc-b1e3-653023f106be"
        },
        {
         "fill": "toself",
         "name": "Toby Albertine Maurits Alderweireld",
         "r": [
          "Toby Albertine Maurits Alderweireld",
          2,
          2,
          2,
          1,
          0
         ],
         "theta": [
          "blocks",
          "clearances",
          "cards",
          "duels_won",
          "duels_lost"
         ],
         "type": "scatterpolar",
         "uid": "09d4f245-dab0-4e0f-aece-a1bfb31d173f"
        },
        {
         "fill": "toself",
         "name": "Vincent Kompany",
         "r": [
          "Vincent Kompany",
          1,
          3,
          0,
          1,
          0
         ],
         "theta": [
          "blocks",
          "clearances",
          "cards",
          "duels_won",
          "duels_lost"
         ],
         "type": "scatterpolar",
         "uid": "5de518b1-9460-483f-964e-cad2f7ad408e"
        },
        {
         "fill": "toself",
         "name": "Yannick Ferreira Carrasco",
         "r": [
          "Yannick Ferreira Carrasco",
          1,
          0,
          0,
          1,
          0
         ],
         "theta": [
          "blocks",
          "clearances",
          "cards",
          "duels_won",
          "duels_lost"
         ],
         "type": "scatterpolar",
         "uid": "0dd48f85-ca4f-4c5a-a75f-82693bc9b5de"
        },
        {
         "fill": "toself",
         "name": "Danilo",
         "r": [
          "Danilo",
          0,
          1,
          0,
          1,
          1
         ],
         "theta": [
          "blocks",
          "clearances",
          "cards",
          "duels_won",
          "duels_lost"
         ],
         "type": "scatterpolar",
         "uid": "f2977024-5c51-4795-acfb-3587db39010a"
        },
        {
         "fill": "toself",
         "name": "Fágner Conserva Lemos",
         "r": [
          "Fágner Conserva Lemos",
          2,
          1,
          1,
          2,
          1
         ],
         "theta": [
          "blocks",
          "clearances",
          "cards",
          "duels_won",
          "duels_lost"
         ],
         "type": "scatterpolar",
         "uid": "db752697-40d5-4e85-a65a-5e8ec81e446a"
        },
        {
         "fill": "toself",
         "name": "Filipe Luis Kasmirski",
         "r": [
          "Filipe Luis Kasmirski",
          4,
          1,
          2,
          4,
          0
         ],
         "theta": [
          "blocks",
          "clearances",
          "cards",
          "duels_won",
          "duels_lost"
         ],
         "type": "scatterpolar",
         "uid": "4c709e3a-7b82-4bb8-94ee-b5c8372cfb44"
        },
        {
         "fill": "toself",
         "name": "João Miranda de Souza Filho",
         "r": [
          "João Miranda de Souza Filho",
          2,
          2,
          0,
          2,
          0
         ],
         "theta": [
          "blocks",
          "clearances",
          "cards",
          "duels_won",
          "duels_lost"
         ],
         "type": "scatterpolar",
         "uid": "53814940-c2e0-4dd6-a4ad-d4ebcd642aaf"
        },
        {
         "fill": "toself",
         "name": "Marcelo Vieira da Silva Júnior",
         "r": [
          "Marcelo Vieira da Silva Júnior",
          4,
          0,
          0,
          1,
          0
         ],
         "theta": [
          "blocks",
          "clearances",
          "cards",
          "duels_won",
          "duels_lost"
         ],
         "type": "scatterpolar",
         "uid": "b68da38c-64a5-4812-82c8-f632f02b6b35"
        },
        {
         "fill": "toself",
         "name": "Thiago Silva",
         "r": [
          "Thiago Silva",
          1,
          2,
          0,
          0,
          0
         ],
         "theta": [
          "blocks",
          "clearances",
          "cards",
          "duels_won",
          "duels_lost"
         ],
         "type": "scatterpolar",
         "uid": "5ccc761a-7764-4755-b04d-c511253b1b94"
        },
        {
         "fill": "toself",
         "name": "Davinson Sánchez",
         "r": [
          "Davinson Sánchez",
          2,
          2,
          0,
          1,
          0
         ],
         "theta": [
          "blocks",
          "clearances",
          "cards",
          "duels_won",
          "duels_lost"
         ],
         "type": "scatterpolar",
         "uid": "88ed8ef7-99b4-4e5d-add6-b201cc209791"
        },
        {
         "fill": "toself",
         "name": "Johan Andrés Mojica Palacio",
         "r": [
          "Johan Andrés Mojica Palacio",
          2,
          1,
          1,
          2,
          0
         ],
         "theta": [
          "blocks",
          "clearances",
          "cards",
          "duels_won",
          "duels_lost"
         ],
         "type": "scatterpolar",
         "uid": "c48166db-bd01-4dcd-bff0-8b70adfdbb32"
        },
        {
         "fill": "toself",
         "name": "Santiago Arias Naranjo",
         "r": [
          "Santiago Arias Naranjo",
          2,
          1,
          1,
          1,
          0
         ],
         "theta": [
          "blocks",
          "clearances",
          "cards",
          "duels_won",
          "duels_lost"
         ],
         "type": "scatterpolar",
         "uid": "584b065b-8941-4bc9-8f84-c0b096398c02"
        },
        {
         "fill": "toself",
         "name": "Yerry Fernando Mina González",
         "r": [
          "Yerry Fernando Mina González",
          2,
          3,
          0,
          2,
          1
         ],
         "theta": [
          "blocks",
          "clearances",
          "cards",
          "duels_won",
          "duels_lost"
         ],
         "type": "scatterpolar",
         "uid": "3a2830ec-81f0-42f3-9375-9d4b50b7db1a"
        },
        {
         "fill": "toself",
         "name": "Bryan Oviedo",
         "r": [
          "Bryan Oviedo",
          2,
          1,
          0,
          2,
          1
         ],
         "theta": [
          "blocks",
          "clearances",
          "cards",
          "duels_won",
          "duels_lost"
         ],
         "type": "scatterpolar",
         "uid": "7fcd6fe5-03e3-432b-a3c9-032582c3d3dc"
        },
        {
         "fill": "toself",
         "name": "Cristian Gamboa Luna",
         "r": [
          "Cristian Gamboa Luna",
          2,
          1,
          0,
          1,
          1
         ],
         "theta": [
          "blocks",
          "clearances",
          "cards",
          "duels_won",
          "duels_lost"
         ],
         "type": "scatterpolar",
         "uid": "2a9b7d25-8d1e-46d0-9c68-1c63b3e06b5e"
        },
        {
         "fill": "toself",
         "name": "Francisco Javier Calvo Quesada",
         "r": [
          "Francisco Javier Calvo Quesada",
          1,
          1,
          2,
          2,
          2
         ],
         "theta": [
          "blocks",
          "clearances",
          "cards",
          "duels_won",
          "duels_lost"
         ],
         "type": "scatterpolar",
         "uid": "3f073514-409c-414d-8de5-993f020939fc"
        },
        {
         "fill": "toself",
         "name": "Johnny Acosta Zamora",
         "r": [
          "Johnny Acosta Zamora",
          2,
          1,
          0,
          1,
          0
         ],
         "theta": [
          "blocks",
          "clearances",
          "cards",
          "duels_won",
          "duels_lost"
         ],
         "type": "scatterpolar",
         "uid": "0eaf5157-689a-432d-a5e8-854603a85363"
        },
        {
         "fill": "toself",
         "name": "Óscar Esau Duarte Gaitán",
         "r": [
          "Óscar Esau Duarte Gaitán",
          0,
          2,
          0,
          1,
          0
         ],
         "theta": [
          "blocks",
          "clearances",
          "cards",
          "duels_won",
          "duels_lost"
         ],
         "type": "scatterpolar",
         "uid": "092a8847-5e91-4a8a-83ec-334d1646b869"
        },
        {
         "fill": "toself",
         "name": "Dejan Lovren",
         "r": [
          "Dejan Lovren",
          2,
          3,
          1,
          0,
          0
         ],
         "theta": [
          "blocks",
          "clearances",
          "cards",
          "duels_won",
          "duels_lost"
         ],
         "type": "scatterpolar",
         "uid": "ea628b74-db08-4477-8372-f8b1a4ed72ce"
        },
        {
         "fill": "toself",
         "name": "Domagoj Vida",
         "r": [
          "Domagoj Vida",
          1,
          2,
          0,
          0,
          0
         ],
         "theta": [
          "blocks",
          "clearances",
          "cards",
          "duels_won",
          "duels_lost"
         ],
         "type": "scatterpolar",
         "uid": "ad819b8e-a044-4427-9800-5ac3c82a36f1"
        },
        {
         "fill": "toself",
         "name": "Ivan Strinić",
         "r": [
          "Ivan Strinić",
          1,
          1,
          1,
          0,
          0
         ],
         "theta": [
          "blocks",
          "clearances",
          "cards",
          "duels_won",
          "duels_lost"
         ],
         "type": "scatterpolar",
         "uid": "45c86da3-4a5b-4cc8-bf88-39f2ecc6e8de"
        },
        {
         "fill": "toself",
         "name": "Josip Pivarić",
         "r": [
          "Josip Pivarić",
          1,
          1,
          1,
          1,
          0
         ],
         "theta": [
          "blocks",
          "clearances",
          "cards",
          "duels_won",
          "duels_lost"
         ],
         "type": "scatterpolar",
         "uid": "3e6f13ad-53a8-432a-a164-a1dd00869af6"
        },
        {
         "fill": "toself",
         "name": "Marko Pjaca",
         "r": [
          "Marko Pjaca",
          0,
          0,
          0,
          0,
          0
         ],
         "theta": [
          "blocks",
          "clearances",
          "cards",
          "duels_won",
          "duels_lost"
         ],
         "type": "scatterpolar",
         "uid": "19330bb9-444d-4bc2-8e96-4ef29a4c3532"
        },
        {
         "fill": "toself",
         "name": "Šime Vrsaljko",
         "r": [
          "Šime Vrsaljko",
          1,
          1,
          2,
          1,
          0
         ],
         "theta": [
          "blocks",
          "clearances",
          "cards",
          "duels_won",
          "duels_lost"
         ],
         "type": "scatterpolar",
         "uid": "1718c5bb-eade-4a20-9383-6b5ed847d782"
        },
        {
         "fill": "toself",
         "name": "Tin Jedvaj",
         "r": [
          "Tin Jedvaj",
          2,
          2,
          0,
          1,
          0
         ],
         "theta": [
          "blocks",
          "clearances",
          "cards",
          "duels_won",
          "duels_lost"
         ],
         "type": "scatterpolar",
         "uid": "91acad51-3dad-4cf3-9a2f-dc214985b618"
        },
        {
         "fill": "toself",
         "name": "Vedran Ćorluka",
         "r": [
          "Vedran Ćorluka",
          0,
          2,
          0,
          0,
          0
         ],
         "theta": [
          "blocks",
          "clearances",
          "cards",
          "duels_won",
          "duels_lost"
         ],
         "type": "scatterpolar",
         "uid": "6c23c35c-2abe-40d8-9dae-96a0378d7b8d"
        },
        {
         "fill": "toself",
         "name": "Andreas Christensen",
         "r": [
          "Andreas Christensen",
          1,
          1,
          0,
          1,
          0
         ],
         "theta": [
          "blocks",
          "clearances",
          "cards",
          "duels_won",
          "duels_lost"
         ],
         "type": "scatterpolar",
         "uid": "36117a61-c2bd-4957-8931-a7b4d65a71eb"
        },
        {
         "fill": "toself",
         "name": "Henrik Dalsgaard",
         "r": [
          "Henrik Dalsgaard",
          2,
          2,
          0,
          3,
          1
         ],
         "theta": [
          "blocks",
          "clearances",
          "cards",
          "duels_won",
          "duels_lost"
         ],
         "type": "scatterpolar",
         "uid": "cf35c8fa-b6c6-4001-8a4f-28d9eb18ec50"
        },
        {
         "fill": "toself",
         "name": "Jens Stryger Larsen",
         "r": [
          "Jens Stryger Larsen",
          1,
          0,
          0,
          2,
          1
         ],
         "theta": [
          "blocks",
          "clearances",
          "cards",
          "duels_won",
          "duels_lost"
         ],
         "type": "scatterpolar",
         "uid": "ff892b34-cb2e-4e70-aefe-79fe5bb60d83"
        },
        {
         "fill": "toself",
         "name": "Jonas Knudsen",
         "r": [
          "Jonas Knudsen",
          5,
          0,
          0,
          1,
          0
         ],
         "theta": [
          "blocks",
          "clearances",
          "cards",
          "duels_won",
          "duels_lost"
         ],
         "type": "scatterpolar",
         "uid": "e59b07ea-e1c7-42e6-9834-2c8e7dc81a63"
        },
        {
         "fill": "toself",
         "name": "Simon Thorup Kjær",
         "r": [
          "Simon Thorup Kjær",
          2,
          3,
          0,
          1,
          0
         ],
         "theta": [
          "blocks",
          "clearances",
          "cards",
          "duels_won",
          "duels_lost"
         ],
         "type": "scatterpolar",
         "uid": "1961ba43-a932-44da-ad88-55aeeb59bb57"
        },
        {
         "fill": "toself",
         "name": "Zanka",
         "r": [
          "Zanka",
          2,
          1,
          3,
          1,
          0
         ],
         "theta": [
          "blocks",
          "clearances",
          "cards",
          "duels_won",
          "duels_lost"
         ],
         "type": "scatterpolar",
         "uid": "2a8bd1a7-4da0-4ea4-bcef-01d1e99110b6"
        },
        {
         "fill": "toself",
         "name": "Ahmed Fathy Abdel Meneim Ibrahim",
         "r": [
          "Ahmed Fathy Abdel Meneim Ibrahim",
          4,
          1,
          2,
          5,
          1
         ],
         "theta": [
          "blocks",
          "clearances",
          "cards",
          "duels_won",
          "duels_lost"
         ],
         "type": "scatterpolar",
         "uid": "91a1cbbd-8548-4006-b14d-fc433a090ad2"
        },
        {
         "fill": "toself",
         "name": "Ahmed Hegazy",
         "r": [
          "Ahmed Hegazy",
          2,
          4,
          2,
          1,
          0
         ],
         "theta": [
          "blocks",
          "clearances",
          "cards",
          "duels_won",
          "duels_lost"
         ],
         "type": "scatterpolar",
         "uid": "419313b7-c77b-4596-afb6-6b9c59f6340a"
        },
        {
         "fill": "toself",
         "name": "Ali Gabr",
         "r": [
          "Ali Gabr",
          1,
          3,
          2,
          1,
          0
         ],
         "theta": [
          "blocks",
          "clearances",
          "cards",
          "duels_won",
          "duels_lost"
         ],
         "type": "scatterpolar",
         "uid": "29a2064c-efee-4a8b-8a8b-38e228137679"
        },
        {
         "fill": "toself",
         "name": "Mohamed Abdul Shafy Sayed Abouezeid",
         "r": [
          "Mohamed Abdul Shafy Sayed Abouezeid",
          0,
          1,
          0,
          1,
          0
         ],
         "theta": [
          "blocks",
          "clearances",
          "cards",
          "duels_won",
          "duels_lost"
         ],
         "type": "scatterpolar",
         "uid": "bd8e1337-b36a-4afd-8c7e-24353f0d50db"
        },
        {
         "fill": "toself",
         "name": "Ashley Young",
         "r": [
          "Ashley Young",
          0,
          0,
          0,
          0,
          0
         ],
         "theta": [
          "blocks",
          "clearances",
          "cards",
          "duels_won",
          "duels_lost"
         ],
         "type": "scatterpolar",
         "uid": "108345a6-f8c8-4752-8be0-de3470c6f948"
        },
        {
         "fill": "toself",
         "name": "Danny Rose",
         "r": [
          "Danny Rose",
          0,
          0,
          0,
          0,
          0
         ],
         "theta": [
          "blocks",
          "clearances",
          "cards",
          "duels_won",
          "duels_lost"
         ],
         "type": "scatterpolar",
         "uid": "e329355b-d1df-4d5d-8f46-0f95a922ceca"
        },
        {
         "fill": "toself",
         "name": "Harry Maguire",
         "r": [
          "Harry Maguire",
          2,
          1,
          0,
          0,
          0
         ],
         "theta": [
          "blocks",
          "clearances",
          "cards",
          "duels_won",
          "duels_lost"
         ],
         "type": "scatterpolar",
         "uid": "31b52273-8185-4acf-881d-9e28f8c32d67"
        },
        {
         "fill": "toself",
         "name": "John Stones",
         "r": [
          "John Stones",
          2,
          2,
          1,
          1,
          0
         ],
         "theta": [
          "blocks",
          "clearances",
          "cards",
          "duels_won",
          "duels_lost"
         ],
         "type": "scatterpolar",
         "uid": "1d55a056-d098-484f-8c8f-acacad49d6f9"
        },
        {
         "fill": "toself",
         "name": "Kieran Trippier",
         "r": [
          "Kieran Trippier",
          1,
          0,
          0,
          0,
          0
         ],
         "theta": [
          "blocks",
          "clearances",
          "cards",
          "duels_won",
          "duels_lost"
         ],
         "type": "scatterpolar",
         "uid": "c96ced6f-7be8-4b00-8371-6d249055e2d3"
        },
        {
         "fill": "toself",
         "name": "Kyle Walker",
         "r": [
          "Kyle Walker",
          1,
          3,
          1,
          0,
          0
         ],
         "theta": [
          "blocks",
          "clearances",
          "cards",
          "duels_won",
          "duels_lost"
         ],
         "type": "scatterpolar",
         "uid": "46f4536b-9b9d-4e78-855d-0385b5f2c68b"
        },
        {
         "fill": "toself",
         "name": "Phil Jones",
         "r": [
          "Phil Jones",
          1,
          1,
          0,
          1,
          0
         ],
         "theta": [
          "blocks",
          "clearances",
          "cards",
          "duels_won",
          "duels_lost"
         ],
         "type": "scatterpolar",
         "uid": "c03d5558-b63d-488e-8228-b6efd7c6cbcd"
        },
        {
         "fill": "toself",
         "name": "Antoine Griezmann",
         "r": [
          "Antoine Griezmann",
          0,
          0,
          0,
          0,
          0
         ],
         "theta": [
          "blocks",
          "clearances",
          "cards",
          "duels_won",
          "duels_lost"
         ],
         "type": "scatterpolar",
         "uid": "48c26470-5f67-4e8c-8e05-f141fbab9009"
        },
        {
         "fill": "toself",
         "name": "Benjamin Pavard",
         "r": [
          "Benjamin Pavard",
          2,
          2,
          0,
          1,
          1
         ],
         "theta": [
          "blocks",
          "clearances",
          "cards",
          "duels_won",
          "duels_lost"
         ],
         "type": "scatterpolar",
         "uid": "86a4ffec-af05-464c-bc81-61fb7552ae60"
        },
        {
         "fill": "toself",
         "name": "Lucas Hernández Pi",
         "r": [
          "Lucas Hernández Pi",
          2,
          1,
          1,
          0,
          0
         ],
         "theta": [
          "blocks",
          "clearances",
          "cards",
          "duels_won",
          "duels_lost"
         ],
         "type": "scatterpolar",
         "uid": "7e21922c-d563-4422-af36-6ad3d23a80c1"
        },
        {
         "fill": "toself",
         "name": "Nabil Fekir",
         "r": [
          "Nabil Fekir",
          0,
          0,
          0,
          0,
          0
         ],
         "theta": [
          "blocks",
          "clearances",
          "cards",
          "duels_won",
          "duels_lost"
         ],
         "type": "scatterpolar",
         "uid": "79acb3cd-031e-45ce-a778-18da6498b4e2"
        },
        {
         "fill": "toself",
         "name": "Raphaël Varane",
         "r": [
          "Raphaël Varane",
          1,
          2,
          0,
          0,
          0
         ],
         "theta": [
          "blocks",
          "clearances",
          "cards",
          "duels_won",
          "duels_lost"
         ],
         "type": "scatterpolar",
         "uid": "f1031863-1122-4983-bd3d-8a87b63196b8"
        },
        {
         "fill": "toself",
         "name": "Samuel Yves Umtiti",
         "r": [
          "Samuel Yves Umtiti",
          1,
          2,
          0,
          0,
          0
         ],
         "theta": [
          "blocks",
          "clearances",
          "cards",
          "duels_won",
          "duels_lost"
         ],
         "type": "scatterpolar",
         "uid": "8b087e31-c128-480b-8849-aab000620c12"
        },
        {
         "fill": "toself",
         "name": "Jérôme Boateng",
         "r": [
          "Jérôme Boateng",
          2,
          1,
          2,
          4,
          0
         ],
         "theta": [
          "blocks",
          "clearances",
          "cards",
          "duels_won",
          "duels_lost"
         ],
         "type": "scatterpolar",
         "uid": "9b80182d-871a-40f2-bbcf-71222c309a33"
        },
        {
         "fill": "toself",
         "name": "Jonas Hector",
         "r": [
          "Jonas Hector",
          2,
          1,
          0,
          1,
          0
         ],
         "theta": [
          "blocks",
          "clearances",
          "cards",
          "duels_won",
          "duels_lost"
         ],
         "type": "scatterpolar",
         "uid": "aab9a475-9d6c-4a7b-a50e-887bb73f7be9"
        },
        {
         "fill": "toself",
         "name": "Joshua Kimmich",
         "r": [
          "Joshua Kimmich",
          1,
          0,
          0,
          2,
          0
         ],
         "theta": [
          "blocks",
          "clearances",
          "cards",
          "duels_won",
          "duels_lost"
         ],
         "type": "scatterpolar",
         "uid": "daafcd62-2505-4ff4-b99f-61f6a6920992"
        },
        {
         "fill": "toself",
         "name": "Mats Hummels",
         "r": [
          "Mats Hummels",
          2,
          1,
          2,
          4,
          0
         ],
         "theta": [
          "blocks",
          "clearances",
          "cards",
          "duels_won",
          "duels_lost"
         ],
         "type": "scatterpolar",
         "uid": "4ed7f27f-ae6e-4ed6-9fe9-e5fe81b7894e"
        },
        {
         "fill": "toself",
         "name": "Niklas Süle",
         "r": [
          "Niklas Süle",
          1,
          1,
          0,
          3,
          0
         ],
         "theta": [
          "blocks",
          "clearances",
          "cards",
          "duels_won",
          "duels_lost"
         ],
         "type": "scatterpolar",
         "uid": "7e53bfa9-9247-4bc9-8a84-09f8148f0cf7"
        },
        {
         "fill": "toself",
         "name": "Toni Kroos",
         "r": [
          "Toni Kroos",
          0,
          0,
          0,
          0,
          0
         ],
         "theta": [
          "blocks",
          "clearances",
          "cards",
          "duels_won",
          "duels_lost"
         ],
         "type": "scatterpolar",
         "uid": "c4e5da0b-2e11-4ce6-99a3-44b7d654b9e8"
        },
        {
         "fill": "toself",
         "name": "Hörður Björgvin Magnússon",
         "r": [
          "Hörður Björgvin Magnússon",
          3,
          2,
          0,
          2,
          0
         ],
         "theta": [
          "blocks",
          "clearances",
          "cards",
          "duels_won",
          "duels_lost"
         ],
         "type": "scatterpolar",
         "uid": "c64d7ae6-0214-4a27-abd1-3c443501bdf4"
        },
        {
         "fill": "toself",
         "name": "Kári Árnason",
         "r": [
          "Kári Árnason",
          2,
          2,
          0,
          2,
          0
         ],
         "theta": [
          "blocks",
          "clearances",
          "cards",
          "duels_won",
          "duels_lost"
         ],
         "type": "scatterpolar",
         "uid": "edc81479-5bb6-42f1-a7ce-b8c3f4c29b73"
        },
        {
         "fill": "toself",
         "name": "Ragnar Sigurðsson",
         "r": [
          "Ragnar Sigurðsson",
          3,
          2,
          0,
          0,
          0
         ],
         "theta": [
          "blocks",
          "clearances",
          "cards",
          "duels_won",
          "duels_lost"
         ],
         "type": "scatterpolar",
         "uid": "9f495549-c5e1-44c3-af57-de6fa7c69da2"
        },
        {
         "fill": "toself",
         "name": "Sverrir Ingi Ingason",
         "r": [
          "Sverrir Ingi Ingason",
          4,
          1,
          0,
          1,
          0
         ],
         "theta": [
          "blocks",
          "clearances",
          "cards",
          "duels_won",
          "duels_lost"
         ],
         "type": "scatterpolar",
         "uid": "c060ec6e-dd82-45af-8c75-74807cd772ef"
        },
        {
         "fill": "toself",
         "name": "Ehsan Hajsafi",
         "r": [
          "Ehsan Hajsafi",
          1,
          0,
          0,
          1,
          0
         ],
         "theta": [
          "blocks",
          "clearances",
          "cards",
          "duels_won",
          "duels_lost"
         ],
         "type": "scatterpolar",
         "uid": "5f5555ca-8aa4-40a3-aaa6-562e9013054c"
        },
        {
         "fill": "toself",
         "name": "Milad Mohammadi",
         "r": [
          "Milad Mohammadi",
          0,
          0,
          0,
          1,
          1
         ],
         "theta": [
          "blocks",
          "clearances",
          "cards",
          "duels_won",
          "duels_lost"
         ],
         "type": "scatterpolar",
         "uid": "c16bbfa8-2bde-41b5-9f5f-76d2d1c215ec"
        },
        {
         "fill": "toself",
         "name": "Ramin Rezaeian",
         "r": [
          "Ramin Rezaeian",
          1,
          1,
          0,
          1,
          1
         ],
         "theta": [
          "blocks",
          "clearances",
          "cards",
          "duels_won",
          "duels_lost"
         ],
         "type": "scatterpolar",
         "uid": "2c04026d-0a9e-4326-8a0d-3adc720521d8"
        },
        {
         "fill": "toself",
         "name": "Gen Shōji",
         "r": [
          "Gen Shōji",
          1,
          3,
          0,
          1,
          1
         ],
         "theta": [
          "blocks",
          "clearances",
          "cards",
          "duels_won",
          "duels_lost"
         ],
         "type": "scatterpolar",
         "uid": "ba8b31af-4986-4004-9027-0136cb5b1e7a"
        },
        {
         "fill": "toself",
         "name": "Hiroki Sakai",
         "r": [
          "Hiroki Sakai",
          0,
          2,
          0,
          1,
          0
         ],
         "theta": [
          "blocks",
          "clearances",
          "cards",
          "duels_won",
          "duels_lost"
         ],
         "type": "scatterpolar",
         "uid": "a149d36f-fa30-49aa-8ec6-f5ae409c7a32"
        },
        {
         "fill": "toself",
         "name": "Yuto Nagatomo",
         "r": [
          "Yuto Nagatomo",
          2,
          1,
          0,
          1,
          0
         ],
         "theta": [
          "blocks",
          "clearances",
          "cards",
          "duels_won",
          "duels_lost"
         ],
         "type": "scatterpolar",
         "uid": "e7179455-ecbd-4a14-9796-3a1bea721b86"
        },
        {
         "fill": "toself",
         "name": "Carlos Joel Salcedo Hernández",
         "r": [
          "Carlos Joel Salcedo Hernández",
          4,
          2,
          0,
          0,
          0
         ],
         "theta": [
          "blocks",
          "clearances",
          "cards",
          "duels_won",
          "duels_lost"
         ],
         "type": "scatterpolar",
         "uid": "2994a286-da29-4f84-8dda-f31544d9da41"
        },
        {
         "fill": "toself",
         "name": "Edson Omar Álvarez Velázquez",
         "r": [
          "Edson Omar Álvarez Velázquez",
          2,
          1,
          1,
          1,
          0
         ],
         "theta": [
          "blocks",
          "clearances",
          "cards",
          "duels_won",
          "duels_lost"
         ],
         "type": "scatterpolar",
         "uid": "343a4cb2-6998-467b-8d20-c22e185cafc0"
        },
        {
         "fill": "toself",
         "name": "Héctor Alfredo Moreno Herrera",
         "r": [
          "Héctor Alfredo Moreno Herrera",
          1,
          1,
          2,
          1,
          0
         ],
         "theta": [
          "blocks",
          "clearances",
          "cards",
          "duels_won",
          "duels_lost"
         ],
         "type": "scatterpolar",
         "uid": "6f52f339-e8c5-407d-ae9a-a037c8e4d1d5"
        },
        {
         "fill": "toself",
         "name": "Hugo Ayala Castro",
         "r": [
          "Hugo Ayala Castro",
          2,
          2,
          0,
          1,
          0
         ],
         "theta": [
          "blocks",
          "clearances",
          "cards",
          "duels_won",
          "duels_lost"
         ],
         "type": "scatterpolar",
         "uid": "c1d5c589-04d6-438e-b2b9-64b74fbb8633"
        },
        {
         "fill": "toself",
         "name": "Jesús Daniel Gallardo Vasconcelos",
         "r": [
          "Jesús Daniel Gallardo Vasconcelos",
          4,
          1,
          1,
          1,
          1
         ],
         "theta": [
          "blocks",
          "clearances",
          "cards",
          "duels_won",
          "duels_lost"
         ],
         "type": "scatterpolar",
         "uid": "62fa7f3c-2b39-4a18-ba57-ef8389a61d2d"
        },
        {
         "fill": "toself",
         "name": "Miguel Arturo Layún Prado",
         "r": [
          "Miguel Arturo Layún Prado",
          0,
          0,
          1,
          0,
          0
         ],
         "theta": [
          "blocks",
          "clearances",
          "cards",
          "duels_won",
          "duels_lost"
         ],
         "type": "scatterpolar",
         "uid": "c1e928a6-251f-4091-ac8f-48fd7c0ea680"
        },
        {
         "fill": "toself",
         "name": "Achraf Hakimi Mouh",
         "r": [
          "Achraf Hakimi Mouh",
          0,
          1,
          0,
          2,
          1
         ],
         "theta": [
          "blocks",
          "clearances",
          "cards",
          "duels_won",
          "duels_lost"
         ],
         "type": "scatterpolar",
         "uid": "7052b188-f05d-47af-971a-a41b9e92f90a"
        },
        {
         "fill": "toself",
         "name": "Manuel Marouan da Costa Trinidade",
         "r": [
          "Manuel Marouan da Costa Trinidade",
          2,
          1,
          2,
          0,
          0
         ],
         "theta": [
          "blocks",
          "clearances",
          "cards",
          "duels_won",
          "duels_lost"
         ],
         "type": "scatterpolar",
         "uid": "bc46c346-cffa-4187-92fd-d9b0160b26c2"
        },
        {
         "fill": "toself",
         "name": "Nabil Dirar",
         "r": [
          "Nabil Dirar",
          4,
          1,
          0,
          2,
          0
         ],
         "theta": [
          "blocks",
          "clearances",
          "cards",
          "duels_won",
          "duels_lost"
         ],
         "type": "scatterpolar",
         "uid": "6beb8a4c-268b-49a1-aabc-528ef0e2df9b"
        },
        {
         "fill": "toself",
         "name": "Romain Saïss",
         "r": [
          "Romain Saïss",
          4,
          3,
          0,
          1,
          0
         ],
         "theta": [
          "blocks",
          "clearances",
          "cards",
          "duels_won",
          "duels_lost"
         ],
         "type": "scatterpolar",
         "uid": "3508feb4-1dd1-4af8-9e08-92e224bc9dda"
        },
        {
         "fill": "toself",
         "name": "Brian Oladapo Idowu",
         "r": [
          "Brian Oladapo Idowu",
          2,
          0,
          0,
          1,
          1
         ],
         "theta": [
          "blocks",
          "clearances",
          "cards",
          "duels_won",
          "duels_lost"
         ],
         "type": "scatterpolar",
         "uid": "a7d29064-4c46-4ad8-a57f-e2e5810beb78"
        },
        {
         "fill": "toself",
         "name": "Leon-Aderemi Balogun",
         "r": [
          "Leon-Aderemi Balogun",
          1,
          1,
          2,
          1,
          0
         ],
         "theta": [
          "blocks",
          "clearances",
          "cards",
          "duels_won",
          "duels_lost"
         ],
         "type": "scatterpolar",
         "uid": "92876f13-b2ed-4b84-8395-293aeed661f6"
        },
        {
         "fill": "toself",
         "name": "Victor Moses",
         "r": [
          "Victor Moses",
          1,
          0,
          0,
          1,
          0
         ],
         "theta": [
          "blocks",
          "clearances",
          "cards",
          "duels_won",
          "duels_lost"
         ],
         "type": "scatterpolar",
         "uid": "e2277a5f-af1d-4c0e-a9f2-15e8330051f6"
        },
        {
         "fill": "toself",
         "name": "Adolfo Abdiel Machado",
         "r": [
          "Adolfo Abdiel Machado",
          0,
          2,
          0,
          1,
          2
         ],
         "theta": [
          "blocks",
          "clearances",
          "cards",
          "duels_won",
          "duels_lost"
         ],
         "type": "scatterpolar",
         "uid": "7f147a3f-afd4-4d7b-bc05-2721521994bf"
        },
        {
         "fill": "toself",
         "name": "Erick Javier Davis Grajales",
         "r": [
          "Erick Javier Davis Grajales",
          0,
          1,
          2,
          1,
          1
         ],
         "theta": [
          "blocks",
          "clearances",
          "cards",
          "duels_won",
          "duels_lost"
         ],
         "type": "scatterpolar",
         "uid": "ece861dd-5577-44a0-82c8-e7e43af0a830"
        },
        {
         "fill": "toself",
         "name": "Fidel Escobar Mendieta",
         "r": [
          "Fidel Escobar Mendieta",
          2,
          1,
          0,
          2,
          1
         ],
         "theta": [
          "blocks",
          "clearances",
          "cards",
          "duels_won",
          "duels_lost"
         ],
         "type": "scatterpolar",
         "uid": "f785cbd9-444a-46ee-85c6-05904c23ba34"
        },
        {
         "fill": "toself",
         "name": "Michael Amir Murillo Bermudez",
         "r": [
          "Michael Amir Murillo Bermudez",
          0,
          0,
          5,
          3,
          0
         ],
         "theta": [
          "blocks",
          "clearances",
          "cards",
          "duels_won",
          "duels_lost"
         ],
         "type": "scatterpolar",
         "uid": "082c965b-24e6-4a6d-898f-329c74106779"
        },
        {
         "fill": "toself",
         "name": "Anderson Santamaría Bardales",
         "r": [
          "Anderson Santamaría Bardales",
          1,
          1,
          0,
          2,
          0
         ],
         "theta": [
          "blocks",
          "clearances",
          "cards",
          "duels_won",
          "duels_lost"
         ],
         "type": "scatterpolar",
         "uid": "05beb8b0-ec9b-4fb8-9cdc-b39bce01cc40"
        },
        {
         "fill": "toself",
         "name": "Luis Jan Piers Advíncula Castrillón",
         "r": [
          "Luis Jan Piers Advíncula Castrillón",
          1,
          1,
          0,
          4,
          1
         ],
         "theta": [
          "blocks",
          "clearances",
          "cards",
          "duels_won",
          "duels_lost"
         ],
         "type": "scatterpolar",
         "uid": "48eb2952-393d-4ddb-8a99-8a7d2af34259"
        },
        {
         "fill": "toself",
         "name": "Miguel Ángel Trauco Saavedra",
         "r": [
          "Miguel Ángel Trauco Saavedra",
          3,
          1,
          0,
          2,
          0
         ],
         "theta": [
          "blocks",
          "clearances",
          "cards",
          "duels_won",
          "duels_lost"
         ],
         "type": "scatterpolar",
         "uid": "988642eb-cd53-44b5-936e-a6e853f2f4a0"
        },
        {
         "fill": "toself",
         "name": "Artur Jedrzejczyk",
         "r": [
          "Artur Jedrzejczyk",
          1,
          1,
          0,
          1,
          1
         ],
         "theta": [
          "blocks",
          "clearances",
          "cards",
          "duels_won",
          "duels_lost"
         ],
         "type": "scatterpolar",
         "uid": "ef0796b2-cdcd-437b-be95-19bb03e5d776"
        },
        {
         "fill": "toself",
         "name": "Kamil Glik",
         "r": [
          "Kamil Glik",
          2,
          1,
          0,
          1,
          0
         ],
         "theta": [
          "blocks",
          "clearances",
          "cards",
          "duels_won",
          "duels_lost"
         ],
         "type": "scatterpolar",
         "uid": "7a7ffe1b-8dc5-4280-8d65-ed8bae20c783"
        },
        {
         "fill": "toself",
         "name": "Maciej Rybus",
         "r": [
          "Maciej Rybus",
          0,
          1,
          0,
          1,
          0
         ],
         "theta": [
          "blocks",
          "clearances",
          "cards",
          "duels_won",
          "duels_lost"
         ],
         "type": "scatterpolar",
         "uid": "0c0417ed-d40a-4643-9730-81e928fb5692"
        },
        {
         "fill": "toself",
         "name": "Michał Pazdan",
         "r": [
          "Michał Pazdan",
          2,
          1,
          0,
          1,
          0
         ],
         "theta": [
          "blocks",
          "clearances",
          "cards",
          "duels_won",
          "duels_lost"
         ],
         "type": "scatterpolar",
         "uid": "d124acf6-d599-45bb-be28-b794ff535164"
        },
        {
         "fill": "toself",
         "name": "Cédric Soares",
         "r": [
          "Cédric Soares",
          4,
          3,
          0,
          1,
          5
         ],
         "theta": [
          "blocks",
          "clearances",
          "cards",
          "duels_won",
          "duels_lost"
         ],
         "type": "scatterpolar",
         "uid": "f5026d7a-89bd-46ee-bc1b-4ee37e51402d"
        },
        {
         "fill": "toself",
         "name": "Kleper Laveran Lima Ferreira",
         "r": [
          "Kleper Laveran Lima Ferreira",
          2,
          2,
          0,
          2,
          0
         ],
         "theta": [
          "blocks",
          "clearances",
          "cards",
          "duels_won",
          "duels_lost"
         ],
         "type": "scatterpolar",
         "uid": "a355e557-23b5-4e60-ad9c-f7a6ffadcccf"
        },
        {
         "fill": "toself",
         "name": "Raphaël Adelino José Guerreiro",
         "r": [
          "Raphaël Adelino José Guerreiro",
          3,
          1,
          0,
          1,
          0
         ],
         "theta": [
          "blocks",
          "clearances",
          "cards",
          "duels_won",
          "duels_lost"
         ],
         "type": "scatterpolar",
         "uid": "7d9126b3-6d73-4cd4-8c60-275b3a7cd4db"
        },
        {
         "fill": "toself",
         "name": "Rúben Santos Gato Alves Dias",
         "r": [
          "Rúben Santos Gato Alves Dias",
          2,
          0,
          0,
          1,
          0
         ],
         "theta": [
          "blocks",
          "clearances",
          "cards",
          "duels_won",
          "duels_lost"
         ],
         "type": "scatterpolar",
         "uid": "9667e227-3f0d-4302-8892-d89761d226eb"
        },
        {
         "fill": "toself",
         "name": "Ilya Kutepov",
         "r": [
          "Ilya Kutepov",
          2,
          3,
          1,
          0,
          0
         ],
         "theta": [
          "blocks",
          "clearances",
          "cards",
          "duels_won",
          "duels_lost"
         ],
         "type": "scatterpolar",
         "uid": "d65053ac-1be4-4f4e-aca5-ea29bf59b396"
        },
        {
         "fill": "toself",
         "name": "Mário Figueira Fernandes",
         "r": [
          "Mário Figueira Fernandes",
          2,
          1,
          0,
          2,
          0
         ],
         "theta": [
          "blocks",
          "clearances",
          "cards",
          "duels_won",
          "duels_lost"
         ],
         "type": "scatterpolar",
         "uid": "e89de5a2-3f3c-4e5b-bdc1-a420755132c1"
        },
        {
         "fill": "toself",
         "name": "Sergei Ignashevich",
         "r": [
          "Sergei Ignashevich",
          1,
          5,
          0,
          1,
          0
         ],
         "theta": [
          "blocks",
          "clearances",
          "cards",
          "duels_won",
          "duels_lost"
         ],
         "type": "scatterpolar",
         "uid": "5e369d65-7f95-4fb7-8e80-f5799d239711"
        },
        {
         "fill": "toself",
         "name": "Vladimir Granat",
         "r": [
          "Vladimir Granat",
          0,
          1,
          0,
          1,
          0
         ],
         "theta": [
          "blocks",
          "clearances",
          "cards",
          "duels_won",
          "duels_lost"
         ],
         "type": "scatterpolar",
         "uid": "98b7cb2c-7b08-4799-a513-4d23341ff146"
        },
        {
         "fill": "toself",
         "name": "Yuri Zhirkov",
         "r": [
          "Yuri Zhirkov",
          1,
          1,
          0,
          1,
          0
         ],
         "theta": [
          "blocks",
          "clearances",
          "cards",
          "duels_won",
          "duels_lost"
         ],
         "type": "scatterpolar",
         "uid": "5839daa2-93d1-4c21-87dd-f26dd7934022"
        },
        {
         "fill": "toself",
         "name": "Ali Albulayhi",
         "r": [
          "Ali Albulayhi",
          3,
          1,
          0,
          1,
          0
         ],
         "theta": [
          "blocks",
          "clearances",
          "cards",
          "duels_won",
          "duels_lost"
         ],
         "type": "scatterpolar",
         "uid": "fdd79e0a-f2da-4eca-90d7-66201eb9e276"
        },
        {
         "fill": "toself",
         "name": "Mohammed Al Burayk",
         "r": [
          "Mohammed Al Burayk",
          2,
          0,
          0,
          1,
          1
         ],
         "theta": [
          "blocks",
          "clearances",
          "cards",
          "duels_won",
          "duels_lost"
         ],
         "type": "scatterpolar",
         "uid": "6d25aa8b-8edf-4daf-93b7-2860c4b64124"
        },
        {
         "fill": "toself",
         "name": "Motaz Ali Hassan Hawsawi",
         "r": [
          "Motaz Ali Hassan Hawsawi",
          1,
          0,
          0,
          3,
          0
         ],
         "theta": [
          "blocks",
          "clearances",
          "cards",
          "duels_won",
          "duels_lost"
         ],
         "type": "scatterpolar",
         "uid": "50e5967c-840e-4b62-9d95-9667f82ebabd"
        },
        {
         "fill": "toself",
         "name": "Omar Ibrahim Omar Othman Hawsawi",
         "r": [
          "Omar Ibrahim Omar Othman Hawsawi",
          0,
          2,
          0,
          3,
          0
         ],
         "theta": [
          "blocks",
          "clearances",
          "cards",
          "duels_won",
          "duels_lost"
         ],
         "type": "scatterpolar",
         "uid": "de6f5325-3c55-4d8c-a078-5a394aa39c38"
        },
        {
         "fill": "toself",
         "name": "Osama Abdulrezag Hawsawi",
         "r": [
          "Osama Abdulrezag Hawsawi",
          2,
          1,
          0,
          1,
          1
         ],
         "theta": [
          "blocks",
          "clearances",
          "cards",
          "duels_won",
          "duels_lost"
         ],
         "type": "scatterpolar",
         "uid": "0a0de99f-1ae8-4351-bcbd-85fdb5e68f3b"
        },
        {
         "fill": "toself",
         "name": "Yasir Gharsan Al Shahrani",
         "r": [
          "Yasir Gharsan Al Shahrani",
          2,
          1,
          0,
          1,
          0
         ],
         "theta": [
          "blocks",
          "clearances",
          "cards",
          "duels_won",
          "duels_lost"
         ],
         "type": "scatterpolar",
         "uid": "090c0225-3d5d-40e1-851a-d653ca9855b2"
        },
        {
         "fill": "toself",
         "name": "Kalidou Koulibaly",
         "r": [
          "Kalidou Koulibaly",
          2,
          1,
          0,
          0,
          1
         ],
         "theta": [
          "blocks",
          "clearances",
          "cards",
          "duels_won",
          "duels_lost"
         ],
         "type": "scatterpolar",
         "uid": "575ec6a8-3f4b-4a04-b763-4810f4019c4e"
        },
        {
         "fill": "toself",
         "name": "Lamine Gassama",
         "r": [
          "Lamine Gassama",
          2,
          1,
          0,
          3,
          0
         ],
         "theta": [
          "blocks",
          "clearances",
          "cards",
          "duels_won",
          "duels_lost"
         ],
         "type": "scatterpolar",
         "uid": "308cd3c1-c01b-49c0-861e-4e4c1ff2c2c1"
        },
        {
         "fill": "toself",
         "name": "Salif Sané",
         "r": [
          "Salif Sané",
          1,
          3,
          2,
          1,
          0
         ],
         "theta": [
          "blocks",
          "clearances",
          "cards",
          "duels_won",
          "duels_lost"
         ],
         "type": "scatterpolar",
         "uid": "ef3c5151-6bd6-4d78-bc36-e8a25ef1fcfa"
        },
        {
         "fill": "toself",
         "name": "Aleksandar Kolarov",
         "r": [
          "Aleksandar Kolarov",
          2,
          1,
          0,
          0,
          0
         ],
         "theta": [
          "blocks",
          "clearances",
          "cards",
          "duels_won",
          "duels_lost"
         ],
         "type": "scatterpolar",
         "uid": "04021d8d-0a29-4896-9fab-ba7cfc3dd688"
        },
        {
         "fill": "toself",
         "name": "Antonio Rukavina",
         "r": [
          "Antonio Rukavina",
          2,
          1,
          0,
          1,
          0
         ],
         "theta": [
          "blocks",
          "clearances",
          "cards",
          "duels_won",
          "duels_lost"
         ],
         "type": "scatterpolar",
         "uid": "bc428dda-c490-475e-812d-0f0a69064bbc"
        },
        {
         "fill": "toself",
         "name": "Branislav Ivanović",
         "r": [
          "Branislav Ivanović",
          2,
          1,
          2,
          1,
          0
         ],
         "theta": [
          "blocks",
          "clearances",
          "cards",
          "duels_won",
          "duels_lost"
         ],
         "type": "scatterpolar",
         "uid": "33f25da9-1227-4f3b-bb40-6699f6faf6e3"
        },
        {
         "fill": "toself",
         "name": "Duško Tošić",
         "r": [
          "Duško Tošić",
          1,
          2,
          0,
          4,
          0
         ],
         "theta": [
          "blocks",
          "clearances",
          "cards",
          "duels_won",
          "duels_lost"
         ],
         "type": "scatterpolar",
         "uid": "8415d360-b6d1-417c-b270-556274103742"
        },
        {
         "fill": "toself",
         "name": "Nikola Milenković",
         "r": [
          "Nikola Milenković",
          1,
          3,
          0,
          1,
          0
         ],
         "theta": [
          "blocks",
          "clearances",
          "cards",
          "duels_won",
          "duels_lost"
         ],
         "type": "scatterpolar",
         "uid": "c3ce5903-c930-40d1-8d57-925d23a8b130"
        },
        {
         "fill": "toself",
         "name": "Chul Hong",
         "r": [
          "Chul Hong",
          2,
          1,
          0,
          1,
          0
         ],
         "theta": [
          "blocks",
          "clearances",
          "cards",
          "duels_won",
          "duels_lost"
         ],
         "type": "scatterpolar",
         "uid": "773afe59-265d-49ef-aa6c-e64c374ddc61"
        },
        {
         "fill": "toself",
         "name": "Yong Lee",
         "r": [
          "Yong Lee",
          3,
          2,
          2,
          3,
          1
         ],
         "theta": [
          "blocks",
          "clearances",
          "cards",
          "duels_won",
          "duels_lost"
         ],
         "type": "scatterpolar",
         "uid": "02609a6d-1af7-498b-ada8-890c8ca9f833"
        },
        {
         "fill": "toself",
         "name": "Young-Gwon Kim",
         "r": [
          "Young-Gwon Kim",
          2,
          2,
          2,
          1,
          0
         ],
         "theta": [
          "blocks",
          "clearances",
          "cards",
          "duels_won",
          "duels_lost"
         ],
         "type": "scatterpolar",
         "uid": "1264953e-4f71-41c3-bc16-f7debc31688a"
        },
        {
         "fill": "toself",
         "name": "Young-Sun Yun",
         "r": [
          "Young-Sun Yun",
          4,
          3,
          0,
          1,
          0
         ],
         "theta": [
          "blocks",
          "clearances",
          "cards",
          "duels_won",
          "duels_lost"
         ],
         "type": "scatterpolar",
         "uid": "28fb6106-0e6f-4579-a0d5-ccf306c49086"
        },
        {
         "fill": "toself",
         "name": "Daniel Carvajal Ramos",
         "r": [
          "Daniel Carvajal Ramos",
          1,
          0,
          0,
          1,
          0
         ],
         "theta": [
          "blocks",
          "clearances",
          "cards",
          "duels_won",
          "duels_lost"
         ],
         "type": "scatterpolar",
         "uid": "5197fe2d-57e9-4d16-ab01-7dd0589d30ed"
        },
        {
         "fill": "toself",
         "name": "Gerard Piqué Bernabéu",
         "r": [
          "Gerard Piqué Bernabéu",
          1,
          1,
          1,
          1,
          0
         ],
         "theta": [
          "blocks",
          "clearances",
          "cards",
          "duels_won",
          "duels_lost"
         ],
         "type": "scatterpolar",
         "uid": "8a171740-5599-4c0b-b049-7c9b0062a25e"
        },
        {
         "fill": "toself",
         "name": "Jordi Alba Ramos",
         "r": [
          "Jordi Alba Ramos",
          2,
          0,
          0,
          0,
          0
         ],
         "theta": [
          "blocks",
          "clearances",
          "cards",
          "duels_won",
          "duels_lost"
         ],
         "type": "scatterpolar",
         "uid": "63a53ee4-1955-457c-913c-49decfdf179a"
        },
        {
         "fill": "toself",
         "name": "José Ignacio Fernández Iglesias",
         "r": [
          "José Ignacio Fernández Iglesias",
          0,
          0,
          0,
          1,
          0
         ],
         "theta": [
          "blocks",
          "clearances",
          "cards",
          "duels_won",
          "duels_lost"
         ],
         "type": "scatterpolar",
         "uid": "2825ba9b-dd19-42e9-a738-42dfa7fad73c"
        },
        {
         "fill": "toself",
         "name": "Sergio Ramos García",
         "r": [
          "Sergio Ramos García",
          0,
          1,
          0,
          2,
          1
         ],
         "theta": [
          "blocks",
          "clearances",
          "cards",
          "duels_won",
          "duels_lost"
         ],
         "type": "scatterpolar",
         "uid": "1bfed927-0caa-4152-aa48-74ae08722105"
        },
        {
         "fill": "toself",
         "name": "Andreas Granqvist",
         "r": [
          "Andreas Granqvist",
          3,
          4,
          0,
          0,
          0
         ],
         "theta": [
          "blocks",
          "clearances",
          "cards",
          "duels_won",
          "duels_lost"
         ],
         "type": "scatterpolar",
         "uid": "e78feee2-7ab0-420a-b5a2-c11a9383d778"
        },
        {
         "fill": "toself",
         "name": "Ludwig Augustinsson",
         "r": [
          "Ludwig Augustinsson",
          2,
          1,
          0,
          0,
          0
         ],
         "theta": [
          "blocks",
          "clearances",
          "cards",
          "duels_won",
          "duels_lost"
         ],
         "type": "scatterpolar",
         "uid": "c8d401a4-95ea-445a-9dc9-37f3bb45cc5a"
        },
        {
         "fill": "toself",
         "name": "Mikael Lustig",
         "r": [
          "Mikael Lustig",
          4,
          3,
          2,
          1,
          0
         ],
         "theta": [
          "blocks",
          "clearances",
          "cards",
          "duels_won",
          "duels_lost"
         ],
         "type": "scatterpolar",
         "uid": "20843030-2ae6-44ba-967e-ec03e87c340f"
        },
        {
         "fill": "toself",
         "name": "Victor Lindelöf",
         "r": [
          "Victor Lindelöf",
          1,
          3,
          0,
          0,
          0
         ],
         "theta": [
          "blocks",
          "clearances",
          "cards",
          "duels_won",
          "duels_lost"
         ],
         "type": "scatterpolar",
         "uid": "744ad1af-2484-421f-aada-a6e6256975e8"
        },
        {
         "fill": "toself",
         "name": "Fabian Lukas Schär",
         "r": [
          "Fabian Lukas Schär",
          1,
          2,
          3,
          2,
          0
         ],
         "theta": [
          "blocks",
          "clearances",
          "cards",
          "duels_won",
          "duels_lost"
         ],
         "type": "scatterpolar",
         "uid": "b964cd09-0639-4e94-9f2b-37d9d3999aea"
        },
        {
         "fill": "toself",
         "name": "Manuel Obafemi Akanji",
         "r": [
          "Manuel Obafemi Akanji",
          2,
          1,
          0,
          2,
          0
         ],
         "theta": [
          "blocks",
          "clearances",
          "cards",
          "duels_won",
          "duels_lost"
         ],
         "type": "scatterpolar",
         "uid": "295f1bfb-ee36-40eb-9249-be94dfe7e88c"
        },
        {
         "fill": "toself",
         "name": "Michael Lang",
         "r": [
          "Michael Lang",
          2,
          1,
          2,
          0,
          0
         ],
         "theta": [
          "blocks",
          "clearances",
          "cards",
          "duels_won",
          "duels_lost"
         ],
         "type": "scatterpolar",
         "uid": "5c66c3bf-9664-43a3-9457-29eaed75d1ff"
        },
        {
         "fill": "toself",
         "name": "Ricardo Iván Rodríguez Araya",
         "r": [
          "Ricardo Iván Rodríguez Araya",
          1,
          1,
          0,
          0,
          0
         ],
         "theta": [
          "blocks",
          "clearances",
          "cards",
          "duels_won",
          "duels_lost"
         ],
         "type": "scatterpolar",
         "uid": "c837facb-71d2-4804-baba-50480fd3581a"
        },
        {
         "fill": "toself",
         "name": "Stephan Lichtsteiner",
         "r": [
          "Stephan Lichtsteiner",
          3,
          0,
          0,
          0,
          0
         ],
         "theta": [
          "blocks",
          "clearances",
          "cards",
          "duels_won",
          "duels_lost"
         ],
         "type": "scatterpolar",
         "uid": "ea3e25a5-22ce-4cca-a9b2-9fe7efa3dd8d"
        },
        {
         "fill": "toself",
         "name": "Ali Maâloul",
         "r": [
          "Ali Maâloul",
          2,
          0,
          0,
          1,
          0
         ],
         "theta": [
          "blocks",
          "clearances",
          "cards",
          "duels_won",
          "duels_lost"
         ],
         "type": "scatterpolar",
         "uid": "166cd91d-297b-4f96-97ba-f72ab224ed94"
        },
        {
         "fill": "toself",
         "name": "Dylan Bronn",
         "r": [
          "Dylan Bronn",
          2,
          1,
          0,
          1,
          0
         ],
         "theta": [
          "blocks",
          "clearances",
          "cards",
          "duels_won",
          "duels_lost"
         ],
         "type": "scatterpolar",
         "uid": "c2d5a4c8-acd8-464a-9222-2ea6f5c0dc89"
        },
        {
         "fill": "toself",
         "name": "Hamdi Nagguez",
         "r": [
          "Hamdi Nagguez",
          0,
          0,
          0,
          1,
          1
         ],
         "theta": [
          "blocks",
          "clearances",
          "cards",
          "duels_won",
          "duels_lost"
         ],
         "type": "scatterpolar",
         "uid": "2b5270f1-c433-4573-83e0-37416e86422d"
        },
        {
         "fill": "toself",
         "name": "Oussama Haddadi",
         "r": [
          "Oussama Haddadi",
          2,
          0,
          0,
          1,
          0
         ],
         "theta": [
          "blocks",
          "clearances",
          "cards",
          "duels_won",
          "duels_lost"
         ],
         "type": "scatterpolar",
         "uid": "b46c3449-c03c-4701-88f8-4d8bb67c886b"
        },
        {
         "fill": "toself",
         "name": "Rami Bedoui",
         "r": [
          "Rami Bedoui",
          0,
          0,
          0,
          1,
          0
         ],
         "theta": [
          "blocks",
          "clearances",
          "cards",
          "duels_won",
          "duels_lost"
         ],
         "type": "scatterpolar",
         "uid": "b910b676-e8fc-4d70-bf20-cf3eecb18e19"
        },
        {
         "fill": "toself",
         "name": "Syam Ben Youssef",
         "r": [
          "Syam Ben Youssef",
          2,
          2,
          0,
          4,
          0
         ],
         "theta": [
          "blocks",
          "clearances",
          "cards",
          "duels_won",
          "duels_lost"
         ],
         "type": "scatterpolar",
         "uid": "e93bc4f4-57bb-467f-9367-9d6ab476f5e8"
        },
        {
         "fill": "toself",
         "name": "Yassine Meriah",
         "r": [
          "Yassine Meriah",
          2,
          1,
          0,
          0,
          0
         ],
         "theta": [
          "blocks",
          "clearances",
          "cards",
          "duels_won",
          "duels_lost"
         ],
         "type": "scatterpolar",
         "uid": "5e55b1f4-53cf-437b-b29a-00c624426d24"
        },
        {
         "fill": "toself",
         "name": "Yohan Benalouane",
         "r": [
          "Yohan Benalouane",
          1,
          1,
          0,
          3,
          0
         ],
         "theta": [
          "blocks",
          "clearances",
          "cards",
          "duels_won",
          "duels_lost"
         ],
         "type": "scatterpolar",
         "uid": "dbb0ed7e-4e6b-41d1-b9b0-b291e56fba52"
        },
        {
         "fill": "toself",
         "name": "Diego Roberto Godín Leal",
         "r": [
          "Diego Roberto Godín Leal",
          2,
          2,
          0,
          2,
          0
         ],
         "theta": [
          "blocks",
          "clearances",
          "cards",
          "duels_won",
          "duels_lost"
         ],
         "type": "scatterpolar",
         "uid": "b185624b-f022-480e-bf76-8c506bfdc0fd"
        },
        {
         "fill": "toself",
         "name": "Diego Sebastián Laxalt Suárez",
         "r": [
          "Diego Sebastián Laxalt Suárez",
          2,
          1,
          0,
          1,
          0
         ],
         "theta": [
          "blocks",
          "clearances",
          "cards",
          "duels_won",
          "duels_lost"
         ],
         "type": "scatterpolar",
         "uid": "27203969-957d-4198-a97c-af5ae485c9b2"
        },
        {
         "fill": "toself",
         "name": "Guillermo Varela Olivera",
         "r": [
          "Guillermo Varela Olivera",
          2,
          1,
          0,
          2,
          1
         ],
         "theta": [
          "blocks",
          "clearances",
          "cards",
          "duels_won",
          "duels_lost"
         ],
         "type": "scatterpolar",
         "uid": "e255f46b-6395-442e-bb96-c006742f90b0"
        },
        {
         "fill": "toself",
         "name": "José María Giménez de Vargas",
         "r": [
          "José María Giménez de Vargas",
          1,
          2,
          0,
          3,
          0
         ],
         "theta": [
          "blocks",
          "clearances",
          "cards",
          "duels_won",
          "duels_lost"
         ],
         "type": "scatterpolar",
         "uid": "79aac7ff-673a-4020-92d8-71a608ea0713"
        }
       ],
       "layout": {
        "polar": {
         "radialaxis": {
          "range": [
           0,
           5
          ],
          "visible": true
         }
        },
        "showlegend": true,
        "title": "Defenders"
       }
      },
      "text/html": [
       "<div id=\"170d537b-24c1-4e26-9999-97e51463a9a1\" style=\"height: 525px; width: 100%;\" class=\"plotly-graph-div\"></div><script type=\"text/javascript\">require([\"plotly\"], function(Plotly) { window.PLOTLYENV=window.PLOTLYENV || {};window.PLOTLYENV.BASE_URL=\"https://plot.ly\";Plotly.newPlot(\"170d537b-24c1-4e26-9999-97e51463a9a1\", [{\"fill\": \"toself\", \"name\": \"Gabriel Iv\\u00e1n Mercado\", \"r\": [\"Gabriel Iv\\u00e1n Mercado\", 2.0, 0.0, 2.0, 1.0, 0.0], \"theta\": [\"blocks\", \"clearances\", \"cards\", \"duels_won\", \"duels_lost\"], \"type\": \"scatterpolar\", \"uid\": \"f3d03d3c-1933-4026-84fc-a8797640386d\"}, {\"fill\": \"toself\", \"name\": \"Nicol\\u00e1s Alejandro Tagliafico\", \"r\": [\"Nicol\\u00e1s Alejandro Tagliafico\", 1.0, 0.0, 2.0, 1.0, 0.0], \"theta\": [\"blocks\", \"clearances\", \"cards\", \"duels_won\", \"duels_lost\"], \"type\": \"scatterpolar\", \"uid\": \"c92cf97a-d36a-4f25-827a-bb4ec3506624\"}, {\"fill\": \"toself\", \"name\": \"Nicol\\u00e1s Otamendi\", \"r\": [\"Nicol\\u00e1s Otamendi\", 2.0, 2.0, 0.0, 2.0, 1.0], \"theta\": [\"blocks\", \"clearances\", \"cards\", \"duels_won\", \"duels_lost\"], \"type\": \"scatterpolar\", \"uid\": \"4cfbaf55-4da6-445e-a181-80fe196f0db3\"}, {\"fill\": \"toself\", \"name\": \"Aziz Eraltay Behich\", \"r\": [\"Aziz Eraltay Behich\", 2.0, 1.0, 2.0, 0.0, 1.0], \"theta\": [\"blocks\", \"clearances\", \"cards\", \"duels_won\", \"duels_lost\"], \"type\": \"scatterpolar\", \"uid\": \"9797adf2-645f-41b0-b349-1bc1e75bb475\"}, {\"fill\": \"toself\", \"name\": \"Josh Risdon\", \"r\": [\"Josh Risdon\", 2.0, 1.0, 2.0, 4.0, 1.0], \"theta\": [\"blocks\", \"clearances\", \"cards\", \"duels_won\", \"duels_lost\"], \"type\": \"scatterpolar\", \"uid\": \"07dd8642-59ae-47e0-ab77-fbceb4aa2255\"}, {\"fill\": \"toself\", \"name\": \"Mark Milligan\", \"r\": [\"Mark Milligan\", 1.0, 1.0, 2.0, 1.0, 1.0], \"theta\": [\"blocks\", \"clearances\", \"cards\", \"duels_won\", \"duels_lost\"], \"type\": \"scatterpolar\", \"uid\": \"fbd25241-5b47-4ca0-9d07-6be03df700eb\"}, {\"fill\": \"toself\", \"name\": \"Trent Sainsbury\", \"r\": [\"Trent Sainsbury\", 2.0, 2.0, 0.0, 1.0, 0.0], \"theta\": [\"blocks\", \"clearances\", \"cards\", \"duels_won\", \"duels_lost\"], \"type\": \"scatterpolar\", \"uid\": \"f49900b6-16e5-41ca-b24f-8143f8703ec0\"}, {\"fill\": \"toself\", \"name\": \"Anga Dedryck Boyata\", \"r\": [\"Anga Dedryck Boyata\", 1.0, 2.0, 0.0, 0.0, 0.0], \"theta\": [\"blocks\", \"clearances\", \"cards\", \"duels_won\", \"duels_lost\"], \"type\": \"scatterpolar\", \"uid\": \"8e993e03-296a-4f94-a3c4-2972f31a44cf\"}, {\"fill\": \"toself\", \"name\": \"Jan Vertonghen\", \"r\": [\"Jan Vertonghen\", 1.0, 2.0, 1.0, 1.0, 1.0], \"theta\": [\"blocks\", \"clearances\", \"cards\", \"duels_won\", \"duels_lost\"], \"type\": \"scatterpolar\", \"uid\": \"029ae6d1-dc7e-4708-9cfc-62e2bd2ea30d\"}, {\"fill\": \"toself\", \"name\": \"Nacer Chadli\", \"r\": [\"Nacer Chadli\", 1.0, 0.0, 0.0, 0.0, 0.0], \"theta\": [\"blocks\", \"clearances\", \"cards\", \"duels_won\", \"duels_lost\"], \"type\": \"scatterpolar\", \"uid\": \"7996300d-186b-4bf0-975e-461ea6c70dca\"}, {\"fill\": \"toself\", \"name\": \"Thomas Meunier\", \"r\": [\"Thomas Meunier\", 1.0, 1.0, 2.0, 1.0, 0.0], \"theta\": [\"blocks\", \"clearances\", \"cards\", \"duels_won\", \"duels_lost\"], \"type\": \"scatterpolar\", \"uid\": \"5f0767d4-7225-4bcc-b1e3-653023f106be\"}, {\"fill\": \"toself\", \"name\": \"Toby Albertine Maurits Alderweireld\", \"r\": [\"Toby Albertine Maurits Alderweireld\", 2.0, 2.0, 2.0, 1.0, 0.0], \"theta\": [\"blocks\", \"clearances\", \"cards\", \"duels_won\", \"duels_lost\"], \"type\": \"scatterpolar\", \"uid\": \"09d4f245-dab0-4e0f-aece-a1bfb31d173f\"}, {\"fill\": \"toself\", \"name\": \"Vincent Kompany\", \"r\": [\"Vincent Kompany\", 1.0, 3.0, 0.0, 1.0, 0.0], \"theta\": [\"blocks\", \"clearances\", \"cards\", \"duels_won\", \"duels_lost\"], \"type\": \"scatterpolar\", \"uid\": \"5de518b1-9460-483f-964e-cad2f7ad408e\"}, {\"fill\": \"toself\", \"name\": \"Yannick Ferreira Carrasco\", \"r\": [\"Yannick Ferreira Carrasco\", 1.0, 0.0, 0.0, 1.0, 0.0], \"theta\": [\"blocks\", \"clearances\", \"cards\", \"duels_won\", \"duels_lost\"], \"type\": \"scatterpolar\", \"uid\": \"0dd48f85-ca4f-4c5a-a75f-82693bc9b5de\"}, {\"fill\": \"toself\", \"name\": \"Danilo\", \"r\": [\"Danilo\", 0.0, 1.0, 0.0, 1.0, 1.0], \"theta\": [\"blocks\", \"clearances\", \"cards\", \"duels_won\", \"duels_lost\"], \"type\": \"scatterpolar\", \"uid\": \"f2977024-5c51-4795-acfb-3587db39010a\"}, {\"fill\": \"toself\", \"name\": \"F\\u00e1gner Conserva Lemos\", \"r\": [\"F\\u00e1gner Conserva Lemos\", 2.0, 1.0, 1.0, 2.0, 1.0], \"theta\": [\"blocks\", \"clearances\", \"cards\", \"duels_won\", \"duels_lost\"], \"type\": \"scatterpolar\", \"uid\": \"db752697-40d5-4e85-a65a-5e8ec81e446a\"}, {\"fill\": \"toself\", \"name\": \"Filipe Luis Kasmirski\", \"r\": [\"Filipe Luis Kasmirski\", 4.0, 1.0, 2.0, 4.0, 0.0], \"theta\": [\"blocks\", \"clearances\", \"cards\", \"duels_won\", \"duels_lost\"], \"type\": \"scatterpolar\", \"uid\": \"4c709e3a-7b82-4bb8-94ee-b5c8372cfb44\"}, {\"fill\": \"toself\", \"name\": \"Jo\\u00e3o Miranda de Souza Filho\", \"r\": [\"Jo\\u00e3o Miranda de Souza Filho\", 2.0, 2.0, 0.0, 2.0, 0.0], \"theta\": [\"blocks\", \"clearances\", \"cards\", \"duels_won\", \"duels_lost\"], \"type\": \"scatterpolar\", \"uid\": \"53814940-c2e0-4dd6-a4ad-d4ebcd642aaf\"}, {\"fill\": \"toself\", \"name\": \"Marcelo Vieira da Silva J\\u00fanior\", \"r\": [\"Marcelo Vieira da Silva J\\u00fanior\", 4.0, 0.0, 0.0, 1.0, 0.0], \"theta\": [\"blocks\", \"clearances\", \"cards\", \"duels_won\", \"duels_lost\"], \"type\": \"scatterpolar\", \"uid\": \"b68da38c-64a5-4812-82c8-f632f02b6b35\"}, {\"fill\": \"toself\", \"name\": \"Thiago Silva\", \"r\": [\"Thiago Silva\", 1.0, 2.0, 0.0, 0.0, 0.0], \"theta\": [\"blocks\", \"clearances\", \"cards\", \"duels_won\", \"duels_lost\"], \"type\": \"scatterpolar\", \"uid\": \"5ccc761a-7764-4755-b04d-c511253b1b94\"}, {\"fill\": \"toself\", \"name\": \"Davinson S\\u00e1nchez\", \"r\": [\"Davinson S\\u00e1nchez\", 2.0, 2.0, 0.0, 1.0, 0.0], \"theta\": [\"blocks\", \"clearances\", \"cards\", \"duels_won\", \"duels_lost\"], \"type\": \"scatterpolar\", \"uid\": \"88ed8ef7-99b4-4e5d-add6-b201cc209791\"}, {\"fill\": \"toself\", \"name\": \"Johan Andr\\u00e9s Mojica Palacio\", \"r\": [\"Johan Andr\\u00e9s Mojica Palacio\", 2.0, 1.0, 1.0, 2.0, 0.0], \"theta\": [\"blocks\", \"clearances\", \"cards\", \"duels_won\", \"duels_lost\"], \"type\": \"scatterpolar\", \"uid\": \"c48166db-bd01-4dcd-bff0-8b70adfdbb32\"}, {\"fill\": \"toself\", \"name\": \"Santiago Arias Naranjo\", \"r\": [\"Santiago Arias Naranjo\", 2.0, 1.0, 1.0, 1.0, 0.0], \"theta\": [\"blocks\", \"clearances\", \"cards\", \"duels_won\", \"duels_lost\"], \"type\": \"scatterpolar\", \"uid\": \"584b065b-8941-4bc9-8f84-c0b096398c02\"}, {\"fill\": \"toself\", \"name\": \"Yerry Fernando Mina Gonz\\u00e1lez\", \"r\": [\"Yerry Fernando Mina Gonz\\u00e1lez\", 2.0, 3.0, 0.0, 2.0, 1.0], \"theta\": [\"blocks\", \"clearances\", \"cards\", \"duels_won\", \"duels_lost\"], \"type\": \"scatterpolar\", \"uid\": \"3a2830ec-81f0-42f3-9375-9d4b50b7db1a\"}, {\"fill\": \"toself\", \"name\": \"Bryan Oviedo\", \"r\": [\"Bryan Oviedo\", 2.0, 1.0, 0.0, 2.0, 1.0], \"theta\": [\"blocks\", \"clearances\", \"cards\", \"duels_won\", \"duels_lost\"], \"type\": \"scatterpolar\", \"uid\": \"7fcd6fe5-03e3-432b-a3c9-032582c3d3dc\"}, {\"fill\": \"toself\", \"name\": \"Cristian Gamboa Luna\", \"r\": [\"Cristian Gamboa Luna\", 2.0, 1.0, 0.0, 1.0, 1.0], \"theta\": [\"blocks\", \"clearances\", \"cards\", \"duels_won\", \"duels_lost\"], \"type\": \"scatterpolar\", \"uid\": \"2a9b7d25-8d1e-46d0-9c68-1c63b3e06b5e\"}, {\"fill\": \"toself\", \"name\": \"Francisco Javier Calvo Quesada\", \"r\": [\"Francisco Javier Calvo Quesada\", 1.0, 1.0, 2.0, 2.0, 2.0], \"theta\": [\"blocks\", \"clearances\", \"cards\", \"duels_won\", \"duels_lost\"], \"type\": \"scatterpolar\", \"uid\": \"3f073514-409c-414d-8de5-993f020939fc\"}, {\"fill\": \"toself\", \"name\": \"Johnny Acosta Zamora\", \"r\": [\"Johnny Acosta Zamora\", 2.0, 1.0, 0.0, 1.0, 0.0], \"theta\": [\"blocks\", \"clearances\", \"cards\", \"duels_won\", \"duels_lost\"], \"type\": \"scatterpolar\", \"uid\": \"0eaf5157-689a-432d-a5e8-854603a85363\"}, {\"fill\": \"toself\", \"name\": \"\\u00d3scar Esau Duarte Gait\\u00e1n\", \"r\": [\"\\u00d3scar Esau Duarte Gait\\u00e1n\", 0.0, 2.0, 0.0, 1.0, 0.0], \"theta\": [\"blocks\", \"clearances\", \"cards\", \"duels_won\", \"duels_lost\"], \"type\": \"scatterpolar\", \"uid\": \"092a8847-5e91-4a8a-83ec-334d1646b869\"}, {\"fill\": \"toself\", \"name\": \"Dejan Lovren\", \"r\": [\"Dejan Lovren\", 2.0, 3.0, 1.0, 0.0, 0.0], \"theta\": [\"blocks\", \"clearances\", \"cards\", \"duels_won\", \"duels_lost\"], \"type\": \"scatterpolar\", \"uid\": \"ea628b74-db08-4477-8372-f8b1a4ed72ce\"}, {\"fill\": \"toself\", \"name\": \"Domagoj Vida\", \"r\": [\"Domagoj Vida\", 1.0, 2.0, 0.0, 0.0, 0.0], \"theta\": [\"blocks\", \"clearances\", \"cards\", \"duels_won\", \"duels_lost\"], \"type\": \"scatterpolar\", \"uid\": \"ad819b8e-a044-4427-9800-5ac3c82a36f1\"}, {\"fill\": \"toself\", \"name\": \"Ivan Strini\\u0107\", \"r\": [\"Ivan Strini\\u0107\", 1.0, 1.0, 1.0, 0.0, 0.0], \"theta\": [\"blocks\", \"clearances\", \"cards\", \"duels_won\", \"duels_lost\"], \"type\": \"scatterpolar\", \"uid\": \"45c86da3-4a5b-4cc8-bf88-39f2ecc6e8de\"}, {\"fill\": \"toself\", \"name\": \"Josip Pivari\\u0107\", \"r\": [\"Josip Pivari\\u0107\", 1.0, 1.0, 1.0, 1.0, 0.0], \"theta\": [\"blocks\", \"clearances\", \"cards\", \"duels_won\", \"duels_lost\"], \"type\": \"scatterpolar\", \"uid\": \"3e6f13ad-53a8-432a-a164-a1dd00869af6\"}, {\"fill\": \"toself\", \"name\": \"Marko Pjaca\", \"r\": [\"Marko Pjaca\", 0.0, 0.0, 0.0, 0.0, 0.0], \"theta\": [\"blocks\", \"clearances\", \"cards\", \"duels_won\", \"duels_lost\"], \"type\": \"scatterpolar\", \"uid\": \"19330bb9-444d-4bc2-8e96-4ef29a4c3532\"}, {\"fill\": \"toself\", \"name\": \"\\u0160ime Vrsaljko\", \"r\": [\"\\u0160ime Vrsaljko\", 1.0, 1.0, 2.0, 1.0, 0.0], \"theta\": [\"blocks\", \"clearances\", \"cards\", \"duels_won\", \"duels_lost\"], \"type\": \"scatterpolar\", \"uid\": \"1718c5bb-eade-4a20-9383-6b5ed847d782\"}, {\"fill\": \"toself\", \"name\": \"Tin Jedvaj\", \"r\": [\"Tin Jedvaj\", 2.0, 2.0, 0.0, 1.0, 0.0], \"theta\": [\"blocks\", \"clearances\", \"cards\", \"duels_won\", \"duels_lost\"], \"type\": \"scatterpolar\", \"uid\": \"91acad51-3dad-4cf3-9a2f-dc214985b618\"}, {\"fill\": \"toself\", \"name\": \"Vedran \\u0106orluka\", \"r\": [\"Vedran \\u0106orluka\", 0.0, 2.0, 0.0, 0.0, 0.0], \"theta\": [\"blocks\", \"clearances\", \"cards\", \"duels_won\", \"duels_lost\"], \"type\": \"scatterpolar\", \"uid\": \"6c23c35c-2abe-40d8-9dae-96a0378d7b8d\"}, {\"fill\": \"toself\", \"name\": \"Andreas Christensen\", \"r\": [\"Andreas Christensen\", 1.0, 1.0, 0.0, 1.0, 0.0], \"theta\": [\"blocks\", \"clearances\", \"cards\", \"duels_won\", \"duels_lost\"], \"type\": \"scatterpolar\", \"uid\": \"36117a61-c2bd-4957-8931-a7b4d65a71eb\"}, {\"fill\": \"toself\", \"name\": \"Henrik Dalsgaard\", \"r\": [\"Henrik Dalsgaard\", 2.0, 2.0, 0.0, 3.0, 1.0], \"theta\": [\"blocks\", \"clearances\", \"cards\", \"duels_won\", \"duels_lost\"], \"type\": \"scatterpolar\", \"uid\": \"cf35c8fa-b6c6-4001-8a4f-28d9eb18ec50\"}, {\"fill\": \"toself\", \"name\": \"Jens Stryger Larsen\", \"r\": [\"Jens Stryger Larsen\", 1.0, 0.0, 0.0, 2.0, 1.0], \"theta\": [\"blocks\", \"clearances\", \"cards\", \"duels_won\", \"duels_lost\"], \"type\": \"scatterpolar\", \"uid\": \"ff892b34-cb2e-4e70-aefe-79fe5bb60d83\"}, {\"fill\": \"toself\", \"name\": \"Jonas Knudsen\", \"r\": [\"Jonas Knudsen\", 5.0, 0.0, 0.0, 1.0, 0.0], \"theta\": [\"blocks\", \"clearances\", \"cards\", \"duels_won\", \"duels_lost\"], \"type\": \"scatterpolar\", \"uid\": \"e59b07ea-e1c7-42e6-9834-2c8e7dc81a63\"}, {\"fill\": \"toself\", \"name\": \"Simon Thorup Kj\\u00e6r\", \"r\": [\"Simon Thorup Kj\\u00e6r\", 2.0, 3.0, 0.0, 1.0, 0.0], \"theta\": [\"blocks\", \"clearances\", \"cards\", \"duels_won\", \"duels_lost\"], \"type\": \"scatterpolar\", \"uid\": \"1961ba43-a932-44da-ad88-55aeeb59bb57\"}, {\"fill\": \"toself\", \"name\": \"Zanka\", \"r\": [\"Zanka\", 2.0, 1.0, 3.0, 1.0, 0.0], \"theta\": [\"blocks\", \"clearances\", \"cards\", \"duels_won\", \"duels_lost\"], \"type\": \"scatterpolar\", \"uid\": \"2a8bd1a7-4da0-4ea4-bcef-01d1e99110b6\"}, {\"fill\": \"toself\", \"name\": \"Ahmed Fathy Abdel Meneim Ibrahim\", \"r\": [\"Ahmed Fathy Abdel Meneim Ibrahim\", 4.0, 1.0, 2.0, 5.0, 1.0], \"theta\": [\"blocks\", \"clearances\", \"cards\", \"duels_won\", \"duels_lost\"], \"type\": \"scatterpolar\", \"uid\": \"91a1cbbd-8548-4006-b14d-fc433a090ad2\"}, {\"fill\": \"toself\", \"name\": \"Ahmed Hegazy\", \"r\": [\"Ahmed Hegazy\", 2.0, 4.0, 2.0, 1.0, 0.0], \"theta\": [\"blocks\", \"clearances\", \"cards\", \"duels_won\", \"duels_lost\"], \"type\": \"scatterpolar\", \"uid\": \"419313b7-c77b-4596-afb6-6b9c59f6340a\"}, {\"fill\": \"toself\", \"name\": \"Ali Gabr\", \"r\": [\"Ali Gabr\", 1.0, 3.0, 2.0, 1.0, 0.0], \"theta\": [\"blocks\", \"clearances\", \"cards\", \"duels_won\", \"duels_lost\"], \"type\": \"scatterpolar\", \"uid\": \"29a2064c-efee-4a8b-8a8b-38e228137679\"}, {\"fill\": \"toself\", \"name\": \"Mohamed Abdul Shafy Sayed Abouezeid\", \"r\": [\"Mohamed Abdul Shafy Sayed Abouezeid\", 0.0, 1.0, 0.0, 1.0, 0.0], \"theta\": [\"blocks\", \"clearances\", \"cards\", \"duels_won\", \"duels_lost\"], \"type\": \"scatterpolar\", \"uid\": \"bd8e1337-b36a-4afd-8c7e-24353f0d50db\"}, {\"fill\": \"toself\", \"name\": \"Ashley Young\", \"r\": [\"Ashley Young\", 0.0, 0.0, 0.0, 0.0, 0.0], \"theta\": [\"blocks\", \"clearances\", \"cards\", \"duels_won\", \"duels_lost\"], \"type\": \"scatterpolar\", \"uid\": \"108345a6-f8c8-4752-8be0-de3470c6f948\"}, {\"fill\": \"toself\", \"name\": \"Danny Rose\", \"r\": [\"Danny Rose\", 0.0, 0.0, 0.0, 0.0, 0.0], \"theta\": [\"blocks\", \"clearances\", \"cards\", \"duels_won\", \"duels_lost\"], \"type\": \"scatterpolar\", \"uid\": \"e329355b-d1df-4d5d-8f46-0f95a922ceca\"}, {\"fill\": \"toself\", \"name\": \"Harry Maguire\", \"r\": [\"Harry Maguire\", 2.0, 1.0, 0.0, 0.0, 0.0], \"theta\": [\"blocks\", \"clearances\", \"cards\", \"duels_won\", \"duels_lost\"], \"type\": \"scatterpolar\", \"uid\": \"31b52273-8185-4acf-881d-9e28f8c32d67\"}, {\"fill\": \"toself\", \"name\": \"John Stones\", \"r\": [\"John Stones\", 2.0, 2.0, 1.0, 1.0, 0.0], \"theta\": [\"blocks\", \"clearances\", \"cards\", \"duels_won\", \"duels_lost\"], \"type\": \"scatterpolar\", \"uid\": \"1d55a056-d098-484f-8c8f-acacad49d6f9\"}, {\"fill\": \"toself\", \"name\": \"Kieran Trippier\", \"r\": [\"Kieran Trippier\", 1.0, 0.0, 0.0, 0.0, 0.0], \"theta\": [\"blocks\", \"clearances\", \"cards\", \"duels_won\", \"duels_lost\"], \"type\": \"scatterpolar\", \"uid\": \"c96ced6f-7be8-4b00-8371-6d249055e2d3\"}, {\"fill\": \"toself\", \"name\": \"Kyle Walker\", \"r\": [\"Kyle Walker\", 1.0, 3.0, 1.0, 0.0, 0.0], \"theta\": [\"blocks\", \"clearances\", \"cards\", \"duels_won\", \"duels_lost\"], \"type\": \"scatterpolar\", \"uid\": \"46f4536b-9b9d-4e78-855d-0385b5f2c68b\"}, {\"fill\": \"toself\", \"name\": \"Phil Jones\", \"r\": [\"Phil Jones\", 1.0, 1.0, 0.0, 1.0, 0.0], \"theta\": [\"blocks\", \"clearances\", \"cards\", \"duels_won\", \"duels_lost\"], \"type\": \"scatterpolar\", \"uid\": \"c03d5558-b63d-488e-8228-b6efd7c6cbcd\"}, {\"fill\": \"toself\", \"name\": \"Antoine Griezmann\", \"r\": [\"Antoine Griezmann\", 0.0, 0.0, 0.0, 0.0, 0.0], \"theta\": [\"blocks\", \"clearances\", \"cards\", \"duels_won\", \"duels_lost\"], \"type\": \"scatterpolar\", \"uid\": \"48c26470-5f67-4e8c-8e05-f141fbab9009\"}, {\"fill\": \"toself\", \"name\": \"Benjamin Pavard\", \"r\": [\"Benjamin Pavard\", 2.0, 2.0, 0.0, 1.0, 1.0], \"theta\": [\"blocks\", \"clearances\", \"cards\", \"duels_won\", \"duels_lost\"], \"type\": \"scatterpolar\", \"uid\": \"86a4ffec-af05-464c-bc81-61fb7552ae60\"}, {\"fill\": \"toself\", \"name\": \"Lucas Hern\\u00e1ndez Pi\", \"r\": [\"Lucas Hern\\u00e1ndez Pi\", 2.0, 1.0, 1.0, 0.0, 0.0], \"theta\": [\"blocks\", \"clearances\", \"cards\", \"duels_won\", \"duels_lost\"], \"type\": \"scatterpolar\", \"uid\": \"7e21922c-d563-4422-af36-6ad3d23a80c1\"}, {\"fill\": \"toself\", \"name\": \"Nabil Fekir\", \"r\": [\"Nabil Fekir\", 0.0, 0.0, 0.0, 0.0, 0.0], \"theta\": [\"blocks\", \"clearances\", \"cards\", \"duels_won\", \"duels_lost\"], \"type\": \"scatterpolar\", \"uid\": \"79acb3cd-031e-45ce-a778-18da6498b4e2\"}, {\"fill\": \"toself\", \"name\": \"Rapha\\u00ebl Varane\", \"r\": [\"Rapha\\u00ebl Varane\", 1.0, 2.0, 0.0, 0.0, 0.0], \"theta\": [\"blocks\", \"clearances\", \"cards\", \"duels_won\", \"duels_lost\"], \"type\": \"scatterpolar\", \"uid\": \"f1031863-1122-4983-bd3d-8a87b63196b8\"}, {\"fill\": \"toself\", \"name\": \"Samuel Yves Umtiti\", \"r\": [\"Samuel Yves Umtiti\", 1.0, 2.0, 0.0, 0.0, 0.0], \"theta\": [\"blocks\", \"clearances\", \"cards\", \"duels_won\", \"duels_lost\"], \"type\": \"scatterpolar\", \"uid\": \"8b087e31-c128-480b-8849-aab000620c12\"}, {\"fill\": \"toself\", \"name\": \"J\\u00e9r\\u00f4me Boateng\", \"r\": [\"J\\u00e9r\\u00f4me Boateng\", 2.0, 1.0, 2.0, 4.0, 0.0], \"theta\": [\"blocks\", \"clearances\", \"cards\", \"duels_won\", \"duels_lost\"], \"type\": \"scatterpolar\", \"uid\": \"9b80182d-871a-40f2-bbcf-71222c309a33\"}, {\"fill\": \"toself\", \"name\": \"Jonas Hector\", \"r\": [\"Jonas Hector\", 2.0, 1.0, 0.0, 1.0, 0.0], \"theta\": [\"blocks\", \"clearances\", \"cards\", \"duels_won\", \"duels_lost\"], \"type\": \"scatterpolar\", \"uid\": \"aab9a475-9d6c-4a7b-a50e-887bb73f7be9\"}, {\"fill\": \"toself\", \"name\": \"Joshua Kimmich\", \"r\": [\"Joshua Kimmich\", 1.0, 0.0, 0.0, 2.0, 0.0], \"theta\": [\"blocks\", \"clearances\", \"cards\", \"duels_won\", \"duels_lost\"], \"type\": \"scatterpolar\", \"uid\": \"daafcd62-2505-4ff4-b99f-61f6a6920992\"}, {\"fill\": \"toself\", \"name\": \"Mats Hummels\", \"r\": [\"Mats Hummels\", 2.0, 1.0, 2.0, 4.0, 0.0], \"theta\": [\"blocks\", \"clearances\", \"cards\", \"duels_won\", \"duels_lost\"], \"type\": \"scatterpolar\", \"uid\": \"4ed7f27f-ae6e-4ed6-9fe9-e5fe81b7894e\"}, {\"fill\": \"toself\", \"name\": \"Niklas S\\u00fcle\", \"r\": [\"Niklas S\\u00fcle\", 1.0, 1.0, 0.0, 3.0, 0.0], \"theta\": [\"blocks\", \"clearances\", \"cards\", \"duels_won\", \"duels_lost\"], \"type\": \"scatterpolar\", \"uid\": \"7e53bfa9-9247-4bc9-8a84-09f8148f0cf7\"}, {\"fill\": \"toself\", \"name\": \"Toni Kroos\", \"r\": [\"Toni Kroos\", 0.0, 0.0, 0.0, 0.0, 0.0], \"theta\": [\"blocks\", \"clearances\", \"cards\", \"duels_won\", \"duels_lost\"], \"type\": \"scatterpolar\", \"uid\": \"c4e5da0b-2e11-4ce6-99a3-44b7d654b9e8\"}, {\"fill\": \"toself\", \"name\": \"H\\u00f6r\\u00f0ur Bj\\u00f6rgvin Magn\\u00fasson\", \"r\": [\"H\\u00f6r\\u00f0ur Bj\\u00f6rgvin Magn\\u00fasson\", 3.0, 2.0, 0.0, 2.0, 0.0], \"theta\": [\"blocks\", \"clearances\", \"cards\", \"duels_won\", \"duels_lost\"], \"type\": \"scatterpolar\", \"uid\": \"c64d7ae6-0214-4a27-abd1-3c443501bdf4\"}, {\"fill\": \"toself\", \"name\": \"K\\u00e1ri \\u00c1rnason\", \"r\": [\"K\\u00e1ri \\u00c1rnason\", 2.0, 2.0, 0.0, 2.0, 0.0], \"theta\": [\"blocks\", \"clearances\", \"cards\", \"duels_won\", \"duels_lost\"], \"type\": \"scatterpolar\", \"uid\": \"edc81479-5bb6-42f1-a7ce-b8c3f4c29b73\"}, {\"fill\": \"toself\", \"name\": \"Ragnar Sigur\\u00f0sson\", \"r\": [\"Ragnar Sigur\\u00f0sson\", 3.0, 2.0, 0.0, 0.0, 0.0], \"theta\": [\"blocks\", \"clearances\", \"cards\", \"duels_won\", \"duels_lost\"], \"type\": \"scatterpolar\", \"uid\": \"9f495549-c5e1-44c3-af57-de6fa7c69da2\"}, {\"fill\": \"toself\", \"name\": \"Sverrir Ingi Ingason\", \"r\": [\"Sverrir Ingi Ingason\", 4.0, 1.0, 0.0, 1.0, 0.0], \"theta\": [\"blocks\", \"clearances\", \"cards\", \"duels_won\", \"duels_lost\"], \"type\": \"scatterpolar\", \"uid\": \"c060ec6e-dd82-45af-8c75-74807cd772ef\"}, {\"fill\": \"toself\", \"name\": \"Ehsan Hajsafi\", \"r\": [\"Ehsan Hajsafi\", 1.0, 0.0, 0.0, 1.0, 0.0], \"theta\": [\"blocks\", \"clearances\", \"cards\", \"duels_won\", \"duels_lost\"], \"type\": \"scatterpolar\", \"uid\": \"5f5555ca-8aa4-40a3-aaa6-562e9013054c\"}, {\"fill\": \"toself\", \"name\": \"Milad Mohammadi\", \"r\": [\"Milad Mohammadi\", 0.0, 0.0, 0.0, 1.0, 1.0], \"theta\": [\"blocks\", \"clearances\", \"cards\", \"duels_won\", \"duels_lost\"], \"type\": \"scatterpolar\", \"uid\": \"c16bbfa8-2bde-41b5-9f5f-76d2d1c215ec\"}, {\"fill\": \"toself\", \"name\": \"Ramin Rezaeian\", \"r\": [\"Ramin Rezaeian\", 1.0, 1.0, 0.0, 1.0, 1.0], \"theta\": [\"blocks\", \"clearances\", \"cards\", \"duels_won\", \"duels_lost\"], \"type\": \"scatterpolar\", \"uid\": \"2c04026d-0a9e-4326-8a0d-3adc720521d8\"}, {\"fill\": \"toself\", \"name\": \"Gen Sh\\u014dji\", \"r\": [\"Gen Sh\\u014dji\", 1.0, 3.0, 0.0, 1.0, 1.0], \"theta\": [\"blocks\", \"clearances\", \"cards\", \"duels_won\", \"duels_lost\"], \"type\": \"scatterpolar\", \"uid\": \"ba8b31af-4986-4004-9027-0136cb5b1e7a\"}, {\"fill\": \"toself\", \"name\": \"Hiroki Sakai\", \"r\": [\"Hiroki Sakai\", 0.0, 2.0, 0.0, 1.0, 0.0], \"theta\": [\"blocks\", \"clearances\", \"cards\", \"duels_won\", \"duels_lost\"], \"type\": \"scatterpolar\", \"uid\": \"a149d36f-fa30-49aa-8ec6-f5ae409c7a32\"}, {\"fill\": \"toself\", \"name\": \"Yuto Nagatomo\", \"r\": [\"Yuto Nagatomo\", 2.0, 1.0, 0.0, 1.0, 0.0], \"theta\": [\"blocks\", \"clearances\", \"cards\", \"duels_won\", \"duels_lost\"], \"type\": \"scatterpolar\", \"uid\": \"e7179455-ecbd-4a14-9796-3a1bea721b86\"}, {\"fill\": \"toself\", \"name\": \"Carlos Joel Salcedo Hern\\u00e1ndez\", \"r\": [\"Carlos Joel Salcedo Hern\\u00e1ndez\", 4.0, 2.0, 0.0, 0.0, 0.0], \"theta\": [\"blocks\", \"clearances\", \"cards\", \"duels_won\", \"duels_lost\"], \"type\": \"scatterpolar\", \"uid\": \"2994a286-da29-4f84-8dda-f31544d9da41\"}, {\"fill\": \"toself\", \"name\": \"Edson Omar \\u00c1lvarez Vel\\u00e1zquez\", \"r\": [\"Edson Omar \\u00c1lvarez Vel\\u00e1zquez\", 2.0, 1.0, 1.0, 1.0, 0.0], \"theta\": [\"blocks\", \"clearances\", \"cards\", \"duels_won\", \"duels_lost\"], \"type\": \"scatterpolar\", \"uid\": \"343a4cb2-6998-467b-8d20-c22e185cafc0\"}, {\"fill\": \"toself\", \"name\": \"H\\u00e9ctor Alfredo Moreno Herrera\", \"r\": [\"H\\u00e9ctor Alfredo Moreno Herrera\", 1.0, 1.0, 2.0, 1.0, 0.0], \"theta\": [\"blocks\", \"clearances\", \"cards\", \"duels_won\", \"duels_lost\"], \"type\": \"scatterpolar\", \"uid\": \"6f52f339-e8c5-407d-ae9a-a037c8e4d1d5\"}, {\"fill\": \"toself\", \"name\": \"Hugo Ayala Castro\", \"r\": [\"Hugo Ayala Castro\", 2.0, 2.0, 0.0, 1.0, 0.0], \"theta\": [\"blocks\", \"clearances\", \"cards\", \"duels_won\", \"duels_lost\"], \"type\": \"scatterpolar\", \"uid\": \"c1d5c589-04d6-438e-b2b9-64b74fbb8633\"}, {\"fill\": \"toself\", \"name\": \"Jes\\u00fas Daniel Gallardo Vasconcelos\", \"r\": [\"Jes\\u00fas Daniel Gallardo Vasconcelos\", 4.0, 1.0, 1.0, 1.0, 1.0], \"theta\": [\"blocks\", \"clearances\", \"cards\", \"duels_won\", \"duels_lost\"], \"type\": \"scatterpolar\", \"uid\": \"62fa7f3c-2b39-4a18-ba57-ef8389a61d2d\"}, {\"fill\": \"toself\", \"name\": \"Miguel Arturo Lay\\u00fan Prado\", \"r\": [\"Miguel Arturo Lay\\u00fan Prado\", 0.0, 0.0, 1.0, 0.0, 0.0], \"theta\": [\"blocks\", \"clearances\", \"cards\", \"duels_won\", \"duels_lost\"], \"type\": \"scatterpolar\", \"uid\": \"c1e928a6-251f-4091-ac8f-48fd7c0ea680\"}, {\"fill\": \"toself\", \"name\": \"Achraf Hakimi Mouh\", \"r\": [\"Achraf Hakimi Mouh\", 0.0, 1.0, 0.0, 2.0, 1.0], \"theta\": [\"blocks\", \"clearances\", \"cards\", \"duels_won\", \"duels_lost\"], \"type\": \"scatterpolar\", \"uid\": \"7052b188-f05d-47af-971a-a41b9e92f90a\"}, {\"fill\": \"toself\", \"name\": \"Manuel Marouan da Costa Trinidade\", \"r\": [\"Manuel Marouan da Costa Trinidade\", 2.0, 1.0, 2.0, 0.0, 0.0], \"theta\": [\"blocks\", \"clearances\", \"cards\", \"duels_won\", \"duels_lost\"], \"type\": \"scatterpolar\", \"uid\": \"bc46c346-cffa-4187-92fd-d9b0160b26c2\"}, {\"fill\": \"toself\", \"name\": \"Nabil Dirar\", \"r\": [\"Nabil Dirar\", 4.0, 1.0, 0.0, 2.0, 0.0], \"theta\": [\"blocks\", \"clearances\", \"cards\", \"duels_won\", \"duels_lost\"], \"type\": \"scatterpolar\", \"uid\": \"6beb8a4c-268b-49a1-aabc-528ef0e2df9b\"}, {\"fill\": \"toself\", \"name\": \"Romain Sa\\u00efss\", \"r\": [\"Romain Sa\\u00efss\", 4.0, 3.0, 0.0, 1.0, 0.0], \"theta\": [\"blocks\", \"clearances\", \"cards\", \"duels_won\", \"duels_lost\"], \"type\": \"scatterpolar\", \"uid\": \"3508feb4-1dd1-4af8-9e08-92e224bc9dda\"}, {\"fill\": \"toself\", \"name\": \"Brian Oladapo Idowu\", \"r\": [\"Brian Oladapo Idowu\", 2.0, 0.0, 0.0, 1.0, 1.0], \"theta\": [\"blocks\", \"clearances\", \"cards\", \"duels_won\", \"duels_lost\"], \"type\": \"scatterpolar\", \"uid\": \"a7d29064-4c46-4ad8-a57f-e2e5810beb78\"}, {\"fill\": \"toself\", \"name\": \"Leon-Aderemi Balogun\", \"r\": [\"Leon-Aderemi Balogun\", 1.0, 1.0, 2.0, 1.0, 0.0], \"theta\": [\"blocks\", \"clearances\", \"cards\", \"duels_won\", \"duels_lost\"], \"type\": \"scatterpolar\", \"uid\": \"92876f13-b2ed-4b84-8395-293aeed661f6\"}, {\"fill\": \"toself\", \"name\": \"Victor Moses\", \"r\": [\"Victor Moses\", 1.0, 0.0, 0.0, 1.0, 0.0], \"theta\": [\"blocks\", \"clearances\", \"cards\", \"duels_won\", \"duels_lost\"], \"type\": \"scatterpolar\", \"uid\": \"e2277a5f-af1d-4c0e-a9f2-15e8330051f6\"}, {\"fill\": \"toself\", \"name\": \"Adolfo Abdiel Machado\", \"r\": [\"Adolfo Abdiel Machado\", 0.0, 2.0, 0.0, 1.0, 2.0], \"theta\": [\"blocks\", \"clearances\", \"cards\", \"duels_won\", \"duels_lost\"], \"type\": \"scatterpolar\", \"uid\": \"7f147a3f-afd4-4d7b-bc05-2721521994bf\"}, {\"fill\": \"toself\", \"name\": \"Erick Javier Davis Grajales\", \"r\": [\"Erick Javier Davis Grajales\", 0.0, 1.0, 2.0, 1.0, 1.0], \"theta\": [\"blocks\", \"clearances\", \"cards\", \"duels_won\", \"duels_lost\"], \"type\": \"scatterpolar\", \"uid\": \"ece861dd-5577-44a0-82c8-e7e43af0a830\"}, {\"fill\": \"toself\", \"name\": \"Fidel Escobar Mendieta\", \"r\": [\"Fidel Escobar Mendieta\", 2.0, 1.0, 0.0, 2.0, 1.0], \"theta\": [\"blocks\", \"clearances\", \"cards\", \"duels_won\", \"duels_lost\"], \"type\": \"scatterpolar\", \"uid\": \"f785cbd9-444a-46ee-85c6-05904c23ba34\"}, {\"fill\": \"toself\", \"name\": \"Michael Amir Murillo Bermudez\", \"r\": [\"Michael Amir Murillo Bermudez\", 0.0, 0.0, 5.0, 3.0, 0.0], \"theta\": [\"blocks\", \"clearances\", \"cards\", \"duels_won\", \"duels_lost\"], \"type\": \"scatterpolar\", \"uid\": \"082c965b-24e6-4a6d-898f-329c74106779\"}, {\"fill\": \"toself\", \"name\": \"Anderson Santamar\\u00eda Bardales\", \"r\": [\"Anderson Santamar\\u00eda Bardales\", 1.0, 1.0, 0.0, 2.0, 0.0], \"theta\": [\"blocks\", \"clearances\", \"cards\", \"duels_won\", \"duels_lost\"], \"type\": \"scatterpolar\", \"uid\": \"05beb8b0-ec9b-4fb8-9cdc-b39bce01cc40\"}, {\"fill\": \"toself\", \"name\": \"Luis Jan Piers Adv\\u00edncula Castrill\\u00f3n\", \"r\": [\"Luis Jan Piers Adv\\u00edncula Castrill\\u00f3n\", 1.0, 1.0, 0.0, 4.0, 1.0], \"theta\": [\"blocks\", \"clearances\", \"cards\", \"duels_won\", \"duels_lost\"], \"type\": \"scatterpolar\", \"uid\": \"48eb2952-393d-4ddb-8a99-8a7d2af34259\"}, {\"fill\": \"toself\", \"name\": \"Miguel \\u00c1ngel Trauco Saavedra\", \"r\": [\"Miguel \\u00c1ngel Trauco Saavedra\", 3.0, 1.0, 0.0, 2.0, 0.0], \"theta\": [\"blocks\", \"clearances\", \"cards\", \"duels_won\", \"duels_lost\"], \"type\": \"scatterpolar\", \"uid\": \"988642eb-cd53-44b5-936e-a6e853f2f4a0\"}, {\"fill\": \"toself\", \"name\": \"Artur Jedrzejczyk\", \"r\": [\"Artur Jedrzejczyk\", 1.0, 1.0, 0.0, 1.0, 1.0], \"theta\": [\"blocks\", \"clearances\", \"cards\", \"duels_won\", \"duels_lost\"], \"type\": \"scatterpolar\", \"uid\": \"ef0796b2-cdcd-437b-be95-19bb03e5d776\"}, {\"fill\": \"toself\", \"name\": \"Kamil Glik\", \"r\": [\"Kamil Glik\", 2.0, 1.0, 0.0, 1.0, 0.0], \"theta\": [\"blocks\", \"clearances\", \"cards\", \"duels_won\", \"duels_lost\"], \"type\": \"scatterpolar\", \"uid\": \"7a7ffe1b-8dc5-4280-8d65-ed8bae20c783\"}, {\"fill\": \"toself\", \"name\": \"Maciej Rybus\", \"r\": [\"Maciej Rybus\", 0.0, 1.0, 0.0, 1.0, 0.0], \"theta\": [\"blocks\", \"clearances\", \"cards\", \"duels_won\", \"duels_lost\"], \"type\": \"scatterpolar\", \"uid\": \"0c0417ed-d40a-4643-9730-81e928fb5692\"}, {\"fill\": \"toself\", \"name\": \"Micha\\u0142 Pazdan\", \"r\": [\"Micha\\u0142 Pazdan\", 2.0, 1.0, 0.0, 1.0, 0.0], \"theta\": [\"blocks\", \"clearances\", \"cards\", \"duels_won\", \"duels_lost\"], \"type\": \"scatterpolar\", \"uid\": \"d124acf6-d599-45bb-be28-b794ff535164\"}, {\"fill\": \"toself\", \"name\": \"C\\u00e9dric Soares\", \"r\": [\"C\\u00e9dric Soares\", 4.0, 3.0, 0.0, 1.0, 5.0], \"theta\": [\"blocks\", \"clearances\", \"cards\", \"duels_won\", \"duels_lost\"], \"type\": \"scatterpolar\", \"uid\": \"f5026d7a-89bd-46ee-bc1b-4ee37e51402d\"}, {\"fill\": \"toself\", \"name\": \"Kleper Laveran Lima Ferreira\", \"r\": [\"Kleper Laveran Lima Ferreira\", 2.0, 2.0, 0.0, 2.0, 0.0], \"theta\": [\"blocks\", \"clearances\", \"cards\", \"duels_won\", \"duels_lost\"], \"type\": \"scatterpolar\", \"uid\": \"a355e557-23b5-4e60-ad9c-f7a6ffadcccf\"}, {\"fill\": \"toself\", \"name\": \"Rapha\\u00ebl Adelino Jos\\u00e9 Guerreiro\", \"r\": [\"Rapha\\u00ebl Adelino Jos\\u00e9 Guerreiro\", 3.0, 1.0, 0.0, 1.0, 0.0], \"theta\": [\"blocks\", \"clearances\", \"cards\", \"duels_won\", \"duels_lost\"], \"type\": \"scatterpolar\", \"uid\": \"7d9126b3-6d73-4cd4-8c60-275b3a7cd4db\"}, {\"fill\": \"toself\", \"name\": \"R\\u00faben Santos Gato Alves Dias\", \"r\": [\"R\\u00faben Santos Gato Alves Dias\", 2.0, 0.0, 0.0, 1.0, 0.0], \"theta\": [\"blocks\", \"clearances\", \"cards\", \"duels_won\", \"duels_lost\"], \"type\": \"scatterpolar\", \"uid\": \"9667e227-3f0d-4302-8892-d89761d226eb\"}, {\"fill\": \"toself\", \"name\": \"Ilya Kutepov\", \"r\": [\"Ilya Kutepov\", 2.0, 3.0, 1.0, 0.0, 0.0], \"theta\": [\"blocks\", \"clearances\", \"cards\", \"duels_won\", \"duels_lost\"], \"type\": \"scatterpolar\", \"uid\": \"d65053ac-1be4-4f4e-aca5-ea29bf59b396\"}, {\"fill\": \"toself\", \"name\": \"M\\u00e1rio Figueira Fernandes\", \"r\": [\"M\\u00e1rio Figueira Fernandes\", 2.0, 1.0, 0.0, 2.0, 0.0], \"theta\": [\"blocks\", \"clearances\", \"cards\", \"duels_won\", \"duels_lost\"], \"type\": \"scatterpolar\", \"uid\": \"e89de5a2-3f3c-4e5b-bdc1-a420755132c1\"}, {\"fill\": \"toself\", \"name\": \"Sergei Ignashevich\", \"r\": [\"Sergei Ignashevich\", 1.0, 5.0, 0.0, 1.0, 0.0], \"theta\": [\"blocks\", \"clearances\", \"cards\", \"duels_won\", \"duels_lost\"], \"type\": \"scatterpolar\", \"uid\": \"5e369d65-7f95-4fb7-8e80-f5799d239711\"}, {\"fill\": \"toself\", \"name\": \"Vladimir Granat\", \"r\": [\"Vladimir Granat\", 0.0, 1.0, 0.0, 1.0, 0.0], \"theta\": [\"blocks\", \"clearances\", \"cards\", \"duels_won\", \"duels_lost\"], \"type\": \"scatterpolar\", \"uid\": \"98b7cb2c-7b08-4799-a513-4d23341ff146\"}, {\"fill\": \"toself\", \"name\": \"Yuri Zhirkov\", \"r\": [\"Yuri Zhirkov\", 1.0, 1.0, 0.0, 1.0, 0.0], \"theta\": [\"blocks\", \"clearances\", \"cards\", \"duels_won\", \"duels_lost\"], \"type\": \"scatterpolar\", \"uid\": \"5839daa2-93d1-4c21-87dd-f26dd7934022\"}, {\"fill\": \"toself\", \"name\": \"Ali Albulayhi\", \"r\": [\"Ali Albulayhi\", 3.0, 1.0, 0.0, 1.0, 0.0], \"theta\": [\"blocks\", \"clearances\", \"cards\", \"duels_won\", \"duels_lost\"], \"type\": \"scatterpolar\", \"uid\": \"fdd79e0a-f2da-4eca-90d7-66201eb9e276\"}, {\"fill\": \"toself\", \"name\": \"Mohammed Al Burayk\", \"r\": [\"Mohammed Al Burayk\", 2.0, 0.0, 0.0, 1.0, 1.0], \"theta\": [\"blocks\", \"clearances\", \"cards\", \"duels_won\", \"duels_lost\"], \"type\": \"scatterpolar\", \"uid\": \"6d25aa8b-8edf-4daf-93b7-2860c4b64124\"}, {\"fill\": \"toself\", \"name\": \"Motaz Ali Hassan Hawsawi\", \"r\": [\"Motaz Ali Hassan Hawsawi\", 1.0, 0.0, 0.0, 3.0, 0.0], \"theta\": [\"blocks\", \"clearances\", \"cards\", \"duels_won\", \"duels_lost\"], \"type\": \"scatterpolar\", \"uid\": \"50e5967c-840e-4b62-9d95-9667f82ebabd\"}, {\"fill\": \"toself\", \"name\": \"Omar Ibrahim Omar Othman Hawsawi\", \"r\": [\"Omar Ibrahim Omar Othman Hawsawi\", 0.0, 2.0, 0.0, 3.0, 0.0], \"theta\": [\"blocks\", \"clearances\", \"cards\", \"duels_won\", \"duels_lost\"], \"type\": \"scatterpolar\", \"uid\": \"de6f5325-3c55-4d8c-a078-5a394aa39c38\"}, {\"fill\": \"toself\", \"name\": \"Osama Abdulrezag Hawsawi\", \"r\": [\"Osama Abdulrezag Hawsawi\", 2.0, 1.0, 0.0, 1.0, 1.0], \"theta\": [\"blocks\", \"clearances\", \"cards\", \"duels_won\", \"duels_lost\"], \"type\": \"scatterpolar\", \"uid\": \"0a0de99f-1ae8-4351-bcbd-85fdb5e68f3b\"}, {\"fill\": \"toself\", \"name\": \"Yasir Gharsan Al Shahrani\", \"r\": [\"Yasir Gharsan Al Shahrani\", 2.0, 1.0, 0.0, 1.0, 0.0], \"theta\": [\"blocks\", \"clearances\", \"cards\", \"duels_won\", \"duels_lost\"], \"type\": \"scatterpolar\", \"uid\": \"090c0225-3d5d-40e1-851a-d653ca9855b2\"}, {\"fill\": \"toself\", \"name\": \"Kalidou Koulibaly\", \"r\": [\"Kalidou Koulibaly\", 2.0, 1.0, 0.0, 0.0, 1.0], \"theta\": [\"blocks\", \"clearances\", \"cards\", \"duels_won\", \"duels_lost\"], \"type\": \"scatterpolar\", \"uid\": \"575ec6a8-3f4b-4a04-b763-4810f4019c4e\"}, {\"fill\": \"toself\", \"name\": \"Lamine Gassama\", \"r\": [\"Lamine Gassama\", 2.0, 1.0, 0.0, 3.0, 0.0], \"theta\": [\"blocks\", \"clearances\", \"cards\", \"duels_won\", \"duels_lost\"], \"type\": \"scatterpolar\", \"uid\": \"308cd3c1-c01b-49c0-861e-4e4c1ff2c2c1\"}, {\"fill\": \"toself\", \"name\": \"Salif San\\u00e9\", \"r\": [\"Salif San\\u00e9\", 1.0, 3.0, 2.0, 1.0, 0.0], \"theta\": [\"blocks\", \"clearances\", \"cards\", \"duels_won\", \"duels_lost\"], \"type\": \"scatterpolar\", \"uid\": \"ef3c5151-6bd6-4d78-bc36-e8a25ef1fcfa\"}, {\"fill\": \"toself\", \"name\": \"Aleksandar Kolarov\", \"r\": [\"Aleksandar Kolarov\", 2.0, 1.0, 0.0, 0.0, 0.0], \"theta\": [\"blocks\", \"clearances\", \"cards\", \"duels_won\", \"duels_lost\"], \"type\": \"scatterpolar\", \"uid\": \"04021d8d-0a29-4896-9fab-ba7cfc3dd688\"}, {\"fill\": \"toself\", \"name\": \"Antonio Rukavina\", \"r\": [\"Antonio Rukavina\", 2.0, 1.0, 0.0, 1.0, 0.0], \"theta\": [\"blocks\", \"clearances\", \"cards\", \"duels_won\", \"duels_lost\"], \"type\": \"scatterpolar\", \"uid\": \"bc428dda-c490-475e-812d-0f0a69064bbc\"}, {\"fill\": \"toself\", \"name\": \"Branislav Ivanovi\\u0107\", \"r\": [\"Branislav Ivanovi\\u0107\", 2.0, 1.0, 2.0, 1.0, 0.0], \"theta\": [\"blocks\", \"clearances\", \"cards\", \"duels_won\", \"duels_lost\"], \"type\": \"scatterpolar\", \"uid\": \"33f25da9-1227-4f3b-bb40-6699f6faf6e3\"}, {\"fill\": \"toself\", \"name\": \"Du\\u0161ko To\\u0161i\\u0107\", \"r\": [\"Du\\u0161ko To\\u0161i\\u0107\", 1.0, 2.0, 0.0, 4.0, 0.0], \"theta\": [\"blocks\", \"clearances\", \"cards\", \"duels_won\", \"duels_lost\"], \"type\": \"scatterpolar\", \"uid\": \"8415d360-b6d1-417c-b270-556274103742\"}, {\"fill\": \"toself\", \"name\": \"Nikola Milenkovi\\u0107\", \"r\": [\"Nikola Milenkovi\\u0107\", 1.0, 3.0, 0.0, 1.0, 0.0], \"theta\": [\"blocks\", \"clearances\", \"cards\", \"duels_won\", \"duels_lost\"], \"type\": \"scatterpolar\", \"uid\": \"c3ce5903-c930-40d1-8d57-925d23a8b130\"}, {\"fill\": \"toself\", \"name\": \"Chul Hong\", \"r\": [\"Chul Hong\", 2.0, 1.0, 0.0, 1.0, 0.0], \"theta\": [\"blocks\", \"clearances\", \"cards\", \"duels_won\", \"duels_lost\"], \"type\": \"scatterpolar\", \"uid\": \"773afe59-265d-49ef-aa6c-e64c374ddc61\"}, {\"fill\": \"toself\", \"name\": \"Yong Lee\", \"r\": [\"Yong Lee\", 3.0, 2.0, 2.0, 3.0, 1.0], \"theta\": [\"blocks\", \"clearances\", \"cards\", \"duels_won\", \"duels_lost\"], \"type\": \"scatterpolar\", \"uid\": \"02609a6d-1af7-498b-ada8-890c8ca9f833\"}, {\"fill\": \"toself\", \"name\": \"Young-Gwon Kim\", \"r\": [\"Young-Gwon Kim\", 2.0, 2.0, 2.0, 1.0, 0.0], \"theta\": [\"blocks\", \"clearances\", \"cards\", \"duels_won\", \"duels_lost\"], \"type\": \"scatterpolar\", \"uid\": \"1264953e-4f71-41c3-bc16-f7debc31688a\"}, {\"fill\": \"toself\", \"name\": \"Young-Sun Yun\", \"r\": [\"Young-Sun Yun\", 4.0, 3.0, 0.0, 1.0, 0.0], \"theta\": [\"blocks\", \"clearances\", \"cards\", \"duels_won\", \"duels_lost\"], \"type\": \"scatterpolar\", \"uid\": \"28fb6106-0e6f-4579-a0d5-ccf306c49086\"}, {\"fill\": \"toself\", \"name\": \"Daniel Carvajal Ramos\", \"r\": [\"Daniel Carvajal Ramos\", 1.0, 0.0, 0.0, 1.0, 0.0], \"theta\": [\"blocks\", \"clearances\", \"cards\", \"duels_won\", \"duels_lost\"], \"type\": \"scatterpolar\", \"uid\": \"5197fe2d-57e9-4d16-ab01-7dd0589d30ed\"}, {\"fill\": \"toself\", \"name\": \"Gerard Piqu\\u00e9 Bernab\\u00e9u\", \"r\": [\"Gerard Piqu\\u00e9 Bernab\\u00e9u\", 1.0, 1.0, 1.0, 1.0, 0.0], \"theta\": [\"blocks\", \"clearances\", \"cards\", \"duels_won\", \"duels_lost\"], \"type\": \"scatterpolar\", \"uid\": \"8a171740-5599-4c0b-b049-7c9b0062a25e\"}, {\"fill\": \"toself\", \"name\": \"Jordi Alba Ramos\", \"r\": [\"Jordi Alba Ramos\", 2.0, 0.0, 0.0, 0.0, 0.0], \"theta\": [\"blocks\", \"clearances\", \"cards\", \"duels_won\", \"duels_lost\"], \"type\": \"scatterpolar\", \"uid\": \"63a53ee4-1955-457c-913c-49decfdf179a\"}, {\"fill\": \"toself\", \"name\": \"Jos\\u00e9 Ignacio Fern\\u00e1ndez Iglesias\", \"r\": [\"Jos\\u00e9 Ignacio Fern\\u00e1ndez Iglesias\", 0.0, 0.0, 0.0, 1.0, 0.0], \"theta\": [\"blocks\", \"clearances\", \"cards\", \"duels_won\", \"duels_lost\"], \"type\": \"scatterpolar\", \"uid\": \"2825ba9b-dd19-42e9-a738-42dfa7fad73c\"}, {\"fill\": \"toself\", \"name\": \"Sergio Ramos Garc\\u00eda\", \"r\": [\"Sergio Ramos Garc\\u00eda\", 0.0, 1.0, 0.0, 2.0, 1.0], \"theta\": [\"blocks\", \"clearances\", \"cards\", \"duels_won\", \"duels_lost\"], \"type\": \"scatterpolar\", \"uid\": \"1bfed927-0caa-4152-aa48-74ae08722105\"}, {\"fill\": \"toself\", \"name\": \"Andreas Granqvist\", \"r\": [\"Andreas Granqvist\", 3.0, 4.0, 0.0, 0.0, 0.0], \"theta\": [\"blocks\", \"clearances\", \"cards\", \"duels_won\", \"duels_lost\"], \"type\": \"scatterpolar\", \"uid\": \"e78feee2-7ab0-420a-b5a2-c11a9383d778\"}, {\"fill\": \"toself\", \"name\": \"Ludwig Augustinsson\", \"r\": [\"Ludwig Augustinsson\", 2.0, 1.0, 0.0, 0.0, 0.0], \"theta\": [\"blocks\", \"clearances\", \"cards\", \"duels_won\", \"duels_lost\"], \"type\": \"scatterpolar\", \"uid\": \"c8d401a4-95ea-445a-9dc9-37f3bb45cc5a\"}, {\"fill\": \"toself\", \"name\": \"Mikael Lustig\", \"r\": [\"Mikael Lustig\", 4.0, 3.0, 2.0, 1.0, 0.0], \"theta\": [\"blocks\", \"clearances\", \"cards\", \"duels_won\", \"duels_lost\"], \"type\": \"scatterpolar\", \"uid\": \"20843030-2ae6-44ba-967e-ec03e87c340f\"}, {\"fill\": \"toself\", \"name\": \"Victor Lindel\\u00f6f\", \"r\": [\"Victor Lindel\\u00f6f\", 1.0, 3.0, 0.0, 0.0, 0.0], \"theta\": [\"blocks\", \"clearances\", \"cards\", \"duels_won\", \"duels_lost\"], \"type\": \"scatterpolar\", \"uid\": \"744ad1af-2484-421f-aada-a6e6256975e8\"}, {\"fill\": \"toself\", \"name\": \"Fabian Lukas Sch\\u00e4r\", \"r\": [\"Fabian Lukas Sch\\u00e4r\", 1.0, 2.0, 3.0, 2.0, 0.0], \"theta\": [\"blocks\", \"clearances\", \"cards\", \"duels_won\", \"duels_lost\"], \"type\": \"scatterpolar\", \"uid\": \"b964cd09-0639-4e94-9f2b-37d9d3999aea\"}, {\"fill\": \"toself\", \"name\": \"Manuel Obafemi Akanji\", \"r\": [\"Manuel Obafemi Akanji\", 2.0, 1.0, 0.0, 2.0, 0.0], \"theta\": [\"blocks\", \"clearances\", \"cards\", \"duels_won\", \"duels_lost\"], \"type\": \"scatterpolar\", \"uid\": \"295f1bfb-ee36-40eb-9249-be94dfe7e88c\"}, {\"fill\": \"toself\", \"name\": \"Michael Lang\", \"r\": [\"Michael Lang\", 2.0, 1.0, 2.0, 0.0, 0.0], \"theta\": [\"blocks\", \"clearances\", \"cards\", \"duels_won\", \"duels_lost\"], \"type\": \"scatterpolar\", \"uid\": \"5c66c3bf-9664-43a3-9457-29eaed75d1ff\"}, {\"fill\": \"toself\", \"name\": \"Ricardo Iv\\u00e1n Rodr\\u00edguez Araya\", \"r\": [\"Ricardo Iv\\u00e1n Rodr\\u00edguez Araya\", 1.0, 1.0, 0.0, 0.0, 0.0], \"theta\": [\"blocks\", \"clearances\", \"cards\", \"duels_won\", \"duels_lost\"], \"type\": \"scatterpolar\", \"uid\": \"c837facb-71d2-4804-baba-50480fd3581a\"}, {\"fill\": \"toself\", \"name\": \"Stephan Lichtsteiner\", \"r\": [\"Stephan Lichtsteiner\", 3.0, 0.0, 0.0, 0.0, 0.0], \"theta\": [\"blocks\", \"clearances\", \"cards\", \"duels_won\", \"duels_lost\"], \"type\": \"scatterpolar\", \"uid\": \"ea3e25a5-22ce-4cca-a9b2-9fe7efa3dd8d\"}, {\"fill\": \"toself\", \"name\": \"Ali Ma\\u00e2loul\", \"r\": [\"Ali Ma\\u00e2loul\", 2.0, 0.0, 0.0, 1.0, 0.0], \"theta\": [\"blocks\", \"clearances\", \"cards\", \"duels_won\", \"duels_lost\"], \"type\": \"scatterpolar\", \"uid\": \"166cd91d-297b-4f96-97ba-f72ab224ed94\"}, {\"fill\": \"toself\", \"name\": \"Dylan Bronn\", \"r\": [\"Dylan Bronn\", 2.0, 1.0, 0.0, 1.0, 0.0], \"theta\": [\"blocks\", \"clearances\", \"cards\", \"duels_won\", \"duels_lost\"], \"type\": \"scatterpolar\", \"uid\": \"c2d5a4c8-acd8-464a-9222-2ea6f5c0dc89\"}, {\"fill\": \"toself\", \"name\": \"Hamdi Nagguez\", \"r\": [\"Hamdi Nagguez\", 0.0, 0.0, 0.0, 1.0, 1.0], \"theta\": [\"blocks\", \"clearances\", \"cards\", \"duels_won\", \"duels_lost\"], \"type\": \"scatterpolar\", \"uid\": \"2b5270f1-c433-4573-83e0-37416e86422d\"}, {\"fill\": \"toself\", \"name\": \"Oussama Haddadi\", \"r\": [\"Oussama Haddadi\", 2.0, 0.0, 0.0, 1.0, 0.0], \"theta\": [\"blocks\", \"clearances\", \"cards\", \"duels_won\", \"duels_lost\"], \"type\": \"scatterpolar\", \"uid\": \"b46c3449-c03c-4701-88f8-4d8bb67c886b\"}, {\"fill\": \"toself\", \"name\": \"Rami Bedoui\", \"r\": [\"Rami Bedoui\", 0.0, 0.0, 0.0, 1.0, 0.0], \"theta\": [\"blocks\", \"clearances\", \"cards\", \"duels_won\", \"duels_lost\"], \"type\": \"scatterpolar\", \"uid\": \"b910b676-e8fc-4d70-bf20-cf3eecb18e19\"}, {\"fill\": \"toself\", \"name\": \"Syam Ben Youssef\", \"r\": [\"Syam Ben Youssef\", 2.0, 2.0, 0.0, 4.0, 0.0], \"theta\": [\"blocks\", \"clearances\", \"cards\", \"duels_won\", \"duels_lost\"], \"type\": \"scatterpolar\", \"uid\": \"e93bc4f4-57bb-467f-9367-9d6ab476f5e8\"}, {\"fill\": \"toself\", \"name\": \"Yassine Meriah\", \"r\": [\"Yassine Meriah\", 2.0, 1.0, 0.0, 0.0, 0.0], \"theta\": [\"blocks\", \"clearances\", \"cards\", \"duels_won\", \"duels_lost\"], \"type\": \"scatterpolar\", \"uid\": \"5e55b1f4-53cf-437b-b29a-00c624426d24\"}, {\"fill\": \"toself\", \"name\": \"Yohan Benalouane\", \"r\": [\"Yohan Benalouane\", 1.0, 1.0, 0.0, 3.0, 0.0], \"theta\": [\"blocks\", \"clearances\", \"cards\", \"duels_won\", \"duels_lost\"], \"type\": \"scatterpolar\", \"uid\": \"dbb0ed7e-4e6b-41d1-b9b0-b291e56fba52\"}, {\"fill\": \"toself\", \"name\": \"Diego Roberto God\\u00edn Leal\", \"r\": [\"Diego Roberto God\\u00edn Leal\", 2.0, 2.0, 0.0, 2.0, 0.0], \"theta\": [\"blocks\", \"clearances\", \"cards\", \"duels_won\", \"duels_lost\"], \"type\": \"scatterpolar\", \"uid\": \"b185624b-f022-480e-bf76-8c506bfdc0fd\"}, {\"fill\": \"toself\", \"name\": \"Diego Sebasti\\u00e1n Laxalt Su\\u00e1rez\", \"r\": [\"Diego Sebasti\\u00e1n Laxalt Su\\u00e1rez\", 2.0, 1.0, 0.0, 1.0, 0.0], \"theta\": [\"blocks\", \"clearances\", \"cards\", \"duels_won\", \"duels_lost\"], \"type\": \"scatterpolar\", \"uid\": \"27203969-957d-4198-a97c-af5ae485c9b2\"}, {\"fill\": \"toself\", \"name\": \"Guillermo Varela Olivera\", \"r\": [\"Guillermo Varela Olivera\", 2.0, 1.0, 0.0, 2.0, 1.0], \"theta\": [\"blocks\", \"clearances\", \"cards\", \"duels_won\", \"duels_lost\"], \"type\": \"scatterpolar\", \"uid\": \"e255f46b-6395-442e-bb96-c006742f90b0\"}, {\"fill\": \"toself\", \"name\": \"Jos\\u00e9 Mar\\u00eda Gim\\u00e9nez de Vargas\", \"r\": [\"Jos\\u00e9 Mar\\u00eda Gim\\u00e9nez de Vargas\", 1.0, 2.0, 0.0, 3.0, 0.0], \"theta\": [\"blocks\", \"clearances\", \"cards\", \"duels_won\", \"duels_lost\"], \"type\": \"scatterpolar\", \"uid\": \"79aac7ff-673a-4020-92d8-71a608ea0713\"}], {\"polar\": {\"radialaxis\": {\"range\": [0, 5], \"visible\": true}}, \"showlegend\": true, \"title\": \"Defenders\"}, {\"showLink\": true, \"linkText\": \"Export to plot.ly\", \"plotlyServerURL\": \"https://plot.ly\"})});</script><script type=\"text/javascript\">window.addEventListener(\"resize\", function(){window._Plotly.Plots.resize(document.getElementById(\"170d537b-24c1-4e26-9999-97e51463a9a1\"));});</script>"
      ],
      "text/vnd.plotly.v1+html": [
       "<div id=\"170d537b-24c1-4e26-9999-97e51463a9a1\" style=\"height: 525px; width: 100%;\" class=\"plotly-graph-div\"></div><script type=\"text/javascript\">require([\"plotly\"], function(Plotly) { window.PLOTLYENV=window.PLOTLYENV || {};window.PLOTLYENV.BASE_URL=\"https://plot.ly\";Plotly.newPlot(\"170d537b-24c1-4e26-9999-97e51463a9a1\", [{\"fill\": \"toself\", \"name\": \"Gabriel Iv\\u00e1n Mercado\", \"r\": [\"Gabriel Iv\\u00e1n Mercado\", 2.0, 0.0, 2.0, 1.0, 0.0], \"theta\": [\"blocks\", \"clearances\", \"cards\", \"duels_won\", \"duels_lost\"], \"type\": \"scatterpolar\", \"uid\": \"f3d03d3c-1933-4026-84fc-a8797640386d\"}, {\"fill\": \"toself\", \"name\": \"Nicol\\u00e1s Alejandro Tagliafico\", \"r\": [\"Nicol\\u00e1s Alejandro Tagliafico\", 1.0, 0.0, 2.0, 1.0, 0.0], \"theta\": [\"blocks\", \"clearances\", \"cards\", \"duels_won\", \"duels_lost\"], \"type\": \"scatterpolar\", \"uid\": \"c92cf97a-d36a-4f25-827a-bb4ec3506624\"}, {\"fill\": \"toself\", \"name\": \"Nicol\\u00e1s Otamendi\", \"r\": [\"Nicol\\u00e1s Otamendi\", 2.0, 2.0, 0.0, 2.0, 1.0], \"theta\": [\"blocks\", \"clearances\", \"cards\", \"duels_won\", \"duels_lost\"], \"type\": \"scatterpolar\", \"uid\": \"4cfbaf55-4da6-445e-a181-80fe196f0db3\"}, {\"fill\": \"toself\", \"name\": \"Aziz Eraltay Behich\", \"r\": [\"Aziz Eraltay Behich\", 2.0, 1.0, 2.0, 0.0, 1.0], \"theta\": [\"blocks\", \"clearances\", \"cards\", \"duels_won\", \"duels_lost\"], \"type\": \"scatterpolar\", \"uid\": \"9797adf2-645f-41b0-b349-1bc1e75bb475\"}, {\"fill\": \"toself\", \"name\": \"Josh Risdon\", \"r\": [\"Josh Risdon\", 2.0, 1.0, 2.0, 4.0, 1.0], \"theta\": [\"blocks\", \"clearances\", \"cards\", \"duels_won\", \"duels_lost\"], \"type\": \"scatterpolar\", \"uid\": \"07dd8642-59ae-47e0-ab77-fbceb4aa2255\"}, {\"fill\": \"toself\", \"name\": \"Mark Milligan\", \"r\": [\"Mark Milligan\", 1.0, 1.0, 2.0, 1.0, 1.0], \"theta\": [\"blocks\", \"clearances\", \"cards\", \"duels_won\", \"duels_lost\"], \"type\": \"scatterpolar\", \"uid\": \"fbd25241-5b47-4ca0-9d07-6be03df700eb\"}, {\"fill\": \"toself\", \"name\": \"Trent Sainsbury\", \"r\": [\"Trent Sainsbury\", 2.0, 2.0, 0.0, 1.0, 0.0], \"theta\": [\"blocks\", \"clearances\", \"cards\", \"duels_won\", \"duels_lost\"], \"type\": \"scatterpolar\", \"uid\": \"f49900b6-16e5-41ca-b24f-8143f8703ec0\"}, {\"fill\": \"toself\", \"name\": \"Anga Dedryck Boyata\", \"r\": [\"Anga Dedryck Boyata\", 1.0, 2.0, 0.0, 0.0, 0.0], \"theta\": [\"blocks\", \"clearances\", \"cards\", \"duels_won\", \"duels_lost\"], \"type\": \"scatterpolar\", \"uid\": \"8e993e03-296a-4f94-a3c4-2972f31a44cf\"}, {\"fill\": \"toself\", \"name\": \"Jan Vertonghen\", \"r\": [\"Jan Vertonghen\", 1.0, 2.0, 1.0, 1.0, 1.0], \"theta\": [\"blocks\", \"clearances\", \"cards\", \"duels_won\", \"duels_lost\"], \"type\": \"scatterpolar\", \"uid\": \"029ae6d1-dc7e-4708-9cfc-62e2bd2ea30d\"}, {\"fill\": \"toself\", \"name\": \"Nacer Chadli\", \"r\": [\"Nacer Chadli\", 1.0, 0.0, 0.0, 0.0, 0.0], \"theta\": [\"blocks\", \"clearances\", \"cards\", \"duels_won\", \"duels_lost\"], \"type\": \"scatterpolar\", \"uid\": \"7996300d-186b-4bf0-975e-461ea6c70dca\"}, {\"fill\": \"toself\", \"name\": \"Thomas Meunier\", \"r\": [\"Thomas Meunier\", 1.0, 1.0, 2.0, 1.0, 0.0], \"theta\": [\"blocks\", \"clearances\", \"cards\", \"duels_won\", \"duels_lost\"], \"type\": \"scatterpolar\", \"uid\": \"5f0767d4-7225-4bcc-b1e3-653023f106be\"}, {\"fill\": \"toself\", \"name\": \"Toby Albertine Maurits Alderweireld\", \"r\": [\"Toby Albertine Maurits Alderweireld\", 2.0, 2.0, 2.0, 1.0, 0.0], \"theta\": [\"blocks\", \"clearances\", \"cards\", \"duels_won\", \"duels_lost\"], \"type\": \"scatterpolar\", \"uid\": \"09d4f245-dab0-4e0f-aece-a1bfb31d173f\"}, {\"fill\": \"toself\", \"name\": \"Vincent Kompany\", \"r\": [\"Vincent Kompany\", 1.0, 3.0, 0.0, 1.0, 0.0], \"theta\": [\"blocks\", \"clearances\", \"cards\", \"duels_won\", \"duels_lost\"], \"type\": \"scatterpolar\", \"uid\": \"5de518b1-9460-483f-964e-cad2f7ad408e\"}, {\"fill\": \"toself\", \"name\": \"Yannick Ferreira Carrasco\", \"r\": [\"Yannick Ferreira Carrasco\", 1.0, 0.0, 0.0, 1.0, 0.0], \"theta\": [\"blocks\", \"clearances\", \"cards\", \"duels_won\", \"duels_lost\"], \"type\": \"scatterpolar\", \"uid\": \"0dd48f85-ca4f-4c5a-a75f-82693bc9b5de\"}, {\"fill\": \"toself\", \"name\": \"Danilo\", \"r\": [\"Danilo\", 0.0, 1.0, 0.0, 1.0, 1.0], \"theta\": [\"blocks\", \"clearances\", \"cards\", \"duels_won\", \"duels_lost\"], \"type\": \"scatterpolar\", \"uid\": \"f2977024-5c51-4795-acfb-3587db39010a\"}, {\"fill\": \"toself\", \"name\": \"F\\u00e1gner Conserva Lemos\", \"r\": [\"F\\u00e1gner Conserva Lemos\", 2.0, 1.0, 1.0, 2.0, 1.0], \"theta\": [\"blocks\", \"clearances\", \"cards\", \"duels_won\", \"duels_lost\"], \"type\": \"scatterpolar\", \"uid\": \"db752697-40d5-4e85-a65a-5e8ec81e446a\"}, {\"fill\": \"toself\", \"name\": \"Filipe Luis Kasmirski\", \"r\": [\"Filipe Luis Kasmirski\", 4.0, 1.0, 2.0, 4.0, 0.0], \"theta\": [\"blocks\", \"clearances\", \"cards\", \"duels_won\", \"duels_lost\"], \"type\": \"scatterpolar\", \"uid\": \"4c709e3a-7b82-4bb8-94ee-b5c8372cfb44\"}, {\"fill\": \"toself\", \"name\": \"Jo\\u00e3o Miranda de Souza Filho\", \"r\": [\"Jo\\u00e3o Miranda de Souza Filho\", 2.0, 2.0, 0.0, 2.0, 0.0], \"theta\": [\"blocks\", \"clearances\", \"cards\", \"duels_won\", \"duels_lost\"], \"type\": \"scatterpolar\", \"uid\": \"53814940-c2e0-4dd6-a4ad-d4ebcd642aaf\"}, {\"fill\": \"toself\", \"name\": \"Marcelo Vieira da Silva J\\u00fanior\", \"r\": [\"Marcelo Vieira da Silva J\\u00fanior\", 4.0, 0.0, 0.0, 1.0, 0.0], \"theta\": [\"blocks\", \"clearances\", \"cards\", \"duels_won\", \"duels_lost\"], \"type\": \"scatterpolar\", \"uid\": \"b68da38c-64a5-4812-82c8-f632f02b6b35\"}, {\"fill\": \"toself\", \"name\": \"Thiago Silva\", \"r\": [\"Thiago Silva\", 1.0, 2.0, 0.0, 0.0, 0.0], \"theta\": [\"blocks\", \"clearances\", \"cards\", \"duels_won\", \"duels_lost\"], \"type\": \"scatterpolar\", \"uid\": \"5ccc761a-7764-4755-b04d-c511253b1b94\"}, {\"fill\": \"toself\", \"name\": \"Davinson S\\u00e1nchez\", \"r\": [\"Davinson S\\u00e1nchez\", 2.0, 2.0, 0.0, 1.0, 0.0], \"theta\": [\"blocks\", \"clearances\", \"cards\", \"duels_won\", \"duels_lost\"], \"type\": \"scatterpolar\", \"uid\": \"88ed8ef7-99b4-4e5d-add6-b201cc209791\"}, {\"fill\": \"toself\", \"name\": \"Johan Andr\\u00e9s Mojica Palacio\", \"r\": [\"Johan Andr\\u00e9s Mojica Palacio\", 2.0, 1.0, 1.0, 2.0, 0.0], \"theta\": [\"blocks\", \"clearances\", \"cards\", \"duels_won\", \"duels_lost\"], \"type\": \"scatterpolar\", \"uid\": \"c48166db-bd01-4dcd-bff0-8b70adfdbb32\"}, {\"fill\": \"toself\", \"name\": \"Santiago Arias Naranjo\", \"r\": [\"Santiago Arias Naranjo\", 2.0, 1.0, 1.0, 1.0, 0.0], \"theta\": [\"blocks\", \"clearances\", \"cards\", \"duels_won\", \"duels_lost\"], \"type\": \"scatterpolar\", \"uid\": \"584b065b-8941-4bc9-8f84-c0b096398c02\"}, {\"fill\": \"toself\", \"name\": \"Yerry Fernando Mina Gonz\\u00e1lez\", \"r\": [\"Yerry Fernando Mina Gonz\\u00e1lez\", 2.0, 3.0, 0.0, 2.0, 1.0], \"theta\": [\"blocks\", \"clearances\", \"cards\", \"duels_won\", \"duels_lost\"], \"type\": \"scatterpolar\", \"uid\": \"3a2830ec-81f0-42f3-9375-9d4b50b7db1a\"}, {\"fill\": \"toself\", \"name\": \"Bryan Oviedo\", \"r\": [\"Bryan Oviedo\", 2.0, 1.0, 0.0, 2.0, 1.0], \"theta\": [\"blocks\", \"clearances\", \"cards\", \"duels_won\", \"duels_lost\"], \"type\": \"scatterpolar\", \"uid\": \"7fcd6fe5-03e3-432b-a3c9-032582c3d3dc\"}, {\"fill\": \"toself\", \"name\": \"Cristian Gamboa Luna\", \"r\": [\"Cristian Gamboa Luna\", 2.0, 1.0, 0.0, 1.0, 1.0], \"theta\": [\"blocks\", \"clearances\", \"cards\", \"duels_won\", \"duels_lost\"], \"type\": \"scatterpolar\", \"uid\": \"2a9b7d25-8d1e-46d0-9c68-1c63b3e06b5e\"}, {\"fill\": \"toself\", \"name\": \"Francisco Javier Calvo Quesada\", \"r\": [\"Francisco Javier Calvo Quesada\", 1.0, 1.0, 2.0, 2.0, 2.0], \"theta\": [\"blocks\", \"clearances\", \"cards\", \"duels_won\", \"duels_lost\"], \"type\": \"scatterpolar\", \"uid\": \"3f073514-409c-414d-8de5-993f020939fc\"}, {\"fill\": \"toself\", \"name\": \"Johnny Acosta Zamora\", \"r\": [\"Johnny Acosta Zamora\", 2.0, 1.0, 0.0, 1.0, 0.0], \"theta\": [\"blocks\", \"clearances\", \"cards\", \"duels_won\", \"duels_lost\"], \"type\": \"scatterpolar\", \"uid\": \"0eaf5157-689a-432d-a5e8-854603a85363\"}, {\"fill\": \"toself\", \"name\": \"\\u00d3scar Esau Duarte Gait\\u00e1n\", \"r\": [\"\\u00d3scar Esau Duarte Gait\\u00e1n\", 0.0, 2.0, 0.0, 1.0, 0.0], \"theta\": [\"blocks\", \"clearances\", \"cards\", \"duels_won\", \"duels_lost\"], \"type\": \"scatterpolar\", \"uid\": \"092a8847-5e91-4a8a-83ec-334d1646b869\"}, {\"fill\": \"toself\", \"name\": \"Dejan Lovren\", \"r\": [\"Dejan Lovren\", 2.0, 3.0, 1.0, 0.0, 0.0], \"theta\": [\"blocks\", \"clearances\", \"cards\", \"duels_won\", \"duels_lost\"], \"type\": \"scatterpolar\", \"uid\": \"ea628b74-db08-4477-8372-f8b1a4ed72ce\"}, {\"fill\": \"toself\", \"name\": \"Domagoj Vida\", \"r\": [\"Domagoj Vida\", 1.0, 2.0, 0.0, 0.0, 0.0], \"theta\": [\"blocks\", \"clearances\", \"cards\", \"duels_won\", \"duels_lost\"], \"type\": \"scatterpolar\", \"uid\": \"ad819b8e-a044-4427-9800-5ac3c82a36f1\"}, {\"fill\": \"toself\", \"name\": \"Ivan Strini\\u0107\", \"r\": [\"Ivan Strini\\u0107\", 1.0, 1.0, 1.0, 0.0, 0.0], \"theta\": [\"blocks\", \"clearances\", \"cards\", \"duels_won\", \"duels_lost\"], \"type\": \"scatterpolar\", \"uid\": \"45c86da3-4a5b-4cc8-bf88-39f2ecc6e8de\"}, {\"fill\": \"toself\", \"name\": \"Josip Pivari\\u0107\", \"r\": [\"Josip Pivari\\u0107\", 1.0, 1.0, 1.0, 1.0, 0.0], \"theta\": [\"blocks\", \"clearances\", \"cards\", \"duels_won\", \"duels_lost\"], \"type\": \"scatterpolar\", \"uid\": \"3e6f13ad-53a8-432a-a164-a1dd00869af6\"}, {\"fill\": \"toself\", \"name\": \"Marko Pjaca\", \"r\": [\"Marko Pjaca\", 0.0, 0.0, 0.0, 0.0, 0.0], \"theta\": [\"blocks\", \"clearances\", \"cards\", \"duels_won\", \"duels_lost\"], \"type\": \"scatterpolar\", \"uid\": \"19330bb9-444d-4bc2-8e96-4ef29a4c3532\"}, {\"fill\": \"toself\", \"name\": \"\\u0160ime Vrsaljko\", \"r\": [\"\\u0160ime Vrsaljko\", 1.0, 1.0, 2.0, 1.0, 0.0], \"theta\": [\"blocks\", \"clearances\", \"cards\", \"duels_won\", \"duels_lost\"], \"type\": \"scatterpolar\", \"uid\": \"1718c5bb-eade-4a20-9383-6b5ed847d782\"}, {\"fill\": \"toself\", \"name\": \"Tin Jedvaj\", \"r\": [\"Tin Jedvaj\", 2.0, 2.0, 0.0, 1.0, 0.0], \"theta\": [\"blocks\", \"clearances\", \"cards\", \"duels_won\", \"duels_lost\"], \"type\": \"scatterpolar\", \"uid\": \"91acad51-3dad-4cf3-9a2f-dc214985b618\"}, {\"fill\": \"toself\", \"name\": \"Vedran \\u0106orluka\", \"r\": [\"Vedran \\u0106orluka\", 0.0, 2.0, 0.0, 0.0, 0.0], \"theta\": [\"blocks\", \"clearances\", \"cards\", \"duels_won\", \"duels_lost\"], \"type\": \"scatterpolar\", \"uid\": \"6c23c35c-2abe-40d8-9dae-96a0378d7b8d\"}, {\"fill\": \"toself\", \"name\": \"Andreas Christensen\", \"r\": [\"Andreas Christensen\", 1.0, 1.0, 0.0, 1.0, 0.0], \"theta\": [\"blocks\", \"clearances\", \"cards\", \"duels_won\", \"duels_lost\"], \"type\": \"scatterpolar\", \"uid\": \"36117a61-c2bd-4957-8931-a7b4d65a71eb\"}, {\"fill\": \"toself\", \"name\": \"Henrik Dalsgaard\", \"r\": [\"Henrik Dalsgaard\", 2.0, 2.0, 0.0, 3.0, 1.0], \"theta\": [\"blocks\", \"clearances\", \"cards\", \"duels_won\", \"duels_lost\"], \"type\": \"scatterpolar\", \"uid\": \"cf35c8fa-b6c6-4001-8a4f-28d9eb18ec50\"}, {\"fill\": \"toself\", \"name\": \"Jens Stryger Larsen\", \"r\": [\"Jens Stryger Larsen\", 1.0, 0.0, 0.0, 2.0, 1.0], \"theta\": [\"blocks\", \"clearances\", \"cards\", \"duels_won\", \"duels_lost\"], \"type\": \"scatterpolar\", \"uid\": \"ff892b34-cb2e-4e70-aefe-79fe5bb60d83\"}, {\"fill\": \"toself\", \"name\": \"Jonas Knudsen\", \"r\": [\"Jonas Knudsen\", 5.0, 0.0, 0.0, 1.0, 0.0], \"theta\": [\"blocks\", \"clearances\", \"cards\", \"duels_won\", \"duels_lost\"], \"type\": \"scatterpolar\", \"uid\": \"e59b07ea-e1c7-42e6-9834-2c8e7dc81a63\"}, {\"fill\": \"toself\", \"name\": \"Simon Thorup Kj\\u00e6r\", \"r\": [\"Simon Thorup Kj\\u00e6r\", 2.0, 3.0, 0.0, 1.0, 0.0], \"theta\": [\"blocks\", \"clearances\", \"cards\", \"duels_won\", \"duels_lost\"], \"type\": \"scatterpolar\", \"uid\": \"1961ba43-a932-44da-ad88-55aeeb59bb57\"}, {\"fill\": \"toself\", \"name\": \"Zanka\", \"r\": [\"Zanka\", 2.0, 1.0, 3.0, 1.0, 0.0], \"theta\": [\"blocks\", \"clearances\", \"cards\", \"duels_won\", \"duels_lost\"], \"type\": \"scatterpolar\", \"uid\": \"2a8bd1a7-4da0-4ea4-bcef-01d1e99110b6\"}, {\"fill\": \"toself\", \"name\": \"Ahmed Fathy Abdel Meneim Ibrahim\", \"r\": [\"Ahmed Fathy Abdel Meneim Ibrahim\", 4.0, 1.0, 2.0, 5.0, 1.0], \"theta\": [\"blocks\", \"clearances\", \"cards\", \"duels_won\", \"duels_lost\"], \"type\": \"scatterpolar\", \"uid\": \"91a1cbbd-8548-4006-b14d-fc433a090ad2\"}, {\"fill\": \"toself\", \"name\": \"Ahmed Hegazy\", \"r\": [\"Ahmed Hegazy\", 2.0, 4.0, 2.0, 1.0, 0.0], \"theta\": [\"blocks\", \"clearances\", \"cards\", \"duels_won\", \"duels_lost\"], \"type\": \"scatterpolar\", \"uid\": \"419313b7-c77b-4596-afb6-6b9c59f6340a\"}, {\"fill\": \"toself\", \"name\": \"Ali Gabr\", \"r\": [\"Ali Gabr\", 1.0, 3.0, 2.0, 1.0, 0.0], \"theta\": [\"blocks\", \"clearances\", \"cards\", \"duels_won\", \"duels_lost\"], \"type\": \"scatterpolar\", \"uid\": \"29a2064c-efee-4a8b-8a8b-38e228137679\"}, {\"fill\": \"toself\", \"name\": \"Mohamed Abdul Shafy Sayed Abouezeid\", \"r\": [\"Mohamed Abdul Shafy Sayed Abouezeid\", 0.0, 1.0, 0.0, 1.0, 0.0], \"theta\": [\"blocks\", \"clearances\", \"cards\", \"duels_won\", \"duels_lost\"], \"type\": \"scatterpolar\", \"uid\": \"bd8e1337-b36a-4afd-8c7e-24353f0d50db\"}, {\"fill\": \"toself\", \"name\": \"Ashley Young\", \"r\": [\"Ashley Young\", 0.0, 0.0, 0.0, 0.0, 0.0], \"theta\": [\"blocks\", \"clearances\", \"cards\", \"duels_won\", \"duels_lost\"], \"type\": \"scatterpolar\", \"uid\": \"108345a6-f8c8-4752-8be0-de3470c6f948\"}, {\"fill\": \"toself\", \"name\": \"Danny Rose\", \"r\": [\"Danny Rose\", 0.0, 0.0, 0.0, 0.0, 0.0], \"theta\": [\"blocks\", \"clearances\", \"cards\", \"duels_won\", \"duels_lost\"], \"type\": \"scatterpolar\", \"uid\": \"e329355b-d1df-4d5d-8f46-0f95a922ceca\"}, {\"fill\": \"toself\", \"name\": \"Harry Maguire\", \"r\": [\"Harry Maguire\", 2.0, 1.0, 0.0, 0.0, 0.0], \"theta\": [\"blocks\", \"clearances\", \"cards\", \"duels_won\", \"duels_lost\"], \"type\": \"scatterpolar\", \"uid\": \"31b52273-8185-4acf-881d-9e28f8c32d67\"}, {\"fill\": \"toself\", \"name\": \"John Stones\", \"r\": [\"John Stones\", 2.0, 2.0, 1.0, 1.0, 0.0], \"theta\": [\"blocks\", \"clearances\", \"cards\", \"duels_won\", \"duels_lost\"], \"type\": \"scatterpolar\", \"uid\": \"1d55a056-d098-484f-8c8f-acacad49d6f9\"}, {\"fill\": \"toself\", \"name\": \"Kieran Trippier\", \"r\": [\"Kieran Trippier\", 1.0, 0.0, 0.0, 0.0, 0.0], \"theta\": [\"blocks\", \"clearances\", \"cards\", \"duels_won\", \"duels_lost\"], \"type\": \"scatterpolar\", \"uid\": \"c96ced6f-7be8-4b00-8371-6d249055e2d3\"}, {\"fill\": \"toself\", \"name\": \"Kyle Walker\", \"r\": [\"Kyle Walker\", 1.0, 3.0, 1.0, 0.0, 0.0], \"theta\": [\"blocks\", \"clearances\", \"cards\", \"duels_won\", \"duels_lost\"], \"type\": \"scatterpolar\", \"uid\": \"46f4536b-9b9d-4e78-855d-0385b5f2c68b\"}, {\"fill\": \"toself\", \"name\": \"Phil Jones\", \"r\": [\"Phil Jones\", 1.0, 1.0, 0.0, 1.0, 0.0], \"theta\": [\"blocks\", \"clearances\", \"cards\", \"duels_won\", \"duels_lost\"], \"type\": \"scatterpolar\", \"uid\": \"c03d5558-b63d-488e-8228-b6efd7c6cbcd\"}, {\"fill\": \"toself\", \"name\": \"Antoine Griezmann\", \"r\": [\"Antoine Griezmann\", 0.0, 0.0, 0.0, 0.0, 0.0], \"theta\": [\"blocks\", \"clearances\", \"cards\", \"duels_won\", \"duels_lost\"], \"type\": \"scatterpolar\", \"uid\": \"48c26470-5f67-4e8c-8e05-f141fbab9009\"}, {\"fill\": \"toself\", \"name\": \"Benjamin Pavard\", \"r\": [\"Benjamin Pavard\", 2.0, 2.0, 0.0, 1.0, 1.0], \"theta\": [\"blocks\", \"clearances\", \"cards\", \"duels_won\", \"duels_lost\"], \"type\": \"scatterpolar\", \"uid\": \"86a4ffec-af05-464c-bc81-61fb7552ae60\"}, {\"fill\": \"toself\", \"name\": \"Lucas Hern\\u00e1ndez Pi\", \"r\": [\"Lucas Hern\\u00e1ndez Pi\", 2.0, 1.0, 1.0, 0.0, 0.0], \"theta\": [\"blocks\", \"clearances\", \"cards\", \"duels_won\", \"duels_lost\"], \"type\": \"scatterpolar\", \"uid\": \"7e21922c-d563-4422-af36-6ad3d23a80c1\"}, {\"fill\": \"toself\", \"name\": \"Nabil Fekir\", \"r\": [\"Nabil Fekir\", 0.0, 0.0, 0.0, 0.0, 0.0], \"theta\": [\"blocks\", \"clearances\", \"cards\", \"duels_won\", \"duels_lost\"], \"type\": \"scatterpolar\", \"uid\": \"79acb3cd-031e-45ce-a778-18da6498b4e2\"}, {\"fill\": \"toself\", \"name\": \"Rapha\\u00ebl Varane\", \"r\": [\"Rapha\\u00ebl Varane\", 1.0, 2.0, 0.0, 0.0, 0.0], \"theta\": [\"blocks\", \"clearances\", \"cards\", \"duels_won\", \"duels_lost\"], \"type\": \"scatterpolar\", \"uid\": \"f1031863-1122-4983-bd3d-8a87b63196b8\"}, {\"fill\": \"toself\", \"name\": \"Samuel Yves Umtiti\", \"r\": [\"Samuel Yves Umtiti\", 1.0, 2.0, 0.0, 0.0, 0.0], \"theta\": [\"blocks\", \"clearances\", \"cards\", \"duels_won\", \"duels_lost\"], \"type\": \"scatterpolar\", \"uid\": \"8b087e31-c128-480b-8849-aab000620c12\"}, {\"fill\": \"toself\", \"name\": \"J\\u00e9r\\u00f4me Boateng\", \"r\": [\"J\\u00e9r\\u00f4me Boateng\", 2.0, 1.0, 2.0, 4.0, 0.0], \"theta\": [\"blocks\", \"clearances\", \"cards\", \"duels_won\", \"duels_lost\"], \"type\": \"scatterpolar\", \"uid\": \"9b80182d-871a-40f2-bbcf-71222c309a33\"}, {\"fill\": \"toself\", \"name\": \"Jonas Hector\", \"r\": [\"Jonas Hector\", 2.0, 1.0, 0.0, 1.0, 0.0], \"theta\": [\"blocks\", \"clearances\", \"cards\", \"duels_won\", \"duels_lost\"], \"type\": \"scatterpolar\", \"uid\": \"aab9a475-9d6c-4a7b-a50e-887bb73f7be9\"}, {\"fill\": \"toself\", \"name\": \"Joshua Kimmich\", \"r\": [\"Joshua Kimmich\", 1.0, 0.0, 0.0, 2.0, 0.0], \"theta\": [\"blocks\", \"clearances\", \"cards\", \"duels_won\", \"duels_lost\"], \"type\": \"scatterpolar\", \"uid\": \"daafcd62-2505-4ff4-b99f-61f6a6920992\"}, {\"fill\": \"toself\", \"name\": \"Mats Hummels\", \"r\": [\"Mats Hummels\", 2.0, 1.0, 2.0, 4.0, 0.0], \"theta\": [\"blocks\", \"clearances\", \"cards\", \"duels_won\", \"duels_lost\"], \"type\": \"scatterpolar\", \"uid\": \"4ed7f27f-ae6e-4ed6-9fe9-e5fe81b7894e\"}, {\"fill\": \"toself\", \"name\": \"Niklas S\\u00fcle\", \"r\": [\"Niklas S\\u00fcle\", 1.0, 1.0, 0.0, 3.0, 0.0], \"theta\": [\"blocks\", \"clearances\", \"cards\", \"duels_won\", \"duels_lost\"], \"type\": \"scatterpolar\", \"uid\": \"7e53bfa9-9247-4bc9-8a84-09f8148f0cf7\"}, {\"fill\": \"toself\", \"name\": \"Toni Kroos\", \"r\": [\"Toni Kroos\", 0.0, 0.0, 0.0, 0.0, 0.0], \"theta\": [\"blocks\", \"clearances\", \"cards\", \"duels_won\", \"duels_lost\"], \"type\": \"scatterpolar\", \"uid\": \"c4e5da0b-2e11-4ce6-99a3-44b7d654b9e8\"}, {\"fill\": \"toself\", \"name\": \"H\\u00f6r\\u00f0ur Bj\\u00f6rgvin Magn\\u00fasson\", \"r\": [\"H\\u00f6r\\u00f0ur Bj\\u00f6rgvin Magn\\u00fasson\", 3.0, 2.0, 0.0, 2.0, 0.0], \"theta\": [\"blocks\", \"clearances\", \"cards\", \"duels_won\", \"duels_lost\"], \"type\": \"scatterpolar\", \"uid\": \"c64d7ae6-0214-4a27-abd1-3c443501bdf4\"}, {\"fill\": \"toself\", \"name\": \"K\\u00e1ri \\u00c1rnason\", \"r\": [\"K\\u00e1ri \\u00c1rnason\", 2.0, 2.0, 0.0, 2.0, 0.0], \"theta\": [\"blocks\", \"clearances\", \"cards\", \"duels_won\", \"duels_lost\"], \"type\": \"scatterpolar\", \"uid\": \"edc81479-5bb6-42f1-a7ce-b8c3f4c29b73\"}, {\"fill\": \"toself\", \"name\": \"Ragnar Sigur\\u00f0sson\", \"r\": [\"Ragnar Sigur\\u00f0sson\", 3.0, 2.0, 0.0, 0.0, 0.0], \"theta\": [\"blocks\", \"clearances\", \"cards\", \"duels_won\", \"duels_lost\"], \"type\": \"scatterpolar\", \"uid\": \"9f495549-c5e1-44c3-af57-de6fa7c69da2\"}, {\"fill\": \"toself\", \"name\": \"Sverrir Ingi Ingason\", \"r\": [\"Sverrir Ingi Ingason\", 4.0, 1.0, 0.0, 1.0, 0.0], \"theta\": [\"blocks\", \"clearances\", \"cards\", \"duels_won\", \"duels_lost\"], \"type\": \"scatterpolar\", \"uid\": \"c060ec6e-dd82-45af-8c75-74807cd772ef\"}, {\"fill\": \"toself\", \"name\": \"Ehsan Hajsafi\", \"r\": [\"Ehsan Hajsafi\", 1.0, 0.0, 0.0, 1.0, 0.0], \"theta\": [\"blocks\", \"clearances\", \"cards\", \"duels_won\", \"duels_lost\"], \"type\": \"scatterpolar\", \"uid\": \"5f5555ca-8aa4-40a3-aaa6-562e9013054c\"}, {\"fill\": \"toself\", \"name\": \"Milad Mohammadi\", \"r\": [\"Milad Mohammadi\", 0.0, 0.0, 0.0, 1.0, 1.0], \"theta\": [\"blocks\", \"clearances\", \"cards\", \"duels_won\", \"duels_lost\"], \"type\": \"scatterpolar\", \"uid\": \"c16bbfa8-2bde-41b5-9f5f-76d2d1c215ec\"}, {\"fill\": \"toself\", \"name\": \"Ramin Rezaeian\", \"r\": [\"Ramin Rezaeian\", 1.0, 1.0, 0.0, 1.0, 1.0], \"theta\": [\"blocks\", \"clearances\", \"cards\", \"duels_won\", \"duels_lost\"], \"type\": \"scatterpolar\", \"uid\": \"2c04026d-0a9e-4326-8a0d-3adc720521d8\"}, {\"fill\": \"toself\", \"name\": \"Gen Sh\\u014dji\", \"r\": [\"Gen Sh\\u014dji\", 1.0, 3.0, 0.0, 1.0, 1.0], \"theta\": [\"blocks\", \"clearances\", \"cards\", \"duels_won\", \"duels_lost\"], \"type\": \"scatterpolar\", \"uid\": \"ba8b31af-4986-4004-9027-0136cb5b1e7a\"}, {\"fill\": \"toself\", \"name\": \"Hiroki Sakai\", \"r\": [\"Hiroki Sakai\", 0.0, 2.0, 0.0, 1.0, 0.0], \"theta\": [\"blocks\", \"clearances\", \"cards\", \"duels_won\", \"duels_lost\"], \"type\": \"scatterpolar\", \"uid\": \"a149d36f-fa30-49aa-8ec6-f5ae409c7a32\"}, {\"fill\": \"toself\", \"name\": \"Yuto Nagatomo\", \"r\": [\"Yuto Nagatomo\", 2.0, 1.0, 0.0, 1.0, 0.0], \"theta\": [\"blocks\", \"clearances\", \"cards\", \"duels_won\", \"duels_lost\"], \"type\": \"scatterpolar\", \"uid\": \"e7179455-ecbd-4a14-9796-3a1bea721b86\"}, {\"fill\": \"toself\", \"name\": \"Carlos Joel Salcedo Hern\\u00e1ndez\", \"r\": [\"Carlos Joel Salcedo Hern\\u00e1ndez\", 4.0, 2.0, 0.0, 0.0, 0.0], \"theta\": [\"blocks\", \"clearances\", \"cards\", \"duels_won\", \"duels_lost\"], \"type\": \"scatterpolar\", \"uid\": \"2994a286-da29-4f84-8dda-f31544d9da41\"}, {\"fill\": \"toself\", \"name\": \"Edson Omar \\u00c1lvarez Vel\\u00e1zquez\", \"r\": [\"Edson Omar \\u00c1lvarez Vel\\u00e1zquez\", 2.0, 1.0, 1.0, 1.0, 0.0], \"theta\": [\"blocks\", \"clearances\", \"cards\", \"duels_won\", \"duels_lost\"], \"type\": \"scatterpolar\", \"uid\": \"343a4cb2-6998-467b-8d20-c22e185cafc0\"}, {\"fill\": \"toself\", \"name\": \"H\\u00e9ctor Alfredo Moreno Herrera\", \"r\": [\"H\\u00e9ctor Alfredo Moreno Herrera\", 1.0, 1.0, 2.0, 1.0, 0.0], \"theta\": [\"blocks\", \"clearances\", \"cards\", \"duels_won\", \"duels_lost\"], \"type\": \"scatterpolar\", \"uid\": \"6f52f339-e8c5-407d-ae9a-a037c8e4d1d5\"}, {\"fill\": \"toself\", \"name\": \"Hugo Ayala Castro\", \"r\": [\"Hugo Ayala Castro\", 2.0, 2.0, 0.0, 1.0, 0.0], \"theta\": [\"blocks\", \"clearances\", \"cards\", \"duels_won\", \"duels_lost\"], \"type\": \"scatterpolar\", \"uid\": \"c1d5c589-04d6-438e-b2b9-64b74fbb8633\"}, {\"fill\": \"toself\", \"name\": \"Jes\\u00fas Daniel Gallardo Vasconcelos\", \"r\": [\"Jes\\u00fas Daniel Gallardo Vasconcelos\", 4.0, 1.0, 1.0, 1.0, 1.0], \"theta\": [\"blocks\", \"clearances\", \"cards\", \"duels_won\", \"duels_lost\"], \"type\": \"scatterpolar\", \"uid\": \"62fa7f3c-2b39-4a18-ba57-ef8389a61d2d\"}, {\"fill\": \"toself\", \"name\": \"Miguel Arturo Lay\\u00fan Prado\", \"r\": [\"Miguel Arturo Lay\\u00fan Prado\", 0.0, 0.0, 1.0, 0.0, 0.0], \"theta\": [\"blocks\", \"clearances\", \"cards\", \"duels_won\", \"duels_lost\"], \"type\": \"scatterpolar\", \"uid\": \"c1e928a6-251f-4091-ac8f-48fd7c0ea680\"}, {\"fill\": \"toself\", \"name\": \"Achraf Hakimi Mouh\", \"r\": [\"Achraf Hakimi Mouh\", 0.0, 1.0, 0.0, 2.0, 1.0], \"theta\": [\"blocks\", \"clearances\", \"cards\", \"duels_won\", \"duels_lost\"], \"type\": \"scatterpolar\", \"uid\": \"7052b188-f05d-47af-971a-a41b9e92f90a\"}, {\"fill\": \"toself\", \"name\": \"Manuel Marouan da Costa Trinidade\", \"r\": [\"Manuel Marouan da Costa Trinidade\", 2.0, 1.0, 2.0, 0.0, 0.0], \"theta\": [\"blocks\", \"clearances\", \"cards\", \"duels_won\", \"duels_lost\"], \"type\": \"scatterpolar\", \"uid\": \"bc46c346-cffa-4187-92fd-d9b0160b26c2\"}, {\"fill\": \"toself\", \"name\": \"Nabil Dirar\", \"r\": [\"Nabil Dirar\", 4.0, 1.0, 0.0, 2.0, 0.0], \"theta\": [\"blocks\", \"clearances\", \"cards\", \"duels_won\", \"duels_lost\"], \"type\": \"scatterpolar\", \"uid\": \"6beb8a4c-268b-49a1-aabc-528ef0e2df9b\"}, {\"fill\": \"toself\", \"name\": \"Romain Sa\\u00efss\", \"r\": [\"Romain Sa\\u00efss\", 4.0, 3.0, 0.0, 1.0, 0.0], \"theta\": [\"blocks\", \"clearances\", \"cards\", \"duels_won\", \"duels_lost\"], \"type\": \"scatterpolar\", \"uid\": \"3508feb4-1dd1-4af8-9e08-92e224bc9dda\"}, {\"fill\": \"toself\", \"name\": \"Brian Oladapo Idowu\", \"r\": [\"Brian Oladapo Idowu\", 2.0, 0.0, 0.0, 1.0, 1.0], \"theta\": [\"blocks\", \"clearances\", \"cards\", \"duels_won\", \"duels_lost\"], \"type\": \"scatterpolar\", \"uid\": \"a7d29064-4c46-4ad8-a57f-e2e5810beb78\"}, {\"fill\": \"toself\", \"name\": \"Leon-Aderemi Balogun\", \"r\": [\"Leon-Aderemi Balogun\", 1.0, 1.0, 2.0, 1.0, 0.0], \"theta\": [\"blocks\", \"clearances\", \"cards\", \"duels_won\", \"duels_lost\"], \"type\": \"scatterpolar\", \"uid\": \"92876f13-b2ed-4b84-8395-293aeed661f6\"}, {\"fill\": \"toself\", \"name\": \"Victor Moses\", \"r\": [\"Victor Moses\", 1.0, 0.0, 0.0, 1.0, 0.0], \"theta\": [\"blocks\", \"clearances\", \"cards\", \"duels_won\", \"duels_lost\"], \"type\": \"scatterpolar\", \"uid\": \"e2277a5f-af1d-4c0e-a9f2-15e8330051f6\"}, {\"fill\": \"toself\", \"name\": \"Adolfo Abdiel Machado\", \"r\": [\"Adolfo Abdiel Machado\", 0.0, 2.0, 0.0, 1.0, 2.0], \"theta\": [\"blocks\", \"clearances\", \"cards\", \"duels_won\", \"duels_lost\"], \"type\": \"scatterpolar\", \"uid\": \"7f147a3f-afd4-4d7b-bc05-2721521994bf\"}, {\"fill\": \"toself\", \"name\": \"Erick Javier Davis Grajales\", \"r\": [\"Erick Javier Davis Grajales\", 0.0, 1.0, 2.0, 1.0, 1.0], \"theta\": [\"blocks\", \"clearances\", \"cards\", \"duels_won\", \"duels_lost\"], \"type\": \"scatterpolar\", \"uid\": \"ece861dd-5577-44a0-82c8-e7e43af0a830\"}, {\"fill\": \"toself\", \"name\": \"Fidel Escobar Mendieta\", \"r\": [\"Fidel Escobar Mendieta\", 2.0, 1.0, 0.0, 2.0, 1.0], \"theta\": [\"blocks\", \"clearances\", \"cards\", \"duels_won\", \"duels_lost\"], \"type\": \"scatterpolar\", \"uid\": \"f785cbd9-444a-46ee-85c6-05904c23ba34\"}, {\"fill\": \"toself\", \"name\": \"Michael Amir Murillo Bermudez\", \"r\": [\"Michael Amir Murillo Bermudez\", 0.0, 0.0, 5.0, 3.0, 0.0], \"theta\": [\"blocks\", \"clearances\", \"cards\", \"duels_won\", \"duels_lost\"], \"type\": \"scatterpolar\", \"uid\": \"082c965b-24e6-4a6d-898f-329c74106779\"}, {\"fill\": \"toself\", \"name\": \"Anderson Santamar\\u00eda Bardales\", \"r\": [\"Anderson Santamar\\u00eda Bardales\", 1.0, 1.0, 0.0, 2.0, 0.0], \"theta\": [\"blocks\", \"clearances\", \"cards\", \"duels_won\", \"duels_lost\"], \"type\": \"scatterpolar\", \"uid\": \"05beb8b0-ec9b-4fb8-9cdc-b39bce01cc40\"}, {\"fill\": \"toself\", \"name\": \"Luis Jan Piers Adv\\u00edncula Castrill\\u00f3n\", \"r\": [\"Luis Jan Piers Adv\\u00edncula Castrill\\u00f3n\", 1.0, 1.0, 0.0, 4.0, 1.0], \"theta\": [\"blocks\", \"clearances\", \"cards\", \"duels_won\", \"duels_lost\"], \"type\": \"scatterpolar\", \"uid\": \"48eb2952-393d-4ddb-8a99-8a7d2af34259\"}, {\"fill\": \"toself\", \"name\": \"Miguel \\u00c1ngel Trauco Saavedra\", \"r\": [\"Miguel \\u00c1ngel Trauco Saavedra\", 3.0, 1.0, 0.0, 2.0, 0.0], \"theta\": [\"blocks\", \"clearances\", \"cards\", \"duels_won\", \"duels_lost\"], \"type\": \"scatterpolar\", \"uid\": \"988642eb-cd53-44b5-936e-a6e853f2f4a0\"}, {\"fill\": \"toself\", \"name\": \"Artur Jedrzejczyk\", \"r\": [\"Artur Jedrzejczyk\", 1.0, 1.0, 0.0, 1.0, 1.0], \"theta\": [\"blocks\", \"clearances\", \"cards\", \"duels_won\", \"duels_lost\"], \"type\": \"scatterpolar\", \"uid\": \"ef0796b2-cdcd-437b-be95-19bb03e5d776\"}, {\"fill\": \"toself\", \"name\": \"Kamil Glik\", \"r\": [\"Kamil Glik\", 2.0, 1.0, 0.0, 1.0, 0.0], \"theta\": [\"blocks\", \"clearances\", \"cards\", \"duels_won\", \"duels_lost\"], \"type\": \"scatterpolar\", \"uid\": \"7a7ffe1b-8dc5-4280-8d65-ed8bae20c783\"}, {\"fill\": \"toself\", \"name\": \"Maciej Rybus\", \"r\": [\"Maciej Rybus\", 0.0, 1.0, 0.0, 1.0, 0.0], \"theta\": [\"blocks\", \"clearances\", \"cards\", \"duels_won\", \"duels_lost\"], \"type\": \"scatterpolar\", \"uid\": \"0c0417ed-d40a-4643-9730-81e928fb5692\"}, {\"fill\": \"toself\", \"name\": \"Micha\\u0142 Pazdan\", \"r\": [\"Micha\\u0142 Pazdan\", 2.0, 1.0, 0.0, 1.0, 0.0], \"theta\": [\"blocks\", \"clearances\", \"cards\", \"duels_won\", \"duels_lost\"], \"type\": \"scatterpolar\", \"uid\": \"d124acf6-d599-45bb-be28-b794ff535164\"}, {\"fill\": \"toself\", \"name\": \"C\\u00e9dric Soares\", \"r\": [\"C\\u00e9dric Soares\", 4.0, 3.0, 0.0, 1.0, 5.0], \"theta\": [\"blocks\", \"clearances\", \"cards\", \"duels_won\", \"duels_lost\"], \"type\": \"scatterpolar\", \"uid\": \"f5026d7a-89bd-46ee-bc1b-4ee37e51402d\"}, {\"fill\": \"toself\", \"name\": \"Kleper Laveran Lima Ferreira\", \"r\": [\"Kleper Laveran Lima Ferreira\", 2.0, 2.0, 0.0, 2.0, 0.0], \"theta\": [\"blocks\", \"clearances\", \"cards\", \"duels_won\", \"duels_lost\"], \"type\": \"scatterpolar\", \"uid\": \"a355e557-23b5-4e60-ad9c-f7a6ffadcccf\"}, {\"fill\": \"toself\", \"name\": \"Rapha\\u00ebl Adelino Jos\\u00e9 Guerreiro\", \"r\": [\"Rapha\\u00ebl Adelino Jos\\u00e9 Guerreiro\", 3.0, 1.0, 0.0, 1.0, 0.0], \"theta\": [\"blocks\", \"clearances\", \"cards\", \"duels_won\", \"duels_lost\"], \"type\": \"scatterpolar\", \"uid\": \"7d9126b3-6d73-4cd4-8c60-275b3a7cd4db\"}, {\"fill\": \"toself\", \"name\": \"R\\u00faben Santos Gato Alves Dias\", \"r\": [\"R\\u00faben Santos Gato Alves Dias\", 2.0, 0.0, 0.0, 1.0, 0.0], \"theta\": [\"blocks\", \"clearances\", \"cards\", \"duels_won\", \"duels_lost\"], \"type\": \"scatterpolar\", \"uid\": \"9667e227-3f0d-4302-8892-d89761d226eb\"}, {\"fill\": \"toself\", \"name\": \"Ilya Kutepov\", \"r\": [\"Ilya Kutepov\", 2.0, 3.0, 1.0, 0.0, 0.0], \"theta\": [\"blocks\", \"clearances\", \"cards\", \"duels_won\", \"duels_lost\"], \"type\": \"scatterpolar\", \"uid\": \"d65053ac-1be4-4f4e-aca5-ea29bf59b396\"}, {\"fill\": \"toself\", \"name\": \"M\\u00e1rio Figueira Fernandes\", \"r\": [\"M\\u00e1rio Figueira Fernandes\", 2.0, 1.0, 0.0, 2.0, 0.0], \"theta\": [\"blocks\", \"clearances\", \"cards\", \"duels_won\", \"duels_lost\"], \"type\": \"scatterpolar\", \"uid\": \"e89de5a2-3f3c-4e5b-bdc1-a420755132c1\"}, {\"fill\": \"toself\", \"name\": \"Sergei Ignashevich\", \"r\": [\"Sergei Ignashevich\", 1.0, 5.0, 0.0, 1.0, 0.0], \"theta\": [\"blocks\", \"clearances\", \"cards\", \"duels_won\", \"duels_lost\"], \"type\": \"scatterpolar\", \"uid\": \"5e369d65-7f95-4fb7-8e80-f5799d239711\"}, {\"fill\": \"toself\", \"name\": \"Vladimir Granat\", \"r\": [\"Vladimir Granat\", 0.0, 1.0, 0.0, 1.0, 0.0], \"theta\": [\"blocks\", \"clearances\", \"cards\", \"duels_won\", \"duels_lost\"], \"type\": \"scatterpolar\", \"uid\": \"98b7cb2c-7b08-4799-a513-4d23341ff146\"}, {\"fill\": \"toself\", \"name\": \"Yuri Zhirkov\", \"r\": [\"Yuri Zhirkov\", 1.0, 1.0, 0.0, 1.0, 0.0], \"theta\": [\"blocks\", \"clearances\", \"cards\", \"duels_won\", \"duels_lost\"], \"type\": \"scatterpolar\", \"uid\": \"5839daa2-93d1-4c21-87dd-f26dd7934022\"}, {\"fill\": \"toself\", \"name\": \"Ali Albulayhi\", \"r\": [\"Ali Albulayhi\", 3.0, 1.0, 0.0, 1.0, 0.0], \"theta\": [\"blocks\", \"clearances\", \"cards\", \"duels_won\", \"duels_lost\"], \"type\": \"scatterpolar\", \"uid\": \"fdd79e0a-f2da-4eca-90d7-66201eb9e276\"}, {\"fill\": \"toself\", \"name\": \"Mohammed Al Burayk\", \"r\": [\"Mohammed Al Burayk\", 2.0, 0.0, 0.0, 1.0, 1.0], \"theta\": [\"blocks\", \"clearances\", \"cards\", \"duels_won\", \"duels_lost\"], \"type\": \"scatterpolar\", \"uid\": \"6d25aa8b-8edf-4daf-93b7-2860c4b64124\"}, {\"fill\": \"toself\", \"name\": \"Motaz Ali Hassan Hawsawi\", \"r\": [\"Motaz Ali Hassan Hawsawi\", 1.0, 0.0, 0.0, 3.0, 0.0], \"theta\": [\"blocks\", \"clearances\", \"cards\", \"duels_won\", \"duels_lost\"], \"type\": \"scatterpolar\", \"uid\": \"50e5967c-840e-4b62-9d95-9667f82ebabd\"}, {\"fill\": \"toself\", \"name\": \"Omar Ibrahim Omar Othman Hawsawi\", \"r\": [\"Omar Ibrahim Omar Othman Hawsawi\", 0.0, 2.0, 0.0, 3.0, 0.0], \"theta\": [\"blocks\", \"clearances\", \"cards\", \"duels_won\", \"duels_lost\"], \"type\": \"scatterpolar\", \"uid\": \"de6f5325-3c55-4d8c-a078-5a394aa39c38\"}, {\"fill\": \"toself\", \"name\": \"Osama Abdulrezag Hawsawi\", \"r\": [\"Osama Abdulrezag Hawsawi\", 2.0, 1.0, 0.0, 1.0, 1.0], \"theta\": [\"blocks\", \"clearances\", \"cards\", \"duels_won\", \"duels_lost\"], \"type\": \"scatterpolar\", \"uid\": \"0a0de99f-1ae8-4351-bcbd-85fdb5e68f3b\"}, {\"fill\": \"toself\", \"name\": \"Yasir Gharsan Al Shahrani\", \"r\": [\"Yasir Gharsan Al Shahrani\", 2.0, 1.0, 0.0, 1.0, 0.0], \"theta\": [\"blocks\", \"clearances\", \"cards\", \"duels_won\", \"duels_lost\"], \"type\": \"scatterpolar\", \"uid\": \"090c0225-3d5d-40e1-851a-d653ca9855b2\"}, {\"fill\": \"toself\", \"name\": \"Kalidou Koulibaly\", \"r\": [\"Kalidou Koulibaly\", 2.0, 1.0, 0.0, 0.0, 1.0], \"theta\": [\"blocks\", \"clearances\", \"cards\", \"duels_won\", \"duels_lost\"], \"type\": \"scatterpolar\", \"uid\": \"575ec6a8-3f4b-4a04-b763-4810f4019c4e\"}, {\"fill\": \"toself\", \"name\": \"Lamine Gassama\", \"r\": [\"Lamine Gassama\", 2.0, 1.0, 0.0, 3.0, 0.0], \"theta\": [\"blocks\", \"clearances\", \"cards\", \"duels_won\", \"duels_lost\"], \"type\": \"scatterpolar\", \"uid\": \"308cd3c1-c01b-49c0-861e-4e4c1ff2c2c1\"}, {\"fill\": \"toself\", \"name\": \"Salif San\\u00e9\", \"r\": [\"Salif San\\u00e9\", 1.0, 3.0, 2.0, 1.0, 0.0], \"theta\": [\"blocks\", \"clearances\", \"cards\", \"duels_won\", \"duels_lost\"], \"type\": \"scatterpolar\", \"uid\": \"ef3c5151-6bd6-4d78-bc36-e8a25ef1fcfa\"}, {\"fill\": \"toself\", \"name\": \"Aleksandar Kolarov\", \"r\": [\"Aleksandar Kolarov\", 2.0, 1.0, 0.0, 0.0, 0.0], \"theta\": [\"blocks\", \"clearances\", \"cards\", \"duels_won\", \"duels_lost\"], \"type\": \"scatterpolar\", \"uid\": \"04021d8d-0a29-4896-9fab-ba7cfc3dd688\"}, {\"fill\": \"toself\", \"name\": \"Antonio Rukavina\", \"r\": [\"Antonio Rukavina\", 2.0, 1.0, 0.0, 1.0, 0.0], \"theta\": [\"blocks\", \"clearances\", \"cards\", \"duels_won\", \"duels_lost\"], \"type\": \"scatterpolar\", \"uid\": \"bc428dda-c490-475e-812d-0f0a69064bbc\"}, {\"fill\": \"toself\", \"name\": \"Branislav Ivanovi\\u0107\", \"r\": [\"Branislav Ivanovi\\u0107\", 2.0, 1.0, 2.0, 1.0, 0.0], \"theta\": [\"blocks\", \"clearances\", \"cards\", \"duels_won\", \"duels_lost\"], \"type\": \"scatterpolar\", \"uid\": \"33f25da9-1227-4f3b-bb40-6699f6faf6e3\"}, {\"fill\": \"toself\", \"name\": \"Du\\u0161ko To\\u0161i\\u0107\", \"r\": [\"Du\\u0161ko To\\u0161i\\u0107\", 1.0, 2.0, 0.0, 4.0, 0.0], \"theta\": [\"blocks\", \"clearances\", \"cards\", \"duels_won\", \"duels_lost\"], \"type\": \"scatterpolar\", \"uid\": \"8415d360-b6d1-417c-b270-556274103742\"}, {\"fill\": \"toself\", \"name\": \"Nikola Milenkovi\\u0107\", \"r\": [\"Nikola Milenkovi\\u0107\", 1.0, 3.0, 0.0, 1.0, 0.0], \"theta\": [\"blocks\", \"clearances\", \"cards\", \"duels_won\", \"duels_lost\"], \"type\": \"scatterpolar\", \"uid\": \"c3ce5903-c930-40d1-8d57-925d23a8b130\"}, {\"fill\": \"toself\", \"name\": \"Chul Hong\", \"r\": [\"Chul Hong\", 2.0, 1.0, 0.0, 1.0, 0.0], \"theta\": [\"blocks\", \"clearances\", \"cards\", \"duels_won\", \"duels_lost\"], \"type\": \"scatterpolar\", \"uid\": \"773afe59-265d-49ef-aa6c-e64c374ddc61\"}, {\"fill\": \"toself\", \"name\": \"Yong Lee\", \"r\": [\"Yong Lee\", 3.0, 2.0, 2.0, 3.0, 1.0], \"theta\": [\"blocks\", \"clearances\", \"cards\", \"duels_won\", \"duels_lost\"], \"type\": \"scatterpolar\", \"uid\": \"02609a6d-1af7-498b-ada8-890c8ca9f833\"}, {\"fill\": \"toself\", \"name\": \"Young-Gwon Kim\", \"r\": [\"Young-Gwon Kim\", 2.0, 2.0, 2.0, 1.0, 0.0], \"theta\": [\"blocks\", \"clearances\", \"cards\", \"duels_won\", \"duels_lost\"], \"type\": \"scatterpolar\", \"uid\": \"1264953e-4f71-41c3-bc16-f7debc31688a\"}, {\"fill\": \"toself\", \"name\": \"Young-Sun Yun\", \"r\": [\"Young-Sun Yun\", 4.0, 3.0, 0.0, 1.0, 0.0], \"theta\": [\"blocks\", \"clearances\", \"cards\", \"duels_won\", \"duels_lost\"], \"type\": \"scatterpolar\", \"uid\": \"28fb6106-0e6f-4579-a0d5-ccf306c49086\"}, {\"fill\": \"toself\", \"name\": \"Daniel Carvajal Ramos\", \"r\": [\"Daniel Carvajal Ramos\", 1.0, 0.0, 0.0, 1.0, 0.0], \"theta\": [\"blocks\", \"clearances\", \"cards\", \"duels_won\", \"duels_lost\"], \"type\": \"scatterpolar\", \"uid\": \"5197fe2d-57e9-4d16-ab01-7dd0589d30ed\"}, {\"fill\": \"toself\", \"name\": \"Gerard Piqu\\u00e9 Bernab\\u00e9u\", \"r\": [\"Gerard Piqu\\u00e9 Bernab\\u00e9u\", 1.0, 1.0, 1.0, 1.0, 0.0], \"theta\": [\"blocks\", \"clearances\", \"cards\", \"duels_won\", \"duels_lost\"], \"type\": \"scatterpolar\", \"uid\": \"8a171740-5599-4c0b-b049-7c9b0062a25e\"}, {\"fill\": \"toself\", \"name\": \"Jordi Alba Ramos\", \"r\": [\"Jordi Alba Ramos\", 2.0, 0.0, 0.0, 0.0, 0.0], \"theta\": [\"blocks\", \"clearances\", \"cards\", \"duels_won\", \"duels_lost\"], \"type\": \"scatterpolar\", \"uid\": \"63a53ee4-1955-457c-913c-49decfdf179a\"}, {\"fill\": \"toself\", \"name\": \"Jos\\u00e9 Ignacio Fern\\u00e1ndez Iglesias\", \"r\": [\"Jos\\u00e9 Ignacio Fern\\u00e1ndez Iglesias\", 0.0, 0.0, 0.0, 1.0, 0.0], \"theta\": [\"blocks\", \"clearances\", \"cards\", \"duels_won\", \"duels_lost\"], \"type\": \"scatterpolar\", \"uid\": \"2825ba9b-dd19-42e9-a738-42dfa7fad73c\"}, {\"fill\": \"toself\", \"name\": \"Sergio Ramos Garc\\u00eda\", \"r\": [\"Sergio Ramos Garc\\u00eda\", 0.0, 1.0, 0.0, 2.0, 1.0], \"theta\": [\"blocks\", \"clearances\", \"cards\", \"duels_won\", \"duels_lost\"], \"type\": \"scatterpolar\", \"uid\": \"1bfed927-0caa-4152-aa48-74ae08722105\"}, {\"fill\": \"toself\", \"name\": \"Andreas Granqvist\", \"r\": [\"Andreas Granqvist\", 3.0, 4.0, 0.0, 0.0, 0.0], \"theta\": [\"blocks\", \"clearances\", \"cards\", \"duels_won\", \"duels_lost\"], \"type\": \"scatterpolar\", \"uid\": \"e78feee2-7ab0-420a-b5a2-c11a9383d778\"}, {\"fill\": \"toself\", \"name\": \"Ludwig Augustinsson\", \"r\": [\"Ludwig Augustinsson\", 2.0, 1.0, 0.0, 0.0, 0.0], \"theta\": [\"blocks\", \"clearances\", \"cards\", \"duels_won\", \"duels_lost\"], \"type\": \"scatterpolar\", \"uid\": \"c8d401a4-95ea-445a-9dc9-37f3bb45cc5a\"}, {\"fill\": \"toself\", \"name\": \"Mikael Lustig\", \"r\": [\"Mikael Lustig\", 4.0, 3.0, 2.0, 1.0, 0.0], \"theta\": [\"blocks\", \"clearances\", \"cards\", \"duels_won\", \"duels_lost\"], \"type\": \"scatterpolar\", \"uid\": \"20843030-2ae6-44ba-967e-ec03e87c340f\"}, {\"fill\": \"toself\", \"name\": \"Victor Lindel\\u00f6f\", \"r\": [\"Victor Lindel\\u00f6f\", 1.0, 3.0, 0.0, 0.0, 0.0], \"theta\": [\"blocks\", \"clearances\", \"cards\", \"duels_won\", \"duels_lost\"], \"type\": \"scatterpolar\", \"uid\": \"744ad1af-2484-421f-aada-a6e6256975e8\"}, {\"fill\": \"toself\", \"name\": \"Fabian Lukas Sch\\u00e4r\", \"r\": [\"Fabian Lukas Sch\\u00e4r\", 1.0, 2.0, 3.0, 2.0, 0.0], \"theta\": [\"blocks\", \"clearances\", \"cards\", \"duels_won\", \"duels_lost\"], \"type\": \"scatterpolar\", \"uid\": \"b964cd09-0639-4e94-9f2b-37d9d3999aea\"}, {\"fill\": \"toself\", \"name\": \"Manuel Obafemi Akanji\", \"r\": [\"Manuel Obafemi Akanji\", 2.0, 1.0, 0.0, 2.0, 0.0], \"theta\": [\"blocks\", \"clearances\", \"cards\", \"duels_won\", \"duels_lost\"], \"type\": \"scatterpolar\", \"uid\": \"295f1bfb-ee36-40eb-9249-be94dfe7e88c\"}, {\"fill\": \"toself\", \"name\": \"Michael Lang\", \"r\": [\"Michael Lang\", 2.0, 1.0, 2.0, 0.0, 0.0], \"theta\": [\"blocks\", \"clearances\", \"cards\", \"duels_won\", \"duels_lost\"], \"type\": \"scatterpolar\", \"uid\": \"5c66c3bf-9664-43a3-9457-29eaed75d1ff\"}, {\"fill\": \"toself\", \"name\": \"Ricardo Iv\\u00e1n Rodr\\u00edguez Araya\", \"r\": [\"Ricardo Iv\\u00e1n Rodr\\u00edguez Araya\", 1.0, 1.0, 0.0, 0.0, 0.0], \"theta\": [\"blocks\", \"clearances\", \"cards\", \"duels_won\", \"duels_lost\"], \"type\": \"scatterpolar\", \"uid\": \"c837facb-71d2-4804-baba-50480fd3581a\"}, {\"fill\": \"toself\", \"name\": \"Stephan Lichtsteiner\", \"r\": [\"Stephan Lichtsteiner\", 3.0, 0.0, 0.0, 0.0, 0.0], \"theta\": [\"blocks\", \"clearances\", \"cards\", \"duels_won\", \"duels_lost\"], \"type\": \"scatterpolar\", \"uid\": \"ea3e25a5-22ce-4cca-a9b2-9fe7efa3dd8d\"}, {\"fill\": \"toself\", \"name\": \"Ali Ma\\u00e2loul\", \"r\": [\"Ali Ma\\u00e2loul\", 2.0, 0.0, 0.0, 1.0, 0.0], \"theta\": [\"blocks\", \"clearances\", \"cards\", \"duels_won\", \"duels_lost\"], \"type\": \"scatterpolar\", \"uid\": \"166cd91d-297b-4f96-97ba-f72ab224ed94\"}, {\"fill\": \"toself\", \"name\": \"Dylan Bronn\", \"r\": [\"Dylan Bronn\", 2.0, 1.0, 0.0, 1.0, 0.0], \"theta\": [\"blocks\", \"clearances\", \"cards\", \"duels_won\", \"duels_lost\"], \"type\": \"scatterpolar\", \"uid\": \"c2d5a4c8-acd8-464a-9222-2ea6f5c0dc89\"}, {\"fill\": \"toself\", \"name\": \"Hamdi Nagguez\", \"r\": [\"Hamdi Nagguez\", 0.0, 0.0, 0.0, 1.0, 1.0], \"theta\": [\"blocks\", \"clearances\", \"cards\", \"duels_won\", \"duels_lost\"], \"type\": \"scatterpolar\", \"uid\": \"2b5270f1-c433-4573-83e0-37416e86422d\"}, {\"fill\": \"toself\", \"name\": \"Oussama Haddadi\", \"r\": [\"Oussama Haddadi\", 2.0, 0.0, 0.0, 1.0, 0.0], \"theta\": [\"blocks\", \"clearances\", \"cards\", \"duels_won\", \"duels_lost\"], \"type\": \"scatterpolar\", \"uid\": \"b46c3449-c03c-4701-88f8-4d8bb67c886b\"}, {\"fill\": \"toself\", \"name\": \"Rami Bedoui\", \"r\": [\"Rami Bedoui\", 0.0, 0.0, 0.0, 1.0, 0.0], \"theta\": [\"blocks\", \"clearances\", \"cards\", \"duels_won\", \"duels_lost\"], \"type\": \"scatterpolar\", \"uid\": \"b910b676-e8fc-4d70-bf20-cf3eecb18e19\"}, {\"fill\": \"toself\", \"name\": \"Syam Ben Youssef\", \"r\": [\"Syam Ben Youssef\", 2.0, 2.0, 0.0, 4.0, 0.0], \"theta\": [\"blocks\", \"clearances\", \"cards\", \"duels_won\", \"duels_lost\"], \"type\": \"scatterpolar\", \"uid\": \"e93bc4f4-57bb-467f-9367-9d6ab476f5e8\"}, {\"fill\": \"toself\", \"name\": \"Yassine Meriah\", \"r\": [\"Yassine Meriah\", 2.0, 1.0, 0.0, 0.0, 0.0], \"theta\": [\"blocks\", \"clearances\", \"cards\", \"duels_won\", \"duels_lost\"], \"type\": \"scatterpolar\", \"uid\": \"5e55b1f4-53cf-437b-b29a-00c624426d24\"}, {\"fill\": \"toself\", \"name\": \"Yohan Benalouane\", \"r\": [\"Yohan Benalouane\", 1.0, 1.0, 0.0, 3.0, 0.0], \"theta\": [\"blocks\", \"clearances\", \"cards\", \"duels_won\", \"duels_lost\"], \"type\": \"scatterpolar\", \"uid\": \"dbb0ed7e-4e6b-41d1-b9b0-b291e56fba52\"}, {\"fill\": \"toself\", \"name\": \"Diego Roberto God\\u00edn Leal\", \"r\": [\"Diego Roberto God\\u00edn Leal\", 2.0, 2.0, 0.0, 2.0, 0.0], \"theta\": [\"blocks\", \"clearances\", \"cards\", \"duels_won\", \"duels_lost\"], \"type\": \"scatterpolar\", \"uid\": \"b185624b-f022-480e-bf76-8c506bfdc0fd\"}, {\"fill\": \"toself\", \"name\": \"Diego Sebasti\\u00e1n Laxalt Su\\u00e1rez\", \"r\": [\"Diego Sebasti\\u00e1n Laxalt Su\\u00e1rez\", 2.0, 1.0, 0.0, 1.0, 0.0], \"theta\": [\"blocks\", \"clearances\", \"cards\", \"duels_won\", \"duels_lost\"], \"type\": \"scatterpolar\", \"uid\": \"27203969-957d-4198-a97c-af5ae485c9b2\"}, {\"fill\": \"toself\", \"name\": \"Guillermo Varela Olivera\", \"r\": [\"Guillermo Varela Olivera\", 2.0, 1.0, 0.0, 2.0, 1.0], \"theta\": [\"blocks\", \"clearances\", \"cards\", \"duels_won\", \"duels_lost\"], \"type\": \"scatterpolar\", \"uid\": \"e255f46b-6395-442e-bb96-c006742f90b0\"}, {\"fill\": \"toself\", \"name\": \"Jos\\u00e9 Mar\\u00eda Gim\\u00e9nez de Vargas\", \"r\": [\"Jos\\u00e9 Mar\\u00eda Gim\\u00e9nez de Vargas\", 1.0, 2.0, 0.0, 3.0, 0.0], \"theta\": [\"blocks\", \"clearances\", \"cards\", \"duels_won\", \"duels_lost\"], \"type\": \"scatterpolar\", \"uid\": \"79aac7ff-673a-4020-92d8-71a608ea0713\"}], {\"polar\": {\"radialaxis\": {\"range\": [0, 5], \"visible\": true}}, \"showlegend\": true, \"title\": \"Defenders\"}, {\"showLink\": true, \"linkText\": \"Export to plot.ly\", \"plotlyServerURL\": \"https://plot.ly\"})});</script><script type=\"text/javascript\">window.addEventListener(\"resize\", function(){window._Plotly.Plots.resize(document.getElementById(\"170d537b-24c1-4e26-9999-97e51463a9a1\"));});</script>"
      ]
     },
     "metadata": {},
     "output_type": "display_data"
    }
   ],
   "source": [
    "# Player 3rd plot: (Defenders) (Box H)\n",
    "\n",
    "defenders = pd.read_sql('select player,blocks,clearances,cards,duels_won,duels_lost from soccer.player_2_def15;', con=connection)\n",
    "defenders['blocks']=round(((defenders['blocks']-defenders['blocks'].min())/(defenders['blocks'].max()-defenders['blocks'].min()))*5)\n",
    "defenders['clearances']=round(((defenders['clearances']-defenders['clearances'].min())/(defenders['clearances'].max()-defenders['clearances'].min()))*5)\n",
    "defenders['duels_won']=round(((defenders['duels_won']-defenders['duels_won'].min())/(defenders['duels_won'].max()-defenders['duels_won'].min()))*5)\n",
    "defenders['duels_lost']=round(((defenders['duels_lost']-defenders['duels_lost'].min())/(defenders['duels_lost'].max()-defenders['duels_lost'].min()))*5)\n",
    "defenders['cards']=round(((defenders['cards']-defenders['cards'].min())/(defenders['cards'].max()-defenders['cards'].min()))*5)\n",
    "d_name = pd.read_sql('select player from soccer.player_2_def15;', con=connection)\n",
    "ss=list()\n",
    "for i in range(0,len(defenders)-1):\n",
    "    jj = go.Scatterpolar(\n",
    "      r = defenders.iloc[i,:],\n",
    "      theta = ['blocks','clearances','cards', 'duels_won', 'duels_lost'],\n",
    "      fill = 'toself',name=d_name.iloc[i,0])\n",
    "    \n",
    "    ss.append(jj)\n",
    "\n",
    "layout = go.Layout(\n",
    "  title = 'Defenders',\n",
    "  polar = dict(\n",
    "    radialaxis = dict(\n",
    "      visible = True,\n",
    "      range = [0, 5]\n",
    "    )\n",
    "  ),\n",
    "  showlegend = True\n",
    ")\n",
    "\n",
    "fig = go.Figure(data=ss, layout=layout)\n",
    "# urlI = py.plot(fig, filename = \"defender_plot\", sharing = 'public', auto_open = False)\n",
    "py.iplot(fig, filename = \"defender_plot\")\n",
    "# urlI"
   ]
  },
  {
   "cell_type": "code",
   "execution_count": 30,
   "metadata": {},
   "outputs": [
    {
     "name": "stdout",
     "output_type": "stream",
     "text": [
      "\u001b[1;30mHeat Map of Christiano Ronaldo\u001b[0m\n",
      "\n"
     ]
    },
    {
     "data": {
      "image/png": "[encoded data removed]",
      "text/plain": [
       "<Figure size 864x1080 with 1 Axes>"
      ]
     },
     "metadata": {},
     "output_type": "display_data"
    }
   ],
   "source": [
    "## Heat Map of Christiano Ronaldo\n",
    "run=pd.read_sql('select * from player_3_mid6;', con=connection)\n",
    "pos1=run.set_index(['player'])\n",
    "pos1.loc['Samuel Yves Umtiti']\n",
    "pos2=pos1.iloc[:,1:4]\n",
    "pos2.loc['Abdullah Ibrahim Al Maiouf']\n",
    "\n",
    "name='Cristiano Ronaldo dos Santos Aveiro'\n",
    "\n",
    "from scipy.stats.kde import gaussian_kde\n",
    "x=pd.to_numeric(pos2.loc[name]['location0'])\n",
    "y=pd.to_numeric(pos2.loc[name]['location1'])\n",
    "\n",
    "k = gaussian_kde(np.vstack([x, y]))\n",
    "xi, yi = np.mgrid[x.min():x.max():x.size*0.5*1j,y.min():y.max():y.size*0.5*1j]\n",
    "zi = k(np.vstack([xi.flatten(), yi.flatten()]))\n",
    "\n",
    "import matplotlib.pyplot as plt\n",
    "\n",
    "fig = plt.figure(figsize=(12,15))\n",
    "# ax1 = fig.add_subplot(211)\n",
    "ax2 = fig.add_subplot(212)\n",
    "\n",
    "# alpha=0.5 will make the plots semitransparent\n",
    "# ax1.pcolormesh(xi, yi, zi.reshape(xi.shape), alpha=0.5)\n",
    "ax2.contourf(xi, yi, zi.reshape(xi.shape), alpha=0.5)\n",
    "\n",
    "# ax1.set_xlim(x.min(), x.max())\n",
    "# ax1.set_ylim(y.min(), y.max())\n",
    "ax2.set_xlim(x.min(), x.max())\n",
    "ax2.set_ylim(y.max(), y.min())\n",
    "\n",
    "# you can also overlay your soccer field\n",
    "im = plt.imread('soccerPitch.jpg')\n",
    "# ax1.imshow(im, extent=[x.min(), x.max(), y.min(), y.max()], aspect='auto')\n",
    "ax2.imshow(im, extent=[x.min(), x.max(), y.min(), y.max()], aspect='auto')\n",
    "print('\\x1b[1;30m'+'Heat Map of Christiano Ronaldo'+'\\x1b[0m')\n",
    "print()\n",
    "plt.show()"
   ]
  },
  {
   "cell_type": "code",
   "execution_count": 1,
   "metadata": {},
   "outputs": [
    {
     "ename": "NameError",
     "evalue": "name 'pd' is not defined",
     "output_type": "error",
     "traceback": [
      "\u001b[0;31m---------------------------------------------------------------------------\u001b[0m",
      "\u001b[0;31mNameError\u001b[0m                                 Traceback (most recent call last)",
      "\u001b[0;32m<ipython-input-1-43531b9fd7a2>\u001b[0m in \u001b[0;36m<module>\u001b[0;34m()\u001b[0m\n\u001b[1;32m      1\u001b[0m \u001b[0;31m## Heat Map of Eden Hazard\u001b[0m\u001b[0;34m\u001b[0m\u001b[0;34m\u001b[0m\u001b[0m\n\u001b[0;32m----> 2\u001b[0;31m \u001b[0mrun\u001b[0m\u001b[0;34m=\u001b[0m\u001b[0mpd\u001b[0m\u001b[0;34m.\u001b[0m\u001b[0mread_sql\u001b[0m\u001b[0;34m(\u001b[0m\u001b[0;34m'select * from player_3_mid6;'\u001b[0m\u001b[0;34m,\u001b[0m \u001b[0mcon\u001b[0m\u001b[0;34m=\u001b[0m\u001b[0mconnection\u001b[0m\u001b[0;34m)\u001b[0m\u001b[0;34m\u001b[0m\u001b[0m\n\u001b[0m\u001b[1;32m      3\u001b[0m \u001b[0mpos1\u001b[0m\u001b[0;34m=\u001b[0m\u001b[0mrun\u001b[0m\u001b[0;34m.\u001b[0m\u001b[0mset_index\u001b[0m\u001b[0;34m(\u001b[0m\u001b[0;34m[\u001b[0m\u001b[0;34m'player'\u001b[0m\u001b[0;34m]\u001b[0m\u001b[0;34m)\u001b[0m\u001b[0;34m\u001b[0m\u001b[0m\n\u001b[1;32m      4\u001b[0m \u001b[0mpos1\u001b[0m\u001b[0;34m.\u001b[0m\u001b[0mloc\u001b[0m\u001b[0;34m[\u001b[0m\u001b[0;34m'Samuel Yves Umtiti'\u001b[0m\u001b[0;34m]\u001b[0m\u001b[0;34m\u001b[0m\u001b[0m\n\u001b[1;32m      5\u001b[0m \u001b[0mpos2\u001b[0m\u001b[0;34m=\u001b[0m\u001b[0mpos1\u001b[0m\u001b[0;34m.\u001b[0m\u001b[0miloc\u001b[0m\u001b[0;34m[\u001b[0m\u001b[0;34m:\u001b[0m\u001b[0;34m,\u001b[0m\u001b[0;36m1\u001b[0m\u001b[0;34m:\u001b[0m\u001b[0;36m4\u001b[0m\u001b[0;34m]\u001b[0m\u001b[0;34m\u001b[0m\u001b[0m\n",
      "\u001b[0;31mNameError\u001b[0m: name 'pd' is not defined"
     ]
    }
   ],
   "source": [
    "## Heat Map of Eden Hazard\n",
    "run=pd.read_sql('select * from player_3_mid6;', con=connection)\n",
    "pos1=run.set_index(['player'])\n",
    "pos1.loc['Samuel Yves Umtiti']\n",
    "pos2=pos1.iloc[:,1:4]\n",
    "pos2.loc['Abdullah Ibrahim Al Maiouf']\n",
    "\n",
    "name='Eden Hazard'\n",
    "\n",
    "from scipy.stats.kde import gaussian_kde\n",
    "x=pd.to_numeric(pos2.loc[name]['location0'])\n",
    "y=pd.to_numeric(pos2.loc[name]['location1'])\n",
    "\n",
    "k = gaussian_kde(np.vstack([x, y]))\n",
    "xi, yi = np.mgrid[x.min():x.max():x.size*0.5*1j,y.min():y.max():y.size*0.5*1j]\n",
    "zi = k(np.vstack([xi.flatten(), yi.flatten()]))\n",
    "\n",
    "import matplotlib.pyplot as plt\n",
    "\n",
    "fig = plt.figure(figsize=(12,15))\n",
    "# ax1 = fig.add_subplot(211)\n",
    "# ax4 = fig.add_subplot(212)\n",
    "ax5 = fig.add_subplot(212)\n",
    "\n",
    "# alpha=0.5 will make the plots semitransparent\n",
    "# ax1.pcolormesh(xi, yi, zi.reshape(xi.shape), alpha=0.5)\n",
    "# ax4.contourf(xi, yi, zi.reshape(xi.shape), alpha=0.5)\n",
    "ax5.contourf(xi, yi, zi.reshape(xi.shape), alpha=0.5)\n",
    "\n",
    "# ax1.set_xlim(x.min(), x.max())\n",
    "# ax1.set_ylim(y.min(), y.max())\n",
    "ax5.set_xlim(x.min(), x.max())\n",
    "ax5.set_ylim(y.max(), y.min())\n",
    "\n",
    "# you can also overlay your soccer field\n",
    "im = plt.imread('soccerPitch.jpg')\n",
    "# ax1.imshow(im, extent=[x.min(), x.max(), y.min(), y.max()], aspect='auto')\n",
    "# ax4.imshow(im, extent=[x.min(), x.max(), y.min(), y.max()], aspect='auto')\n",
    "ax5.imshow(im, extent=[x.min(), x.max(), y.min(), y.max()], aspect='auto')\n",
    "print('\\x1b[1;32m'+'Heat Map of Eden Hazard'+'\\x1b[0m')\n",
    "print()\n",
    "plt.show()"
   ]
  },
  {
   "cell_type": "markdown",
   "metadata": {},
   "source": [
    "#### Dashboard"
   ]
  },
  {
   "cell_type": "code",
   "execution_count": 48,
   "metadata": {},
   "outputs": [],
   "source": [
    "import plotly.dashboard_objs as dashboard\n",
    "import IPython.display\n",
    "from IPython.display import Image\n",
    "soccer_dash = dashboard.Dashboard()"
   ]
  },
  {
   "cell_type": "code",
   "execution_count": 49,
   "metadata": {},
   "outputs": [],
   "source": [
    "# Row 1\n",
    "box_a = {\n",
    "    'type': 'box',\n",
    "    'boxType': 'plot',\n",
    "    'fileId': 'asahay:0',\n",
    "    'title': 'Team Ranks: Before and After'\n",
    "}\n",
    "\n",
    "box_b = {\n",
    "    'type': 'box',\n",
    "    'boxType': 'plot',\n",
    "#     'fileId': 'sharma.ismd:31',\n",
    "    'fileId': 'asahay:2',\n",
    "    'title': 'Journey through the World Cup'\n",
    "}\n",
    "\n",
    "# Row 2\n",
    "box_c = {\n",
    "    'type': 'box',\n",
    "    'boxType': 'plot',\n",
    "#     'fileId': 'sharma.ismd:13',\n",
    "    'fileId': 'asahay:4',\n",
    "    'title': 'Distance per goal (Team Work Rate)'\n",
    "}\n",
    "\n",
    "box_d = {\n",
    "    'type': 'box',\n",
    "    'boxType': 'plot',\n",
    "#     'fileId': 'sharma.ismd:25',\n",
    "    'fileId': 'asahay:6',\n",
    "    'title': 'Passes per goal (Playing Style)'\n",
    "}\n",
    "\n",
    "# Row 3\n",
    "box_e = {\n",
    "    'type': 'box',\n",
    "    'boxType': 'plot',\n",
    "#     'fileId': 'sharma.ismd:35',\n",
    "    'fileId': 'asahay:8',\n",
    "    'title': 'Team Diagnostics'\n",
    "}\n",
    "\n",
    "box_f = {\n",
    "    'type': 'box',\n",
    "    'boxType': 'plot',\n",
    "#     'fileId': 'sharma.ismd:27',\n",
    "    'fileId': 'asahay:10',\n",
    "    'title': 'Strikers'\n",
    "}\n",
    "\n",
    "# Row 4\n",
    "box_g = {\n",
    "    'type': 'box',\n",
    "    'boxType': 'plot',\n",
    "#     'fileId': 'sharma.ismd:37',\n",
    "    'fileId': 'asahay:12',\n",
    "    'title': 'Mid-fielders'\n",
    "}\n",
    "\n",
    "box_h = {\n",
    "    'type': 'box',\n",
    "    'boxType': 'plot',\n",
    "#     'fileId': 'sharma.ismd:37',\n",
    "    'fileId': 'asahay:14',\n",
    "    'title': 'Defenders'\n",
    "}\n",
    "\n",
    "# text_for_box = \"\"\" \n",
    "# ## Distributions: \n",
    "\n",
    "\n",
    "# #### Scatter Plot\n",
    "# 1. Ranging 0 - 500\n",
    "# 2. Even distribution\n",
    "\n",
    "# #### Box Plot\n",
    "# 1. Similar Range\n",
    "# 2. Outliers present in trace 1 and trace 3\n",
    "\n",
    "# You can view more markdown tips [here](https://daringfireball.net/projects/markdown/syntax).\n",
    "# \"\"\"\n",
    "\n",
    "# box_c = {\n",
    "#     'type': 'box',\n",
    "#     'boxType': 'text',\n",
    "#     'text': text_for_box,\n",
    "#     'title': 'Markdown Options for Text Box'\n",
    "# }\n",
    "# soccer_dash.insert(box_a, 'right', 2)\n",
    "# soccer_dash.remove(1)\n",
    "#my_dboard.insert(box_b)"
   ]
  },
  {
   "cell_type": "code",
   "execution_count": 50,
   "metadata": {},
   "outputs": [],
   "source": [
    "soccer_dash.insert(box_a)\n",
    "soccer_dash.insert(box_c, 'below', 1, fill_percent = 80)\n",
    "soccer_dash.insert(box_e, 'below', 2, fill_percent = 75)\n",
    "soccer_dash.insert(box_g, 'below', 3, fill_percent = 67)\n",
    "soccer_dash.insert(box_h, 'below', 4, fill_percent = 50)\n",
    "soccer_dash.insert(box_b, 'right', 1, fill_percent = 50)\n",
    "soccer_dash.insert(box_d, 'right', 3, fill_percent = 50)\n",
    "soccer_dash.insert(box_f, 'right', 5, fill_percent = 50)\n"
   ]
  },
  {
   "cell_type": "code",
   "execution_count": 51,
   "metadata": {},
   "outputs": [],
   "source": [
    "# soccer_dash.get_preview()\n",
    "# py.dashboard_ops.get_dashboard_names()\n",
    "soccer_dash['settings']['title'] = 'FIFA WC 2018: Inside Out' # Title"
   ]
  },
  {
   "cell_type": "code",
   "execution_count": 53,
   "metadata": {},
   "outputs": [
    {
     "data": {
      "text/plain": [
       "'https://plot.ly/~asahay/16/fifa-wc-2018-inside-out/'"
      ]
     },
     "execution_count": 53,
     "metadata": {},
     "output_type": "execute_result"
    }
   ],
   "source": [
    "import plotly.plotly as py\n",
    "py.dashboard_ops.upload(soccer_dash, 'European Soccer Dataset')"
   ]
  }
 ],
 "metadata": {
  "kernelspec": {
   "display_name": "Python 3",
   "language": "python",
   "name": "python3"
  },
  "language_info": {
   "codemirror_mode": {
    "name": "ipython",
    "version": 3
   },
   "file_extension": ".py",
   "mimetype": "text/x-python",
   "name": "python",
   "nbconvert_exporter": "python",
   "pygments_lexer": "ipython3",
   "version": "3.6.5"
  }
 },
 "nbformat": 4,
 "nbformat_minor": 2
}
